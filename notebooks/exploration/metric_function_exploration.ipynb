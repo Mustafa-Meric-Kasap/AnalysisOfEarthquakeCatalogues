{
 "cells": [
  {
   "cell_type": "code",
   "execution_count": 7,
   "outputs": [
    {
     "data": {
      "text/plain": "             Event ID             Datetime  Latitude  Longitude  Depth(km)  \\\n0      19000920000001  20/09/1900 00:00:01   37.8000    29.1000        5.0   \n1      19010223000000  23/02/1901 00:00:00   37.9000    27.9000       15.0   \n2      19010301000001  01/03/1901 00:00:01   38.2000    27.7000        5.0   \n3      19010401000001  01/04/1901 00:00:01   38.4000    31.4000        5.0   \n4      19010501000001  01/05/1901 00:00:01   37.8000    27.8000       15.0   \n...               ...                  ...       ...        ...        ...   \n64134  20240428211453  28/04/2024 21:14:53   38.5330    38.0423        5.4   \n64135  20240428213328  28/04/2024 21:33:28   37.0177    29.7712        6.2   \n64136  20240429220835  29/04/2024 22:08:35   38.3103    38.2865        5.0   \n64137  20240430080325  30/04/2024 08:03:25   38.2458    31.5638        5.0   \n64138  20240430232712  30/04/2024 23:27:12   35.3570    32.5048       47.2   \n\n        xM   MD   ML   Mw   Ms   Mb Type  \\\n0      5.0  5.0    -  NaN    -    -   Ke   \n1      4.8  4.7  4.6  4.8  4.6  4.7   Ke   \n2      5.0  5.0    -  NaN    -    -   Ke   \n3      5.0  5.0    -  NaN    -    -   Ke   \n4      5.0  5.0    -  NaN    -    -   Ke   \n...    ...  ...  ...  ...  ...  ...  ...   \n64134  3.9    -  3.8  3.9    -    -   Ke   \n64135  4.0    -  4.0  3.9    -    -   Ke   \n64136  3.2    -  3.2  3.0    -    -   Ke   \n64137  3.6    -  3.5  3.6    -    -   Ke   \n64138  3.6    -  3.6  3.4    -    -   Ke   \n\n                                              Location  \n0               DENIZLI (DENIZLI) [North East  2.3 km]  \n1                 KENGER- (AYDIN) [North East  1.1 km]  \n2        YAKACIK-BAYINDIR (IZMIR) [South West  0.8 km]  \n3         ATAKENT-AKSEHIR (KONYA) [North East  2.4 km]  \n4                KADIKOY- (AYDIN) [South West  2.6 km]  \n...                                                ...  \n64134          CIVRIL-YAZIHAN (MALATYA) [South 3.0 km]  \n64135       YAZIR-CAVDIR (BURDUR) [South East  2.5 km]  \n64136     BOSTANBASI-YESILYURT (MALATYA) [East 3.1 km]  \n64137  YAYLABELEN-AKSEHIR (KONYA) [North East  2.6 km]  \n64138                                          AKDENIZ  \n\n[64139 rows x 13 columns]",
      "text/html": "<div>\n<style scoped>\n    .dataframe tbody tr th:only-of-type {\n        vertical-align: middle;\n    }\n\n    .dataframe tbody tr th {\n        vertical-align: top;\n    }\n\n    .dataframe thead th {\n        text-align: right;\n    }\n</style>\n<table border=\"1\" class=\"dataframe\">\n  <thead>\n    <tr style=\"text-align: right;\">\n      <th></th>\n      <th>Event ID</th>\n      <th>Datetime</th>\n      <th>Latitude</th>\n      <th>Longitude</th>\n      <th>Depth(km)</th>\n      <th>xM</th>\n      <th>MD</th>\n      <th>ML</th>\n      <th>Mw</th>\n      <th>Ms</th>\n      <th>Mb</th>\n      <th>Type</th>\n      <th>Location</th>\n    </tr>\n  </thead>\n  <tbody>\n    <tr>\n      <th>0</th>\n      <td>19000920000001</td>\n      <td>20/09/1900 00:00:01</td>\n      <td>37.8000</td>\n      <td>29.1000</td>\n      <td>5.0</td>\n      <td>5.0</td>\n      <td>5.0</td>\n      <td>-</td>\n      <td>NaN</td>\n      <td>-</td>\n      <td>-</td>\n      <td>Ke</td>\n      <td>DENIZLI (DENIZLI) [North East  2.3 km]</td>\n    </tr>\n    <tr>\n      <th>1</th>\n      <td>19010223000000</td>\n      <td>23/02/1901 00:00:00</td>\n      <td>37.9000</td>\n      <td>27.9000</td>\n      <td>15.0</td>\n      <td>4.8</td>\n      <td>4.7</td>\n      <td>4.6</td>\n      <td>4.8</td>\n      <td>4.6</td>\n      <td>4.7</td>\n      <td>Ke</td>\n      <td>KENGER- (AYDIN) [North East  1.1 km]</td>\n    </tr>\n    <tr>\n      <th>2</th>\n      <td>19010301000001</td>\n      <td>01/03/1901 00:00:01</td>\n      <td>38.2000</td>\n      <td>27.7000</td>\n      <td>5.0</td>\n      <td>5.0</td>\n      <td>5.0</td>\n      <td>-</td>\n      <td>NaN</td>\n      <td>-</td>\n      <td>-</td>\n      <td>Ke</td>\n      <td>YAKACIK-BAYINDIR (IZMIR) [South West  0.8 km]</td>\n    </tr>\n    <tr>\n      <th>3</th>\n      <td>19010401000001</td>\n      <td>01/04/1901 00:00:01</td>\n      <td>38.4000</td>\n      <td>31.4000</td>\n      <td>5.0</td>\n      <td>5.0</td>\n      <td>5.0</td>\n      <td>-</td>\n      <td>NaN</td>\n      <td>-</td>\n      <td>-</td>\n      <td>Ke</td>\n      <td>ATAKENT-AKSEHIR (KONYA) [North East  2.4 km]</td>\n    </tr>\n    <tr>\n      <th>4</th>\n      <td>19010501000001</td>\n      <td>01/05/1901 00:00:01</td>\n      <td>37.8000</td>\n      <td>27.8000</td>\n      <td>15.0</td>\n      <td>5.0</td>\n      <td>5.0</td>\n      <td>-</td>\n      <td>NaN</td>\n      <td>-</td>\n      <td>-</td>\n      <td>Ke</td>\n      <td>KADIKOY- (AYDIN) [South West  2.6 km]</td>\n    </tr>\n    <tr>\n      <th>...</th>\n      <td>...</td>\n      <td>...</td>\n      <td>...</td>\n      <td>...</td>\n      <td>...</td>\n      <td>...</td>\n      <td>...</td>\n      <td>...</td>\n      <td>...</td>\n      <td>...</td>\n      <td>...</td>\n      <td>...</td>\n      <td>...</td>\n    </tr>\n    <tr>\n      <th>64134</th>\n      <td>20240428211453</td>\n      <td>28/04/2024 21:14:53</td>\n      <td>38.5330</td>\n      <td>38.0423</td>\n      <td>5.4</td>\n      <td>3.9</td>\n      <td>-</td>\n      <td>3.8</td>\n      <td>3.9</td>\n      <td>-</td>\n      <td>-</td>\n      <td>Ke</td>\n      <td>CIVRIL-YAZIHAN (MALATYA) [South 3.0 km]</td>\n    </tr>\n    <tr>\n      <th>64135</th>\n      <td>20240428213328</td>\n      <td>28/04/2024 21:33:28</td>\n      <td>37.0177</td>\n      <td>29.7712</td>\n      <td>6.2</td>\n      <td>4.0</td>\n      <td>-</td>\n      <td>4.0</td>\n      <td>3.9</td>\n      <td>-</td>\n      <td>-</td>\n      <td>Ke</td>\n      <td>YAZIR-CAVDIR (BURDUR) [South East  2.5 km]</td>\n    </tr>\n    <tr>\n      <th>64136</th>\n      <td>20240429220835</td>\n      <td>29/04/2024 22:08:35</td>\n      <td>38.3103</td>\n      <td>38.2865</td>\n      <td>5.0</td>\n      <td>3.2</td>\n      <td>-</td>\n      <td>3.2</td>\n      <td>3.0</td>\n      <td>-</td>\n      <td>-</td>\n      <td>Ke</td>\n      <td>BOSTANBASI-YESILYURT (MALATYA) [East 3.1 km]</td>\n    </tr>\n    <tr>\n      <th>64137</th>\n      <td>20240430080325</td>\n      <td>30/04/2024 08:03:25</td>\n      <td>38.2458</td>\n      <td>31.5638</td>\n      <td>5.0</td>\n      <td>3.6</td>\n      <td>-</td>\n      <td>3.5</td>\n      <td>3.6</td>\n      <td>-</td>\n      <td>-</td>\n      <td>Ke</td>\n      <td>YAYLABELEN-AKSEHIR (KONYA) [North East  2.6 km]</td>\n    </tr>\n    <tr>\n      <th>64138</th>\n      <td>20240430232712</td>\n      <td>30/04/2024 23:27:12</td>\n      <td>35.3570</td>\n      <td>32.5048</td>\n      <td>47.2</td>\n      <td>3.6</td>\n      <td>-</td>\n      <td>3.6</td>\n      <td>3.4</td>\n      <td>-</td>\n      <td>-</td>\n      <td>Ke</td>\n      <td>AKDENIZ</td>\n    </tr>\n  </tbody>\n</table>\n<p>64139 rows × 13 columns</p>\n</div>"
     },
     "execution_count": 7,
     "metadata": {},
     "output_type": "execute_result"
    }
   ],
   "source": [
    "import pandas as pd\n",
    "df = pd.read_csv(\"../../data/processed/processed_data_turkey_1900_2024_datetime.csv\")\n",
    "df"
   ],
   "metadata": {
    "collapsed": false,
    "ExecuteTime": {
     "end_time": "2024-08-26T17:25:41.839453600Z",
     "start_time": "2024-08-26T17:25:41.718383700Z"
    }
   },
   "id": "7910f03d89c3d51"
  },
  {
   "cell_type": "code",
   "execution_count": 8,
   "id": "initial_id",
   "metadata": {
    "collapsed": true,
    "ExecuteTime": {
     "end_time": "2024-08-26T17:25:41.839453600Z",
     "start_time": "2024-08-26T17:25:41.837290200Z"
    }
   },
   "outputs": [],
   "source": [
    "def get_value_from_eid(df, event_id, column_name):\n",
    "    # FIXME: Later add try exception block.\n",
    "    value = df.loc[df['Event ID'] == event_id, column_name].values[0]\n",
    "    return value"
   ]
  },
  {
   "cell_type": "code",
   "execution_count": 9,
   "outputs": [
    {
     "data": {
      "text/plain": "5.0"
     },
     "execution_count": 9,
     "metadata": {},
     "output_type": "execute_result"
    }
   ],
   "source": [
    "get_value_from_eid(df, 19000920000001, \"xM\")"
   ],
   "metadata": {
    "collapsed": false,
    "ExecuteTime": {
     "end_time": "2024-08-26T17:25:41.855341800Z",
     "start_time": "2024-08-26T17:25:41.840453900Z"
    }
   },
   "id": "920ff75c33490d64"
  },
  {
   "cell_type": "code",
   "execution_count": 10,
   "outputs": [],
   "source": [
    "import numpy as np\n",
    "\n",
    "\n",
    "def haversine(lat1: float, lon1: float, lat2: float, lon2: float, r = 6371.0):\n",
    "    # Convert latitude and longitude from degrees to radians\n",
    "    lat1, lon1, lat2, lon2 = map(np.radians, [lat1, lon1, lat2, lon2])\n",
    "\n",
    "    # Applying haversine formula\n",
    "    delta_lat = lat2 - lat1\n",
    "    delta_lon = lon2 - lon1\n",
    "    a = np.sin(delta_lat / 2)**2 + np.cos(lat1) * np.cos(lat2) * np.sin(delta_lon / 2)**2\n",
    "    c = 2 * np.arcsin(np.sqrt(a))\n",
    "\n",
    "    # Calculate the distance\n",
    "    distance = c * r\n",
    "    return distance"
   ],
   "metadata": {
    "collapsed": false,
    "ExecuteTime": {
     "end_time": "2024-08-26T17:25:41.882150400Z",
     "start_time": "2024-08-26T17:25:41.853338700Z"
    }
   },
   "id": "e3b17a1def81a9d4"
  },
  {
   "cell_type": "code",
   "execution_count": 11,
   "outputs": [
    {
     "data": {
      "text/plain": "(3743.9997222222223, 3743.9997222222223)"
     },
     "execution_count": 11,
     "metadata": {},
     "output_type": "execute_result"
    }
   ],
   "source": [
    "from datetime import datetime\n",
    "\n",
    "\n",
    "def date_time_diff_in_hours(datetime_str_1, datetime_str_2):\n",
    "    datetime1 = datetime.strptime(datetime_str_1, \"%d/%m/%Y %H:%M:%S\")\n",
    "    datetime2 = datetime.strptime(datetime_str_2, \"%d/%m/%Y %H:%M:%S\")\n",
    "    time_diff_h = abs((datetime1 - datetime2).total_seconds()) / 3600.\n",
    "    return time_diff_h\n",
    "\n",
    "(date_time_diff_in_hours(\"20/09/1900 00:00:01\", \"23/02/1901 00:00:00\"),\n",
    "date_time_diff_in_hours(\"23/02/1901 00:00:00\", \"20/09/1900 00:00:01\"))"
   ],
   "metadata": {
    "collapsed": false,
    "ExecuteTime": {
     "end_time": "2024-08-26T17:25:41.903643600Z",
     "start_time": "2024-08-26T17:25:41.861250500Z"
    }
   },
   "id": "e601ad27986c073"
  },
  {
   "cell_type": "code",
   "execution_count": 12,
   "outputs": [],
   "source": [
    "def earthquake_metric_function(df, eq1_event_id, eq2_event_id, W_mag, W_depth, W_distance, W_time):\n",
    "    lat1 = get_value_from_eid(df, eq1_event_id, \"Latitude\")\n",
    "    lat2 = get_value_from_eid(df, eq2_event_id, \"Latitude\")\n",
    "    lon1 = get_value_from_eid(df, eq1_event_id, \"Longitude\")\n",
    "    lon2 = get_value_from_eid(df, eq2_event_id, \"Longitude\")\n",
    "    \n",
    "    mag_diff = abs(get_value_from_eid(df, eq1_event_id, \"xM\") - get_value_from_eid(df, eq2_event_id, \"xM\"))\n",
    "    depth_diff = abs(get_value_from_eid(df, eq1_event_id, \"Depth(km)\") - get_value_from_eid(df, eq2_event_id, \"Depth(km)\"))\n",
    "    distance_diff = haversine(lat1, lon1, lat2, lon2)\n",
    "    time_diff_hours = date_time_diff_in_hours(get_value_from_eid(df, eq1_event_id, \"Datetime\"), \n",
    "                                              get_value_from_eid(df, eq2_event_id, \"Datetime\"))\n",
    "    \n",
    "    weighted_sum = (mag_diff * W_mag + \n",
    "                    depth_diff * W_depth + \n",
    "                    distance_diff * W_distance +\n",
    "                    time_diff_hours * W_time)\n",
    "    return weighted_sum"
   ],
   "metadata": {
    "collapsed": false,
    "ExecuteTime": {
     "end_time": "2024-08-26T17:25:41.904633100Z",
     "start_time": "2024-08-26T17:25:41.872315300Z"
    }
   },
   "id": "64ef8bfef302225d"
  }
 ],
 "metadata": {
  "kernelspec": {
   "display_name": "Python 3",
   "language": "python",
   "name": "python3"
  },
  "language_info": {
   "codemirror_mode": {
    "name": "ipython",
    "version": 2
   },
   "file_extension": ".py",
   "mimetype": "text/x-python",
   "name": "python",
   "nbconvert_exporter": "python",
   "pygments_lexer": "ipython2",
   "version": "2.7.6"
  }
 },
 "nbformat": 4,
 "nbformat_minor": 5
}
