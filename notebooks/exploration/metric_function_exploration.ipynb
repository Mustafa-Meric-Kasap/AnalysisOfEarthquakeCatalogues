{
 "cells": [
  {
   "cell_type": "code",
   "execution_count": 1,
   "outputs": [
    {
     "data": {
      "text/plain": "             Event ID             Datetime  Latitude  Longitude  Depth(km)  \\\n0      19000920000001  20/09/1900 00:00:01   37.8000    29.1000        5.0   \n1      19010223000000  23/02/1901 00:00:00   37.9000    27.9000       15.0   \n2      19010301000001  01/03/1901 00:00:01   38.2000    27.7000        5.0   \n3      19010401000001  01/04/1901 00:00:01   38.4000    31.4000        5.0   \n4      19010501000001  01/05/1901 00:00:01   37.8000    27.8000       15.0   \n...               ...                  ...       ...        ...        ...   \n64134  20240428211453  28/04/2024 21:14:53   38.5330    38.0423        5.4   \n64135  20240428213328  28/04/2024 21:33:28   37.0177    29.7712        6.2   \n64136  20240429220835  29/04/2024 22:08:35   38.3103    38.2865        5.0   \n64137  20240430080325  30/04/2024 08:03:25   38.2458    31.5638        5.0   \n64138  20240430232712  30/04/2024 23:27:12   35.3570    32.5048       47.2   \n\n        xM   MD   ML   Mw   Ms   Mb Type  \\\n0      5.0  5.0    -  NaN    -    -   Ke   \n1      4.8  4.7  4.6  4.8  4.6  4.7   Ke   \n2      5.0  5.0    -  NaN    -    -   Ke   \n3      5.0  5.0    -  NaN    -    -   Ke   \n4      5.0  5.0    -  NaN    -    -   Ke   \n...    ...  ...  ...  ...  ...  ...  ...   \n64134  3.9    -  3.8  3.9    -    -   Ke   \n64135  4.0    -  4.0  3.9    -    -   Ke   \n64136  3.2    -  3.2  3.0    -    -   Ke   \n64137  3.6    -  3.5  3.6    -    -   Ke   \n64138  3.6    -  3.6  3.4    -    -   Ke   \n\n                                              Location  \n0               DENIZLI (DENIZLI) [North East  2.3 km]  \n1                 KENGER- (AYDIN) [North East  1.1 km]  \n2        YAKACIK-BAYINDIR (IZMIR) [South West  0.8 km]  \n3         ATAKENT-AKSEHIR (KONYA) [North East  2.4 km]  \n4                KADIKOY- (AYDIN) [South West  2.6 km]  \n...                                                ...  \n64134          CIVRIL-YAZIHAN (MALATYA) [South 3.0 km]  \n64135       YAZIR-CAVDIR (BURDUR) [South East  2.5 km]  \n64136     BOSTANBASI-YESILYURT (MALATYA) [East 3.1 km]  \n64137  YAYLABELEN-AKSEHIR (KONYA) [North East  2.6 km]  \n64138                                          AKDENIZ  \n\n[64139 rows x 13 columns]",
      "text/html": "<div>\n<style scoped>\n    .dataframe tbody tr th:only-of-type {\n        vertical-align: middle;\n    }\n\n    .dataframe tbody tr th {\n        vertical-align: top;\n    }\n\n    .dataframe thead th {\n        text-align: right;\n    }\n</style>\n<table border=\"1\" class=\"dataframe\">\n  <thead>\n    <tr style=\"text-align: right;\">\n      <th></th>\n      <th>Event ID</th>\n      <th>Datetime</th>\n      <th>Latitude</th>\n      <th>Longitude</th>\n      <th>Depth(km)</th>\n      <th>xM</th>\n      <th>MD</th>\n      <th>ML</th>\n      <th>Mw</th>\n      <th>Ms</th>\n      <th>Mb</th>\n      <th>Type</th>\n      <th>Location</th>\n    </tr>\n  </thead>\n  <tbody>\n    <tr>\n      <th>0</th>\n      <td>19000920000001</td>\n      <td>20/09/1900 00:00:01</td>\n      <td>37.8000</td>\n      <td>29.1000</td>\n      <td>5.0</td>\n      <td>5.0</td>\n      <td>5.0</td>\n      <td>-</td>\n      <td>NaN</td>\n      <td>-</td>\n      <td>-</td>\n      <td>Ke</td>\n      <td>DENIZLI (DENIZLI) [North East  2.3 km]</td>\n    </tr>\n    <tr>\n      <th>1</th>\n      <td>19010223000000</td>\n      <td>23/02/1901 00:00:00</td>\n      <td>37.9000</td>\n      <td>27.9000</td>\n      <td>15.0</td>\n      <td>4.8</td>\n      <td>4.7</td>\n      <td>4.6</td>\n      <td>4.8</td>\n      <td>4.6</td>\n      <td>4.7</td>\n      <td>Ke</td>\n      <td>KENGER- (AYDIN) [North East  1.1 km]</td>\n    </tr>\n    <tr>\n      <th>2</th>\n      <td>19010301000001</td>\n      <td>01/03/1901 00:00:01</td>\n      <td>38.2000</td>\n      <td>27.7000</td>\n      <td>5.0</td>\n      <td>5.0</td>\n      <td>5.0</td>\n      <td>-</td>\n      <td>NaN</td>\n      <td>-</td>\n      <td>-</td>\n      <td>Ke</td>\n      <td>YAKACIK-BAYINDIR (IZMIR) [South West  0.8 km]</td>\n    </tr>\n    <tr>\n      <th>3</th>\n      <td>19010401000001</td>\n      <td>01/04/1901 00:00:01</td>\n      <td>38.4000</td>\n      <td>31.4000</td>\n      <td>5.0</td>\n      <td>5.0</td>\n      <td>5.0</td>\n      <td>-</td>\n      <td>NaN</td>\n      <td>-</td>\n      <td>-</td>\n      <td>Ke</td>\n      <td>ATAKENT-AKSEHIR (KONYA) [North East  2.4 km]</td>\n    </tr>\n    <tr>\n      <th>4</th>\n      <td>19010501000001</td>\n      <td>01/05/1901 00:00:01</td>\n      <td>37.8000</td>\n      <td>27.8000</td>\n      <td>15.0</td>\n      <td>5.0</td>\n      <td>5.0</td>\n      <td>-</td>\n      <td>NaN</td>\n      <td>-</td>\n      <td>-</td>\n      <td>Ke</td>\n      <td>KADIKOY- (AYDIN) [South West  2.6 km]</td>\n    </tr>\n    <tr>\n      <th>...</th>\n      <td>...</td>\n      <td>...</td>\n      <td>...</td>\n      <td>...</td>\n      <td>...</td>\n      <td>...</td>\n      <td>...</td>\n      <td>...</td>\n      <td>...</td>\n      <td>...</td>\n      <td>...</td>\n      <td>...</td>\n      <td>...</td>\n    </tr>\n    <tr>\n      <th>64134</th>\n      <td>20240428211453</td>\n      <td>28/04/2024 21:14:53</td>\n      <td>38.5330</td>\n      <td>38.0423</td>\n      <td>5.4</td>\n      <td>3.9</td>\n      <td>-</td>\n      <td>3.8</td>\n      <td>3.9</td>\n      <td>-</td>\n      <td>-</td>\n      <td>Ke</td>\n      <td>CIVRIL-YAZIHAN (MALATYA) [South 3.0 km]</td>\n    </tr>\n    <tr>\n      <th>64135</th>\n      <td>20240428213328</td>\n      <td>28/04/2024 21:33:28</td>\n      <td>37.0177</td>\n      <td>29.7712</td>\n      <td>6.2</td>\n      <td>4.0</td>\n      <td>-</td>\n      <td>4.0</td>\n      <td>3.9</td>\n      <td>-</td>\n      <td>-</td>\n      <td>Ke</td>\n      <td>YAZIR-CAVDIR (BURDUR) [South East  2.5 km]</td>\n    </tr>\n    <tr>\n      <th>64136</th>\n      <td>20240429220835</td>\n      <td>29/04/2024 22:08:35</td>\n      <td>38.3103</td>\n      <td>38.2865</td>\n      <td>5.0</td>\n      <td>3.2</td>\n      <td>-</td>\n      <td>3.2</td>\n      <td>3.0</td>\n      <td>-</td>\n      <td>-</td>\n      <td>Ke</td>\n      <td>BOSTANBASI-YESILYURT (MALATYA) [East 3.1 km]</td>\n    </tr>\n    <tr>\n      <th>64137</th>\n      <td>20240430080325</td>\n      <td>30/04/2024 08:03:25</td>\n      <td>38.2458</td>\n      <td>31.5638</td>\n      <td>5.0</td>\n      <td>3.6</td>\n      <td>-</td>\n      <td>3.5</td>\n      <td>3.6</td>\n      <td>-</td>\n      <td>-</td>\n      <td>Ke</td>\n      <td>YAYLABELEN-AKSEHIR (KONYA) [North East  2.6 km]</td>\n    </tr>\n    <tr>\n      <th>64138</th>\n      <td>20240430232712</td>\n      <td>30/04/2024 23:27:12</td>\n      <td>35.3570</td>\n      <td>32.5048</td>\n      <td>47.2</td>\n      <td>3.6</td>\n      <td>-</td>\n      <td>3.6</td>\n      <td>3.4</td>\n      <td>-</td>\n      <td>-</td>\n      <td>Ke</td>\n      <td>AKDENIZ</td>\n    </tr>\n  </tbody>\n</table>\n<p>64139 rows × 13 columns</p>\n</div>"
     },
     "execution_count": 1,
     "metadata": {},
     "output_type": "execute_result"
    }
   ],
   "source": [
    "import pandas as pd\n",
    "df = pd.read_csv(\"../../data/processed/processed_data_turkey_1900_2024_datetime.csv\")\n",
    "df"
   ],
   "metadata": {
    "collapsed": false,
    "ExecuteTime": {
     "end_time": "2024-09-03T10:51:30.782718300Z",
     "start_time": "2024-09-03T10:51:30.138152900Z"
    }
   },
   "id": "7910f03d89c3d51"
  },
  {
   "cell_type": "code",
   "execution_count": 2,
   "id": "initial_id",
   "metadata": {
    "collapsed": true,
    "ExecuteTime": {
     "end_time": "2024-09-03T10:51:32.383252700Z",
     "start_time": "2024-09-03T10:51:32.362244900Z"
    }
   },
   "outputs": [],
   "source": [
    "def get_value_from_eid(df, event_id, column_name):\n",
    "    # FIXME: Later add try exception block.\n",
    "    value = df.loc[df['Event ID'] == event_id, column_name].values[0]\n",
    "    return value"
   ]
  },
  {
   "cell_type": "code",
   "execution_count": 3,
   "outputs": [
    {
     "data": {
      "text/plain": "5.0"
     },
     "execution_count": 3,
     "metadata": {},
     "output_type": "execute_result"
    }
   ],
   "source": [
    "get_value_from_eid(df, 19000920000001, \"xM\")"
   ],
   "metadata": {
    "collapsed": false,
    "ExecuteTime": {
     "end_time": "2024-09-03T10:51:33.556699500Z",
     "start_time": "2024-09-03T10:51:33.534636900Z"
    }
   },
   "id": "920ff75c33490d64"
  },
  {
   "cell_type": "code",
   "execution_count": 4,
   "outputs": [],
   "source": [
    "import numpy as np\n",
    "\n",
    "\n",
    "def haversine(lat1: float, lon1: float, lat2: float, lon2: float, r = 6371.0):\n",
    "    # Convert latitude and longitude from degrees to radians\n",
    "    lat1, lon1, lat2, lon2 = map(np.radians, [lat1, lon1, lat2, lon2])\n",
    "\n",
    "    # Applying haversine formula\n",
    "    delta_lat = lat2 - lat1\n",
    "    delta_lon = lon2 - lon1\n",
    "    a = np.sin(delta_lat / 2)**2 + np.cos(lat1) * np.cos(lat2) * np.sin(delta_lon / 2)**2\n",
    "    c = 2 * np.arcsin(np.sqrt(a))\n",
    "\n",
    "    # Calculate the distance\n",
    "    distance = c * r\n",
    "    return distance"
   ],
   "metadata": {
    "collapsed": false,
    "ExecuteTime": {
     "end_time": "2024-09-03T10:51:34.447306700Z",
     "start_time": "2024-09-03T10:51:34.430288300Z"
    }
   },
   "id": "e3b17a1def81a9d4"
  },
  {
   "cell_type": "code",
   "execution_count": 5,
   "outputs": [
    {
     "data": {
      "text/plain": "(3743.9997222222223, 3743.9997222222223)"
     },
     "execution_count": 5,
     "metadata": {},
     "output_type": "execute_result"
    }
   ],
   "source": [
    "from datetime import datetime\n",
    "\n",
    "\n",
    "def date_time_diff_in_hours(datetime_str_1, datetime_str_2):\n",
    "    datetime1 = datetime.strptime(datetime_str_1, \"%d/%m/%Y %H:%M:%S\")\n",
    "    datetime2 = datetime.strptime(datetime_str_2, \"%d/%m/%Y %H:%M:%S\")\n",
    "    time_diff_h = abs((datetime1 - datetime2).total_seconds()) / 3600.\n",
    "    return time_diff_h\n",
    "\n",
    "(date_time_diff_in_hours(\"20/09/1900 00:00:01\", \"23/02/1901 00:00:00\"),\n",
    "date_time_diff_in_hours(\"23/02/1901 00:00:00\", \"20/09/1900 00:00:01\"))"
   ],
   "metadata": {
    "collapsed": false,
    "ExecuteTime": {
     "end_time": "2024-09-03T10:51:35.245527400Z",
     "start_time": "2024-09-03T10:51:35.237968Z"
    }
   },
   "id": "e601ad27986c073"
  },
  {
   "cell_type": "markdown",
   "source": [
    "## Metric Function & Optimization\n",
    "### Implementing metric function V1"
   ],
   "metadata": {
    "collapsed": false
   },
   "id": "86df4e0a81f58ba9"
  },
  {
   "cell_type": "code",
   "execution_count": 6,
   "outputs": [],
   "source": [
    "def earthquake_metric_function(df, eq1_event_id, eq2_event_id, W_mag, W_depth, W_distance, W_time):\n",
    "    lat1 = get_value_from_eid(df, eq1_event_id, \"Latitude\")\n",
    "    lat2 = get_value_from_eid(df, eq2_event_id, \"Latitude\")\n",
    "    lon1 = get_value_from_eid(df, eq1_event_id, \"Longitude\")\n",
    "    lon2 = get_value_from_eid(df, eq2_event_id, \"Longitude\")\n",
    "    \n",
    "    mag_diff = abs(get_value_from_eid(df, eq1_event_id, \"xM\") - get_value_from_eid(df, eq2_event_id, \"xM\"))\n",
    "    depth_diff = abs(get_value_from_eid(df, eq1_event_id, \"Depth(km)\") - get_value_from_eid(df, eq2_event_id, \"Depth(km)\"))\n",
    "    distance_diff = haversine(lat1, lon1, lat2, lon2)\n",
    "    time_diff_hours = date_time_diff_in_hours(get_value_from_eid(df, eq1_event_id, \"Datetime\"), \n",
    "                                              get_value_from_eid(df, eq2_event_id, \"Datetime\"))\n",
    "    \n",
    "    weighted_sum = ((10 ** mag_diff) * W_mag + \n",
    "                    depth_diff * W_depth + \n",
    "                    distance_diff * W_distance +\n",
    "                    time_diff_hours * W_time)\n",
    "    return weighted_sum"
   ],
   "metadata": {
    "collapsed": false,
    "ExecuteTime": {
     "end_time": "2024-09-03T10:51:37.381980500Z",
     "start_time": "2024-09-03T10:51:37.377974800Z"
    }
   },
   "id": "64ef8bfef302225d"
  },
  {
   "cell_type": "markdown",
   "source": [
    "### Optimizing Metric Function V1 (Iterative version)"
   ],
   "metadata": {
    "collapsed": false
   },
   "id": "5b4d752769becdc4"
  },
  {
   "cell_type": "code",
   "execution_count": 16,
   "outputs": [],
   "source": [
    "def optimize_metric(weights, df):\n",
    "    total_metric_value = 0\n",
    "    W_mag, W_depth, W_distance, W_time = weights\n",
    "    for i in range(len(df)):\n",
    "        for j in range(i + 1, len(df)):\n",
    "            # calculating metric value between for each (df[i], df[j]) pair\n",
    "            metric_value = earthquake_metric_function(df, df.iloc[i]['Event ID'], df.iloc[j]['Event ID'], \n",
    "                                                      W_mag, W_depth, W_distance, W_time)\n",
    "            total_metric_value += metric_value\n",
    "    \n",
    "    # To minimize metric value multipy total metric value with -1\n",
    "    return -total_metric_value"
   ],
   "metadata": {
    "collapsed": false,
    "ExecuteTime": {
     "end_time": "2024-09-03T10:39:55.955454300Z",
     "start_time": "2024-09-03T10:39:55.894153500Z"
    }
   },
   "id": "1624f669f55da4b3"
  },
  {
   "cell_type": "markdown",
   "source": [
    "### Apply bayesian optimization using skopt library"
   ],
   "metadata": {
    "collapsed": false
   },
   "id": "f053e305ce1af541"
  },
  {
   "cell_type": "code",
   "execution_count": 15,
   "outputs": [],
   "source": [
    "# TODO: Apply bayesian optimization."
   ],
   "metadata": {
    "collapsed": false,
    "ExecuteTime": {
     "end_time": "2024-09-03T11:12:03.997145500Z",
     "start_time": "2024-09-03T11:12:03.992085700Z"
    }
   },
   "id": "91cd6403f8ddf6d4"
  },
  {
   "cell_type": "markdown",
   "source": [
    "Since our dataset contains 64k earthquakes iterative version is too slow so we need to optimize it."
   ],
   "metadata": {
    "collapsed": false
   },
   "id": "b2cef82ea0182c2f"
  },
  {
   "cell_type": "markdown",
   "source": [
    "### Implementing Metric Function V2 (Vectorized version)"
   ],
   "metadata": {
    "collapsed": false
   },
   "id": "a9837d5c9737fe1b"
  },
  {
   "cell_type": "code",
   "execution_count": 7,
   "outputs": [],
   "source": [
    "# W_mag, W_depth, W_distance, W_time\n",
    "def vectorized_earthquake_metric_function(mag_diff, depth_diff, distance_diff, time_diff, weights):\n",
    "    return (weights[0] * (10 ** mag_diff) + \n",
    "            weights[1] * depth_diff + \n",
    "            weights[2] * distance_diff +\n",
    "            weights[3] * time_diff)"
   ],
   "metadata": {
    "collapsed": false,
    "ExecuteTime": {
     "end_time": "2024-09-03T10:51:49.819911300Z",
     "start_time": "2024-09-03T10:51:49.805891700Z"
    }
   },
   "id": "2c42e83a3a467b9b"
  },
  {
   "cell_type": "markdown",
   "source": [
    "### Implementing optimizer function (Vectorized Version)"
   ],
   "metadata": {
    "collapsed": false
   },
   "id": "e4acdcd5879d0b0f"
  },
  {
   "cell_type": "code",
   "execution_count": 8,
   "outputs": [],
   "source": [
    "# Optimizer Function (Vectorized)\n",
    "def optimize_metric_vectorized(weights, df):\n",
    "    # Create a copy of the DataFrame to avoid modifying the original\n",
    "    df_copy = df.copy()\n",
    "    \n",
    "    W_mag, W_depth, W_distance, W_time = weights  # Unpack the weights list\n",
    "    weights = np.array([W_mag, W_depth, W_distance, W_time])\n",
    "    \n",
    "    # Extract the relevant columns as NumPy arrays\n",
    "    magnitudes = df_copy['xM'].values\n",
    "    depths = df_copy['Depth(km)'].values\n",
    "    latitudes = df_copy['Latitude'].values\n",
    "    longitudes = df_copy['Longitude'].values\n",
    "    date_times = pd.to_datetime(df_copy['Datetime'], format=\"%d/%m/%Y %H:%M:%S\").values\n",
    "    \n",
    "    # Calculate pairwise differences using broadcasting\n",
    "    mag_diff = np.abs(magnitudes[:, None] - magnitudes)\n",
    "    depth_diff = np.abs(depths[:, None] - depths)\n",
    "    \n",
    "    # Calculate pairwise haversine distances\n",
    "    lat_diff = np.radians(latitudes[:, None] - latitudes)\n",
    "    lon_diff = np.radians(longitudes[:, None] - longitudes)\n",
    "    a = np.sin(lat_diff / 2) ** 2 + np.cos(np.radians(latitudes))[:, None] * np.cos(np.radians(latitudes)) * np.sin(lon_diff / 2) ** 2\n",
    "    distance_diff = 2 * 6371.0 * np.arcsin(np.sqrt(a))\n",
    "    \n",
    "    # Calculate pairwise time differences in hours\n",
    "    time_diff = np.abs((date_times[:, None] - date_times).astype('timedelta64[h]').astype(float))\n",
    "    \n",
    "    # Calculate the metric for all pairs\n",
    "    total_metric_value = vectorized_earthquake_metric_function(mag_diff, depth_diff, distance_diff, time_diff, weights).sum()\n",
    "    \n",
    "    # Return the negative total metric value to minimize it\n",
    "    return -total_metric_value"
   ],
   "metadata": {
    "collapsed": false,
    "ExecuteTime": {
     "end_time": "2024-09-03T10:51:51.365105400Z",
     "start_time": "2024-09-03T10:51:51.362100200Z"
    }
   },
   "id": "2abebe9eea133214"
  },
  {
   "cell_type": "markdown",
   "source": [
    "### Apply bayesian optimization using skopt library"
   ],
   "metadata": {
    "collapsed": false
   },
   "id": "e75f462d5ad035ef"
  },
  {
   "cell_type": "code",
   "execution_count": 16,
   "outputs": [],
   "source": [
    "# TODO: Apply bayesian optimization"
   ],
   "metadata": {
    "collapsed": false,
    "ExecuteTime": {
     "end_time": "2024-09-03T11:12:34.898111600Z",
     "start_time": "2024-09-03T11:12:34.894107100Z"
    }
   },
   "id": "fe0e054b4a037637"
  }
 ],
 "metadata": {
  "kernelspec": {
   "display_name": "Python 3",
   "language": "python",
   "name": "python3"
  },
  "language_info": {
   "codemirror_mode": {
    "name": "ipython",
    "version": 2
   },
   "file_extension": ".py",
   "mimetype": "text/x-python",
   "name": "python",
   "nbconvert_exporter": "python",
   "pygments_lexer": "ipython2",
   "version": "2.7.6"
  }
 },
 "nbformat": 4,
 "nbformat_minor": 5
}
