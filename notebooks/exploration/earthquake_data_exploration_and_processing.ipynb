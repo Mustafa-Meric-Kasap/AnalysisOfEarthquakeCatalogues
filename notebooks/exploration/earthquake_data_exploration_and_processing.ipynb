{
 "cells": [
  {
   "cell_type": "code",
   "execution_count": 13,
   "id": "initial_id",
   "metadata": {
    "collapsed": true,
    "ExecuteTime": {
     "end_time": "2024-08-26T16:22:30.950690600Z",
     "start_time": "2024-08-26T16:22:30.824428Z"
    }
   },
   "outputs": [
    {
     "data": {
      "text/plain": "       No            Event ID        Date  Origin Time  Latitude  Longitude  \\\n0           1  19000920000001  1900-09-20  00:00:01.00   37.8000    29.1000   \n1           2  19010223000000  1901-02-23  00:00:00.00   37.9000    27.9000   \n2           3  19010301000001  1901-03-01  00:00:01.00   38.2000    27.7000   \n3           4  19010401000001  1901-04-01  00:00:01.00   38.4000    31.4000   \n4           5  19010501000001  1901-05-01  00:00:01.00   37.8000    27.8000   \n...       ...             ...         ...          ...       ...        ...   \n64134   64135  20240428211453  2024-04-28  21:14:53.15   38.5330    38.0423   \n64135   64136  20240428213328  2024-04-28  21:33:28.98   37.0177    29.7712   \n64136   64137  20240429220835  2024-04-29  22:08:35.93   38.3103    38.2865   \n64137   64138  20240430080325  2024-04-30  08:03:25.79   38.2458    31.5638   \n64138   64139  20240430232712  2024-04-30  23:27:12.45   35.3570    32.5048   \n\n       Depth(km)   xM   MD   ML   Mw   Ms   Mb Type  \\\n0            5.0  5.0  5.0    -  NaN    -    -   Ke   \n1           15.0  4.8  4.7  4.6  4.8  4.6  4.7   Ke   \n2            5.0  5.0  5.0    -  NaN    -    -   Ke   \n3            5.0  5.0  5.0    -  NaN    -    -   Ke   \n4           15.0  5.0  5.0    -  NaN    -    -   Ke   \n...          ...  ...  ...  ...  ...  ...  ...  ...   \n64134        5.4  3.9    -  3.8  3.9    -    -   Ke   \n64135        6.2  4.0    -  4.0  3.9    -    -   Ke   \n64136        5.0  3.2    -  3.2  3.0    -    -   Ke   \n64137        5.0  3.6    -  3.5  3.6    -    -   Ke   \n64138       47.2  3.6    -  3.6  3.4    -    -   Ke   \n\n                                              Location  \n0               DENIZLI (DENIZLI) [North East  2.3 km]  \n1                 KENGER- (AYDIN) [North East  1.1 km]  \n2        YAKACIK-BAYINDIR (IZMIR) [South West  0.8 km]  \n3         ATAKENT-AKSEHIR (KONYA) [North East  2.4 km]  \n4                KADIKOY- (AYDIN) [South West  2.6 km]  \n...                                                ...  \n64134          CIVRIL-YAZIHAN (MALATYA) [South 3.0 km]  \n64135       YAZIR-CAVDIR (BURDUR) [South East  2.5 km]  \n64136     BOSTANBASI-YESILYURT (MALATYA) [East 3.1 km]  \n64137  YAYLABELEN-AKSEHIR (KONYA) [North East  2.6 km]  \n64138                                          AKDENIZ  \n\n[64139 rows x 15 columns]",
      "text/html": "<div>\n<style scoped>\n    .dataframe tbody tr th:only-of-type {\n        vertical-align: middle;\n    }\n\n    .dataframe tbody tr th {\n        vertical-align: top;\n    }\n\n    .dataframe thead th {\n        text-align: right;\n    }\n</style>\n<table border=\"1\" class=\"dataframe\">\n  <thead>\n    <tr style=\"text-align: right;\">\n      <th></th>\n      <th>No</th>\n      <th>Event ID</th>\n      <th>Date</th>\n      <th>Origin Time</th>\n      <th>Latitude</th>\n      <th>Longitude</th>\n      <th>Depth(km)</th>\n      <th>xM</th>\n      <th>MD</th>\n      <th>ML</th>\n      <th>Mw</th>\n      <th>Ms</th>\n      <th>Mb</th>\n      <th>Type</th>\n      <th>Location</th>\n    </tr>\n  </thead>\n  <tbody>\n    <tr>\n      <th>0</th>\n      <td>1</td>\n      <td>19000920000001</td>\n      <td>1900-09-20</td>\n      <td>00:00:01.00</td>\n      <td>37.8000</td>\n      <td>29.1000</td>\n      <td>5.0</td>\n      <td>5.0</td>\n      <td>5.0</td>\n      <td>-</td>\n      <td>NaN</td>\n      <td>-</td>\n      <td>-</td>\n      <td>Ke</td>\n      <td>DENIZLI (DENIZLI) [North East  2.3 km]</td>\n    </tr>\n    <tr>\n      <th>1</th>\n      <td>2</td>\n      <td>19010223000000</td>\n      <td>1901-02-23</td>\n      <td>00:00:00.00</td>\n      <td>37.9000</td>\n      <td>27.9000</td>\n      <td>15.0</td>\n      <td>4.8</td>\n      <td>4.7</td>\n      <td>4.6</td>\n      <td>4.8</td>\n      <td>4.6</td>\n      <td>4.7</td>\n      <td>Ke</td>\n      <td>KENGER- (AYDIN) [North East  1.1 km]</td>\n    </tr>\n    <tr>\n      <th>2</th>\n      <td>3</td>\n      <td>19010301000001</td>\n      <td>1901-03-01</td>\n      <td>00:00:01.00</td>\n      <td>38.2000</td>\n      <td>27.7000</td>\n      <td>5.0</td>\n      <td>5.0</td>\n      <td>5.0</td>\n      <td>-</td>\n      <td>NaN</td>\n      <td>-</td>\n      <td>-</td>\n      <td>Ke</td>\n      <td>YAKACIK-BAYINDIR (IZMIR) [South West  0.8 km]</td>\n    </tr>\n    <tr>\n      <th>3</th>\n      <td>4</td>\n      <td>19010401000001</td>\n      <td>1901-04-01</td>\n      <td>00:00:01.00</td>\n      <td>38.4000</td>\n      <td>31.4000</td>\n      <td>5.0</td>\n      <td>5.0</td>\n      <td>5.0</td>\n      <td>-</td>\n      <td>NaN</td>\n      <td>-</td>\n      <td>-</td>\n      <td>Ke</td>\n      <td>ATAKENT-AKSEHIR (KONYA) [North East  2.4 km]</td>\n    </tr>\n    <tr>\n      <th>4</th>\n      <td>5</td>\n      <td>19010501000001</td>\n      <td>1901-05-01</td>\n      <td>00:00:01.00</td>\n      <td>37.8000</td>\n      <td>27.8000</td>\n      <td>15.0</td>\n      <td>5.0</td>\n      <td>5.0</td>\n      <td>-</td>\n      <td>NaN</td>\n      <td>-</td>\n      <td>-</td>\n      <td>Ke</td>\n      <td>KADIKOY- (AYDIN) [South West  2.6 km]</td>\n    </tr>\n    <tr>\n      <th>...</th>\n      <td>...</td>\n      <td>...</td>\n      <td>...</td>\n      <td>...</td>\n      <td>...</td>\n      <td>...</td>\n      <td>...</td>\n      <td>...</td>\n      <td>...</td>\n      <td>...</td>\n      <td>...</td>\n      <td>...</td>\n      <td>...</td>\n      <td>...</td>\n      <td>...</td>\n    </tr>\n    <tr>\n      <th>64134</th>\n      <td>64135</td>\n      <td>20240428211453</td>\n      <td>2024-04-28</td>\n      <td>21:14:53.15</td>\n      <td>38.5330</td>\n      <td>38.0423</td>\n      <td>5.4</td>\n      <td>3.9</td>\n      <td>-</td>\n      <td>3.8</td>\n      <td>3.9</td>\n      <td>-</td>\n      <td>-</td>\n      <td>Ke</td>\n      <td>CIVRIL-YAZIHAN (MALATYA) [South 3.0 km]</td>\n    </tr>\n    <tr>\n      <th>64135</th>\n      <td>64136</td>\n      <td>20240428213328</td>\n      <td>2024-04-28</td>\n      <td>21:33:28.98</td>\n      <td>37.0177</td>\n      <td>29.7712</td>\n      <td>6.2</td>\n      <td>4.0</td>\n      <td>-</td>\n      <td>4.0</td>\n      <td>3.9</td>\n      <td>-</td>\n      <td>-</td>\n      <td>Ke</td>\n      <td>YAZIR-CAVDIR (BURDUR) [South East  2.5 km]</td>\n    </tr>\n    <tr>\n      <th>64136</th>\n      <td>64137</td>\n      <td>20240429220835</td>\n      <td>2024-04-29</td>\n      <td>22:08:35.93</td>\n      <td>38.3103</td>\n      <td>38.2865</td>\n      <td>5.0</td>\n      <td>3.2</td>\n      <td>-</td>\n      <td>3.2</td>\n      <td>3.0</td>\n      <td>-</td>\n      <td>-</td>\n      <td>Ke</td>\n      <td>BOSTANBASI-YESILYURT (MALATYA) [East 3.1 km]</td>\n    </tr>\n    <tr>\n      <th>64137</th>\n      <td>64138</td>\n      <td>20240430080325</td>\n      <td>2024-04-30</td>\n      <td>08:03:25.79</td>\n      <td>38.2458</td>\n      <td>31.5638</td>\n      <td>5.0</td>\n      <td>3.6</td>\n      <td>-</td>\n      <td>3.5</td>\n      <td>3.6</td>\n      <td>-</td>\n      <td>-</td>\n      <td>Ke</td>\n      <td>YAYLABELEN-AKSEHIR (KONYA) [North East  2.6 km]</td>\n    </tr>\n    <tr>\n      <th>64138</th>\n      <td>64139</td>\n      <td>20240430232712</td>\n      <td>2024-04-30</td>\n      <td>23:27:12.45</td>\n      <td>35.3570</td>\n      <td>32.5048</td>\n      <td>47.2</td>\n      <td>3.6</td>\n      <td>-</td>\n      <td>3.6</td>\n      <td>3.4</td>\n      <td>-</td>\n      <td>-</td>\n      <td>Ke</td>\n      <td>AKDENIZ</td>\n    </tr>\n  </tbody>\n</table>\n<p>64139 rows × 15 columns</p>\n</div>"
     },
     "execution_count": 13,
     "metadata": {},
     "output_type": "execute_result"
    }
   ],
   "source": [
    "import pandas as pd\n",
    "\n",
    "df = pd.read_csv(\"../../data/raw/raw_data_turkey_1900_2024.csv\")\n",
    "df"
   ]
  },
  {
   "cell_type": "code",
   "execution_count": 14,
   "outputs": [],
   "source": [
    "df = df.drop(columns=['No    '])\n",
    "df['Datetime'] = pd.to_datetime(df['Date'] + ' ' + df['Origin Time']).dt.strftime('%d/%m/%Y %H:%M:%S')\n",
    "df = df[['Event ID', 'Datetime', 'Latitude', 'Longitude', 'Depth(km)', 'xM', 'MD', 'ML', 'Mw', 'Ms', 'Mb', 'Type', 'Location']]\n"
   ],
   "metadata": {
    "collapsed": false,
    "ExecuteTime": {
     "end_time": "2024-08-26T16:22:31.360045500Z",
     "start_time": "2024-08-26T16:22:30.952691Z"
    }
   },
   "id": "8a9d55608fb2cab8"
  },
  {
   "cell_type": "code",
   "execution_count": 15,
   "outputs": [],
   "source": [
    "df.to_csv(\"../../data/processed/processed_data_turkey_1900_2024_datetime.csv\", index=False)"
   ],
   "metadata": {
    "collapsed": false,
    "ExecuteTime": {
     "end_time": "2024-08-26T16:22:31.613461500Z",
     "start_time": "2024-08-26T16:22:31.361046100Z"
    }
   },
   "id": "6ccbe30fdd05f5af"
  }
 ],
 "metadata": {
  "kernelspec": {
   "display_name": "Python 3",
   "language": "python",
   "name": "python3"
  },
  "language_info": {
   "codemirror_mode": {
    "name": "ipython",
    "version": 2
   },
   "file_extension": ".py",
   "mimetype": "text/x-python",
   "name": "python",
   "nbconvert_exporter": "python",
   "pygments_lexer": "ipython2",
   "version": "2.7.6"
  }
 },
 "nbformat": 4,
 "nbformat_minor": 5
}
