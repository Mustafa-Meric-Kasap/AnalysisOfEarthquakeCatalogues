{
 "cells": [
  {
   "cell_type": "markdown",
   "source": [
    "## Part 1. Data modifications\n",
    "### 1.a Get data and filter earthquakes after 1993"
   ],
   "metadata": {
    "collapsed": false
   },
   "id": "2ac8c9046f7e4a86"
  },
  {
   "cell_type": "markdown",
   "source": [
    "Get data"
   ],
   "metadata": {
    "collapsed": false
   },
   "id": "6eb9b025f2a99ccd"
  },
  {
   "cell_type": "code",
   "execution_count": 10,
   "id": "initial_id",
   "metadata": {
    "collapsed": true,
    "ExecuteTime": {
     "end_time": "2024-09-07T18:47:25.126717700Z",
     "start_time": "2024-09-07T18:47:24.852138900Z"
    }
   },
   "outputs": [
    {
     "data": {
      "text/plain": "             Event ID            Datetime  Latitude  Longitude  Depth(km)  \\\n0      19000920000001 1900-09-20 00:00:01   37.8000    29.1000        5.0   \n1      19010223000000 1901-02-23 00:00:00   37.9000    27.9000       15.0   \n2      19010301000001 1901-03-01 00:00:01   38.2000    27.7000        5.0   \n3      19010401000001 1901-04-01 00:00:01   38.4000    31.4000        5.0   \n4      19010501000001 1901-05-01 00:00:01   37.8000    27.8000       15.0   \n...               ...                 ...       ...        ...        ...   \n64134  20240428211453 2024-04-28 21:14:53   38.5330    38.0423        5.4   \n64135  20240428213328 2024-04-28 21:33:28   37.0177    29.7712        6.2   \n64136  20240429220835 2024-04-29 22:08:35   38.3103    38.2865        5.0   \n64137  20240430080325 2024-04-30 08:03:25   38.2458    31.5638        5.0   \n64138  20240430232712 2024-04-30 23:27:12   35.3570    32.5048       47.2   \n\n        xM   MD   ML   Mw   Ms   Mb Type  \\\n0      5.0  5.0    -  NaN    -    -   Ke   \n1      4.8  4.7  4.6  4.8  4.6  4.7   Ke   \n2      5.0  5.0    -  NaN    -    -   Ke   \n3      5.0  5.0    -  NaN    -    -   Ke   \n4      5.0  5.0    -  NaN    -    -   Ke   \n...    ...  ...  ...  ...  ...  ...  ...   \n64134  3.9    -  3.8  3.9    -    -   Ke   \n64135  4.0    -  4.0  3.9    -    -   Ke   \n64136  3.2    -  3.2  3.0    -    -   Ke   \n64137  3.6    -  3.5  3.6    -    -   Ke   \n64138  3.6    -  3.6  3.4    -    -   Ke   \n\n                                              Location  \n0               DENIZLI (DENIZLI) [North East  2.3 km]  \n1                 KENGER- (AYDIN) [North East  1.1 km]  \n2        YAKACIK-BAYINDIR (IZMIR) [South West  0.8 km]  \n3         ATAKENT-AKSEHIR (KONYA) [North East  2.4 km]  \n4                KADIKOY- (AYDIN) [South West  2.6 km]  \n...                                                ...  \n64134          CIVRIL-YAZIHAN (MALATYA) [South 3.0 km]  \n64135       YAZIR-CAVDIR (BURDUR) [South East  2.5 km]  \n64136     BOSTANBASI-YESILYURT (MALATYA) [East 3.1 km]  \n64137  YAYLABELEN-AKSEHIR (KONYA) [North East  2.6 km]  \n64138                                          AKDENIZ  \n\n[64139 rows x 13 columns]",
      "text/html": "<div>\n<style scoped>\n    .dataframe tbody tr th:only-of-type {\n        vertical-align: middle;\n    }\n\n    .dataframe tbody tr th {\n        vertical-align: top;\n    }\n\n    .dataframe thead th {\n        text-align: right;\n    }\n</style>\n<table border=\"1\" class=\"dataframe\">\n  <thead>\n    <tr style=\"text-align: right;\">\n      <th></th>\n      <th>Event ID</th>\n      <th>Datetime</th>\n      <th>Latitude</th>\n      <th>Longitude</th>\n      <th>Depth(km)</th>\n      <th>xM</th>\n      <th>MD</th>\n      <th>ML</th>\n      <th>Mw</th>\n      <th>Ms</th>\n      <th>Mb</th>\n      <th>Type</th>\n      <th>Location</th>\n    </tr>\n  </thead>\n  <tbody>\n    <tr>\n      <th>0</th>\n      <td>19000920000001</td>\n      <td>1900-09-20 00:00:01</td>\n      <td>37.8000</td>\n      <td>29.1000</td>\n      <td>5.0</td>\n      <td>5.0</td>\n      <td>5.0</td>\n      <td>-</td>\n      <td>NaN</td>\n      <td>-</td>\n      <td>-</td>\n      <td>Ke</td>\n      <td>DENIZLI (DENIZLI) [North East  2.3 km]</td>\n    </tr>\n    <tr>\n      <th>1</th>\n      <td>19010223000000</td>\n      <td>1901-02-23 00:00:00</td>\n      <td>37.9000</td>\n      <td>27.9000</td>\n      <td>15.0</td>\n      <td>4.8</td>\n      <td>4.7</td>\n      <td>4.6</td>\n      <td>4.8</td>\n      <td>4.6</td>\n      <td>4.7</td>\n      <td>Ke</td>\n      <td>KENGER- (AYDIN) [North East  1.1 km]</td>\n    </tr>\n    <tr>\n      <th>2</th>\n      <td>19010301000001</td>\n      <td>1901-03-01 00:00:01</td>\n      <td>38.2000</td>\n      <td>27.7000</td>\n      <td>5.0</td>\n      <td>5.0</td>\n      <td>5.0</td>\n      <td>-</td>\n      <td>NaN</td>\n      <td>-</td>\n      <td>-</td>\n      <td>Ke</td>\n      <td>YAKACIK-BAYINDIR (IZMIR) [South West  0.8 km]</td>\n    </tr>\n    <tr>\n      <th>3</th>\n      <td>19010401000001</td>\n      <td>1901-04-01 00:00:01</td>\n      <td>38.4000</td>\n      <td>31.4000</td>\n      <td>5.0</td>\n      <td>5.0</td>\n      <td>5.0</td>\n      <td>-</td>\n      <td>NaN</td>\n      <td>-</td>\n      <td>-</td>\n      <td>Ke</td>\n      <td>ATAKENT-AKSEHIR (KONYA) [North East  2.4 km]</td>\n    </tr>\n    <tr>\n      <th>4</th>\n      <td>19010501000001</td>\n      <td>1901-05-01 00:00:01</td>\n      <td>37.8000</td>\n      <td>27.8000</td>\n      <td>15.0</td>\n      <td>5.0</td>\n      <td>5.0</td>\n      <td>-</td>\n      <td>NaN</td>\n      <td>-</td>\n      <td>-</td>\n      <td>Ke</td>\n      <td>KADIKOY- (AYDIN) [South West  2.6 km]</td>\n    </tr>\n    <tr>\n      <th>...</th>\n      <td>...</td>\n      <td>...</td>\n      <td>...</td>\n      <td>...</td>\n      <td>...</td>\n      <td>...</td>\n      <td>...</td>\n      <td>...</td>\n      <td>...</td>\n      <td>...</td>\n      <td>...</td>\n      <td>...</td>\n      <td>...</td>\n    </tr>\n    <tr>\n      <th>64134</th>\n      <td>20240428211453</td>\n      <td>2024-04-28 21:14:53</td>\n      <td>38.5330</td>\n      <td>38.0423</td>\n      <td>5.4</td>\n      <td>3.9</td>\n      <td>-</td>\n      <td>3.8</td>\n      <td>3.9</td>\n      <td>-</td>\n      <td>-</td>\n      <td>Ke</td>\n      <td>CIVRIL-YAZIHAN (MALATYA) [South 3.0 km]</td>\n    </tr>\n    <tr>\n      <th>64135</th>\n      <td>20240428213328</td>\n      <td>2024-04-28 21:33:28</td>\n      <td>37.0177</td>\n      <td>29.7712</td>\n      <td>6.2</td>\n      <td>4.0</td>\n      <td>-</td>\n      <td>4.0</td>\n      <td>3.9</td>\n      <td>-</td>\n      <td>-</td>\n      <td>Ke</td>\n      <td>YAZIR-CAVDIR (BURDUR) [South East  2.5 km]</td>\n    </tr>\n    <tr>\n      <th>64136</th>\n      <td>20240429220835</td>\n      <td>2024-04-29 22:08:35</td>\n      <td>38.3103</td>\n      <td>38.2865</td>\n      <td>5.0</td>\n      <td>3.2</td>\n      <td>-</td>\n      <td>3.2</td>\n      <td>3.0</td>\n      <td>-</td>\n      <td>-</td>\n      <td>Ke</td>\n      <td>BOSTANBASI-YESILYURT (MALATYA) [East 3.1 km]</td>\n    </tr>\n    <tr>\n      <th>64137</th>\n      <td>20240430080325</td>\n      <td>2024-04-30 08:03:25</td>\n      <td>38.2458</td>\n      <td>31.5638</td>\n      <td>5.0</td>\n      <td>3.6</td>\n      <td>-</td>\n      <td>3.5</td>\n      <td>3.6</td>\n      <td>-</td>\n      <td>-</td>\n      <td>Ke</td>\n      <td>YAYLABELEN-AKSEHIR (KONYA) [North East  2.6 km]</td>\n    </tr>\n    <tr>\n      <th>64138</th>\n      <td>20240430232712</td>\n      <td>2024-04-30 23:27:12</td>\n      <td>35.3570</td>\n      <td>32.5048</td>\n      <td>47.2</td>\n      <td>3.6</td>\n      <td>-</td>\n      <td>3.6</td>\n      <td>3.4</td>\n      <td>-</td>\n      <td>-</td>\n      <td>Ke</td>\n      <td>AKDENIZ</td>\n    </tr>\n  </tbody>\n</table>\n<p>64139 rows × 13 columns</p>\n</div>"
     },
     "execution_count": 10,
     "metadata": {},
     "output_type": "execute_result"
    }
   ],
   "source": [
    "import pandas as pd\n",
    "df = pd.read_csv(\"../../data/processed/processed_data_turkey_1900_2024_datetime.csv\")\n",
    "df['Datetime'] = pd.to_datetime(df['Datetime'], format=\"%d/%m/%Y %H:%M:%S\")\n",
    "raw_df = df\n",
    "raw_df"
   ]
  },
  {
   "cell_type": "markdown",
   "source": [
    "Get eqs after 1993"
   ],
   "metadata": {
    "collapsed": false
   },
   "id": "ff008361743e0b5c"
  },
  {
   "cell_type": "code",
   "execution_count": 11,
   "outputs": [
    {
     "data": {
      "text/plain": "             Event ID            Datetime  Latitude  Longitude  Depth(km)  \\\n12289  19930101142459 1993-01-01 14:24:59   38.2500    26.9900        0.0   \n12290  19930101204941 1993-01-01 20:49:41   38.2700    26.8500        8.0   \n12291  19930101214621 1993-01-01 21:46:21   35.0200    33.2100       13.0   \n12292  19930102014840 1993-01-02 01:48:40   39.2900    28.7000       14.0   \n12294  19930105081346 1993-01-05 08:13:46   39.2800    28.6800        8.0   \n...               ...                 ...       ...        ...        ...   \n64134  20240428211453 2024-04-28 21:14:53   38.5330    38.0423        5.4   \n64135  20240428213328 2024-04-28 21:33:28   37.0177    29.7712        6.2   \n64136  20240429220835 2024-04-29 22:08:35   38.3103    38.2865        5.0   \n64137  20240430080325 2024-04-30 08:03:25   38.2458    31.5638        5.0   \n64138  20240430232712 2024-04-30 23:27:12   35.3570    32.5048       47.2   \n\n        xM   MD   ML   Mw Ms   Mb Type  \\\n12289  3.1  3.1    -  NaN  -    -   Ke   \n12290  3.1  3.1    -  NaN  -    -   Ke   \n12291  3.2    -    -  NaN  -  3.2   Ke   \n12292  3.1  3.1    -  NaN  -    -   Ke   \n12294  3.0  3.0    -  NaN  -    -   Ke   \n...    ...  ...  ...  ... ..  ...  ...   \n64134  3.9    -  3.8  3.9  -    -   Ke   \n64135  4.0    -  4.0  3.9  -    -   Ke   \n64136  3.2    -  3.2  3.0  -    -   Ke   \n64137  3.6    -  3.5  3.6  -    -   Ke   \n64138  3.6    -  3.6  3.4  -    -   Ke   \n\n                                               Location  \n12289  EFEMCUKURU-MENDERES (IZMIR) [South East  3.7 km]  \n12290        BADEMLER-URLA (IZMIR) [South East  1.9 km]  \n12291                                    KIBRIS-LEFKOSA  \n12292     KIZILCIK-SIMAV (KÜTAHYA) [North East  4.3 km]  \n12294            KIZILCIK-SIMAV (KÜTAHYA) [East 2.4 km]  \n...                                                 ...  \n64134           CIVRIL-YAZIHAN (MALATYA) [South 3.0 km]  \n64135        YAZIR-CAVDIR (BURDUR) [South East  2.5 km]  \n64136      BOSTANBASI-YESILYURT (MALATYA) [East 3.1 km]  \n64137   YAYLABELEN-AKSEHIR (KONYA) [North East  2.6 km]  \n64138                                           AKDENIZ  \n\n[51850 rows x 13 columns]",
      "text/html": "<div>\n<style scoped>\n    .dataframe tbody tr th:only-of-type {\n        vertical-align: middle;\n    }\n\n    .dataframe tbody tr th {\n        vertical-align: top;\n    }\n\n    .dataframe thead th {\n        text-align: right;\n    }\n</style>\n<table border=\"1\" class=\"dataframe\">\n  <thead>\n    <tr style=\"text-align: right;\">\n      <th></th>\n      <th>Event ID</th>\n      <th>Datetime</th>\n      <th>Latitude</th>\n      <th>Longitude</th>\n      <th>Depth(km)</th>\n      <th>xM</th>\n      <th>MD</th>\n      <th>ML</th>\n      <th>Mw</th>\n      <th>Ms</th>\n      <th>Mb</th>\n      <th>Type</th>\n      <th>Location</th>\n    </tr>\n  </thead>\n  <tbody>\n    <tr>\n      <th>12289</th>\n      <td>19930101142459</td>\n      <td>1993-01-01 14:24:59</td>\n      <td>38.2500</td>\n      <td>26.9900</td>\n      <td>0.0</td>\n      <td>3.1</td>\n      <td>3.1</td>\n      <td>-</td>\n      <td>NaN</td>\n      <td>-</td>\n      <td>-</td>\n      <td>Ke</td>\n      <td>EFEMCUKURU-MENDERES (IZMIR) [South East  3.7 km]</td>\n    </tr>\n    <tr>\n      <th>12290</th>\n      <td>19930101204941</td>\n      <td>1993-01-01 20:49:41</td>\n      <td>38.2700</td>\n      <td>26.8500</td>\n      <td>8.0</td>\n      <td>3.1</td>\n      <td>3.1</td>\n      <td>-</td>\n      <td>NaN</td>\n      <td>-</td>\n      <td>-</td>\n      <td>Ke</td>\n      <td>BADEMLER-URLA (IZMIR) [South East  1.9 km]</td>\n    </tr>\n    <tr>\n      <th>12291</th>\n      <td>19930101214621</td>\n      <td>1993-01-01 21:46:21</td>\n      <td>35.0200</td>\n      <td>33.2100</td>\n      <td>13.0</td>\n      <td>3.2</td>\n      <td>-</td>\n      <td>-</td>\n      <td>NaN</td>\n      <td>-</td>\n      <td>3.2</td>\n      <td>Ke</td>\n      <td>KIBRIS-LEFKOSA</td>\n    </tr>\n    <tr>\n      <th>12292</th>\n      <td>19930102014840</td>\n      <td>1993-01-02 01:48:40</td>\n      <td>39.2900</td>\n      <td>28.7000</td>\n      <td>14.0</td>\n      <td>3.1</td>\n      <td>3.1</td>\n      <td>-</td>\n      <td>NaN</td>\n      <td>-</td>\n      <td>-</td>\n      <td>Ke</td>\n      <td>KIZILCIK-SIMAV (KÜTAHYA) [North East  4.3 km]</td>\n    </tr>\n    <tr>\n      <th>12294</th>\n      <td>19930105081346</td>\n      <td>1993-01-05 08:13:46</td>\n      <td>39.2800</td>\n      <td>28.6800</td>\n      <td>8.0</td>\n      <td>3.0</td>\n      <td>3.0</td>\n      <td>-</td>\n      <td>NaN</td>\n      <td>-</td>\n      <td>-</td>\n      <td>Ke</td>\n      <td>KIZILCIK-SIMAV (KÜTAHYA) [East 2.4 km]</td>\n    </tr>\n    <tr>\n      <th>...</th>\n      <td>...</td>\n      <td>...</td>\n      <td>...</td>\n      <td>...</td>\n      <td>...</td>\n      <td>...</td>\n      <td>...</td>\n      <td>...</td>\n      <td>...</td>\n      <td>...</td>\n      <td>...</td>\n      <td>...</td>\n      <td>...</td>\n    </tr>\n    <tr>\n      <th>64134</th>\n      <td>20240428211453</td>\n      <td>2024-04-28 21:14:53</td>\n      <td>38.5330</td>\n      <td>38.0423</td>\n      <td>5.4</td>\n      <td>3.9</td>\n      <td>-</td>\n      <td>3.8</td>\n      <td>3.9</td>\n      <td>-</td>\n      <td>-</td>\n      <td>Ke</td>\n      <td>CIVRIL-YAZIHAN (MALATYA) [South 3.0 km]</td>\n    </tr>\n    <tr>\n      <th>64135</th>\n      <td>20240428213328</td>\n      <td>2024-04-28 21:33:28</td>\n      <td>37.0177</td>\n      <td>29.7712</td>\n      <td>6.2</td>\n      <td>4.0</td>\n      <td>-</td>\n      <td>4.0</td>\n      <td>3.9</td>\n      <td>-</td>\n      <td>-</td>\n      <td>Ke</td>\n      <td>YAZIR-CAVDIR (BURDUR) [South East  2.5 km]</td>\n    </tr>\n    <tr>\n      <th>64136</th>\n      <td>20240429220835</td>\n      <td>2024-04-29 22:08:35</td>\n      <td>38.3103</td>\n      <td>38.2865</td>\n      <td>5.0</td>\n      <td>3.2</td>\n      <td>-</td>\n      <td>3.2</td>\n      <td>3.0</td>\n      <td>-</td>\n      <td>-</td>\n      <td>Ke</td>\n      <td>BOSTANBASI-YESILYURT (MALATYA) [East 3.1 km]</td>\n    </tr>\n    <tr>\n      <th>64137</th>\n      <td>20240430080325</td>\n      <td>2024-04-30 08:03:25</td>\n      <td>38.2458</td>\n      <td>31.5638</td>\n      <td>5.0</td>\n      <td>3.6</td>\n      <td>-</td>\n      <td>3.5</td>\n      <td>3.6</td>\n      <td>-</td>\n      <td>-</td>\n      <td>Ke</td>\n      <td>YAYLABELEN-AKSEHIR (KONYA) [North East  2.6 km]</td>\n    </tr>\n    <tr>\n      <th>64138</th>\n      <td>20240430232712</td>\n      <td>2024-04-30 23:27:12</td>\n      <td>35.3570</td>\n      <td>32.5048</td>\n      <td>47.2</td>\n      <td>3.6</td>\n      <td>-</td>\n      <td>3.6</td>\n      <td>3.4</td>\n      <td>-</td>\n      <td>-</td>\n      <td>Ke</td>\n      <td>AKDENIZ</td>\n    </tr>\n  </tbody>\n</table>\n<p>51850 rows × 13 columns</p>\n</div>"
     },
     "execution_count": 11,
     "metadata": {},
     "output_type": "execute_result"
    }
   ],
   "source": [
    "df_93s = df.copy()\n",
    "df_93s = (df_93s[df_93s['Datetime'] >= pd.Timestamp('1993-01-01')]).sort_values('Datetime', ascending=True)\n",
    "df_93s"
   ],
   "metadata": {
    "collapsed": false,
    "ExecuteTime": {
     "end_time": "2024-09-07T18:47:25.153852300Z",
     "start_time": "2024-09-07T18:47:25.127888700Z"
    }
   },
   "id": "e843e83eca1cdc79"
  },
  {
   "cell_type": "markdown",
   "source": [
    "### 1.b Adding cartesian system components to the all earthquakes in dataframe\n",
    "\n",
    "First let's define the functions that we need for adding cartesian system components"
   ],
   "metadata": {
    "collapsed": false
   },
   "id": "f66e187a021c2c7e"
  },
  {
   "cell_type": "code",
   "execution_count": 12,
   "outputs": [],
   "source": [
    "import numpy as np\n",
    "\n",
    "def lat_lon_to_cartesian(lat, lon, R=6371.0):\n",
    "    # Convert latitude and longitude from degrees to radians\n",
    "    lat_rad = np.radians(lat)\n",
    "    lon_rad = np.radians(lon)\n",
    "    \n",
    "    # Calculate x, y, z coordinates\n",
    "    x = R * np.cos(lat_rad) * np.cos(lon_rad)\n",
    "    y = R * np.cos(lat_rad) * np.sin(lon_rad)\n",
    "    z = R * np.sin(lat_rad)\n",
    "    \n",
    "    return np.array([x, y, z])\n",
    "\n",
    "def spherical_vector(lat1, lon1, lat2, lon2):\n",
    "    # Convert points to Cartesian coordinates\n",
    "    p1 = lat_lon_to_cartesian(lat1, lon1)\n",
    "    p2 = lat_lon_to_cartesian(lat2, lon2)\n",
    "    \n",
    "    # Calculate Cartesian difference vector\n",
    "    d_cartesian = p2 - p1\n",
    "    \n",
    "    # The resulting vector contains x, y, and z components\n",
    "    return d_cartesian\n",
    "\n",
    "# This function adds cartesian coordinate system components as new columns to the df\n",
    "def lat_lon_to_cartesian_vectorized(df, R=6371.0):\n",
    "    lat_rad = np.radians(df['Latitude'].values)\n",
    "    lon_rad = np.radians(df['Longitude'].values)\n",
    "    \n",
    "    x = R * np.cos(lat_rad) * np.cos(lon_rad)\n",
    "    y = R * np.cos(lat_rad) * np.sin(lon_rad)\n",
    "    z = R * np.sin(lat_rad)\n",
    "    \n",
    "    df_copy = df.copy()\n",
    "    df_copy['X'] = x\n",
    "    df_copy['Y'] = y\n",
    "    df_copy['Z'] = z\n",
    "    \n",
    "    return df_copy"
   ],
   "metadata": {
    "collapsed": false,
    "ExecuteTime": {
     "end_time": "2024-09-07T18:47:25.185898800Z",
     "start_time": "2024-09-07T18:47:25.158337800Z"
    }
   },
   "id": "e7ea0323d257b259"
  },
  {
   "cell_type": "markdown",
   "source": [
    "Testing recently defined functions"
   ],
   "metadata": {
    "collapsed": false
   },
   "id": "d5873ec76ee30693"
  },
  {
   "cell_type": "code",
   "execution_count": 13,
   "outputs": [
    {
     "data": {
      "text/plain": "             Event ID            Datetime  Latitude  Longitude  Depth(km)  \\\n12289  19930101142459 1993-01-01 14:24:59   38.2500    26.9900        0.0   \n12290  19930101204941 1993-01-01 20:49:41   38.2700    26.8500        8.0   \n12291  19930101214621 1993-01-01 21:46:21   35.0200    33.2100       13.0   \n12292  19930102014840 1993-01-02 01:48:40   39.2900    28.7000       14.0   \n12294  19930105081346 1993-01-05 08:13:46   39.2800    28.6800        8.0   \n...               ...                 ...       ...        ...        ...   \n64134  20240428211453 2024-04-28 21:14:53   38.5330    38.0423        5.4   \n64135  20240428213328 2024-04-28 21:33:28   37.0177    29.7712        6.2   \n64136  20240429220835 2024-04-29 22:08:35   38.3103    38.2865        5.0   \n64137  20240430080325 2024-04-30 08:03:25   38.2458    31.5638        5.0   \n64138  20240430232712 2024-04-30 23:27:12   35.3570    32.5048       47.2   \n\n        xM   MD   ML   Mw Ms   Mb Type  \\\n12289  3.1  3.1    -  NaN  -    -   Ke   \n12290  3.1  3.1    -  NaN  -    -   Ke   \n12291  3.2    -    -  NaN  -  3.2   Ke   \n12292  3.1  3.1    -  NaN  -    -   Ke   \n12294  3.0  3.0    -  NaN  -    -   Ke   \n...    ...  ...  ...  ... ..  ...  ...   \n64134  3.9    -  3.8  3.9  -    -   Ke   \n64135  4.0    -  4.0  3.9  -    -   Ke   \n64136  3.2    -  3.2  3.0  -    -   Ke   \n64137  3.6    -  3.5  3.6  -    -   Ke   \n64138  3.6    -  3.6  3.4  -    -   Ke   \n\n                                               Location            X  \\\n12289  EFEMCUKURU-MENDERES (IZMIR) [South East  3.7 km]  4458.328476   \n12290        BADEMLER-URLA (IZMIR) [South East  1.9 km]  4462.634766   \n12291                                    KIBRIS-LEFKOSA  4365.354070   \n12292     KIZILCIK-SIMAV (KÜTAHYA) [North East  4.3 km]  4325.067555   \n12294            KIZILCIK-SIMAV (KÜTAHYA) [East 2.4 km]  4326.511530   \n...                                                 ...          ...   \n64134           CIVRIL-YAZIHAN (MALATYA) [South 3.0 km]  3924.951926   \n64135        YAZIR-CAVDIR (BURDUR) [South East  2.5 km]  4415.525476   \n64136      BOSTANBASI-YESILYURT (MALATYA) [East 3.1 km]  3923.905739   \n64137   YAYLABELEN-AKSEHIR (KONYA) [North East  2.6 km]  4263.308197   \n64138                                           AKDENIZ  4381.983765   \n\n                 Y            Z  \n12289  2270.651769  3944.247551  \n12290  2259.129271  3945.993776  \n12291  2857.695938  3656.076964  \n12292  2367.905321  4034.409007  \n12294  2366.733335  4033.548352  \n...            ...          ...  \n64134  3071.177681  3968.911820  \n64135  2525.848674  3835.735164  \n64136  3097.413105  3949.510958  \n64137  2619.093085  3943.880783  \n64138  2792.147664  3686.701873  \n\n[51850 rows x 16 columns]",
      "text/html": "<div>\n<style scoped>\n    .dataframe tbody tr th:only-of-type {\n        vertical-align: middle;\n    }\n\n    .dataframe tbody tr th {\n        vertical-align: top;\n    }\n\n    .dataframe thead th {\n        text-align: right;\n    }\n</style>\n<table border=\"1\" class=\"dataframe\">\n  <thead>\n    <tr style=\"text-align: right;\">\n      <th></th>\n      <th>Event ID</th>\n      <th>Datetime</th>\n      <th>Latitude</th>\n      <th>Longitude</th>\n      <th>Depth(km)</th>\n      <th>xM</th>\n      <th>MD</th>\n      <th>ML</th>\n      <th>Mw</th>\n      <th>Ms</th>\n      <th>Mb</th>\n      <th>Type</th>\n      <th>Location</th>\n      <th>X</th>\n      <th>Y</th>\n      <th>Z</th>\n    </tr>\n  </thead>\n  <tbody>\n    <tr>\n      <th>12289</th>\n      <td>19930101142459</td>\n      <td>1993-01-01 14:24:59</td>\n      <td>38.2500</td>\n      <td>26.9900</td>\n      <td>0.0</td>\n      <td>3.1</td>\n      <td>3.1</td>\n      <td>-</td>\n      <td>NaN</td>\n      <td>-</td>\n      <td>-</td>\n      <td>Ke</td>\n      <td>EFEMCUKURU-MENDERES (IZMIR) [South East  3.7 km]</td>\n      <td>4458.328476</td>\n      <td>2270.651769</td>\n      <td>3944.247551</td>\n    </tr>\n    <tr>\n      <th>12290</th>\n      <td>19930101204941</td>\n      <td>1993-01-01 20:49:41</td>\n      <td>38.2700</td>\n      <td>26.8500</td>\n      <td>8.0</td>\n      <td>3.1</td>\n      <td>3.1</td>\n      <td>-</td>\n      <td>NaN</td>\n      <td>-</td>\n      <td>-</td>\n      <td>Ke</td>\n      <td>BADEMLER-URLA (IZMIR) [South East  1.9 km]</td>\n      <td>4462.634766</td>\n      <td>2259.129271</td>\n      <td>3945.993776</td>\n    </tr>\n    <tr>\n      <th>12291</th>\n      <td>19930101214621</td>\n      <td>1993-01-01 21:46:21</td>\n      <td>35.0200</td>\n      <td>33.2100</td>\n      <td>13.0</td>\n      <td>3.2</td>\n      <td>-</td>\n      <td>-</td>\n      <td>NaN</td>\n      <td>-</td>\n      <td>3.2</td>\n      <td>Ke</td>\n      <td>KIBRIS-LEFKOSA</td>\n      <td>4365.354070</td>\n      <td>2857.695938</td>\n      <td>3656.076964</td>\n    </tr>\n    <tr>\n      <th>12292</th>\n      <td>19930102014840</td>\n      <td>1993-01-02 01:48:40</td>\n      <td>39.2900</td>\n      <td>28.7000</td>\n      <td>14.0</td>\n      <td>3.1</td>\n      <td>3.1</td>\n      <td>-</td>\n      <td>NaN</td>\n      <td>-</td>\n      <td>-</td>\n      <td>Ke</td>\n      <td>KIZILCIK-SIMAV (KÜTAHYA) [North East  4.3 km]</td>\n      <td>4325.067555</td>\n      <td>2367.905321</td>\n      <td>4034.409007</td>\n    </tr>\n    <tr>\n      <th>12294</th>\n      <td>19930105081346</td>\n      <td>1993-01-05 08:13:46</td>\n      <td>39.2800</td>\n      <td>28.6800</td>\n      <td>8.0</td>\n      <td>3.0</td>\n      <td>3.0</td>\n      <td>-</td>\n      <td>NaN</td>\n      <td>-</td>\n      <td>-</td>\n      <td>Ke</td>\n      <td>KIZILCIK-SIMAV (KÜTAHYA) [East 2.4 km]</td>\n      <td>4326.511530</td>\n      <td>2366.733335</td>\n      <td>4033.548352</td>\n    </tr>\n    <tr>\n      <th>...</th>\n      <td>...</td>\n      <td>...</td>\n      <td>...</td>\n      <td>...</td>\n      <td>...</td>\n      <td>...</td>\n      <td>...</td>\n      <td>...</td>\n      <td>...</td>\n      <td>...</td>\n      <td>...</td>\n      <td>...</td>\n      <td>...</td>\n      <td>...</td>\n      <td>...</td>\n      <td>...</td>\n    </tr>\n    <tr>\n      <th>64134</th>\n      <td>20240428211453</td>\n      <td>2024-04-28 21:14:53</td>\n      <td>38.5330</td>\n      <td>38.0423</td>\n      <td>5.4</td>\n      <td>3.9</td>\n      <td>-</td>\n      <td>3.8</td>\n      <td>3.9</td>\n      <td>-</td>\n      <td>-</td>\n      <td>Ke</td>\n      <td>CIVRIL-YAZIHAN (MALATYA) [South 3.0 km]</td>\n      <td>3924.951926</td>\n      <td>3071.177681</td>\n      <td>3968.911820</td>\n    </tr>\n    <tr>\n      <th>64135</th>\n      <td>20240428213328</td>\n      <td>2024-04-28 21:33:28</td>\n      <td>37.0177</td>\n      <td>29.7712</td>\n      <td>6.2</td>\n      <td>4.0</td>\n      <td>-</td>\n      <td>4.0</td>\n      <td>3.9</td>\n      <td>-</td>\n      <td>-</td>\n      <td>Ke</td>\n      <td>YAZIR-CAVDIR (BURDUR) [South East  2.5 km]</td>\n      <td>4415.525476</td>\n      <td>2525.848674</td>\n      <td>3835.735164</td>\n    </tr>\n    <tr>\n      <th>64136</th>\n      <td>20240429220835</td>\n      <td>2024-04-29 22:08:35</td>\n      <td>38.3103</td>\n      <td>38.2865</td>\n      <td>5.0</td>\n      <td>3.2</td>\n      <td>-</td>\n      <td>3.2</td>\n      <td>3.0</td>\n      <td>-</td>\n      <td>-</td>\n      <td>Ke</td>\n      <td>BOSTANBASI-YESILYURT (MALATYA) [East 3.1 km]</td>\n      <td>3923.905739</td>\n      <td>3097.413105</td>\n      <td>3949.510958</td>\n    </tr>\n    <tr>\n      <th>64137</th>\n      <td>20240430080325</td>\n      <td>2024-04-30 08:03:25</td>\n      <td>38.2458</td>\n      <td>31.5638</td>\n      <td>5.0</td>\n      <td>3.6</td>\n      <td>-</td>\n      <td>3.5</td>\n      <td>3.6</td>\n      <td>-</td>\n      <td>-</td>\n      <td>Ke</td>\n      <td>YAYLABELEN-AKSEHIR (KONYA) [North East  2.6 km]</td>\n      <td>4263.308197</td>\n      <td>2619.093085</td>\n      <td>3943.880783</td>\n    </tr>\n    <tr>\n      <th>64138</th>\n      <td>20240430232712</td>\n      <td>2024-04-30 23:27:12</td>\n      <td>35.3570</td>\n      <td>32.5048</td>\n      <td>47.2</td>\n      <td>3.6</td>\n      <td>-</td>\n      <td>3.6</td>\n      <td>3.4</td>\n      <td>-</td>\n      <td>-</td>\n      <td>Ke</td>\n      <td>AKDENIZ</td>\n      <td>4381.983765</td>\n      <td>2792.147664</td>\n      <td>3686.701873</td>\n    </tr>\n  </tbody>\n</table>\n<p>51850 rows × 16 columns</p>\n</div>"
     },
     "execution_count": 13,
     "metadata": {},
     "output_type": "execute_result"
    }
   ],
   "source": [
    "df_93s = lat_lon_to_cartesian_vectorized(df_93s)\n",
    "df_93s"
   ],
   "metadata": {
    "collapsed": false,
    "ExecuteTime": {
     "end_time": "2024-09-07T18:47:25.281633700Z",
     "start_time": "2024-09-07T18:47:25.160346800Z"
    }
   },
   "id": "8910b2b0d68017aa"
  },
  {
   "cell_type": "markdown",
   "source": [
    "### 1.c Filter earthquake function which takes an earthquake filters it with space-time and magnitude and returns past earthquakes, event earthquake"
   ],
   "metadata": {
    "collapsed": false
   },
   "id": "37c52fe6885245d"
  },
  {
   "cell_type": "code",
   "execution_count": 14,
   "outputs": [],
   "source": [
    "# TODO: If we are going to remove all aftershock earthquakes you should do this in before this step."
   ],
   "metadata": {
    "collapsed": false,
    "ExecuteTime": {
     "end_time": "2024-09-07T18:47:25.281633700Z",
     "start_time": "2024-09-07T18:47:25.184391500Z"
    }
   },
   "id": "ac5949ec7bb82907"
  },
  {
   "cell_type": "code",
   "execution_count": 15,
   "outputs": [],
   "source": [
    "from src.util import earthquake_filter_utils\n",
    "\n",
    "def space_time_filter(df, event_id, radius=10, past_years=30, num_earthquakes=30):\n",
    "    filtered_df = earthquake_filter_utils.distance_filter(df, event_id, radius)\n",
    "    filtered_df = earthquake_filter_utils.time_filter(filtered_df, event_id, past_years)\n",
    "    filtered_df = earthquake_filter_utils.past_earthquakes_filter(filtered_df, event_id, num_earthquakes)\n",
    "    return filtered_df.iloc[:-1], filtered_df.iloc[-1]  # past_s_earthquakes, target earthquake"
   ],
   "metadata": {
    "collapsed": false,
    "ExecuteTime": {
     "end_time": "2024-09-07T18:47:25.282633700Z",
     "start_time": "2024-09-07T18:47:25.187406Z"
    }
   },
   "id": "66c07e7e2d40ace9"
  },
  {
   "cell_type": "markdown",
   "source": [],
   "metadata": {
    "collapsed": false
   },
   "id": "8b6da622f495bfe7"
  },
  {
   "cell_type": "markdown",
   "source": [
    "# IMPORTANT NOTE\n",
    "## This function uses space_time_filter returns the data we need for DL algorithms\n",
    "### Apply general filters to df before using this function (like earthquakes after 1993) but apply specific filters (like spacetime) after that function \n",
    "### 1.d get a simple sample"
   ],
   "metadata": {
    "collapsed": false
   },
   "id": "bcf73901d0d76732"
  },
  {
   "cell_type": "code",
   "execution_count": 16,
   "outputs": [],
   "source": [
    "def get_row_property(df, idx_array):\n",
    "    event_id = df.iloc[idx_array][\"Event ID\"]\n",
    "    magnitude = df.iloc[idx_array][\"xM\"]\n",
    "    depth = df.iloc[idx_array][\"Depth(km)\"]\n",
    "    x = df.iloc[idx_array][\"X\"]\n",
    "    y = df.iloc[idx_array][\"Y\"]\n",
    "    z = df.iloc[idx_array][\"Z\"]\n",
    "    date = df.iloc[idx_array][\"Datetime\"]\n",
    "    return np.array([event_id, magnitude, depth, x, y, z, date])"
   ],
   "metadata": {
    "collapsed": false,
    "ExecuteTime": {
     "end_time": "2024-09-07T18:47:25.282633700Z",
     "start_time": "2024-09-07T18:47:25.198464500Z"
    }
   },
   "id": "c7fe77611ff7f14d"
  },
  {
   "cell_type": "code",
   "execution_count": 17,
   "outputs": [],
   "source": [
    "\n",
    "def get_sample_from_eid(df, event_id, radius=10, past_years=30, num_earthquakes=30, big_eq_min_magnitude=5.5):\n",
    "    sample_of_eid, target_earthquake = space_time_filter(df, event_id, radius, past_years, num_earthquakes)\n",
    "    \n",
    "    # Extract the relevant columns to NumPy arrays (skipping Event ID column)\n",
    "    properties = sample_of_eid[['xM', 'Depth(km)', 'X', 'Y', 'Z', 'Datetime']].values\n",
    "    \n",
    "    # Calculate the differences between consecutive rows (axis=0 for row-wise subtraction)\n",
    "    differences = np.diff(properties, axis=0)\n",
    "    \n",
    "    # Extract the datetime column\n",
    "    datetime_col = properties[:, 5]\n",
    "\n",
    "    # Calculate the differences between consecutive datetime values\n",
    "    time_differences = datetime_col[1:] - datetime_col[:-1]\n",
    "\n",
    "    # Convert the time differences to hours\n",
    "    time_diffs_hours = np.array([td.total_seconds() / 3600. for td in time_differences])\n",
    "    \n",
    "    # Replace the last column in 'differences' with the time differences converted to hours\n",
    "    differences[:, 5] = time_diffs_hours\n",
    "\n",
    "    # Create the output matrix\n",
    "    X_eid = differences\n",
    "\n",
    "    # Determine y_eid: 1 if target earthquake magnitude >= big_eq_min_magnitude, otherwise 0\n",
    "    y_eid = 1 if target_earthquake['xM'] >= big_eq_min_magnitude else 0\n",
    "    \n",
    "    return X_eid, y_eid"
   ],
   "metadata": {
    "collapsed": false,
    "ExecuteTime": {
     "end_time": "2024-09-07T18:47:25.282633700Z",
     "start_time": "2024-09-07T18:47:25.206735900Z"
    }
   },
   "id": "50084991e52e31a9"
  },
  {
   "cell_type": "code",
   "execution_count": 18,
   "outputs": [
    {
     "data": {
      "text/plain": "(array([[0.0, 0.0, 1.0493304195033488, -0.3678815424818822,\n         -0.8425638220815017, 0.32555555555555554],\n        [0.0, 3.0, 0.6286533164766297, 0.36207592593245863,\n         -0.8426904529842432, 0.04083333333333333],\n        [0.0, -7.0, -3.782642915109136, 3.654858349093047,\n         1.6852542750657449, 3.923888888888889],\n        [0.10000000000000009, -1.0, 0.0, 0.0, 0.0, 1.3633333333333333],\n        [-0.10000000000000009, 8.0, -1.044101673584919,\n         -2.547606131098746, 2.526931424175018, 157.80666666666667],\n        [0.3999999999999999, 0.0, 2.514875242063681, 1.4507936576919747,\n         -3.3694952462565197, 0.034722222222222224],\n        [-0.2999999999999998, -3.0, 2.9403952039774595,\n         -2.1960433604576792, -1.6855075112043778, 80.70416666666667],\n        [0.0, 3.0, 0.20759592667491233, 1.0923987778373885,\n         -0.8429436377791717, 108.75861111111111],\n        [0.0, -8.0, -3.984305489045255, -0.3513061553535408,\n         4.2134521365751425, 113.03888888888889],\n        [-0.10000000000000009, 8.0, 2.306704092011387, 0.3573320707482708,\n         -2.527691440575836, 578.56],\n        [0.5, -4.0, -3.7772877425522893, 0.7391512561716809,\n         3.370001923853124, 41.32694444444444],\n        [-0.3999999999999999, -5.0, 0.0, 0.0, 0.0, 1699.3130555555556],\n        [0.19999999999999973, 0.0, 6.928975399146111, -4.759749998798725,\n         -4.212818982073259, 182.8775],\n        [-0.09999999999999964, 8.0, -2.3067577035717477,\n         -0.3545865645410231, 2.5280713332858795, 732.6844444444445],\n        [-0.10000000000000009, -9.0, -4.197578124187203,\n         1.4707934646799004, 3.368988466017072, 5857.068888888889],\n        [0.0, 9.0, 5.0375304579747535, -2.931515342776038,\n         -3.368988466017072, 412.4633333333333],\n        [0.10000000000000009, -3.0, 1.4686651304491534,\n         -1.0996341328636845, -0.8425638220815017, 349.90944444444443],\n        [0.09999999999999964, -2.0, -11.981634771035715,\n         13.509157065884665, 4.211552288098574, 729.3563888888889],\n        [-0.09999999999999964, -7.0, 2.737203204560501,\n         -3.2804862369421244, -0.8420570418420539, 2627.0975],\n        [0.2999999999999998, 12.0, 5.662561271778031, 0.35209072542465947,\n         -5.897946395240069, 1607.4452777777778],\n        [-0.10000000000000009, -2.0, -2.305816505076109,\n         -0.3582817705441812, 2.5284511489835495, 0.04555555555555556],\n        [-0.3999999999999999, -4.0, 0.21416265536208812,\n         -1.8221709164095046, 0.8425638220815017, 0.22416666666666665],\n        [0.10000000000000009, 0.0, 2.513093596849103, 1.4503505001225676,\n         -3.371014971065051, 0.7813888888888889],\n        [0.3999999999999999, 1.0, 0.63528258664428, -2.552896159325428,\n         0.8429436377791717, 1227.7430555555557],\n        [-0.5, -5.0, 2.315455163020488, -8.389761417506179,\n         2.5280713332858795, 451.74666666666667],\n        [0.0, -1.0, -0.8454507699352689, 7.291043927687042,\n         -3.371014971065051, 1212.8602777777778],\n        [0.0, -1.0, 0.8354854765793789, 1.454326836671953,\n         -1.6862669115307654, 1994.8122222222223],\n        [0.0, 5.0, -3.7673233195009743, -5.086845233580334,\n         6.742029531383196, 59.54055555555556],\n        [0.10000000000000009, -1.0, 2.082333138429931, 8.008866076341292,\n         -6.742029531383196, 836.1358333333334]], dtype=object),\n 1)"
     },
     "execution_count": 18,
     "metadata": {},
     "output_type": "execute_result"
    }
   ],
   "source": [
    "example_one_sample = get_sample_from_eid(df_93s, 19990817000137)\n",
    "X_one_instance, y_of_that_instance = example_one_sample\n",
    "example_one_sample"
   ],
   "metadata": {
    "collapsed": false,
    "ExecuteTime": {
     "end_time": "2024-09-07T18:47:26.054436100Z",
     "start_time": "2024-09-07T18:47:25.214910200Z"
    }
   },
   "id": "dfea6404bb924ad8"
  },
  {
   "cell_type": "markdown",
   "source": [
    "## Part 2. Collect samples\n",
    "### 2.a Removing all aftershock events\n",
    "\n",
    "Important note: `remove_aftershocks_from_eq()` function raises ValueError if given earthquake magnitude is smaller than minimum magnitude."
   ],
   "metadata": {
    "collapsed": false
   },
   "id": "317f20377f224bd"
  },
  {
   "cell_type": "code",
   "execution_count": 19,
   "outputs": [],
   "source": [
    "def get_aftershocks_from_eq(df, event_id, radius=10, big_eq_min_magnitude=5.5):\n",
    "    event_mag = earthquake_filter_utils.get_value_from_eid(df, event_id, \"xM\")\n",
    "    if event_mag < big_eq_min_magnitude:\n",
    "        raise ValueError(f\"Earthquake magnitude should minimum {big_eq_min_magnitude}. Given event_id={event_id}, xM={event_mag}\")\n",
    "    else:\n",
    "         # Calculate the aftershock duration in hours (using the empirical formula)\n",
    "        aftershock_duration_in_hours = 10 ** (event_mag - 3.0) * 24\n",
    "        \n",
    "        # Get the datetime of the main event\n",
    "        event_datetime = earthquake_filter_utils.get_value_from_eid(df, event_id, \"Datetime\")\n",
    "        \n",
    "        # FIXME: Distance parameter might be change with a formula. \n",
    "        \n",
    "        # Filter earthquakes by distance from the event\n",
    "        filtered_df = earthquake_filter_utils.distance_filter(df, event_id, radius)\n",
    "    \n",
    "        # Calculate the time window for aftershocks\n",
    "        end_time = event_datetime + pd.Timedelta(hours=aftershock_duration_in_hours)\n",
    "        \n",
    "        # Return all earthquakes that occurred after the main event but before the end of the aftershock window\n",
    "        aftershocks_df = filtered_df[(filtered_df['Datetime'] > event_datetime) & (filtered_df['Datetime'] <= end_time)]\n",
    "        return aftershocks_df"
   ],
   "metadata": {
    "collapsed": false,
    "ExecuteTime": {
     "end_time": "2024-09-07T18:47:26.062325200Z",
     "start_time": "2024-09-07T18:47:26.056435300Z"
    }
   },
   "id": "76488e7d80cfd95b"
  },
  {
   "cell_type": "markdown",
   "source": [
    "Using `get_aftershocks_from_eq()` function now we can remove all aftershocks from dataframe."
   ],
   "metadata": {
    "collapsed": false
   },
   "id": "6b1d7c1a768ca9ee"
  },
  {
   "cell_type": "code",
   "execution_count": 20,
   "outputs": [],
   "source": [
    "def remove_all_aftershocks_from_data(df, radius=10, big_eq_min_magnitude=5.5):\n",
    "     # Create a copy of the original DataFrame to avoid modifying it\n",
    "    df_copy = df.copy()\n",
    "\n",
    "    # Filter large earthquakes based on the magnitude threshold\n",
    "    df_large_eqs = df_copy[df_copy[\"xM\"] >= big_eq_min_magnitude]\n",
    "    \n",
    "    # Create an empty DataFrame to store all aftershocks\n",
    "    df_all_aftershocks = pd.DataFrame(columns=df.columns)\n",
    "    \n",
    "    # Loop through each large earthquake and use the helper function to find aftershocks\n",
    "    for index, large_eq in df_large_eqs.iterrows():\n",
    "        event_id = large_eq[\"Event ID\"]\n",
    "        \n",
    "        # Use the helper function get_aftershocks_from_eq to find aftershocks for the current large earthquake\n",
    "        aftershocks_df = get_aftershocks_from_eq(df_copy, event_id, radius, big_eq_min_magnitude)\n",
    "        \n",
    "        # Concatenate the identified aftershocks into the df_all_aftershocks DataFrame\n",
    "        df_all_aftershocks = pd.concat([df_all_aftershocks, aftershocks_df], ignore_index=True)\n",
    "    \n",
    "    # Remove all rows from df_copy that are in df_all_aftershocks\n",
    "    df_without_aftershocks = df_copy[~df_copy[\"Event ID\"].isin(df_all_aftershocks[\"Event ID\"])]\n",
    "    \n",
    "    return df_without_aftershocks"
   ],
   "metadata": {
    "collapsed": false,
    "ExecuteTime": {
     "end_time": "2024-09-07T18:47:26.071610400Z",
     "start_time": "2024-09-07T18:47:26.061323800Z"
    }
   },
   "id": "7f6b8b06a7b46d7f"
  },
  {
   "cell_type": "code",
   "execution_count": 21,
   "outputs": [
    {
     "data": {
      "text/plain": "             Event ID            Datetime  Latitude  Longitude  Depth(km)  \\\n12289  19930101142459 1993-01-01 14:24:59   38.2500    26.9900        0.0   \n12290  19930101204941 1993-01-01 20:49:41   38.2700    26.8500        8.0   \n12291  19930101214621 1993-01-01 21:46:21   35.0200    33.2100       13.0   \n12292  19930102014840 1993-01-02 01:48:40   39.2900    28.7000       14.0   \n12294  19930105081346 1993-01-05 08:13:46   39.2800    28.6800        8.0   \n...               ...                 ...       ...        ...        ...   \n64134  20240428211453 2024-04-28 21:14:53   38.5330    38.0423        5.4   \n64135  20240428213328 2024-04-28 21:33:28   37.0177    29.7712        6.2   \n64136  20240429220835 2024-04-29 22:08:35   38.3103    38.2865        5.0   \n64137  20240430080325 2024-04-30 08:03:25   38.2458    31.5638        5.0   \n64138  20240430232712 2024-04-30 23:27:12   35.3570    32.5048       47.2   \n\n        xM   MD   ML   Mw Ms   Mb Type  \\\n12289  3.1  3.1    -  NaN  -    -   Ke   \n12290  3.1  3.1    -  NaN  -    -   Ke   \n12291  3.2    -    -  NaN  -  3.2   Ke   \n12292  3.1  3.1    -  NaN  -    -   Ke   \n12294  3.0  3.0    -  NaN  -    -   Ke   \n...    ...  ...  ...  ... ..  ...  ...   \n64134  3.9    -  3.8  3.9  -    -   Ke   \n64135  4.0    -  4.0  3.9  -    -   Ke   \n64136  3.2    -  3.2  3.0  -    -   Ke   \n64137  3.6    -  3.5  3.6  -    -   Ke   \n64138  3.6    -  3.6  3.4  -    -   Ke   \n\n                                               Location            X  \\\n12289  EFEMCUKURU-MENDERES (IZMIR) [South East  3.7 km]  4458.328476   \n12290        BADEMLER-URLA (IZMIR) [South East  1.9 km]  4462.634766   \n12291                                    KIBRIS-LEFKOSA  4365.354070   \n12292     KIZILCIK-SIMAV (KÜTAHYA) [North East  4.3 km]  4325.067555   \n12294            KIZILCIK-SIMAV (KÜTAHYA) [East 2.4 km]  4326.511530   \n...                                                 ...          ...   \n64134           CIVRIL-YAZIHAN (MALATYA) [South 3.0 km]  3924.951926   \n64135        YAZIR-CAVDIR (BURDUR) [South East  2.5 km]  4415.525476   \n64136      BOSTANBASI-YESILYURT (MALATYA) [East 3.1 km]  3923.905739   \n64137   YAYLABELEN-AKSEHIR (KONYA) [North East  2.6 km]  4263.308197   \n64138                                           AKDENIZ  4381.983765   \n\n                 Y            Z  \n12289  2270.651769  3944.247551  \n12290  2259.129271  3945.993776  \n12291  2857.695938  3656.076964  \n12292  2367.905321  4034.409007  \n12294  2366.733335  4033.548352  \n...            ...          ...  \n64134  3071.177681  3968.911820  \n64135  2525.848674  3835.735164  \n64136  3097.413105  3949.510958  \n64137  2619.093085  3943.880783  \n64138  2792.147664  3686.701873  \n\n[51850 rows x 16 columns]",
      "text/html": "<div>\n<style scoped>\n    .dataframe tbody tr th:only-of-type {\n        vertical-align: middle;\n    }\n\n    .dataframe tbody tr th {\n        vertical-align: top;\n    }\n\n    .dataframe thead th {\n        text-align: right;\n    }\n</style>\n<table border=\"1\" class=\"dataframe\">\n  <thead>\n    <tr style=\"text-align: right;\">\n      <th></th>\n      <th>Event ID</th>\n      <th>Datetime</th>\n      <th>Latitude</th>\n      <th>Longitude</th>\n      <th>Depth(km)</th>\n      <th>xM</th>\n      <th>MD</th>\n      <th>ML</th>\n      <th>Mw</th>\n      <th>Ms</th>\n      <th>Mb</th>\n      <th>Type</th>\n      <th>Location</th>\n      <th>X</th>\n      <th>Y</th>\n      <th>Z</th>\n    </tr>\n  </thead>\n  <tbody>\n    <tr>\n      <th>12289</th>\n      <td>19930101142459</td>\n      <td>1993-01-01 14:24:59</td>\n      <td>38.2500</td>\n      <td>26.9900</td>\n      <td>0.0</td>\n      <td>3.1</td>\n      <td>3.1</td>\n      <td>-</td>\n      <td>NaN</td>\n      <td>-</td>\n      <td>-</td>\n      <td>Ke</td>\n      <td>EFEMCUKURU-MENDERES (IZMIR) [South East  3.7 km]</td>\n      <td>4458.328476</td>\n      <td>2270.651769</td>\n      <td>3944.247551</td>\n    </tr>\n    <tr>\n      <th>12290</th>\n      <td>19930101204941</td>\n      <td>1993-01-01 20:49:41</td>\n      <td>38.2700</td>\n      <td>26.8500</td>\n      <td>8.0</td>\n      <td>3.1</td>\n      <td>3.1</td>\n      <td>-</td>\n      <td>NaN</td>\n      <td>-</td>\n      <td>-</td>\n      <td>Ke</td>\n      <td>BADEMLER-URLA (IZMIR) [South East  1.9 km]</td>\n      <td>4462.634766</td>\n      <td>2259.129271</td>\n      <td>3945.993776</td>\n    </tr>\n    <tr>\n      <th>12291</th>\n      <td>19930101214621</td>\n      <td>1993-01-01 21:46:21</td>\n      <td>35.0200</td>\n      <td>33.2100</td>\n      <td>13.0</td>\n      <td>3.2</td>\n      <td>-</td>\n      <td>-</td>\n      <td>NaN</td>\n      <td>-</td>\n      <td>3.2</td>\n      <td>Ke</td>\n      <td>KIBRIS-LEFKOSA</td>\n      <td>4365.354070</td>\n      <td>2857.695938</td>\n      <td>3656.076964</td>\n    </tr>\n    <tr>\n      <th>12292</th>\n      <td>19930102014840</td>\n      <td>1993-01-02 01:48:40</td>\n      <td>39.2900</td>\n      <td>28.7000</td>\n      <td>14.0</td>\n      <td>3.1</td>\n      <td>3.1</td>\n      <td>-</td>\n      <td>NaN</td>\n      <td>-</td>\n      <td>-</td>\n      <td>Ke</td>\n      <td>KIZILCIK-SIMAV (KÜTAHYA) [North East  4.3 km]</td>\n      <td>4325.067555</td>\n      <td>2367.905321</td>\n      <td>4034.409007</td>\n    </tr>\n    <tr>\n      <th>12294</th>\n      <td>19930105081346</td>\n      <td>1993-01-05 08:13:46</td>\n      <td>39.2800</td>\n      <td>28.6800</td>\n      <td>8.0</td>\n      <td>3.0</td>\n      <td>3.0</td>\n      <td>-</td>\n      <td>NaN</td>\n      <td>-</td>\n      <td>-</td>\n      <td>Ke</td>\n      <td>KIZILCIK-SIMAV (KÜTAHYA) [East 2.4 km]</td>\n      <td>4326.511530</td>\n      <td>2366.733335</td>\n      <td>4033.548352</td>\n    </tr>\n    <tr>\n      <th>...</th>\n      <td>...</td>\n      <td>...</td>\n      <td>...</td>\n      <td>...</td>\n      <td>...</td>\n      <td>...</td>\n      <td>...</td>\n      <td>...</td>\n      <td>...</td>\n      <td>...</td>\n      <td>...</td>\n      <td>...</td>\n      <td>...</td>\n      <td>...</td>\n      <td>...</td>\n      <td>...</td>\n    </tr>\n    <tr>\n      <th>64134</th>\n      <td>20240428211453</td>\n      <td>2024-04-28 21:14:53</td>\n      <td>38.5330</td>\n      <td>38.0423</td>\n      <td>5.4</td>\n      <td>3.9</td>\n      <td>-</td>\n      <td>3.8</td>\n      <td>3.9</td>\n      <td>-</td>\n      <td>-</td>\n      <td>Ke</td>\n      <td>CIVRIL-YAZIHAN (MALATYA) [South 3.0 km]</td>\n      <td>3924.951926</td>\n      <td>3071.177681</td>\n      <td>3968.911820</td>\n    </tr>\n    <tr>\n      <th>64135</th>\n      <td>20240428213328</td>\n      <td>2024-04-28 21:33:28</td>\n      <td>37.0177</td>\n      <td>29.7712</td>\n      <td>6.2</td>\n      <td>4.0</td>\n      <td>-</td>\n      <td>4.0</td>\n      <td>3.9</td>\n      <td>-</td>\n      <td>-</td>\n      <td>Ke</td>\n      <td>YAZIR-CAVDIR (BURDUR) [South East  2.5 km]</td>\n      <td>4415.525476</td>\n      <td>2525.848674</td>\n      <td>3835.735164</td>\n    </tr>\n    <tr>\n      <th>64136</th>\n      <td>20240429220835</td>\n      <td>2024-04-29 22:08:35</td>\n      <td>38.3103</td>\n      <td>38.2865</td>\n      <td>5.0</td>\n      <td>3.2</td>\n      <td>-</td>\n      <td>3.2</td>\n      <td>3.0</td>\n      <td>-</td>\n      <td>-</td>\n      <td>Ke</td>\n      <td>BOSTANBASI-YESILYURT (MALATYA) [East 3.1 km]</td>\n      <td>3923.905739</td>\n      <td>3097.413105</td>\n      <td>3949.510958</td>\n    </tr>\n    <tr>\n      <th>64137</th>\n      <td>20240430080325</td>\n      <td>2024-04-30 08:03:25</td>\n      <td>38.2458</td>\n      <td>31.5638</td>\n      <td>5.0</td>\n      <td>3.6</td>\n      <td>-</td>\n      <td>3.5</td>\n      <td>3.6</td>\n      <td>-</td>\n      <td>-</td>\n      <td>Ke</td>\n      <td>YAYLABELEN-AKSEHIR (KONYA) [North East  2.6 km]</td>\n      <td>4263.308197</td>\n      <td>2619.093085</td>\n      <td>3943.880783</td>\n    </tr>\n    <tr>\n      <th>64138</th>\n      <td>20240430232712</td>\n      <td>2024-04-30 23:27:12</td>\n      <td>35.3570</td>\n      <td>32.5048</td>\n      <td>47.2</td>\n      <td>3.6</td>\n      <td>-</td>\n      <td>3.6</td>\n      <td>3.4</td>\n      <td>-</td>\n      <td>-</td>\n      <td>Ke</td>\n      <td>AKDENIZ</td>\n      <td>4381.983765</td>\n      <td>2792.147664</td>\n      <td>3686.701873</td>\n    </tr>\n  </tbody>\n</table>\n<p>51850 rows × 16 columns</p>\n</div>"
     },
     "execution_count": 21,
     "metadata": {},
     "output_type": "execute_result"
    }
   ],
   "source": [
    "df_test = df_93s.copy()\n",
    "df_test # Before"
   ],
   "metadata": {
    "collapsed": false,
    "ExecuteTime": {
     "end_time": "2024-09-07T18:47:26.133098900Z",
     "start_time": "2024-09-07T18:47:26.070609800Z"
    }
   },
   "id": "fbf0750e85cac949"
  },
  {
   "cell_type": "code",
   "execution_count": 22,
   "outputs": [
    {
     "name": "stderr",
     "output_type": "stream",
     "text": [
      "C:\\Users\\M13\\AppData\\Local\\Temp\\ipykernel_26900\\2179015217.py:19: FutureWarning: The behavior of DataFrame concatenation with empty or all-NA entries is deprecated. In a future version, this will no longer exclude empty or all-NA columns when determining the result dtypes. To retain the old behavior, exclude the relevant entries before the concat operation.\n",
      "  df_all_aftershocks = pd.concat([df_all_aftershocks, aftershocks_df], ignore_index=True)\n"
     ]
    },
    {
     "data": {
      "text/plain": "             Event ID            Datetime  Latitude  Longitude  Depth(km)  \\\n12289  19930101142459 1993-01-01 14:24:59   38.2500    26.9900        0.0   \n12290  19930101204941 1993-01-01 20:49:41   38.2700    26.8500        8.0   \n12291  19930101214621 1993-01-01 21:46:21   35.0200    33.2100       13.0   \n12292  19930102014840 1993-01-02 01:48:40   39.2900    28.7000       14.0   \n12294  19930105081346 1993-01-05 08:13:46   39.2800    28.6800        8.0   \n...               ...                 ...       ...        ...        ...   \n64133  20240428163059 2024-04-28 16:30:59   38.0518    36.6597        5.0   \n64134  20240428211453 2024-04-28 21:14:53   38.5330    38.0423        5.4   \n64135  20240428213328 2024-04-28 21:33:28   37.0177    29.7712        6.2   \n64137  20240430080325 2024-04-30 08:03:25   38.2458    31.5638        5.0   \n64138  20240430232712 2024-04-30 23:27:12   35.3570    32.5048       47.2   \n\n        xM   MD   ML   Mw Ms   Mb Type  \\\n12289  3.1  3.1    -  NaN  -    -   Ke   \n12290  3.1  3.1    -  NaN  -    -   Ke   \n12291  3.2    -    -  NaN  -  3.2   Ke   \n12292  3.1  3.1    -  NaN  -    -   Ke   \n12294  3.0  3.0    -  NaN  -    -   Ke   \n...    ...  ...  ...  ... ..  ...  ...   \n64133  3.0    -  3.0  2.8  -    -   Ke   \n64134  3.9    -  3.8  3.9  -    -   Ke   \n64135  4.0    -  4.0  3.9  -    -   Ke   \n64137  3.6    -  3.5  3.6  -    -   Ke   \n64138  3.6    -  3.6  3.4  -    -   Ke   \n\n                                                Location            X  \\\n12289   EFEMCUKURU-MENDERES (IZMIR) [South East  3.7 km]  4458.328476   \n12290         BADEMLER-URLA (IZMIR) [South East  1.9 km]  4462.634766   \n12291                                     KIBRIS-LEFKOSA  4365.354070   \n12292      KIZILCIK-SIMAV (KÜTAHYA) [North East  4.3 km]  4325.067555   \n12294             KIZILCIK-SIMAV (KÜTAHYA) [East 2.4 km]  4326.511530   \n...                                                  ...          ...   \n64133  GUCUKSU-GOKSUN (KAHRAMANMARAS) [South East  0....  4024.510670   \n64134            CIVRIL-YAZIHAN (MALATYA) [South 3.0 km]  3924.951926   \n64135         YAZIR-CAVDIR (BURDUR) [South East  2.5 km]  4415.525476   \n64137    YAYLABELEN-AKSEHIR (KONYA) [North East  2.6 km]  4263.308197   \n64138                                            AKDENIZ  4381.983765   \n\n                 Y            Z  \n12289  2270.651769  3944.247551  \n12290  2259.129271  3945.993776  \n12291  2857.695938  3656.076964  \n12292  2367.905321  4034.409007  \n12294  2366.733335  4033.548352  \n...            ...          ...  \n64133  2995.376693  3926.916517  \n64134  3071.177681  3968.911820  \n64135  2525.848674  3835.735164  \n64137  2619.093085  3943.880783  \n64138  2792.147664  3686.701873  \n\n[44717 rows x 16 columns]",
      "text/html": "<div>\n<style scoped>\n    .dataframe tbody tr th:only-of-type {\n        vertical-align: middle;\n    }\n\n    .dataframe tbody tr th {\n        vertical-align: top;\n    }\n\n    .dataframe thead th {\n        text-align: right;\n    }\n</style>\n<table border=\"1\" class=\"dataframe\">\n  <thead>\n    <tr style=\"text-align: right;\">\n      <th></th>\n      <th>Event ID</th>\n      <th>Datetime</th>\n      <th>Latitude</th>\n      <th>Longitude</th>\n      <th>Depth(km)</th>\n      <th>xM</th>\n      <th>MD</th>\n      <th>ML</th>\n      <th>Mw</th>\n      <th>Ms</th>\n      <th>Mb</th>\n      <th>Type</th>\n      <th>Location</th>\n      <th>X</th>\n      <th>Y</th>\n      <th>Z</th>\n    </tr>\n  </thead>\n  <tbody>\n    <tr>\n      <th>12289</th>\n      <td>19930101142459</td>\n      <td>1993-01-01 14:24:59</td>\n      <td>38.2500</td>\n      <td>26.9900</td>\n      <td>0.0</td>\n      <td>3.1</td>\n      <td>3.1</td>\n      <td>-</td>\n      <td>NaN</td>\n      <td>-</td>\n      <td>-</td>\n      <td>Ke</td>\n      <td>EFEMCUKURU-MENDERES (IZMIR) [South East  3.7 km]</td>\n      <td>4458.328476</td>\n      <td>2270.651769</td>\n      <td>3944.247551</td>\n    </tr>\n    <tr>\n      <th>12290</th>\n      <td>19930101204941</td>\n      <td>1993-01-01 20:49:41</td>\n      <td>38.2700</td>\n      <td>26.8500</td>\n      <td>8.0</td>\n      <td>3.1</td>\n      <td>3.1</td>\n      <td>-</td>\n      <td>NaN</td>\n      <td>-</td>\n      <td>-</td>\n      <td>Ke</td>\n      <td>BADEMLER-URLA (IZMIR) [South East  1.9 km]</td>\n      <td>4462.634766</td>\n      <td>2259.129271</td>\n      <td>3945.993776</td>\n    </tr>\n    <tr>\n      <th>12291</th>\n      <td>19930101214621</td>\n      <td>1993-01-01 21:46:21</td>\n      <td>35.0200</td>\n      <td>33.2100</td>\n      <td>13.0</td>\n      <td>3.2</td>\n      <td>-</td>\n      <td>-</td>\n      <td>NaN</td>\n      <td>-</td>\n      <td>3.2</td>\n      <td>Ke</td>\n      <td>KIBRIS-LEFKOSA</td>\n      <td>4365.354070</td>\n      <td>2857.695938</td>\n      <td>3656.076964</td>\n    </tr>\n    <tr>\n      <th>12292</th>\n      <td>19930102014840</td>\n      <td>1993-01-02 01:48:40</td>\n      <td>39.2900</td>\n      <td>28.7000</td>\n      <td>14.0</td>\n      <td>3.1</td>\n      <td>3.1</td>\n      <td>-</td>\n      <td>NaN</td>\n      <td>-</td>\n      <td>-</td>\n      <td>Ke</td>\n      <td>KIZILCIK-SIMAV (KÜTAHYA) [North East  4.3 km]</td>\n      <td>4325.067555</td>\n      <td>2367.905321</td>\n      <td>4034.409007</td>\n    </tr>\n    <tr>\n      <th>12294</th>\n      <td>19930105081346</td>\n      <td>1993-01-05 08:13:46</td>\n      <td>39.2800</td>\n      <td>28.6800</td>\n      <td>8.0</td>\n      <td>3.0</td>\n      <td>3.0</td>\n      <td>-</td>\n      <td>NaN</td>\n      <td>-</td>\n      <td>-</td>\n      <td>Ke</td>\n      <td>KIZILCIK-SIMAV (KÜTAHYA) [East 2.4 km]</td>\n      <td>4326.511530</td>\n      <td>2366.733335</td>\n      <td>4033.548352</td>\n    </tr>\n    <tr>\n      <th>...</th>\n      <td>...</td>\n      <td>...</td>\n      <td>...</td>\n      <td>...</td>\n      <td>...</td>\n      <td>...</td>\n      <td>...</td>\n      <td>...</td>\n      <td>...</td>\n      <td>...</td>\n      <td>...</td>\n      <td>...</td>\n      <td>...</td>\n      <td>...</td>\n      <td>...</td>\n      <td>...</td>\n    </tr>\n    <tr>\n      <th>64133</th>\n      <td>20240428163059</td>\n      <td>2024-04-28 16:30:59</td>\n      <td>38.0518</td>\n      <td>36.6597</td>\n      <td>5.0</td>\n      <td>3.0</td>\n      <td>-</td>\n      <td>3.0</td>\n      <td>2.8</td>\n      <td>-</td>\n      <td>-</td>\n      <td>Ke</td>\n      <td>GUCUKSU-GOKSUN (KAHRAMANMARAS) [South East  0....</td>\n      <td>4024.510670</td>\n      <td>2995.376693</td>\n      <td>3926.916517</td>\n    </tr>\n    <tr>\n      <th>64134</th>\n      <td>20240428211453</td>\n      <td>2024-04-28 21:14:53</td>\n      <td>38.5330</td>\n      <td>38.0423</td>\n      <td>5.4</td>\n      <td>3.9</td>\n      <td>-</td>\n      <td>3.8</td>\n      <td>3.9</td>\n      <td>-</td>\n      <td>-</td>\n      <td>Ke</td>\n      <td>CIVRIL-YAZIHAN (MALATYA) [South 3.0 km]</td>\n      <td>3924.951926</td>\n      <td>3071.177681</td>\n      <td>3968.911820</td>\n    </tr>\n    <tr>\n      <th>64135</th>\n      <td>20240428213328</td>\n      <td>2024-04-28 21:33:28</td>\n      <td>37.0177</td>\n      <td>29.7712</td>\n      <td>6.2</td>\n      <td>4.0</td>\n      <td>-</td>\n      <td>4.0</td>\n      <td>3.9</td>\n      <td>-</td>\n      <td>-</td>\n      <td>Ke</td>\n      <td>YAZIR-CAVDIR (BURDUR) [South East  2.5 km]</td>\n      <td>4415.525476</td>\n      <td>2525.848674</td>\n      <td>3835.735164</td>\n    </tr>\n    <tr>\n      <th>64137</th>\n      <td>20240430080325</td>\n      <td>2024-04-30 08:03:25</td>\n      <td>38.2458</td>\n      <td>31.5638</td>\n      <td>5.0</td>\n      <td>3.6</td>\n      <td>-</td>\n      <td>3.5</td>\n      <td>3.6</td>\n      <td>-</td>\n      <td>-</td>\n      <td>Ke</td>\n      <td>YAYLABELEN-AKSEHIR (KONYA) [North East  2.6 km]</td>\n      <td>4263.308197</td>\n      <td>2619.093085</td>\n      <td>3943.880783</td>\n    </tr>\n    <tr>\n      <th>64138</th>\n      <td>20240430232712</td>\n      <td>2024-04-30 23:27:12</td>\n      <td>35.3570</td>\n      <td>32.5048</td>\n      <td>47.2</td>\n      <td>3.6</td>\n      <td>-</td>\n      <td>3.6</td>\n      <td>3.4</td>\n      <td>-</td>\n      <td>-</td>\n      <td>Ke</td>\n      <td>AKDENIZ</td>\n      <td>4381.983765</td>\n      <td>2792.147664</td>\n      <td>3686.701873</td>\n    </tr>\n  </tbody>\n</table>\n<p>44717 rows × 16 columns</p>\n</div>"
     },
     "execution_count": 22,
     "metadata": {},
     "output_type": "execute_result"
    }
   ],
   "source": [
    "df_test = remove_all_aftershocks_from_data(df_test)\n",
    "df_test # After"
   ],
   "metadata": {
    "collapsed": false,
    "ExecuteTime": {
     "end_time": "2024-09-07T18:48:44.739170700Z",
     "start_time": "2024-09-07T18:47:26.095477Z"
    }
   },
   "id": "b72133d2f031c16"
  }
 ],
 "metadata": {
  "kernelspec": {
   "display_name": "Python 3",
   "language": "python",
   "name": "python3"
  },
  "language_info": {
   "codemirror_mode": {
    "name": "ipython",
    "version": 2
   },
   "file_extension": ".py",
   "mimetype": "text/x-python",
   "name": "python",
   "nbconvert_exporter": "python",
   "pygments_lexer": "ipython2",
   "version": "2.7.6"
  }
 },
 "nbformat": 4,
 "nbformat_minor": 5
}
