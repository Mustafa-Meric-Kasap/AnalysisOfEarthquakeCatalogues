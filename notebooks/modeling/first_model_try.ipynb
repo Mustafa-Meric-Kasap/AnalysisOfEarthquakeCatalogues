{
 "cells": [
  {
   "cell_type": "markdown",
   "source": [
    "## 1. Import Data and Normalize it"
   ],
   "metadata": {
    "collapsed": false
   },
   "id": "3a099b0636b7dad1"
  },
  {
   "cell_type": "code",
   "execution_count": 10,
   "id": "initial_id",
   "metadata": {
    "collapsed": true,
    "ExecuteTime": {
     "end_time": "2024-09-09T17:24:19.510950500Z",
     "start_time": "2024-09-09T17:24:19.435853100Z"
    }
   },
   "outputs": [],
   "source": [
    "import torch\n",
    "\n",
    "X_tensor = torch.load(\"../../data/raw/X_tensor_aftershocks_filtered.pt\")\n",
    "y_tensor = torch.load(\"../../data/raw/y_tensor_aftershocks_filtered.pt\")"
   ]
  },
  {
   "cell_type": "code",
   "execution_count": 11,
   "outputs": [
    {
     "data": {
      "text/plain": "torch.Size([16234, 29, 6])"
     },
     "execution_count": 11,
     "metadata": {},
     "output_type": "execute_result"
    }
   ],
   "source": [
    "X_tensor.size()"
   ],
   "metadata": {
    "collapsed": false,
    "ExecuteTime": {
     "end_time": "2024-09-09T17:24:19.512947700Z",
     "start_time": "2024-09-09T17:24:19.447932900Z"
    }
   },
   "id": "ecc86e6da0a76364"
  },
  {
   "cell_type": "code",
   "execution_count": 12,
   "outputs": [],
   "source": [
    "from sklearn.model_selection import train_test_split\n",
    "from sklearn.preprocessing import StandardScaler\n",
    "\n",
    "def preprocess_data_z_normalization(X_tensor, y_tensor, test_size=0.2, val_size=0.1):\n",
    "    # Convert tensors to NumPy for preprocessing\n",
    "    X_np = X_tensor.numpy()\n",
    "    y_np = y_tensor.numpy()\n",
    "\n",
    "    # Reshape X_np from (num_samples, num_timesteps, num_features) to (num_samples * num_timesteps, num_features)\n",
    "    num_samples, num_timesteps, num_features = X_np.shape\n",
    "    X_reshaped = X_np.reshape(-1, num_features)\n",
    "\n",
    "    # Apply Z-normalization (Standardization) across the entire dataset for each feature\n",
    "    scaler = StandardScaler()\n",
    "    X_scaled = scaler.fit_transform(X_reshaped)\n",
    "\n",
    "    # Reshape back to (num_samples, num_timesteps, num_features)\n",
    "    X_scaled = X_scaled.reshape(num_samples, num_timesteps, num_features)\n",
    "\n",
    "    # Split the data into training, validation, and test sets\n",
    "    X_train, X_test, y_train, y_test = train_test_split(X_scaled, y_np, test_size=test_size, random_state=42)\n",
    "    X_train, X_val, y_train, y_val = train_test_split(X_train, y_train, test_size=val_size, random_state=42)\n",
    "\n",
    "    # Convert back to PyTorch tensors\n",
    "    X_train_tensor = torch.tensor(X_train, dtype=torch.float32)\n",
    "    y_train_tensor = torch.tensor(y_train, dtype=torch.float32)\n",
    "    X_val_tensor = torch.tensor(X_val, dtype=torch.float32)\n",
    "    y_val_tensor = torch.tensor(y_val, dtype=torch.float32)\n",
    "    X_test_tensor = torch.tensor(X_test, dtype=torch.float32)\n",
    "    y_test_tensor = torch.tensor(y_test, dtype=torch.float32)\n",
    "\n",
    "    return X_train_tensor, y_train_tensor, X_val_tensor, y_val_tensor, X_test_tensor, y_test_tensor\n",
    "\n",
    "X_train_tensor, y_train_tensor, X_val_tensor, y_val_tensor, X_test_tensor, y_test_tensor = preprocess_data_z_normalization(X_tensor, y_tensor)"
   ],
   "metadata": {
    "collapsed": false,
    "ExecuteTime": {
     "end_time": "2024-09-09T17:24:19.550076200Z",
     "start_time": "2024-09-09T17:24:19.455942100Z"
    }
   },
   "id": "432ef6880bd18787"
  },
  {
   "cell_type": "code",
   "execution_count": 13,
   "outputs": [
    {
     "name": "stdout",
     "output_type": "stream",
     "text": [
      "Training set size (X_train, y_train): torch.Size([11688, 29, 6]), torch.Size([11688])\n",
      "Validation set size (X_val, y_val): torch.Size([1299, 29, 6]), torch.Size([1299])\n",
      "Test set size (X_test, y_test): torch.Size([3247, 29, 6]), torch.Size([3247])\n"
     ]
    }
   ],
   "source": [
    "print(f\"Training set size (X_train, y_train): {X_train_tensor.size()}, {y_train_tensor.size()}\")\n",
    "print(f\"Validation set size (X_val, y_val): {X_val_tensor.size()}, {y_val_tensor.size()}\")\n",
    "print(f\"Test set size (X_test, y_test): {X_test_tensor.size()}, {y_test_tensor.size()}\")"
   ],
   "metadata": {
    "collapsed": false,
    "ExecuteTime": {
     "end_time": "2024-09-09T17:24:19.550579700Z",
     "start_time": "2024-09-09T17:24:19.539887400Z"
    }
   },
   "id": "aea4c41a821a7f0f"
  },
  {
   "cell_type": "markdown",
   "source": [
    "## 2. Get Data Ready\n",
    "\n",
    "### 2.1 Custom Dataset Implementation\n",
    "Using PyTorch `torch.utils.data` package's `Dataset` class I will create custom dataset for data generated above. "
   ],
   "metadata": {
    "collapsed": false
   },
   "id": "760ae480c4216d74"
  },
  {
   "cell_type": "code",
   "execution_count": 14,
   "outputs": [],
   "source": [
    "import torch\n",
    "from torch.utils.data import Dataset\n",
    "\n",
    "# Custom dataset class\n",
    "class EarthquakeDataset(Dataset):\n",
    "    def __init__(self, X, y):\n",
    "        self.X = X\n",
    "        self.y = y\n",
    "\n",
    "    def __len__(self):\n",
    "        return len(self.y)  # Return the number of samples\n",
    "\n",
    "    def __getitem__(self, idx):\n",
    "        return self.X[idx], self.y[idx]"
   ],
   "metadata": {
    "collapsed": false,
    "ExecuteTime": {
     "end_time": "2024-09-09T17:24:19.584543800Z",
     "start_time": "2024-09-09T17:24:19.545398Z"
    }
   },
   "id": "a1aa06360fe95814"
  },
  {
   "cell_type": "markdown",
   "source": [
    "### 2.2 Create Datasets and Dataloaders\n",
    "\n",
    "After creating my custom dataset now I need to create instances of `EarthquakeDataset`.\n",
    "Also, I need to create a loader for dataset. In order to do that I will use PyTorch `torch.utils.data` package's `DataLoader` class."
   ],
   "metadata": {
    "collapsed": false
   },
   "id": "64c8403e72f9a80"
  },
  {
   "cell_type": "code",
   "execution_count": 15,
   "outputs": [],
   "source": [
    "# Create dataset instances from implemented custom dataset class.\n",
    "train_dataset = EarthquakeDataset(X_train_tensor, y_train_tensor)\n",
    "val_dataset = EarthquakeDataset(X_val_tensor, y_val_tensor)\n",
    "test_dataset = EarthquakeDataset(X_test_tensor, y_test_tensor)"
   ],
   "metadata": {
    "collapsed": false,
    "ExecuteTime": {
     "end_time": "2024-09-09T17:24:19.612537800Z",
     "start_time": "2024-09-09T17:24:19.552583900Z"
    }
   },
   "id": "43053b04e3f7799e"
  },
  {
   "cell_type": "code",
   "execution_count": 16,
   "outputs": [],
   "source": [
    "from torch.utils.data import DataLoader\n",
    "\n",
    "def create_dataloaders(X_train, y_train, X_val, y_val, X_test, y_test, batch_size):\n",
    "    # Create dataset objects\n",
    "    train_dataset = EarthquakeDataset(X_train, y_train)\n",
    "    val_dataset = EarthquakeDataset(X_val, y_val)\n",
    "    test_dataset = EarthquakeDataset(X_test, y_test)\n",
    "\n",
    "    # Create DataLoader objects\n",
    "    train_loader = DataLoader(train_dataset, batch_size=batch_size, shuffle=True)\n",
    "    val_loader = DataLoader(val_dataset, batch_size=batch_size, shuffle=False)\n",
    "    test_loader = DataLoader(test_dataset, batch_size=batch_size, shuffle=False)\n",
    "\n",
    "    return train_loader, val_loader, test_loader"
   ],
   "metadata": {
    "collapsed": false,
    "ExecuteTime": {
     "end_time": "2024-09-09T17:24:19.613598200Z",
     "start_time": "2024-09-09T17:24:19.564774600Z"
    }
   },
   "id": "af9ad1844005b96a"
  },
  {
   "cell_type": "code",
   "execution_count": 17,
   "outputs": [],
   "source": [
    "import torch.nn as nn\n",
    "\n",
    "# Custom neural network model using nn.Sequential with dynamic hidden sizes\n",
    "class EarthquakeClassifier(nn.Module):\n",
    "    def __init__(self, input_size, hidden1_size, hidden2_size, hidden3_size, hidden4_size, output_size):\n",
    "        super(EarthquakeClassifier, self).__init__()\n",
    "\n",
    "        # Define layers using nn.Sequential\n",
    "        self.stacked_layers = nn.Sequential(\n",
    "            nn.Flatten(),  # Flatten the input from [batch_size, 29, 6] to [batch_size, 174]\n",
    "\n",
    "            nn.Linear(input_size, hidden1_size),\n",
    "            nn.ReLU(),\n",
    "\n",
    "            # Second hidden layer\n",
    "            nn.Linear(hidden1_size, hidden2_size),\n",
    "            nn.ReLU(),\n",
    "\n",
    "            nn.Linear(hidden2_size, hidden3_size),\n",
    "            nn.ReLU(),\n",
    "\n",
    "            nn.Linear(hidden3_size, hidden4_size),\n",
    "            nn.ReLU(),\n",
    "\n",
    "            # Output layer (no Sigmoid here since we're using BCEWithLogitsLoss)\n",
    "            nn.Linear(hidden4_size, output_size)\n",
    "        )\n",
    "\n",
    "    def forward(self, x):\n",
    "        return self.stacked_layers(x)\n"
   ],
   "metadata": {
    "collapsed": false,
    "ExecuteTime": {
     "end_time": "2024-09-09T17:24:19.613598200Z",
     "start_time": "2024-09-09T17:24:19.575181500Z"
    }
   },
   "id": "cac5f5e1bfeab407"
  },
  {
   "cell_type": "code",
   "execution_count": 18,
   "outputs": [
    {
     "name": "stderr",
     "output_type": "stream",
     "text": [
      "[I 2024-09-09 20:24:19,589] A new study created in memory with name: no-name-1bb2ee93-02e3-4c01-ab70-c3913e86966e\n",
      "[I 2024-09-09 20:24:50,288] Trial 0 finished with value: 0.23278130005512918 and parameters: {'hidden1_size': 229, 'hidden2_size': 155, 'hidden3_size': 111, 'hidden4_size': 46, 'num_epochs': 76, 'learning_rate': 0.0011315646364973416}. Best is trial 0 with value: 0.23278130005512918.\n"
     ]
    },
    {
     "name": "stdout",
     "output_type": "stream",
     "text": [
      "Average Validation Loss: 0.2328\n"
     ]
    },
    {
     "name": "stderr",
     "output_type": "stream",
     "text": [
      "[I 2024-09-09 20:24:54,142] Trial 1 finished with value: 0.038316793366989475 and parameters: {'hidden1_size': 181, 'hidden2_size': 172, 'hidden3_size': 63, 'hidden4_size': 60, 'num_epochs': 10, 'learning_rate': 9.820685002999015e-05}. Best is trial 1 with value: 0.038316793366989475.\n"
     ]
    },
    {
     "name": "stdout",
     "output_type": "stream",
     "text": [
      "Average Validation Loss: 0.0383\n"
     ]
    },
    {
     "name": "stderr",
     "output_type": "stream",
     "text": [
      "[I 2024-09-09 20:25:15,212] Trial 2 finished with value: 0.11595436114640463 and parameters: {'hidden1_size': 179, 'hidden2_size': 240, 'hidden3_size': 89, 'hidden4_size': 42, 'num_epochs': 54, 'learning_rate': 8.906935619046086e-05}. Best is trial 1 with value: 0.038316793366989475.\n"
     ]
    },
    {
     "name": "stdout",
     "output_type": "stream",
     "text": [
      "Average Validation Loss: 0.1160\n"
     ]
    },
    {
     "name": "stderr",
     "output_type": "stream",
     "text": [
      "[I 2024-09-09 20:25:29,602] Trial 3 finished with value: 0.04101994117428105 and parameters: {'hidden1_size': 234, 'hidden2_size': 87, 'hidden3_size': 73, 'hidden4_size': 31, 'num_epochs': 37, 'learning_rate': 2.2396570728461372e-05}. Best is trial 1 with value: 0.038316793366989475.\n"
     ]
    },
    {
     "name": "stdout",
     "output_type": "stream",
     "text": [
      "Average Validation Loss: 0.0410\n"
     ]
    },
    {
     "name": "stderr",
     "output_type": "stream",
     "text": [
      "[I 2024-09-09 20:25:44,899] Trial 4 finished with value: 0.045128406252063415 and parameters: {'hidden1_size': 250, 'hidden2_size': 215, 'hidden3_size': 48, 'hidden4_size': 35, 'num_epochs': 39, 'learning_rate': 2.4990596984024673e-05}. Best is trial 1 with value: 0.038316793366989475.\n"
     ]
    },
    {
     "name": "stdout",
     "output_type": "stream",
     "text": [
      "Average Validation Loss: 0.0451\n"
     ]
    },
    {
     "name": "stderr",
     "output_type": "stream",
     "text": [
      "[I 2024-09-09 20:26:19,718] Trial 5 finished with value: 0.18268111051015912 and parameters: {'hidden1_size': 215, 'hidden2_size': 173, 'hidden3_size': 119, 'hidden4_size': 33, 'num_epochs': 90, 'learning_rate': 0.0005895668459990721}. Best is trial 1 with value: 0.038316793366989475.\n"
     ]
    },
    {
     "name": "stdout",
     "output_type": "stream",
     "text": [
      "Average Validation Loss: 0.1827\n"
     ]
    },
    {
     "name": "stderr",
     "output_type": "stream",
     "text": [
      "[I 2024-09-09 20:26:56,130] Trial 6 finished with value: 0.2685256905498959 and parameters: {'hidden1_size': 85, 'hidden2_size': 139, 'hidden3_size': 126, 'hidden4_size': 40, 'num_epochs': 95, 'learning_rate': 0.0013328155455041785}. Best is trial 1 with value: 0.038316793366989475.\n"
     ]
    },
    {
     "name": "stdout",
     "output_type": "stream",
     "text": [
      "Average Validation Loss: 0.2685\n"
     ]
    },
    {
     "name": "stderr",
     "output_type": "stream",
     "text": [
      "[I 2024-09-09 20:27:26,738] Trial 7 finished with value: 0.30236890486308504 and parameters: {'hidden1_size': 100, 'hidden2_size': 131, 'hidden3_size': 88, 'hidden4_size': 45, 'num_epochs': 79, 'learning_rate': 0.008307763578499971}. Best is trial 1 with value: 0.038316793366989475.\n"
     ]
    },
    {
     "name": "stdout",
     "output_type": "stream",
     "text": [
      "Average Validation Loss: 0.3024\n"
     ]
    },
    {
     "name": "stderr",
     "output_type": "stream",
     "text": [
      "[I 2024-09-09 20:27:37,161] Trial 8 finished with value: 0.14853994832152412 and parameters: {'hidden1_size': 112, 'hidden2_size': 118, 'hidden3_size': 97, 'hidden4_size': 47, 'num_epochs': 27, 'learning_rate': 0.0005406457732725509}. Best is trial 1 with value: 0.038316793366989475.\n"
     ]
    },
    {
     "name": "stdout",
     "output_type": "stream",
     "text": [
      "Average Validation Loss: 0.1485\n"
     ]
    },
    {
     "name": "stderr",
     "output_type": "stream",
     "text": [
      "[I 2024-09-09 20:27:52,539] Trial 9 finished with value: 0.16140391748575939 and parameters: {'hidden1_size': 136, 'hidden2_size': 215, 'hidden3_size': 123, 'hidden4_size': 64, 'num_epochs': 40, 'learning_rate': 0.0007221277275579661}. Best is trial 1 with value: 0.038316793366989475.\n"
     ]
    },
    {
     "name": "stdout",
     "output_type": "stream",
     "text": [
      "Average Validation Loss: 0.1614\n"
     ]
    },
    {
     "name": "stderr",
     "output_type": "stream",
     "text": [
      "[I 2024-09-09 20:27:58,804] Trial 10 finished with value: 0.046188495838404856 and parameters: {'hidden1_size': 178, 'hidden2_size': 186, 'hidden3_size': 32, 'hidden4_size': 20, 'num_epochs': 16, 'learning_rate': 0.00010734235033158667}. Best is trial 1 with value: 0.038316793366989475.\n"
     ]
    },
    {
     "name": "stdout",
     "output_type": "stream",
     "text": [
      "Average Validation Loss: 0.0462\n"
     ]
    },
    {
     "name": "stderr",
     "output_type": "stream",
     "text": [
      "[I 2024-09-09 20:28:03,061] Trial 11 finished with value: 0.03455715777263755 and parameters: {'hidden1_size': 203, 'hidden2_size': 66, 'hidden3_size': 65, 'hidden4_size': 63, 'num_epochs': 11, 'learning_rate': 1.1382716790548661e-05}. Best is trial 11 with value: 0.03455715777263755.\n"
     ]
    },
    {
     "name": "stdout",
     "output_type": "stream",
     "text": [
      "Average Validation Loss: 0.0346\n"
     ]
    },
    {
     "name": "stderr",
     "output_type": "stream",
     "text": [
      "[I 2024-09-09 20:28:08,504] Trial 12 finished with value: 0.033038942298541464 and parameters: {'hidden1_size': 196, 'hidden2_size': 70, 'hidden3_size': 66, 'hidden4_size': 64, 'num_epochs': 14, 'learning_rate': 1.3792870577337084e-05}. Best is trial 12 with value: 0.033038942298541464.\n"
     ]
    },
    {
     "name": "stdout",
     "output_type": "stream",
     "text": [
      "Average Validation Loss: 0.0330\n"
     ]
    },
    {
     "name": "stderr",
     "output_type": "stream",
     "text": [
      "[I 2024-09-09 20:28:17,053] Trial 13 finished with value: 0.032519943352478244 and parameters: {'hidden1_size': 204, 'hidden2_size': 66, 'hidden3_size': 58, 'hidden4_size': 55, 'num_epochs': 22, 'learning_rate': 1.1058653018540414e-05}. Best is trial 13 with value: 0.032519943352478244.\n"
     ]
    },
    {
     "name": "stdout",
     "output_type": "stream",
     "text": [
      "Average Validation Loss: 0.0325\n"
     ]
    },
    {
     "name": "stderr",
     "output_type": "stream",
     "text": [
      "[I 2024-09-09 20:28:26,279] Trial 14 finished with value: 0.03927322631213991 and parameters: {'hidden1_size': 147, 'hidden2_size': 101, 'hidden3_size': 53, 'hidden4_size': 54, 'num_epochs': 24, 'learning_rate': 3.799161357210043e-05}. Best is trial 13 with value: 0.032519943352478244.\n"
     ]
    },
    {
     "name": "stdout",
     "output_type": "stream",
     "text": [
      "Average Validation Loss: 0.0393\n"
     ]
    },
    {
     "name": "stderr",
     "output_type": "stream",
     "text": [
      "[I 2024-09-09 20:28:46,436] Trial 15 finished with value: 0.037219165391953926 and parameters: {'hidden1_size': 200, 'hidden2_size': 68, 'hidden3_size': 36, 'hidden4_size': 57, 'num_epochs': 52, 'learning_rate': 1.1664262145424512e-05}. Best is trial 13 with value: 0.032519943352478244.\n"
     ]
    },
    {
     "name": "stdout",
     "output_type": "stream",
     "text": [
      "Average Validation Loss: 0.0372\n"
     ]
    },
    {
     "name": "stderr",
     "output_type": "stream",
     "text": [
      "[I 2024-09-09 20:28:55,407] Trial 16 finished with value: 0.042147747527841214 and parameters: {'hidden1_size': 252, 'hidden2_size': 105, 'hidden3_size': 50, 'hidden4_size': 53, 'num_epochs': 23, 'learning_rate': 5.054593614006156e-05}. Best is trial 13 with value: 0.032519943352478244.\n"
     ]
    },
    {
     "name": "stdout",
     "output_type": "stream",
     "text": [
      "Average Validation Loss: 0.0421\n"
     ]
    },
    {
     "name": "stderr",
     "output_type": "stream",
     "text": [
      "[I 2024-09-09 20:29:20,845] Trial 17 finished with value: 0.12045316185270037 and parameters: {'hidden1_size': 163, 'hidden2_size': 82, 'hidden3_size': 76, 'hidden4_size': 52, 'num_epochs': 66, 'learning_rate': 0.00020410172457431932}. Best is trial 13 with value: 0.032519943352478244.\n"
     ]
    },
    {
     "name": "stdout",
     "output_type": "stream",
     "text": [
      "Average Validation Loss: 0.1205\n"
     ]
    },
    {
     "name": "stderr",
     "output_type": "stream",
     "text": [
      "[I 2024-09-09 20:29:32,764] Trial 18 finished with value: 0.24103115321624846 and parameters: {'hidden1_size': 130, 'hidden2_size': 92, 'hidden3_size': 63, 'hidden4_size': 58, 'num_epochs': 31, 'learning_rate': 0.00696832211699224}. Best is trial 13 with value: 0.032519943352478244.\n"
     ]
    },
    {
     "name": "stdout",
     "output_type": "stream",
     "text": [
      "Average Validation Loss: 0.2410\n"
     ]
    },
    {
     "name": "stderr",
     "output_type": "stream",
     "text": [
      "[I 2024-09-09 20:29:51,465] Trial 19 finished with value: 0.03724417234272031 and parameters: {'hidden1_size': 199, 'hidden2_size': 115, 'hidden3_size': 41, 'hidden4_size': 19, 'num_epochs': 48, 'learning_rate': 1.0521641352399248e-05}. Best is trial 13 with value: 0.032519943352478244.\n"
     ]
    },
    {
     "name": "stdout",
     "output_type": "stream",
     "text": [
      "Average Validation Loss: 0.0372\n"
     ]
    },
    {
     "name": "stderr",
     "output_type": "stream",
     "text": [
      "[I 2024-09-09 20:29:58,847] Trial 20 finished with value: 0.1545978756177993 and parameters: {'hidden1_size': 220, 'hidden2_size': 66, 'hidden3_size': 58, 'hidden4_size': 50, 'num_epochs': 19, 'learning_rate': 0.0032593813651421687}. Best is trial 13 with value: 0.032519943352478244.\n"
     ]
    },
    {
     "name": "stdout",
     "output_type": "stream",
     "text": [
      "Average Validation Loss: 0.1546\n"
     ]
    },
    {
     "name": "stderr",
     "output_type": "stream",
     "text": [
      "[I 2024-09-09 20:30:04,334] Trial 21 finished with value: 0.035470184504187534 and parameters: {'hidden1_size': 202, 'hidden2_size': 64, 'hidden3_size': 67, 'hidden4_size': 64, 'num_epochs': 14, 'learning_rate': 1.6930253191493225e-05}. Best is trial 13 with value: 0.032519943352478244.\n"
     ]
    },
    {
     "name": "stdout",
     "output_type": "stream",
     "text": [
      "Average Validation Loss: 0.0355\n"
     ]
    },
    {
     "name": "stderr",
     "output_type": "stream",
     "text": [
      "[I 2024-09-09 20:30:08,650] Trial 22 finished with value: 0.037715136602942255 and parameters: {'hidden1_size': 163, 'hidden2_size': 83, 'hidden3_size': 82, 'hidden4_size': 60, 'num_epochs': 11, 'learning_rate': 4.932150015604674e-05}. Best is trial 13 with value: 0.032519943352478244.\n"
     ]
    },
    {
     "name": "stdout",
     "output_type": "stream",
     "text": [
      "Average Validation Loss: 0.0377\n"
     ]
    },
    {
     "name": "stderr",
     "output_type": "stream",
     "text": [
      "[I 2024-09-09 20:30:21,209] Trial 23 finished with value: 0.03532186946055541 and parameters: {'hidden1_size': 190, 'hidden2_size': 79, 'hidden3_size': 69, 'hidden4_size': 64, 'num_epochs': 32, 'learning_rate': 1.0041188823125495e-05}. Best is trial 13 with value: 0.032519943352478244.\n"
     ]
    },
    {
     "name": "stdout",
     "output_type": "stream",
     "text": [
      "Average Validation Loss: 0.0353\n"
     ]
    },
    {
     "name": "stderr",
     "output_type": "stream",
     "text": [
      "[I 2024-09-09 20:30:29,726] Trial 24 finished with value: 0.03771058935117686 and parameters: {'hidden1_size': 210, 'hidden2_size': 125, 'hidden3_size': 56, 'hidden4_size': 57, 'num_epochs': 22, 'learning_rate': 3.058996069174675e-05}. Best is trial 13 with value: 0.032519943352478244.\n"
     ]
    },
    {
     "name": "stdout",
     "output_type": "stream",
     "text": [
      "Average Validation Loss: 0.0377\n"
     ]
    },
    {
     "name": "stderr",
     "output_type": "stream",
     "text": [
      "[I 2024-09-09 20:30:53,797] Trial 25 finished with value: 0.04476927198404502 and parameters: {'hidden1_size': 229, 'hidden2_size': 102, 'hidden3_size': 42, 'hidden4_size': 61, 'num_epochs': 62, 'learning_rate': 1.813571732148691e-05}. Best is trial 13 with value: 0.032519943352478244.\n"
     ]
    },
    {
     "name": "stdout",
     "output_type": "stream",
     "text": [
      "Average Validation Loss: 0.0448\n"
     ]
    },
    {
     "name": "stderr",
     "output_type": "stream",
     "text": [
      "[I 2024-09-09 20:30:57,699] Trial 26 finished with value: 0.06740756928547853 and parameters: {'hidden1_size': 169, 'hidden2_size': 146, 'hidden3_size': 79, 'hidden4_size': 55, 'num_epochs': 10, 'learning_rate': 0.00023327959364978441}. Best is trial 13 with value: 0.032519943352478244.\n"
     ]
    },
    {
     "name": "stdout",
     "output_type": "stream",
     "text": [
      "Average Validation Loss: 0.0674\n"
     ]
    },
    {
     "name": "stderr",
     "output_type": "stream",
     "text": [
      "[I 2024-09-09 20:31:04,754] Trial 27 finished with value: 0.0407173287655626 and parameters: {'hidden1_size': 192, 'hidden2_size': 74, 'hidden3_size': 98, 'hidden4_size': 50, 'num_epochs': 18, 'learning_rate': 6.456361773747516e-05}. Best is trial 13 with value: 0.032519943352478244.\n"
     ]
    },
    {
     "name": "stdout",
     "output_type": "stream",
     "text": [
      "Average Validation Loss: 0.0407\n"
     ]
    },
    {
     "name": "stderr",
     "output_type": "stream",
     "text": [
      "[I 2024-09-09 20:31:16,767] Trial 28 finished with value: 0.03689922381281143 and parameters: {'hidden1_size': 241, 'hidden2_size': 90, 'hidden3_size': 62, 'hidden4_size': 27, 'num_epochs': 31, 'learning_rate': 1.5021657988698057e-05}. Best is trial 13 with value: 0.032519943352478244.\n"
     ]
    },
    {
     "name": "stdout",
     "output_type": "stream",
     "text": [
      "Average Validation Loss: 0.0369\n"
     ]
    },
    {
     "name": "stderr",
     "output_type": "stream",
     "text": [
      "[I 2024-09-09 20:31:23,795] Trial 29 finished with value: 0.03611981811644953 and parameters: {'hidden1_size': 149, 'hidden2_size': 105, 'hidden3_size': 45, 'hidden4_size': 60, 'num_epochs': 18, 'learning_rate': 2.9907192053549784e-05}. Best is trial 13 with value: 0.032519943352478244.\n"
     ]
    },
    {
     "name": "stdout",
     "output_type": "stream",
     "text": [
      "Average Validation Loss: 0.0361\n"
     ]
    },
    {
     "name": "stderr",
     "output_type": "stream",
     "text": [
      "[I 2024-09-09 20:31:35,494] Trial 30 finished with value: 0.07677757838988393 and parameters: {'hidden1_size': 65, 'hidden2_size': 64, 'hidden3_size': 73, 'hidden4_size': 47, 'num_epochs': 30, 'learning_rate': 0.00015825464624584092}. Best is trial 13 with value: 0.032519943352478244.\n"
     ]
    },
    {
     "name": "stdout",
     "output_type": "stream",
     "text": [
      "Average Validation Loss: 0.0768\n"
     ]
    },
    {
     "name": "stderr",
     "output_type": "stream",
     "text": [
      "[I 2024-09-09 20:31:53,408] Trial 31 finished with value: 0.036237152315498816 and parameters: {'hidden1_size': 190, 'hidden2_size': 78, 'hidden3_size': 68, 'hidden4_size': 62, 'num_epochs': 46, 'learning_rate': 1.2464512311720339e-05}. Best is trial 13 with value: 0.032519943352478244.\n"
     ]
    },
    {
     "name": "stdout",
     "output_type": "stream",
     "text": [
      "Average Validation Loss: 0.0362\n"
     ]
    },
    {
     "name": "stderr",
     "output_type": "stream",
     "text": [
      "[I 2024-09-09 20:32:07,365] Trial 32 finished with value: 0.03719198867301678 and parameters: {'hidden1_size': 220, 'hidden2_size': 92, 'hidden3_size': 68, 'hidden4_size': 64, 'num_epochs': 36, 'learning_rate': 1.0499828322192079e-05}. Best is trial 13 with value: 0.032519943352478244.\n"
     ]
    },
    {
     "name": "stdout",
     "output_type": "stream",
     "text": [
      "Average Validation Loss: 0.0372\n"
     ]
    },
    {
     "name": "stderr",
     "output_type": "stream",
     "text": [
      "[I 2024-09-09 20:32:11,309] Trial 33 finished with value: 0.03539934524867151 and parameters: {'hidden1_size': 174, 'hidden2_size': 77, 'hidden3_size': 85, 'hidden4_size': 59, 'num_epochs': 10, 'learning_rate': 2.4314371685346134e-05}. Best is trial 13 with value: 0.032519943352478244.\n"
     ]
    },
    {
     "name": "stdout",
     "output_type": "stream",
     "text": [
      "Average Validation Loss: 0.0354\n"
     ]
    },
    {
     "name": "stderr",
     "output_type": "stream",
     "text": [
      "[I 2024-09-09 20:32:21,022] Trial 34 finished with value: 0.03713482691230075 and parameters: {'hidden1_size': 182, 'hidden2_size': 76, 'hidden3_size': 59, 'hidden4_size': 56, 'num_epochs': 25, 'learning_rate': 1.760811607648871e-05}. Best is trial 13 with value: 0.032519943352478244.\n"
     ]
    },
    {
     "name": "stdout",
     "output_type": "stream",
     "text": [
      "Average Validation Loss: 0.0371\n"
     ]
    },
    {
     "name": "stderr",
     "output_type": "stream",
     "text": [
      "[I 2024-09-09 20:32:33,833] Trial 35 finished with value: 0.08034442944036917 and parameters: {'hidden1_size': 208, 'hidden2_size': 95, 'hidden3_size': 94, 'hidden4_size': 62, 'num_epochs': 33, 'learning_rate': 8.00976595582683e-05}. Best is trial 13 with value: 0.032519943352478244.\n"
     ]
    },
    {
     "name": "stdout",
     "output_type": "stream",
     "text": [
      "Average Validation Loss: 0.0803\n"
     ]
    },
    {
     "name": "stderr",
     "output_type": "stream",
     "text": [
      "[I 2024-09-09 20:32:50,427] Trial 36 finished with value: 0.042506898966080155 and parameters: {'hidden1_size': 188, 'hidden2_size': 114, 'hidden3_size': 72, 'hidden4_size': 64, 'num_epochs': 43, 'learning_rate': 2.256040351438477e-05}. Best is trial 13 with value: 0.032519943352478244.\n"
     ]
    },
    {
     "name": "stdout",
     "output_type": "stream",
     "text": [
      "Average Validation Loss: 0.0425\n"
     ]
    },
    {
     "name": "stderr",
     "output_type": "stream",
     "text": [
      "[I 2024-09-09 20:32:58,373] Trial 37 finished with value: 0.03879795520333573 and parameters: {'hidden1_size': 228, 'hidden2_size': 162, 'hidden3_size': 52, 'hidden4_size': 61, 'num_epochs': 20, 'learning_rate': 4.0059452623315324e-05}. Best is trial 13 with value: 0.032519943352478244.\n"
     ]
    },
    {
     "name": "stdout",
     "output_type": "stream",
     "text": [
      "Average Validation Loss: 0.0388\n"
     ]
    },
    {
     "name": "stderr",
     "output_type": "stream",
     "text": [
      "[I 2024-09-09 20:33:03,937] Trial 38 finished with value: 0.036041379374052794 and parameters: {'hidden1_size': 239, 'hidden2_size': 248, 'hidden3_size': 108, 'hidden4_size': 44, 'num_epochs': 14, 'learning_rate': 1.581905499266507e-05}. Best is trial 13 with value: 0.032519943352478244.\n"
     ]
    },
    {
     "name": "stdout",
     "output_type": "stream",
     "text": [
      "Average Validation Loss: 0.0360\n"
     ]
    },
    {
     "name": "stderr",
     "output_type": "stream",
     "text": [
      "[I 2024-09-09 20:33:14,204] Trial 39 finished with value: 0.03636249974702618 and parameters: {'hidden1_size': 214, 'hidden2_size': 202, 'hidden3_size': 66, 'hidden4_size': 37, 'num_epochs': 26, 'learning_rate': 2.2659525849125787e-05}. Best is trial 13 with value: 0.032519943352478244.\n"
     ]
    },
    {
     "name": "stdout",
     "output_type": "stream",
     "text": [
      "Average Validation Loss: 0.0364\n"
     ]
    },
    {
     "name": "stderr",
     "output_type": "stream",
     "text": [
      "[I 2024-09-09 20:33:47,199] Trial 40 finished with value: 0.04179929067045339 and parameters: {'hidden1_size': 195, 'hidden2_size': 84, 'hidden3_size': 76, 'hidden4_size': 50, 'num_epochs': 85, 'learning_rate': 1.0052913789202237e-05}. Best is trial 13 with value: 0.032519943352478244.\n"
     ]
    },
    {
     "name": "stdout",
     "output_type": "stream",
     "text": [
      "Average Validation Loss: 0.0418\n"
     ]
    },
    {
     "name": "stderr",
     "output_type": "stream",
     "text": [
      "[I 2024-09-09 20:33:51,889] Trial 41 finished with value: 0.03431557176545972 and parameters: {'hidden1_size': 174, 'hidden2_size': 75, 'hidden3_size': 86, 'hidden4_size': 59, 'num_epochs': 12, 'learning_rate': 3.086776435606753e-05}. Best is trial 13 with value: 0.032519943352478244.\n"
     ]
    },
    {
     "name": "stdout",
     "output_type": "stream",
     "text": [
      "Average Validation Loss: 0.0343\n"
     ]
    },
    {
     "name": "stderr",
     "output_type": "stream",
     "text": [
      "[I 2024-09-09 20:33:57,322] Trial 42 finished with value: 0.03657752098072143 and parameters: {'hidden1_size': 154, 'hidden2_size': 74, 'hidden3_size': 92, 'hidden4_size': 58, 'num_epochs': 14, 'learning_rate': 3.5149675122959156e-05}. Best is trial 13 with value: 0.032519943352478244.\n"
     ]
    },
    {
     "name": "stdout",
     "output_type": "stream",
     "text": [
      "Average Validation Loss: 0.0366\n"
     ]
    },
    {
     "name": "stderr",
     "output_type": "stream",
     "text": [
      "[I 2024-09-09 20:34:03,188] Trial 43 finished with value: 0.033072662040857334 and parameters: {'hidden1_size': 179, 'hidden2_size': 72, 'hidden3_size': 103, 'hidden4_size': 62, 'num_epochs': 15, 'learning_rate': 1.4717753854256103e-05}. Best is trial 13 with value: 0.032519943352478244.\n"
     ]
    },
    {
     "name": "stdout",
     "output_type": "stream",
     "text": [
      "Average Validation Loss: 0.0331\n"
     ]
    },
    {
     "name": "stderr",
     "output_type": "stream",
     "text": [
      "[I 2024-09-09 20:34:09,416] Trial 44 finished with value: 0.03321754009950729 and parameters: {'hidden1_size': 183, 'hidden2_size': 71, 'hidden3_size': 105, 'hidden4_size': 55, 'num_epochs': 16, 'learning_rate': 1.5182172698200465e-05}. Best is trial 13 with value: 0.032519943352478244.\n"
     ]
    },
    {
     "name": "stdout",
     "output_type": "stream",
     "text": [
      "Average Validation Loss: 0.0332\n"
     ]
    },
    {
     "name": "stderr",
     "output_type": "stream",
     "text": [
      "[I 2024-09-09 20:34:15,272] Trial 45 finished with value: 0.034120696483157756 and parameters: {'hidden1_size': 172, 'hidden2_size': 96, 'hidden3_size': 105, 'hidden4_size': 52, 'num_epochs': 15, 'learning_rate': 2.0562637237275816e-05}. Best is trial 13 with value: 0.032519943352478244.\n"
     ]
    },
    {
     "name": "stdout",
     "output_type": "stream",
     "text": [
      "Average Validation Loss: 0.0341\n"
     ]
    },
    {
     "name": "stderr",
     "output_type": "stream",
     "text": [
      "[I 2024-09-09 20:34:21,868] Trial 46 finished with value: 0.039189356013334224 and parameters: {'hidden1_size': 137, 'hidden2_size': 96, 'hidden3_size': 108, 'hidden4_size': 52, 'num_epochs': 17, 'learning_rate': 5.665312920441215e-05}. Best is trial 13 with value: 0.032519943352478244.\n"
     ]
    },
    {
     "name": "stdout",
     "output_type": "stream",
     "text": [
      "Average Validation Loss: 0.0392\n"
     ]
    },
    {
     "name": "stderr",
     "output_type": "stream",
     "text": [
      "[I 2024-09-09 20:34:30,484] Trial 47 finished with value: 0.07042302344377406 and parameters: {'hidden1_size': 182, 'hidden2_size': 132, 'hidden3_size': 116, 'hidden4_size': 41, 'num_epochs': 22, 'learning_rate': 0.00011545876019898231}. Best is trial 13 with value: 0.032519943352478244.\n"
     ]
    },
    {
     "name": "stdout",
     "output_type": "stream",
     "text": [
      "Average Validation Loss: 0.0704\n"
     ]
    },
    {
     "name": "stderr",
     "output_type": "stream",
     "text": [
      "[I 2024-09-09 20:34:41,010] Trial 48 finished with value: 0.14383327322346823 and parameters: {'hidden1_size': 169, 'hidden2_size': 87, 'hidden3_size': 103, 'hidden4_size': 55, 'num_epochs': 27, 'learning_rate': 0.0012618484082269254}. Best is trial 13 with value: 0.032519943352478244.\n"
     ]
    },
    {
     "name": "stdout",
     "output_type": "stream",
     "text": [
      "Average Validation Loss: 0.1438\n"
     ]
    },
    {
     "name": "stderr",
     "output_type": "stream",
     "text": [
      "[I 2024-09-09 20:35:08,380] Trial 49 finished with value: 0.05934636985745913 and parameters: {'hidden1_size': 158, 'hidden2_size': 111, 'hidden3_size': 115, 'hidden4_size': 47, 'num_epochs': 70, 'learning_rate': 1.9861490104956393e-05}. Best is trial 13 with value: 0.032519943352478244.\n"
     ]
    },
    {
     "name": "stdout",
     "output_type": "stream",
     "text": [
      "Average Validation Loss: 0.0593\n"
     ]
    },
    {
     "name": "stderr",
     "output_type": "stream",
     "text": [
      "[I 2024-09-09 20:35:15,018] Trial 50 finished with value: 0.09857340973047983 and parameters: {'hidden1_size': 121, 'hidden2_size': 70, 'hidden3_size': 102, 'hidden4_size': 53, 'num_epochs': 17, 'learning_rate': 0.000435986847974086}. Best is trial 13 with value: 0.032519943352478244.\n"
     ]
    },
    {
     "name": "stdout",
     "output_type": "stream",
     "text": [
      "Average Validation Loss: 0.0986\n"
     ]
    },
    {
     "name": "stderr",
     "output_type": "stream",
     "text": [
      "[I 2024-09-09 20:35:20,461] Trial 51 finished with value: 0.03240378048004849 and parameters: {'hidden1_size': 172, 'hidden2_size': 85, 'hidden3_size': 103, 'hidden4_size': 59, 'num_epochs': 14, 'learning_rate': 2.80176461140166e-05}. Best is trial 51 with value: 0.03240378048004849.\n"
     ]
    },
    {
     "name": "stdout",
     "output_type": "stream",
     "text": [
      "Average Validation Loss: 0.0324\n"
     ]
    },
    {
     "name": "stderr",
     "output_type": "stream",
     "text": [
      "[I 2024-09-09 20:35:28,646] Trial 52 finished with value: 0.03514867420640907 and parameters: {'hidden1_size': 182, 'hidden2_size': 86, 'hidden3_size': 122, 'hidden4_size': 57, 'num_epochs': 21, 'learning_rate': 1.4745476253104452e-05}. Best is trial 51 with value: 0.03240378048004849.\n"
     ]
    },
    {
     "name": "stdout",
     "output_type": "stream",
     "text": [
      "Average Validation Loss: 0.0351\n"
     ]
    },
    {
     "name": "stderr",
     "output_type": "stream",
     "text": [
      "[I 2024-09-09 20:35:34,527] Trial 53 finished with value: 0.03681339710185837 and parameters: {'hidden1_size': 171, 'hidden2_size': 96, 'hidden3_size': 104, 'hidden4_size': 49, 'num_epochs': 15, 'learning_rate': 2.5820768521605272e-05}. Best is trial 51 with value: 0.03240378048004849.\n"
     ]
    },
    {
     "name": "stdout",
     "output_type": "stream",
     "text": [
      "Average Validation Loss: 0.0368\n"
     ]
    },
    {
     "name": "stderr",
     "output_type": "stream",
     "text": [
      "[I 2024-09-09 20:35:45,083] Trial 54 finished with value: 0.035750327834172084 and parameters: {'hidden1_size': 164, 'hidden2_size': 71, 'hidden3_size': 111, 'hidden4_size': 55, 'num_epochs': 27, 'learning_rate': 1.3965211194700072e-05}. Best is trial 51 with value: 0.03240378048004849.\n"
     ]
    },
    {
     "name": "stdout",
     "output_type": "stream",
     "text": [
      "Average Validation Loss: 0.0358\n"
     ]
    },
    {
     "name": "stderr",
     "output_type": "stream",
     "text": [
      "[I 2024-09-09 20:35:50,134] Trial 55 finished with value: 0.03606744568207346 and parameters: {'hidden1_size': 142, 'hidden2_size': 65, 'hidden3_size': 97, 'hidden4_size': 62, 'num_epochs': 13, 'learning_rate': 4.42091162876657e-05}. Best is trial 51 with value: 0.03240378048004849.\n"
     ]
    },
    {
     "name": "stdout",
     "output_type": "stream",
     "text": [
      "Average Validation Loss: 0.0361\n"
     ]
    },
    {
     "name": "stderr",
     "output_type": "stream",
     "text": [
      "[I 2024-09-09 20:36:04,170] Trial 56 finished with value: 0.03879680559371731 and parameters: {'hidden1_size': 197, 'hidden2_size': 122, 'hidden3_size': 91, 'hidden4_size': 28, 'num_epochs': 36, 'learning_rate': 1.8702931455549283e-05}. Best is trial 51 with value: 0.03240378048004849.\n"
     ]
    },
    {
     "name": "stdout",
     "output_type": "stream",
     "text": [
      "Average Validation Loss: 0.0388\n"
     ]
    },
    {
     "name": "stderr",
     "output_type": "stream",
     "text": [
      "[I 2024-09-09 20:36:26,927] Trial 57 finished with value: 0.2696510421644364 and parameters: {'hidden1_size': 206, 'hidden2_size': 82, 'hidden3_size': 127, 'hidden4_size': 59, 'num_epochs': 59, 'learning_rate': 0.0021234557761711428}. Best is trial 51 with value: 0.03240378048004849.\n"
     ]
    },
    {
     "name": "stdout",
     "output_type": "stream",
     "text": [
      "Average Validation Loss: 0.2697\n"
     ]
    },
    {
     "name": "stderr",
     "output_type": "stream",
     "text": [
      "[I 2024-09-09 20:36:35,866] Trial 58 finished with value: 0.036868052218951994 and parameters: {'hidden1_size': 186, 'hidden2_size': 109, 'hidden3_size': 101, 'hidden4_size': 52, 'num_epochs': 23, 'learning_rate': 1.3111715689181813e-05}. Best is trial 51 with value: 0.03240378048004849.\n"
     ]
    },
    {
     "name": "stdout",
     "output_type": "stream",
     "text": [
      "Average Validation Loss: 0.0369\n"
     ]
    },
    {
     "name": "stderr",
     "output_type": "stream",
     "text": [
      "[I 2024-09-09 20:36:43,612] Trial 59 finished with value: 0.05573596618601836 and parameters: {'hidden1_size': 177, 'hidden2_size': 183, 'hidden3_size': 114, 'hidden4_size': 54, 'num_epochs': 20, 'learning_rate': 7.854857845471708e-05}. Best is trial 51 with value: 0.03240378048004849.\n"
     ]
    },
    {
     "name": "stdout",
     "output_type": "stream",
     "text": [
      "Average Validation Loss: 0.0557\n"
     ]
    },
    {
     "name": "stderr",
     "output_type": "stream",
     "text": [
      "[I 2024-09-09 20:36:47,518] Trial 60 finished with value: 0.03385401920725902 and parameters: {'hidden1_size': 157, 'hidden2_size': 98, 'hidden3_size': 106, 'hidden4_size': 57, 'num_epochs': 10, 'learning_rate': 2.5781117685437048e-05}. Best is trial 51 with value: 0.03240378048004849.\n"
     ]
    },
    {
     "name": "stdout",
     "output_type": "stream",
     "text": [
      "Average Validation Loss: 0.0339\n"
     ]
    },
    {
     "name": "stderr",
     "output_type": "stream",
     "text": [
      "[I 2024-09-09 20:36:51,451] Trial 61 finished with value: 0.036033761011259186 and parameters: {'hidden1_size': 151, 'hidden2_size': 100, 'hidden3_size': 107, 'hidden4_size': 56, 'num_epochs': 10, 'learning_rate': 2.723930819671584e-05}. Best is trial 51 with value: 0.03240378048004849.\n"
     ]
    },
    {
     "name": "stdout",
     "output_type": "stream",
     "text": [
      "Average Validation Loss: 0.0360\n"
     ]
    },
    {
     "name": "stderr",
     "output_type": "stream",
     "text": [
      "[I 2024-09-09 20:36:57,698] Trial 62 finished with value: 0.036296698225972555 and parameters: {'hidden1_size': 158, 'hidden2_size': 88, 'hidden3_size': 111, 'hidden4_size': 61, 'num_epochs': 16, 'learning_rate': 3.717573593684707e-05}. Best is trial 51 with value: 0.03240378048004849.\n"
     ]
    },
    {
     "name": "stdout",
     "output_type": "stream",
     "text": [
      "Average Validation Loss: 0.0363\n"
     ]
    },
    {
     "name": "stderr",
     "output_type": "stream",
     "text": [
      "[I 2024-09-09 20:37:03,154] Trial 63 finished with value: 0.034630681005572636 and parameters: {'hidden1_size': 165, 'hidden2_size': 70, 'hidden3_size': 119, 'hidden4_size': 58, 'num_epochs': 14, 'learning_rate': 2.1130899416188773e-05}. Best is trial 51 with value: 0.03240378048004849.\n"
     ]
    },
    {
     "name": "stdout",
     "output_type": "stream",
     "text": [
      "Average Validation Loss: 0.0346\n"
     ]
    },
    {
     "name": "stderr",
     "output_type": "stream",
     "text": [
      "[I 2024-09-09 20:37:10,570] Trial 64 finished with value: 0.03385987672733054 and parameters: {'hidden1_size': 201, 'hidden2_size': 81, 'hidden3_size': 106, 'hidden4_size': 60, 'num_epochs': 19, 'learning_rate': 1.3454697560105477e-05}. Best is trial 51 with value: 0.03240378048004849.\n"
     ]
    },
    {
     "name": "stdout",
     "output_type": "stream",
     "text": [
      "Average Validation Loss: 0.0339\n"
     ]
    },
    {
     "name": "stderr",
     "output_type": "stream",
     "text": [
      "[I 2024-09-09 20:37:48,909] Trial 65 finished with value: 0.06937390748868888 and parameters: {'hidden1_size': 217, 'hidden2_size': 81, 'hidden3_size': 98, 'hidden4_size': 62, 'num_epochs': 99, 'learning_rate': 1.3458482398351166e-05}. Best is trial 51 with value: 0.03240378048004849.\n"
     ]
    },
    {
     "name": "stdout",
     "output_type": "stream",
     "text": [
      "Average Validation Loss: 0.0694\n"
     ]
    },
    {
     "name": "stderr",
     "output_type": "stream",
     "text": [
      "[I 2024-09-09 20:38:00,182] Trial 66 finished with value: 0.037429471139884776 and parameters: {'hidden1_size': 200, 'hidden2_size': 64, 'hidden3_size': 101, 'hidden4_size': 16, 'num_epochs': 29, 'learning_rate': 1.5918463597235263e-05}. Best is trial 51 with value: 0.03240378048004849.\n"
     ]
    },
    {
     "name": "stdout",
     "output_type": "stream",
     "text": [
      "Average Validation Loss: 0.0374\n"
     ]
    },
    {
     "name": "stderr",
     "output_type": "stream",
     "text": [
      "[I 2024-09-09 20:38:07,659] Trial 67 finished with value: 0.03515031901077323 and parameters: {'hidden1_size': 186, 'hidden2_size': 224, 'hidden3_size': 94, 'hidden4_size': 60, 'num_epochs': 19, 'learning_rate': 1.2570429016683227e-05}. Best is trial 51 with value: 0.03240378048004849.\n"
     ]
    },
    {
     "name": "stdout",
     "output_type": "stream",
     "text": [
      "Average Validation Loss: 0.0352\n"
     ]
    },
    {
     "name": "stderr",
     "output_type": "stream",
     "text": [
      "[I 2024-09-09 20:38:11,593] Trial 68 finished with value: 0.035391915805770884 and parameters: {'hidden1_size': 206, 'hidden2_size': 71, 'hidden3_size': 111, 'hidden4_size': 63, 'num_epochs': 10, 'learning_rate': 2.8992278283563907e-05}. Best is trial 51 with value: 0.03240378048004849.\n"
     ]
    },
    {
     "name": "stdout",
     "output_type": "stream",
     "text": [
      "Average Validation Loss: 0.0354\n"
     ]
    },
    {
     "name": "stderr",
     "output_type": "stream",
     "text": [
      "[I 2024-09-09 20:38:21,342] Trial 69 finished with value: 0.03589449119975879 and parameters: {'hidden1_size': 196, 'hidden2_size': 79, 'hidden3_size': 54, 'hidden4_size': 56, 'num_epochs': 25, 'learning_rate': 1.1956941649039929e-05}. Best is trial 51 with value: 0.03240378048004849.\n"
     ]
    },
    {
     "name": "stdout",
     "output_type": "stream",
     "text": [
      "Average Validation Loss: 0.0359\n"
     ]
    },
    {
     "name": "stderr",
     "output_type": "stream",
     "text": [
      "[I 2024-09-09 20:38:30,277] Trial 70 finished with value: 0.047727663789243834 and parameters: {'hidden1_size': 226, 'hidden2_size': 90, 'hidden3_size': 61, 'hidden4_size': 60, 'num_epochs': 23, 'learning_rate': 6.23337311901999e-05}. Best is trial 51 with value: 0.03240378048004849.\n"
     ]
    },
    {
     "name": "stdout",
     "output_type": "stream",
     "text": [
      "Average Validation Loss: 0.0477\n"
     ]
    },
    {
     "name": "stderr",
     "output_type": "stream",
     "text": [
      "[I 2024-09-09 20:38:36,520] Trial 71 finished with value: 0.03402994457255339 and parameters: {'hidden1_size': 179, 'hidden2_size': 102, 'hidden3_size': 107, 'hidden4_size': 58, 'num_epochs': 16, 'learning_rate': 1.9101209883935656e-05}. Best is trial 51 with value: 0.03240378048004849.\n"
     ]
    },
    {
     "name": "stdout",
     "output_type": "stream",
     "text": [
      "Average Validation Loss: 0.0340\n"
     ]
    },
    {
     "name": "stderr",
     "output_type": "stream",
     "text": [
      "[I 2024-09-09 20:38:43,895] Trial 72 finished with value: 0.03432254332472526 and parameters: {'hidden1_size': 179, 'hidden2_size': 106, 'hidden3_size': 106, 'hidden4_size': 58, 'num_epochs': 19, 'learning_rate': 1.7655357915487747e-05}. Best is trial 51 with value: 0.03240378048004849.\n"
     ]
    },
    {
     "name": "stdout",
     "output_type": "stream",
     "text": [
      "Average Validation Loss: 0.0343\n"
     ]
    },
    {
     "name": "stderr",
     "output_type": "stream",
     "text": [
      "[I 2024-09-09 20:38:48,602] Trial 73 finished with value: 0.03421509977696197 and parameters: {'hidden1_size': 212, 'hidden2_size': 101, 'hidden3_size': 113, 'hidden4_size': 63, 'num_epochs': 12, 'learning_rate': 1.0196915886549126e-05}. Best is trial 51 with value: 0.03240378048004849.\n"
     ]
    },
    {
     "name": "stdout",
     "output_type": "stream",
     "text": [
      "Average Validation Loss: 0.0342\n"
     ]
    },
    {
     "name": "stderr",
     "output_type": "stream",
     "text": [
      "[I 2024-09-09 20:38:55,265] Trial 74 finished with value: 0.03487502089757029 and parameters: {'hidden1_size': 202, 'hidden2_size': 84, 'hidden3_size': 119, 'hidden4_size': 54, 'num_epochs': 17, 'learning_rate': 3.356654782526747e-05}. Best is trial 51 with value: 0.03240378048004849.\n"
     ]
    },
    {
     "name": "stdout",
     "output_type": "stream",
     "text": [
      "Average Validation Loss: 0.0349\n"
     ]
    },
    {
     "name": "stderr",
     "output_type": "stream",
     "text": [
      "[I 2024-09-09 20:39:03,500] Trial 75 finished with value: 0.03591525154964378 and parameters: {'hidden1_size': 192, 'hidden2_size': 76, 'hidden3_size': 48, 'hidden4_size': 57, 'num_epochs': 21, 'learning_rate': 2.6610263492225063e-05}. Best is trial 51 with value: 0.03240378048004849.\n"
     ]
    },
    {
     "name": "stdout",
     "output_type": "stream",
     "text": [
      "Average Validation Loss: 0.0359\n"
     ]
    },
    {
     "name": "stderr",
     "output_type": "stream",
     "text": [
      "[I 2024-09-09 20:39:08,611] Trial 76 finished with value: 0.03294921187417848 and parameters: {'hidden1_size': 184, 'hidden2_size': 69, 'hidden3_size': 99, 'hidden4_size': 59, 'num_epochs': 13, 'learning_rate': 1.6822065003512036e-05}. Best is trial 51 with value: 0.03240378048004849.\n"
     ]
    },
    {
     "name": "stdout",
     "output_type": "stream",
     "text": [
      "Average Validation Loss: 0.0329\n"
     ]
    },
    {
     "name": "stderr",
     "output_type": "stream",
     "text": [
      "[I 2024-09-09 20:39:13,339] Trial 77 finished with value: 0.03340242875163399 and parameters: {'hidden1_size': 186, 'hidden2_size': 70, 'hidden3_size': 96, 'hidden4_size': 61, 'num_epochs': 12, 'learning_rate': 1.5556003298699934e-05}. Best is trial 51 with value: 0.03240378048004849.\n"
     ]
    },
    {
     "name": "stdout",
     "output_type": "stream",
     "text": [
      "Average Validation Loss: 0.0334\n"
     ]
    },
    {
     "name": "stderr",
     "output_type": "stream",
     "text": [
      "[I 2024-09-09 20:39:18,052] Trial 78 finished with value: 0.20212140218133018 and parameters: {'hidden1_size': 144, 'hidden2_size': 69, 'hidden3_size': 96, 'hidden4_size': 64, 'num_epochs': 12, 'learning_rate': 0.0008369130276631423}. Best is trial 51 with value: 0.03240378048004849.\n"
     ]
    },
    {
     "name": "stdout",
     "output_type": "stream",
     "text": [
      "Average Validation Loss: 0.2021\n"
     ]
    },
    {
     "name": "stderr",
     "output_type": "stream",
     "text": [
      "[I 2024-09-09 20:39:23,182] Trial 79 finished with value: 0.034923141033643676 and parameters: {'hidden1_size': 184, 'hidden2_size': 73, 'hidden3_size': 88, 'hidden4_size': 61, 'num_epochs': 13, 'learning_rate': 4.8785892331418725e-05}. Best is trial 51 with value: 0.03240378048004849.\n"
     ]
    },
    {
     "name": "stdout",
     "output_type": "stream",
     "text": [
      "Average Validation Loss: 0.0349\n"
     ]
    },
    {
     "name": "stderr",
     "output_type": "stream",
     "text": [
      "[I 2024-09-09 20:39:43,349] Trial 80 finished with value: 0.04399369486158581 and parameters: {'hidden1_size': 167, 'hidden2_size': 151, 'hidden3_size': 101, 'hidden4_size': 63, 'num_epochs': 52, 'learning_rate': 1.5857941038133323e-05}. Best is trial 51 with value: 0.03240378048004849.\n"
     ]
    },
    {
     "name": "stdout",
     "output_type": "stream",
     "text": [
      "Average Validation Loss: 0.0440\n"
     ]
    },
    {
     "name": "stderr",
     "output_type": "stream",
     "text": [
      "[I 2024-09-09 20:39:47,293] Trial 81 finished with value: 0.0318712595451091 and parameters: {'hidden1_size': 189, 'hidden2_size': 79, 'hidden3_size': 100, 'hidden4_size': 59, 'num_epochs': 10, 'learning_rate': 1.2048654517104962e-05}. Best is trial 81 with value: 0.0318712595451091.\n"
     ]
    },
    {
     "name": "stdout",
     "output_type": "stream",
     "text": [
      "Average Validation Loss: 0.0319\n"
     ]
    },
    {
     "name": "stderr",
     "output_type": "stream",
     "text": [
      "[I 2024-09-09 20:39:51,214] Trial 82 finished with value: 0.03188334851680944 and parameters: {'hidden1_size': 193, 'hidden2_size': 64, 'hidden3_size': 99, 'hidden4_size': 59, 'num_epochs': 10, 'learning_rate': 2.349962000995866e-05}. Best is trial 81 with value: 0.0318712595451091.\n"
     ]
    },
    {
     "name": "stdout",
     "output_type": "stream",
     "text": [
      "Average Validation Loss: 0.0319\n"
     ]
    },
    {
     "name": "stderr",
     "output_type": "stream",
     "text": [
      "[I 2024-09-09 20:39:57,096] Trial 83 finished with value: 0.031894732593736125 and parameters: {'hidden1_size': 192, 'hidden2_size': 67, 'hidden3_size': 94, 'hidden4_size': 59, 'num_epochs': 15, 'learning_rate': 1.1843801618523939e-05}. Best is trial 81 with value: 0.0318712595451091.\n"
     ]
    },
    {
     "name": "stdout",
     "output_type": "stream",
     "text": [
      "Average Validation Loss: 0.0319\n"
     ]
    },
    {
     "name": "stderr",
     "output_type": "stream",
     "text": [
      "[I 2024-09-09 20:40:03,047] Trial 84 finished with value: 0.03496470343365911 and parameters: {'hidden1_size': 190, 'hidden2_size': 64, 'hidden3_size': 99, 'hidden4_size': 56, 'num_epochs': 15, 'learning_rate': 1.204026095998241e-05}. Best is trial 81 with value: 0.0318712595451091.\n"
     ]
    },
    {
     "name": "stdout",
     "output_type": "stream",
     "text": [
      "Average Validation Loss: 0.0350\n"
     ]
    },
    {
     "name": "stderr",
     "output_type": "stream",
     "text": [
      "[I 2024-09-09 20:40:09,703] Trial 85 finished with value: 0.036060458913977654 and parameters: {'hidden1_size': 193, 'hidden2_size': 77, 'hidden3_size': 93, 'hidden4_size': 59, 'num_epochs': 17, 'learning_rate': 2.244184589515755e-05}. Best is trial 81 with value: 0.0318712595451091.\n"
     ]
    },
    {
     "name": "stdout",
     "output_type": "stream",
     "text": [
      "Average Validation Loss: 0.0361\n"
     ]
    },
    {
     "name": "stderr",
     "output_type": "stream",
     "text": [
      "[I 2024-09-09 20:40:14,828] Trial 86 finished with value: 0.032868224661797285 and parameters: {'hidden1_size': 176, 'hidden2_size': 68, 'hidden3_size': 80, 'hidden4_size': 59, 'num_epochs': 13, 'learning_rate': 1.1546393186879196e-05}. Best is trial 81 with value: 0.0318712595451091.\n"
     ]
    },
    {
     "name": "stdout",
     "output_type": "stream",
     "text": [
      "Average Validation Loss: 0.0329\n"
     ]
    },
    {
     "name": "stderr",
     "output_type": "stream",
     "text": [
      "[I 2024-09-09 20:40:19,527] Trial 87 finished with value: 0.03548111194478614 and parameters: {'hidden1_size': 175, 'hidden2_size': 68, 'hidden3_size': 82, 'hidden4_size': 62, 'num_epochs': 12, 'learning_rate': 1.0031364990298716e-05}. Best is trial 81 with value: 0.0318712595451091.\n"
     ]
    },
    {
     "name": "stdout",
     "output_type": "stream",
     "text": [
      "Average Validation Loss: 0.0355\n"
     ]
    },
    {
     "name": "stderr",
     "output_type": "stream",
     "text": [
      "[I 2024-09-09 20:40:27,746] Trial 88 finished with value: 0.033272484893954936 and parameters: {'hidden1_size': 196, 'hidden2_size': 90, 'hidden3_size': 91, 'hidden4_size': 59, 'num_epochs': 21, 'learning_rate': 1.1867008378153914e-05}. Best is trial 81 with value: 0.0318712595451091.\n"
     ]
    },
    {
     "name": "stdout",
     "output_type": "stream",
     "text": [
      "Average Validation Loss: 0.0333\n"
     ]
    },
    {
     "name": "stderr",
     "output_type": "stream",
     "text": [
      "[I 2024-09-09 20:40:33,594] Trial 89 finished with value: 0.03328735737263092 and parameters: {'hidden1_size': 207, 'hidden2_size': 75, 'hidden3_size': 70, 'hidden4_size': 61, 'num_epochs': 15, 'learning_rate': 1.9430281109265177e-05}. Best is trial 81 with value: 0.0318712595451091.\n"
     ]
    },
    {
     "name": "stdout",
     "output_type": "stream",
     "text": [
      "Average Validation Loss: 0.0333\n"
     ]
    },
    {
     "name": "stderr",
     "output_type": "stream",
     "text": [
      "[I 2024-09-09 20:40:37,564] Trial 90 finished with value: 0.03549266602134421 and parameters: {'hidden1_size': 189, 'hidden2_size': 85, 'hidden3_size': 78, 'hidden4_size': 63, 'num_epochs': 10, 'learning_rate': 1.1604041396770561e-05}. Best is trial 81 with value: 0.0318712595451091.\n"
     ]
    },
    {
     "name": "stdout",
     "output_type": "stream",
     "text": [
      "Average Validation Loss: 0.0355\n"
     ]
    },
    {
     "name": "stderr",
     "output_type": "stream",
     "text": [
      "[I 2024-09-09 20:40:43,061] Trial 91 finished with value: 0.03297785211664935 and parameters: {'hidden1_size': 179, 'hidden2_size': 67, 'hidden3_size': 99, 'hidden4_size': 54, 'num_epochs': 14, 'learning_rate': 1.5158289347001186e-05}. Best is trial 81 with value: 0.0318712595451091.\n"
     ]
    },
    {
     "name": "stdout",
     "output_type": "stream",
     "text": [
      "Average Validation Loss: 0.0330\n"
     ]
    },
    {
     "name": "stderr",
     "output_type": "stream",
     "text": [
      "[I 2024-09-09 20:40:48,526] Trial 92 finished with value: 0.03442604115255 and parameters: {'hidden1_size': 170, 'hidden2_size': 64, 'hidden3_size': 99, 'hidden4_size': 59, 'num_epochs': 14, 'learning_rate': 1.748986397061918e-05}. Best is trial 81 with value: 0.0318712595451091.\n"
     ]
    },
    {
     "name": "stdout",
     "output_type": "stream",
     "text": [
      "Average Validation Loss: 0.0344\n"
     ]
    },
    {
     "name": "stderr",
     "output_type": "stream",
     "text": [
      "[I 2024-09-09 20:40:55,586] Trial 93 finished with value: 0.034236890014394054 and parameters: {'hidden1_size': 178, 'hidden2_size': 79, 'hidden3_size': 86, 'hidden4_size': 53, 'num_epochs': 18, 'learning_rate': 1.4254984631367327e-05}. Best is trial 81 with value: 0.0318712595451091.\n"
     ]
    },
    {
     "name": "stdout",
     "output_type": "stream",
     "text": [
      "Average Validation Loss: 0.0342\n"
     ]
    },
    {
     "name": "stderr",
     "output_type": "stream",
     "text": [
      "[I 2024-09-09 20:41:00,707] Trial 94 finished with value: 0.03500256563226382 and parameters: {'hidden1_size': 161, 'hidden2_size': 68, 'hidden3_size': 64, 'hidden4_size': 44, 'num_epochs': 13, 'learning_rate': 2.3029923124780378e-05}. Best is trial 81 with value: 0.0318712595451091.\n"
     ]
    },
    {
     "name": "stdout",
     "output_type": "stream",
     "text": [
      "Average Validation Loss: 0.0350\n"
     ]
    },
    {
     "name": "stderr",
     "output_type": "stream",
     "text": [
      "[I 2024-09-09 20:41:10,002] Trial 95 finished with value: 0.03350515213761745 and parameters: {'hidden1_size': 173, 'hidden2_size': 73, 'hidden3_size': 57, 'hidden4_size': 58, 'num_epochs': 24, 'learning_rate': 1.8096792923117954e-05}. Best is trial 81 with value: 0.0318712595451091.\n"
     ]
    },
    {
     "name": "stdout",
     "output_type": "stream",
     "text": [
      "Average Validation Loss: 0.0335\n"
     ]
    },
    {
     "name": "stderr",
     "output_type": "stream",
     "text": [
      "[I 2024-09-09 20:41:17,174] Trial 96 finished with value: 0.0343183963116081 and parameters: {'hidden1_size': 191, 'hidden2_size': 67, 'hidden3_size': 90, 'hidden4_size': 34, 'num_epochs': 18, 'learning_rate': 1.1033479833452374e-05}. Best is trial 81 with value: 0.0318712595451091.\n"
     ]
    },
    {
     "name": "stdout",
     "output_type": "stream",
     "text": [
      "Average Validation Loss: 0.0343\n"
     ]
    },
    {
     "name": "stderr",
     "output_type": "stream",
     "text": [
      "[I 2024-09-09 20:41:45,396] Trial 97 finished with value: 0.1600049670253481 and parameters: {'hidden1_size': 181, 'hidden2_size': 93, 'hidden3_size': 103, 'hidden4_size': 55, 'num_epochs': 72, 'learning_rate': 0.0002637618027156309}. Best is trial 81 with value: 0.0318712595451091.\n"
     ]
    },
    {
     "name": "stdout",
     "output_type": "stream",
     "text": [
      "Average Validation Loss: 0.1600\n"
     ]
    },
    {
     "name": "stderr",
     "output_type": "stream",
     "text": [
      "[I 2024-09-09 20:41:49,352] Trial 98 finished with value: 0.03265395097523218 and parameters: {'hidden1_size': 223, 'hidden2_size': 79, 'hidden3_size': 83, 'hidden4_size': 57, 'num_epochs': 10, 'learning_rate': 1.441206540742143e-05}. Best is trial 81 with value: 0.0318712595451091.\n"
     ]
    },
    {
     "name": "stdout",
     "output_type": "stream",
     "text": [
      "Average Validation Loss: 0.0327\n"
     ]
    },
    {
     "name": "stderr",
     "output_type": "stream",
     "text": [
      "[I 2024-09-09 20:41:53,287] Trial 99 finished with value: 0.03288632778206929 and parameters: {'hidden1_size': 225, 'hidden2_size': 80, 'hidden3_size': 82, 'hidden4_size': 57, 'num_epochs': 10, 'learning_rate': 2.0858296431832096e-05}. Best is trial 81 with value: 0.0318712595451091.\n"
     ]
    },
    {
     "name": "stdout",
     "output_type": "stream",
     "text": [
      "Average Validation Loss: 0.0329\n"
     ]
    },
    {
     "name": "stderr",
     "output_type": "stream",
     "text": [
      "[I 2024-09-09 20:41:57,258] Trial 100 finished with value: 0.03515592616029261 and parameters: {'hidden1_size': 223, 'hidden2_size': 82, 'hidden3_size': 81, 'hidden4_size': 49, 'num_epochs': 10, 'learning_rate': 4.3187826165958364e-05}. Best is trial 81 with value: 0.0318712595451091.\n"
     ]
    },
    {
     "name": "stdout",
     "output_type": "stream",
     "text": [
      "Average Validation Loss: 0.0352\n"
     ]
    },
    {
     "name": "stderr",
     "output_type": "stream",
     "text": [
      "[I 2024-09-09 20:42:01,984] Trial 101 finished with value: 0.13170960479483473 and parameters: {'hidden1_size': 234, 'hidden2_size': 79, 'hidden3_size': 72, 'hidden4_size': 56, 'num_epochs': 12, 'learning_rate': 0.006207750825135939}. Best is trial 81 with value: 0.0318712595451091.\n"
     ]
    },
    {
     "name": "stdout",
     "output_type": "stream",
     "text": [
      "Average Validation Loss: 0.1317\n"
     ]
    },
    {
     "name": "stderr",
     "output_type": "stream",
     "text": [
      "[I 2024-09-09 20:42:07,136] Trial 102 finished with value: 0.034238574538557304 and parameters: {'hidden1_size': 235, 'hidden2_size': 75, 'hidden3_size': 95, 'hidden4_size': 57, 'num_epochs': 13, 'learning_rate': 2.0525735262540144e-05}. Best is trial 81 with value: 0.0318712595451091.\n"
     ]
    },
    {
     "name": "stdout",
     "output_type": "stream",
     "text": [
      "Average Validation Loss: 0.0342\n"
     ]
    },
    {
     "name": "stderr",
     "output_type": "stream",
     "text": [
      "[I 2024-09-09 20:42:13,431] Trial 103 finished with value: 0.03402607096359134 and parameters: {'hidden1_size': 244, 'hidden2_size': 86, 'hidden3_size': 83, 'hidden4_size': 54, 'num_epochs': 16, 'learning_rate': 1.3455011863096321e-05}. Best is trial 81 with value: 0.0318712595451091.\n"
     ]
    },
    {
     "name": "stdout",
     "output_type": "stream",
     "text": [
      "Average Validation Loss: 0.0340\n"
     ]
    },
    {
     "name": "stderr",
     "output_type": "stream",
     "text": [
      "[I 2024-09-09 20:42:17,373] Trial 104 finished with value: 0.03666613740469551 and parameters: {'hidden1_size': 218, 'hidden2_size': 67, 'hidden3_size': 76, 'hidden4_size': 57, 'num_epochs': 10, 'learning_rate': 3.146945275079267e-05}. Best is trial 81 with value: 0.0318712595451091.\n"
     ]
    },
    {
     "name": "stdout",
     "output_type": "stream",
     "text": [
      "Average Validation Loss: 0.0367\n"
     ]
    },
    {
     "name": "stderr",
     "output_type": "stream",
     "text": [
      "[I 2024-09-09 20:42:22,108] Trial 105 finished with value: 0.03304026853514924 and parameters: {'hidden1_size': 211, 'hidden2_size': 74, 'hidden3_size': 84, 'hidden4_size': 51, 'num_epochs': 12, 'learning_rate': 1.596308472110309e-05}. Best is trial 81 with value: 0.0318712595451091.\n"
     ]
    },
    {
     "name": "stdout",
     "output_type": "stream",
     "text": [
      "Average Validation Loss: 0.0330\n"
     ]
    },
    {
     "name": "stderr",
     "output_type": "stream",
     "text": [
      "[I 2024-09-09 20:42:55,703] Trial 106 finished with value: 0.08206126286197668 and parameters: {'hidden1_size': 221, 'hidden2_size': 64, 'hidden3_size': 60, 'hidden4_size': 60, 'num_epochs': 86, 'learning_rate': 2.418630603879396e-05}. Best is trial 81 with value: 0.0318712595451091.\n"
     ]
    },
    {
     "name": "stdout",
     "output_type": "stream",
     "text": [
      "Average Validation Loss: 0.0821\n"
     ]
    },
    {
     "name": "stderr",
     "output_type": "stream",
     "text": [
      "[I 2024-09-09 20:43:01,231] Trial 107 finished with value: 0.03275375593719738 and parameters: {'hidden1_size': 248, 'hidden2_size': 79, 'hidden3_size': 88, 'hidden4_size': 60, 'num_epochs': 14, 'learning_rate': 1.1288118713137366e-05}. Best is trial 81 with value: 0.0318712595451091.\n"
     ]
    },
    {
     "name": "stdout",
     "output_type": "stream",
     "text": [
      "Average Validation Loss: 0.0328\n"
     ]
    },
    {
     "name": "stderr",
     "output_type": "stream",
     "text": [
      "[I 2024-09-09 20:43:09,133] Trial 108 finished with value: 0.03473134729124251 and parameters: {'hidden1_size': 253, 'hidden2_size': 88, 'hidden3_size': 87, 'hidden4_size': 38, 'num_epochs': 20, 'learning_rate': 1.1404318723670235e-05}. Best is trial 81 with value: 0.0318712595451091.\n"
     ]
    },
    {
     "name": "stdout",
     "output_type": "stream",
     "text": [
      "Average Validation Loss: 0.0347\n"
     ]
    },
    {
     "name": "stderr",
     "output_type": "stream",
     "text": [
      "[I 2024-09-09 20:43:14,709] Trial 109 finished with value: 0.032421097065144705 and parameters: {'hidden1_size': 246, 'hidden2_size': 80, 'hidden3_size': 89, 'hidden4_size': 53, 'num_epochs': 14, 'learning_rate': 1.6929271405014507e-05}. Best is trial 81 with value: 0.0318712595451091.\n"
     ]
    },
    {
     "name": "stdout",
     "output_type": "stream",
     "text": [
      "Average Validation Loss: 0.0324\n"
     ]
    },
    {
     "name": "stderr",
     "output_type": "stream",
     "text": [
      "[I 2024-09-09 20:43:21,377] Trial 110 finished with value: 0.03357322489942557 and parameters: {'hidden1_size': 233, 'hidden2_size': 93, 'hidden3_size': 89, 'hidden4_size': 58, 'num_epochs': 17, 'learning_rate': 2.103255093071753e-05}. Best is trial 81 with value: 0.0318712595451091.\n"
     ]
    },
    {
     "name": "stdout",
     "output_type": "stream",
     "text": [
      "Average Validation Loss: 0.0336\n"
     ]
    },
    {
     "name": "stderr",
     "output_type": "stream",
     "text": [
      "[I 2024-09-09 20:43:26,938] Trial 111 finished with value: 0.03141973938216411 and parameters: {'hidden1_size': 250, 'hidden2_size': 78, 'hidden3_size': 35, 'hidden4_size': 53, 'num_epochs': 14, 'learning_rate': 1.7267091194457082e-05}. Best is trial 111 with value: 0.03141973938216411.\n"
     ]
    },
    {
     "name": "stdout",
     "output_type": "stream",
     "text": [
      "Average Validation Loss: 0.0314\n"
     ]
    },
    {
     "name": "stderr",
     "output_type": "stream",
     "text": [
      "[I 2024-09-09 20:43:31,284] Trial 112 finished with value: 0.034633055506717594 and parameters: {'hidden1_size': 248, 'hidden2_size': 79, 'hidden3_size': 32, 'hidden4_size': 59, 'num_epochs': 11, 'learning_rate': 1.3099370937129953e-05}. Best is trial 111 with value: 0.03141973938216411.\n"
     ]
    },
    {
     "name": "stdout",
     "output_type": "stream",
     "text": [
      "Average Validation Loss: 0.0346\n"
     ]
    },
    {
     "name": "stderr",
     "output_type": "stream",
     "text": [
      "[I 2024-09-09 20:43:36,887] Trial 113 finished with value: 0.033870419254526496 and parameters: {'hidden1_size': 255, 'hidden2_size': 83, 'hidden3_size': 38, 'hidden4_size': 56, 'num_epochs': 14, 'learning_rate': 1.7898679477180078e-05}. Best is trial 111 with value: 0.03141973938216411.\n"
     ]
    },
    {
     "name": "stdout",
     "output_type": "stream",
     "text": [
      "Average Validation Loss: 0.0339\n"
     ]
    },
    {
     "name": "stderr",
     "output_type": "stream",
     "text": [
      "[I 2024-09-09 20:43:43,158] Trial 114 finished with value: 0.03178029907645569 and parameters: {'hidden1_size': 246, 'hidden2_size': 78, 'hidden3_size': 93, 'hidden4_size': 51, 'num_epochs': 16, 'learning_rate': 1.0278111234704382e-05}. Best is trial 111 with value: 0.03141973938216411.\n"
     ]
    },
    {
     "name": "stdout",
     "output_type": "stream",
     "text": [
      "Average Validation Loss: 0.0318\n"
     ]
    },
    {
     "name": "stderr",
     "output_type": "stream",
     "text": [
      "[I 2024-09-09 20:43:49,541] Trial 115 finished with value: 0.03231803047293354 and parameters: {'hidden1_size': 247, 'hidden2_size': 89, 'hidden3_size': 80, 'hidden4_size': 53, 'num_epochs': 16, 'learning_rate': 1.007753913295327e-05}. Best is trial 111 with value: 0.03141973938216411.\n"
     ]
    },
    {
     "name": "stdout",
     "output_type": "stream",
     "text": [
      "Average Validation Loss: 0.0323\n"
     ]
    },
    {
     "name": "stderr",
     "output_type": "stream",
     "text": [
      "[I 2024-09-09 20:43:58,237] Trial 116 finished with value: 0.03426729044544378 and parameters: {'hidden1_size': 245, 'hidden2_size': 85, 'hidden3_size': 79, 'hidden4_size': 53, 'num_epochs': 22, 'learning_rate': 1.011528808296344e-05}. Best is trial 111 with value: 0.03141973938216411.\n"
     ]
    },
    {
     "name": "stdout",
     "output_type": "stream",
     "text": [
      "Average Validation Loss: 0.0343\n"
     ]
    },
    {
     "name": "stderr",
     "output_type": "stream",
     "text": [
      "[I 2024-09-09 20:44:05,326] Trial 117 finished with value: 0.03317899521373745 and parameters: {'hidden1_size': 240, 'hidden2_size': 90, 'hidden3_size': 93, 'hidden4_size': 51, 'num_epochs': 18, 'learning_rate': 1.2100787657181751e-05}. Best is trial 111 with value: 0.03141973938216411.\n"
     ]
    },
    {
     "name": "stdout",
     "output_type": "stream",
     "text": [
      "Average Validation Loss: 0.0332\n"
     ]
    },
    {
     "name": "stderr",
     "output_type": "stream",
     "text": [
      "[I 2024-09-09 20:44:11,670] Trial 118 finished with value: 0.03141140825824723 and parameters: {'hidden1_size': 248, 'hidden2_size': 76, 'hidden3_size': 85, 'hidden4_size': 48, 'num_epochs': 16, 'learning_rate': 1.4476620047565795e-05}. Best is trial 118 with value: 0.03141140825824723.\n"
     ]
    },
    {
     "name": "stdout",
     "output_type": "stream",
     "text": [
      "Average Validation Loss: 0.0314\n"
     ]
    },
    {
     "name": "stderr",
     "output_type": "stream",
     "text": [
      "[I 2024-09-09 20:44:18,068] Trial 119 finished with value: 0.06303702660820168 and parameters: {'hidden1_size': 249, 'hidden2_size': 77, 'hidden3_size': 85, 'hidden4_size': 48, 'num_epochs': 16, 'learning_rate': 0.00014260856078625428}. Best is trial 118 with value: 0.03141140825824723.\n"
     ]
    },
    {
     "name": "stdout",
     "output_type": "stream",
     "text": [
      "Average Validation Loss: 0.0630\n"
     ]
    },
    {
     "name": "stderr",
     "output_type": "stream",
     "text": [
      "[I 2024-09-09 20:44:25,583] Trial 120 finished with value: 0.033809056610889024 and parameters: {'hidden1_size': 256, 'hidden2_size': 96, 'hidden3_size': 35, 'hidden4_size': 51, 'num_epochs': 19, 'learning_rate': 1.3692274282102048e-05}. Best is trial 118 with value: 0.03141140825824723.\n"
     ]
    },
    {
     "name": "stdout",
     "output_type": "stream",
     "text": [
      "Average Validation Loss: 0.0338\n"
     ]
    },
    {
     "name": "stderr",
     "output_type": "stream",
     "text": [
      "[I 2024-09-09 20:44:31,535] Trial 121 finished with value: 0.0319046764080191 and parameters: {'hidden1_size': 243, 'hidden2_size': 72, 'hidden3_size': 88, 'hidden4_size': 46, 'num_epochs': 15, 'learning_rate': 1.0093441868213497e-05}. Best is trial 118 with value: 0.03141140825824723.\n"
     ]
    },
    {
     "name": "stdout",
     "output_type": "stream",
     "text": [
      "Average Validation Loss: 0.0319\n"
     ]
    },
    {
     "name": "stderr",
     "output_type": "stream",
     "text": [
      "[I 2024-09-09 20:44:37,481] Trial 122 finished with value: 0.030117766089027838 and parameters: {'hidden1_size': 245, 'hidden2_size': 74, 'hidden3_size': 88, 'hidden4_size': 44, 'num_epochs': 15, 'learning_rate': 1.0230373193840846e-05}. Best is trial 122 with value: 0.030117766089027838.\n"
     ]
    },
    {
     "name": "stdout",
     "output_type": "stream",
     "text": [
      "Average Validation Loss: 0.0301\n"
     ]
    },
    {
     "name": "stderr",
     "output_type": "stream",
     "text": [
      "[I 2024-09-09 20:44:43,818] Trial 123 finished with value: 0.03246069333649108 and parameters: {'hidden1_size': 244, 'hidden2_size': 74, 'hidden3_size': 44, 'hidden4_size': 42, 'num_epochs': 16, 'learning_rate': 1.3928190411679436e-05}. Best is trial 122 with value: 0.030117766089027838.\n"
     ]
    },
    {
     "name": "stdout",
     "output_type": "stream",
     "text": [
      "Average Validation Loss: 0.0325\n"
     ]
    },
    {
     "name": "stderr",
     "output_type": "stream",
     "text": [
      "[I 2024-09-09 20:44:51,728] Trial 124 finished with value: 0.032929192607601486 and parameters: {'hidden1_size': 243, 'hidden2_size': 73, 'hidden3_size': 38, 'hidden4_size': 43, 'num_epochs': 20, 'learning_rate': 1.3186901799596692e-05}. Best is trial 122 with value: 0.030117766089027838.\n"
     ]
    },
    {
     "name": "stdout",
     "output_type": "stream",
     "text": [
      "Average Validation Loss: 0.0329\n"
     ]
    },
    {
     "name": "stderr",
     "output_type": "stream",
     "text": [
      "[I 2024-09-09 20:45:01,162] Trial 125 finished with value: 0.031849814556716455 and parameters: {'hidden1_size': 237, 'hidden2_size': 72, 'hidden3_size': 42, 'hidden4_size': 46, 'num_epochs': 24, 'learning_rate': 1.0311797414907155e-05}. Best is trial 122 with value: 0.030117766089027838.\n"
     ]
    },
    {
     "name": "stdout",
     "output_type": "stream",
     "text": [
      "Average Validation Loss: 0.0318\n"
     ]
    },
    {
     "name": "stderr",
     "output_type": "stream",
     "text": [
      "[I 2024-09-09 20:45:17,370] Trial 126 finished with value: 0.03741933636844069 and parameters: {'hidden1_size': 238, 'hidden2_size': 174, 'hidden3_size': 40, 'hidden4_size': 46, 'num_epochs': 41, 'learning_rate': 1.0321328270643658e-05}. Best is trial 122 with value: 0.030117766089027838.\n"
     ]
    },
    {
     "name": "stdout",
     "output_type": "stream",
     "text": [
      "Average Validation Loss: 0.0374\n"
     ]
    },
    {
     "name": "stderr",
     "output_type": "stream",
     "text": [
      "[I 2024-09-09 20:45:26,541] Trial 127 finished with value: 0.03497567100428222 and parameters: {'hidden1_size': 231, 'hidden2_size': 73, 'hidden3_size': 45, 'hidden4_size': 45, 'num_epochs': 23, 'learning_rate': 1.618917702887742e-05}. Best is trial 122 with value: 0.030117766089027838.\n"
     ]
    },
    {
     "name": "stdout",
     "output_type": "stream",
     "text": [
      "Average Validation Loss: 0.0350\n"
     ]
    },
    {
     "name": "stderr",
     "output_type": "stream",
     "text": [
      "[I 2024-09-09 20:45:32,847] Trial 128 finished with value: 0.03152969612606934 and parameters: {'hidden1_size': 252, 'hidden2_size': 87, 'hidden3_size': 43, 'hidden4_size': 41, 'num_epochs': 16, 'learning_rate': 1.2331254111848332e-05}. Best is trial 122 with value: 0.030117766089027838.\n"
     ]
    },
    {
     "name": "stdout",
     "output_type": "stream",
     "text": [
      "Average Validation Loss: 0.0315\n"
     ]
    },
    {
     "name": "stderr",
     "output_type": "stream",
     "text": [
      "[I 2024-09-09 20:45:43,488] Trial 129 finished with value: 0.03556492073195321 and parameters: {'hidden1_size': 237, 'hidden2_size': 87, 'hidden3_size': 91, 'hidden4_size': 49, 'num_epochs': 27, 'learning_rate': 1.0016576430325822e-05}. Best is trial 122 with value: 0.030117766089027838.\n"
     ]
    },
    {
     "name": "stdout",
     "output_type": "stream",
     "text": [
      "Average Validation Loss: 0.0356\n"
     ]
    },
    {
     "name": "stderr",
     "output_type": "stream",
     "text": [
      "[I 2024-09-09 20:45:50,655] Trial 130 finished with value: 0.03396767910037722 and parameters: {'hidden1_size': 251, 'hidden2_size': 135, 'hidden3_size': 49, 'hidden4_size': 39, 'num_epochs': 18, 'learning_rate': 1.2452367907833295e-05}. Best is trial 122 with value: 0.030117766089027838.\n"
     ]
    },
    {
     "name": "stdout",
     "output_type": "stream",
     "text": [
      "Average Validation Loss: 0.0340\n"
     ]
    },
    {
     "name": "stderr",
     "output_type": "stream",
     "text": [
      "[I 2024-09-09 20:45:56,998] Trial 131 finished with value: 0.08265390262045003 and parameters: {'hidden1_size': 247, 'hidden2_size': 83, 'hidden3_size': 44, 'hidden4_size': 41, 'num_epochs': 16, 'learning_rate': 0.00039966026460614925}. Best is trial 122 with value: 0.030117766089027838.\n"
     ]
    },
    {
     "name": "stdout",
     "output_type": "stream",
     "text": [
      "Average Validation Loss: 0.0827\n"
     ]
    },
    {
     "name": "stderr",
     "output_type": "stream",
     "text": [
      "[I 2024-09-09 20:46:05,299] Trial 132 finished with value: 0.033850295219703445 and parameters: {'hidden1_size': 242, 'hidden2_size': 76, 'hidden3_size': 35, 'hidden4_size': 42, 'num_epochs': 21, 'learning_rate': 1.4106589409554533e-05}. Best is trial 122 with value: 0.030117766089027838.\n"
     ]
    },
    {
     "name": "stdout",
     "output_type": "stream",
     "text": [
      "Average Validation Loss: 0.0339\n"
     ]
    },
    {
     "name": "stderr",
     "output_type": "stream",
     "text": [
      "[I 2024-09-09 20:46:11,231] Trial 133 finished with value: 0.03286792972080764 and parameters: {'hidden1_size': 251, 'hidden2_size': 72, 'hidden3_size': 41, 'hidden4_size': 46, 'num_epochs': 15, 'learning_rate': 1.7008499920836218e-05}. Best is trial 122 with value: 0.030117766089027838.\n"
     ]
    },
    {
     "name": "stdout",
     "output_type": "stream",
     "text": [
      "Average Validation Loss: 0.0329\n"
     ]
    },
    {
     "name": "stderr",
     "output_type": "stream",
     "text": [
      "[I 2024-09-09 20:46:17,967] Trial 134 finished with value: 0.0337371546220744 and parameters: {'hidden1_size': 240, 'hidden2_size': 93, 'hidden3_size': 43, 'hidden4_size': 47, 'num_epochs': 17, 'learning_rate': 1.1803542168283659e-05}. Best is trial 122 with value: 0.030117766089027838.\n"
     ]
    },
    {
     "name": "stdout",
     "output_type": "stream",
     "text": [
      "Average Validation Loss: 0.0337\n"
     ]
    },
    {
     "name": "stderr",
     "output_type": "stream",
     "text": [
      "[I 2024-09-09 20:46:27,910] Trial 135 finished with value: 0.03391409196913065 and parameters: {'hidden1_size': 253, 'hidden2_size': 83, 'hidden3_size': 96, 'hidden4_size': 43, 'num_epochs': 25, 'learning_rate': 1.4908003304341308e-05}. Best is trial 122 with value: 0.030117766089027838.\n"
     ]
    },
    {
     "name": "stdout",
     "output_type": "stream",
     "text": [
      "Average Validation Loss: 0.0339\n"
     ]
    },
    {
     "name": "stderr",
     "output_type": "stream",
     "text": [
      "[I 2024-09-09 20:46:33,926] Trial 136 finished with value: 0.031917301926850564 and parameters: {'hidden1_size': 245, 'hidden2_size': 196, 'hidden3_size': 47, 'hidden4_size': 45, 'num_epochs': 15, 'learning_rate': 1.0047299859950374e-05}. Best is trial 122 with value: 0.030117766089027838.\n"
     ]
    },
    {
     "name": "stdout",
     "output_type": "stream",
     "text": [
      "Average Validation Loss: 0.0319\n"
     ]
    },
    {
     "name": "stderr",
     "output_type": "stream",
     "text": [
      "[I 2024-09-09 20:46:38,746] Trial 137 finished with value: 0.03190024137230856 and parameters: {'hidden1_size': 256, 'hidden2_size': 184, 'hidden3_size': 51, 'hidden4_size': 44, 'num_epochs': 12, 'learning_rate': 1.0148263878173374e-05}. Best is trial 122 with value: 0.030117766089027838.\n"
     ]
    },
    {
     "name": "stdout",
     "output_type": "stream",
     "text": [
      "Average Validation Loss: 0.0319\n"
     ]
    },
    {
     "name": "stderr",
     "output_type": "stream",
     "text": [
      "[I 2024-09-09 20:46:43,557] Trial 138 finished with value: 0.03173145132937601 and parameters: {'hidden1_size': 256, 'hidden2_size': 198, 'hidden3_size': 47, 'hidden4_size': 45, 'num_epochs': 12, 'learning_rate': 1.0084594155853429e-05}. Best is trial 122 with value: 0.030117766089027838.\n"
     ]
    },
    {
     "name": "stdout",
     "output_type": "stream",
     "text": [
      "Average Validation Loss: 0.0317\n"
     ]
    },
    {
     "name": "stderr",
     "output_type": "stream",
     "text": [
      "[I 2024-09-09 20:46:48,000] Trial 139 finished with value: 0.031315220364679895 and parameters: {'hidden1_size': 256, 'hidden2_size': 206, 'hidden3_size': 51, 'hidden4_size': 44, 'num_epochs': 11, 'learning_rate': 1.0002637048216482e-05}. Best is trial 122 with value: 0.030117766089027838.\n"
     ]
    },
    {
     "name": "stdout",
     "output_type": "stream",
     "text": [
      "Average Validation Loss: 0.0313\n"
     ]
    },
    {
     "name": "stderr",
     "output_type": "stream",
     "text": [
      "[I 2024-09-09 20:46:52,814] Trial 140 finished with value: 0.03194957184383557 and parameters: {'hidden1_size': 256, 'hidden2_size': 206, 'hidden3_size': 49, 'hidden4_size': 45, 'num_epochs': 12, 'learning_rate': 1.1422469309948842e-05}. Best is trial 122 with value: 0.030117766089027838.\n"
     ]
    },
    {
     "name": "stdout",
     "output_type": "stream",
     "text": [
      "Average Validation Loss: 0.0319\n"
     ]
    },
    {
     "name": "stderr",
     "output_type": "stream",
     "text": [
      "[I 2024-09-09 20:46:57,624] Trial 141 finished with value: 0.032264184494990675 and parameters: {'hidden1_size': 253, 'hidden2_size': 203, 'hidden3_size': 51, 'hidden4_size': 45, 'num_epochs': 12, 'learning_rate': 1.1934108478222022e-05}. Best is trial 122 with value: 0.030117766089027838.\n"
     ]
    },
    {
     "name": "stdout",
     "output_type": "stream",
     "text": [
      "Average Validation Loss: 0.0323\n"
     ]
    },
    {
     "name": "stderr",
     "output_type": "stream",
     "text": [
      "[I 2024-09-09 20:47:02,475] Trial 142 finished with value: 0.03214464063889214 and parameters: {'hidden1_size': 255, 'hidden2_size': 195, 'hidden3_size': 47, 'hidden4_size': 44, 'num_epochs': 12, 'learning_rate': 1.1056186835557161e-05}. Best is trial 122 with value: 0.030117766089027838.\n"
     ]
    },
    {
     "name": "stdout",
     "output_type": "stream",
     "text": [
      "Average Validation Loss: 0.0321\n"
     ]
    },
    {
     "name": "stderr",
     "output_type": "stream",
     "text": [
      "[I 2024-09-09 20:47:06,910] Trial 143 finished with value: 0.034037862261313764 and parameters: {'hidden1_size': 256, 'hidden2_size': 214, 'hidden3_size': 55, 'hidden4_size': 46, 'num_epochs': 11, 'learning_rate': 1.2809071575492302e-05}. Best is trial 122 with value: 0.030117766089027838.\n"
     ]
    },
    {
     "name": "stdout",
     "output_type": "stream",
     "text": [
      "Average Validation Loss: 0.0340\n"
     ]
    },
    {
     "name": "stderr",
     "output_type": "stream",
     "text": [
      "[I 2024-09-09 20:47:11,760] Trial 144 finished with value: 0.03140122294869451 and parameters: {'hidden1_size': 250, 'hidden2_size': 203, 'hidden3_size': 47, 'hidden4_size': 48, 'num_epochs': 12, 'learning_rate': 1.1116717285743512e-05}. Best is trial 122 with value: 0.030117766089027838.\n"
     ]
    },
    {
     "name": "stdout",
     "output_type": "stream",
     "text": [
      "Average Validation Loss: 0.0314\n"
     ]
    },
    {
     "name": "stderr",
     "output_type": "stream",
     "text": [
      "[I 2024-09-09 20:47:17,773] Trial 145 finished with value: 0.03271371682751037 and parameters: {'hidden1_size': 250, 'hidden2_size': 197, 'hidden3_size': 47, 'hidden4_size': 48, 'num_epochs': 15, 'learning_rate': 1.0497371084877553e-05}. Best is trial 122 with value: 0.030117766089027838.\n"
     ]
    },
    {
     "name": "stdout",
     "output_type": "stream",
     "text": [
      "Average Validation Loss: 0.0327\n"
     ]
    },
    {
     "name": "stderr",
     "output_type": "stream",
     "text": [
      "[I 2024-09-09 20:47:25,362] Trial 146 finished with value: 0.03379124291019425 and parameters: {'hidden1_size': 241, 'hidden2_size': 188, 'hidden3_size': 53, 'hidden4_size': 43, 'num_epochs': 19, 'learning_rate': 1.3464397829475507e-05}. Best is trial 122 with value: 0.030117766089027838.\n"
     ]
    },
    {
     "name": "stdout",
     "output_type": "stream",
     "text": [
      "Average Validation Loss: 0.0338\n"
     ]
    },
    {
     "name": "stderr",
     "output_type": "stream",
     "text": [
      "[I 2024-09-09 20:47:29,425] Trial 147 finished with value: 0.033510779740200156 and parameters: {'hidden1_size': 230, 'hidden2_size': 214, 'hidden3_size': 51, 'hidden4_size': 41, 'num_epochs': 10, 'learning_rate': 1.0046525563006831e-05}. Best is trial 122 with value: 0.030117766089027838.\n"
     ]
    },
    {
     "name": "stdout",
     "output_type": "stream",
     "text": [
      "Average Validation Loss: 0.0335\n"
     ]
    },
    {
     "name": "stderr",
     "output_type": "stream",
     "text": [
      "[I 2024-09-09 20:47:47,811] Trial 148 finished with value: 0.03622148036568736 and parameters: {'hidden1_size': 250, 'hidden2_size': 223, 'hidden3_size': 46, 'hidden4_size': 47, 'num_epochs': 46, 'learning_rate': 1.1765792277844784e-05}. Best is trial 122 with value: 0.030117766089027838.\n"
     ]
    },
    {
     "name": "stdout",
     "output_type": "stream",
     "text": [
      "Average Validation Loss: 0.0362\n"
     ]
    },
    {
     "name": "stderr",
     "output_type": "stream",
     "text": [
      "[I 2024-09-09 20:47:53,115] Trial 149 finished with value: 0.03326819450150998 and parameters: {'hidden1_size': 237, 'hidden2_size': 193, 'hidden3_size': 39, 'hidden4_size': 48, 'num_epochs': 13, 'learning_rate': 1.5377374874925693e-05}. Best is trial 122 with value: 0.030117766089027838.\n"
     ]
    },
    {
     "name": "stdout",
     "output_type": "stream",
     "text": [
      "Average Validation Loss: 0.0333\n"
     ]
    },
    {
     "name": "stderr",
     "output_type": "stream",
     "text": [
      "[I 2024-09-09 20:47:58,760] Trial 150 finished with value: 0.03471730494805213 and parameters: {'hidden1_size': 244, 'hidden2_size': 210, 'hidden3_size': 43, 'hidden4_size': 44, 'num_epochs': 14, 'learning_rate': 1.2665061362565802e-05}. Best is trial 122 with value: 0.030117766089027838.\n"
     ]
    },
    {
     "name": "stdout",
     "output_type": "stream",
     "text": [
      "Average Validation Loss: 0.0347\n"
     ]
    },
    {
     "name": "stderr",
     "output_type": "stream",
     "text": [
      "[I 2024-09-09 20:48:03,572] Trial 151 finished with value: 0.03207666508942133 and parameters: {'hidden1_size': 256, 'hidden2_size': 205, 'hidden3_size': 48, 'hidden4_size': 45, 'num_epochs': 12, 'learning_rate': 1.0203201703847467e-05}. Best is trial 122 with value: 0.030117766089027838.\n"
     ]
    },
    {
     "name": "stdout",
     "output_type": "stream",
     "text": [
      "Average Validation Loss: 0.0321\n"
     ]
    },
    {
     "name": "stderr",
     "output_type": "stream",
     "text": [
      "[I 2024-09-09 20:48:08,001] Trial 152 finished with value: 0.0338666255120188 and parameters: {'hidden1_size': 252, 'hidden2_size': 200, 'hidden3_size': 52, 'hidden4_size': 46, 'num_epochs': 11, 'learning_rate': 1.1604328070586301e-05}. Best is trial 122 with value: 0.030117766089027838.\n"
     ]
    },
    {
     "name": "stdout",
     "output_type": "stream",
     "text": [
      "Average Validation Loss: 0.0339\n"
     ]
    },
    {
     "name": "stderr",
     "output_type": "stream",
     "text": [
      "[I 2024-09-09 20:48:14,772] Trial 153 finished with value: 0.031915335550106 and parameters: {'hidden1_size': 97, 'hidden2_size': 208, 'hidden3_size': 50, 'hidden4_size': 47, 'num_epochs': 17, 'learning_rate': 1.4319082191187571e-05}. Best is trial 122 with value: 0.030117766089027838.\n"
     ]
    },
    {
     "name": "stdout",
     "output_type": "stream",
     "text": [
      "Average Validation Loss: 0.0319\n"
     ]
    },
    {
     "name": "stderr",
     "output_type": "stream",
     "text": [
      "[I 2024-09-09 20:48:21,142] Trial 154 finished with value: 0.03428325665161191 and parameters: {'hidden1_size': 82, 'hidden2_size': 220, 'hidden3_size': 42, 'hidden4_size': 50, 'num_epochs': 16, 'learning_rate': 1.9062095217414965e-05}. Best is trial 122 with value: 0.030117766089027838.\n"
     ]
    },
    {
     "name": "stdout",
     "output_type": "stream",
     "text": [
      "Average Validation Loss: 0.0343\n"
     ]
    },
    {
     "name": "stderr",
     "output_type": "stream",
     "text": [
      "[I 2024-09-09 20:48:28,208] Trial 155 finished with value: 0.03319951823158633 and parameters: {'hidden1_size': 66, 'hidden2_size': 190, 'hidden3_size': 46, 'hidden4_size': 48, 'num_epochs': 18, 'learning_rate': 1.5032503064519667e-05}. Best is trial 122 with value: 0.030117766089027838.\n"
     ]
    },
    {
     "name": "stdout",
     "output_type": "stream",
     "text": [
      "Average Validation Loss: 0.0332\n"
     ]
    },
    {
     "name": "stderr",
     "output_type": "stream",
     "text": [
      "[I 2024-09-09 20:48:36,051] Trial 156 finished with value: 0.0341902729456446 and parameters: {'hidden1_size': 130, 'hidden2_size': 210, 'hidden3_size': 49, 'hidden4_size': 40, 'num_epochs': 20, 'learning_rate': 1.320414414495112e-05}. Best is trial 122 with value: 0.030117766089027838.\n"
     ]
    },
    {
     "name": "stdout",
     "output_type": "stream",
     "text": [
      "Average Validation Loss: 0.0342\n"
     ]
    },
    {
     "name": "stderr",
     "output_type": "stream",
     "text": [
      "[I 2024-09-09 20:48:41,697] Trial 157 finished with value: 0.033521952207333276 and parameters: {'hidden1_size': 247, 'hidden2_size': 184, 'hidden3_size': 33, 'hidden4_size': 47, 'num_epochs': 14, 'learning_rate': 1.6843870431782388e-05}. Best is trial 122 with value: 0.030117766089027838.\n"
     ]
    },
    {
     "name": "stdout",
     "output_type": "stream",
     "text": [
      "Average Validation Loss: 0.0335\n"
     ]
    },
    {
     "name": "stderr",
     "output_type": "stream",
     "text": [
      "[I 2024-09-09 20:48:48,505] Trial 158 finished with value: 0.03241811619539346 and parameters: {'hidden1_size': 241, 'hidden2_size': 174, 'hidden3_size': 37, 'hidden4_size': 49, 'num_epochs': 17, 'learning_rate': 1.0119033597317622e-05}. Best is trial 122 with value: 0.030117766089027838.\n"
     ]
    },
    {
     "name": "stdout",
     "output_type": "stream",
     "text": [
      "Average Validation Loss: 0.0324\n"
     ]
    },
    {
     "name": "stderr",
     "output_type": "stream",
     "text": [
      "[I 2024-09-09 20:48:52,549] Trial 159 finished with value: 0.03192305225612862 and parameters: {'hidden1_size': 119, 'hidden2_size': 233, 'hidden3_size': 93, 'hidden4_size': 43, 'num_epochs': 10, 'learning_rate': 1.4450577152751203e-05}. Best is trial 122 with value: 0.030117766089027838.\n"
     ]
    },
    {
     "name": "stdout",
     "output_type": "stream",
     "text": [
      "Average Validation Loss: 0.0319\n"
     ]
    },
    {
     "name": "stderr",
     "output_type": "stream",
     "text": [
      "[I 2024-09-09 20:49:06,337] Trial 160 finished with value: 0.03549970630445473 and parameters: {'hidden1_size': 249, 'hidden2_size': 199, 'hidden3_size': 50, 'hidden4_size': 44, 'num_epochs': 34, 'learning_rate': 1.2195187865623646e-05}. Best is trial 122 with value: 0.030117766089027838.\n"
     ]
    },
    {
     "name": "stdout",
     "output_type": "stream",
     "text": [
      "Average Validation Loss: 0.0355\n"
     ]
    },
    {
     "name": "stderr",
     "output_type": "stream",
     "text": [
      "[I 2024-09-09 20:49:10,397] Trial 161 finished with value: 0.03079797209994424 and parameters: {'hidden1_size': 90, 'hidden2_size': 233, 'hidden3_size': 92, 'hidden4_size': 42, 'num_epochs': 10, 'learning_rate': 1.4367007016441893e-05}. Best is trial 122 with value: 0.030117766089027838.\n"
     ]
    },
    {
     "name": "stdout",
     "output_type": "stream",
     "text": [
      "Average Validation Loss: 0.0308\n"
     ]
    },
    {
     "name": "stderr",
     "output_type": "stream",
     "text": [
      "[I 2024-09-09 20:49:15,201] Trial 162 finished with value: 0.03306844074367767 and parameters: {'hidden1_size': 88, 'hidden2_size': 238, 'hidden3_size': 91, 'hidden4_size': 41, 'num_epochs': 12, 'learning_rate': 1.1467471146631995e-05}. Best is trial 122 with value: 0.030117766089027838.\n"
     ]
    },
    {
     "name": "stdout",
     "output_type": "stream",
     "text": [
      "Average Validation Loss: 0.0331\n"
     ]
    },
    {
     "name": "stderr",
     "output_type": "stream",
     "text": [
      "[I 2024-09-09 20:49:21,213] Trial 163 finished with value: 0.03254486178602314 and parameters: {'hidden1_size': 94, 'hidden2_size': 167, 'hidden3_size': 94, 'hidden4_size': 47, 'num_epochs': 15, 'learning_rate': 1.364371922074931e-05}. Best is trial 122 with value: 0.030117766089027838.\n"
     ]
    },
    {
     "name": "stdout",
     "output_type": "stream",
     "text": [
      "Average Validation Loss: 0.0325\n"
     ]
    },
    {
     "name": "stderr",
     "output_type": "stream",
     "text": [
      "[I 2024-09-09 20:49:26,424] Trial 164 finished with value: 0.06553820229878295 and parameters: {'hidden1_size': 102, 'hidden2_size': 253, 'hidden3_size': 56, 'hidden4_size': 42, 'num_epochs': 13, 'learning_rate': 0.0016515347821955205}. Best is trial 122 with value: 0.030117766089027838.\n"
     ]
    },
    {
     "name": "stdout",
     "output_type": "stream",
     "text": [
      "Average Validation Loss: 0.0655\n"
     ]
    },
    {
     "name": "stderr",
     "output_type": "stream",
     "text": [
      "[I 2024-09-09 20:49:30,435] Trial 165 finished with value: 0.06982477044775373 and parameters: {'hidden1_size': 101, 'hidden2_size': 208, 'hidden3_size': 41, 'hidden4_size': 44, 'num_epochs': 10, 'learning_rate': 1.0008577103529969e-05}. Best is trial 122 with value: 0.030117766089027838.\n"
     ]
    },
    {
     "name": "stdout",
     "output_type": "stream",
     "text": [
      "Average Validation Loss: 0.0698\n"
     ]
    },
    {
     "name": "stderr",
     "output_type": "stream",
     "text": [
      "[I 2024-09-09 20:49:36,532] Trial 166 finished with value: 0.031168677456056077 and parameters: {'hidden1_size': 77, 'hidden2_size': 179, 'hidden3_size': 86, 'hidden4_size': 46, 'num_epochs': 15, 'learning_rate': 1.885258460995979e-05}. Best is trial 122 with value: 0.030117766089027838.\n"
     ]
    },
    {
     "name": "stdout",
     "output_type": "stream",
     "text": [
      "Average Validation Loss: 0.0312\n"
     ]
    },
    {
     "name": "stderr",
     "output_type": "stream",
     "text": [
      "[I 2024-09-09 20:49:44,342] Trial 167 finished with value: 0.03353742643680778 and parameters: {'hidden1_size': 80, 'hidden2_size': 161, 'hidden3_size': 87, 'hidden4_size': 46, 'num_epochs': 18, 'learning_rate': 1.9000106793944013e-05}. Best is trial 122 with value: 0.030117766089027838.\n"
     ]
    },
    {
     "name": "stdout",
     "output_type": "stream",
     "text": [
      "Average Validation Loss: 0.0335\n"
     ]
    },
    {
     "name": "stderr",
     "output_type": "stream",
     "text": [
      "[I 2024-09-09 20:49:49,717] Trial 168 finished with value: 0.03420193065401344 and parameters: {'hidden1_size': 75, 'hidden2_size': 169, 'hidden3_size': 85, 'hidden4_size': 48, 'num_epochs': 13, 'learning_rate': 1.6366124732526434e-05}. Best is trial 122 with value: 0.030117766089027838.\n"
     ]
    },
    {
     "name": "stdout",
     "output_type": "stream",
     "text": [
      "Average Validation Loss: 0.0342\n"
     ]
    },
    {
     "name": "stderr",
     "output_type": "stream",
     "text": [
      "[I 2024-09-09 20:50:14,496] Trial 169 finished with value: 0.048189442940946764 and parameters: {'hidden1_size': 72, 'hidden2_size': 177, 'hidden3_size': 90, 'hidden4_size': 43, 'num_epochs': 64, 'learning_rate': 1.9355817618021593e-05}. Best is trial 122 with value: 0.030117766089027838.\n"
     ]
    },
    {
     "name": "stdout",
     "output_type": "stream",
     "text": [
      "Average Validation Loss: 0.0482\n"
     ]
    },
    {
     "name": "stderr",
     "output_type": "stream",
     "text": [
      "[I 2024-09-09 20:50:36,720] Trial 170 finished with value: 0.05065932808308086 and parameters: {'hidden1_size': 93, 'hidden2_size': 157, 'hidden3_size': 95, 'hidden4_size': 45, 'num_epochs': 58, 'learning_rate': 2.2084240600356177e-05}. Best is trial 122 with value: 0.030117766089027838.\n"
     ]
    },
    {
     "name": "stdout",
     "output_type": "stream",
     "text": [
      "Average Validation Loss: 0.0507\n"
     ]
    },
    {
     "name": "stderr",
     "output_type": "stream",
     "text": [
      "[I 2024-09-09 20:50:42,555] Trial 171 finished with value: 0.0341273541229644 and parameters: {'hidden1_size': 105, 'hidden2_size': 194, 'hidden3_size': 45, 'hidden4_size': 45, 'num_epochs': 15, 'learning_rate': 1.2652706935947876e-05}. Best is trial 122 with value: 0.030117766089027838.\n"
     ]
    },
    {
     "name": "stdout",
     "output_type": "stream",
     "text": [
      "Average Validation Loss: 0.0341\n"
     ]
    },
    {
     "name": "stderr",
     "output_type": "stream",
     "text": [
      "[I 2024-09-09 20:50:48,402] Trial 172 finished with value: 0.03437795138008715 and parameters: {'hidden1_size': 244, 'hidden2_size': 179, 'hidden3_size': 88, 'hidden4_size': 40, 'num_epochs': 15, 'learning_rate': 1.4736670252713727e-05}. Best is trial 122 with value: 0.030117766089027838.\n"
     ]
    },
    {
     "name": "stdout",
     "output_type": "stream",
     "text": [
      "Average Validation Loss: 0.0344\n"
     ]
    },
    {
     "name": "stderr",
     "output_type": "stream",
     "text": [
      "[I 2024-09-09 20:50:53,127] Trial 173 finished with value: 0.03300271085685208 and parameters: {'hidden1_size': 251, 'hidden2_size': 189, 'hidden3_size': 53, 'hidden4_size': 49, 'num_epochs': 12, 'learning_rate': 1.151368991321678e-05}. Best is trial 122 with value: 0.030117766089027838.\n"
     ]
    },
    {
     "name": "stdout",
     "output_type": "stream",
     "text": [
      "Average Validation Loss: 0.0330\n"
     ]
    },
    {
     "name": "stderr",
     "output_type": "stream",
     "text": [
      "[I 2024-09-09 20:50:59,789] Trial 174 finished with value: 0.03393231289616475 and parameters: {'hidden1_size': 247, 'hidden2_size': 200, 'hidden3_size': 98, 'hidden4_size': 47, 'num_epochs': 17, 'learning_rate': 1.3167087574970202e-05}. Best is trial 122 with value: 0.030117766089027838.\n"
     ]
    },
    {
     "name": "stdout",
     "output_type": "stream",
     "text": [
      "Average Validation Loss: 0.0339\n"
     ]
    },
    {
     "name": "stderr",
     "output_type": "stream",
     "text": [
      "[I 2024-09-09 20:51:05,208] Trial 175 finished with value: 0.03270932066897374 and parameters: {'hidden1_size': 235, 'hidden2_size': 180, 'hidden3_size': 86, 'hidden4_size': 46, 'num_epochs': 14, 'learning_rate': 1.663522696526316e-05}. Best is trial 122 with value: 0.030117766089027838.\n"
     ]
    },
    {
     "name": "stdout",
     "output_type": "stream",
     "text": [
      "Average Validation Loss: 0.0327\n"
     ]
    },
    {
     "name": "stderr",
     "output_type": "stream",
     "text": [
      "[I 2024-09-09 20:51:09,554] Trial 176 finished with value: 0.03208145229811115 and parameters: {'hidden1_size': 252, 'hidden2_size': 232, 'hidden3_size': 93, 'hidden4_size': 50, 'num_epochs': 11, 'learning_rate': 1.0016803617113887e-05}. Best is trial 122 with value: 0.030117766089027838.\n"
     ]
    },
    {
     "name": "stdout",
     "output_type": "stream",
     "text": [
      "Average Validation Loss: 0.0321\n"
     ]
    },
    {
     "name": "stderr",
     "output_type": "stream",
     "text": [
      "[I 2024-09-09 20:51:16,914] Trial 177 finished with value: 0.034561363874845916 and parameters: {'hidden1_size': 87, 'hidden2_size': 193, 'hidden3_size': 101, 'hidden4_size': 44, 'num_epochs': 19, 'learning_rate': 1.149644441904416e-05}. Best is trial 122 with value: 0.030117766089027838.\n"
     ]
    },
    {
     "name": "stdout",
     "output_type": "stream",
     "text": [
      "Average Validation Loss: 0.0346\n"
     ]
    },
    {
     "name": "stderr",
     "output_type": "stream",
     "text": [
      "[I 2024-09-09 20:51:20,856] Trial 178 finished with value: 0.032462290698839796 and parameters: {'hidden1_size': 245, 'hidden2_size': 204, 'hidden3_size': 48, 'hidden4_size': 42, 'num_epochs': 10, 'learning_rate': 1.5082283016917342e-05}. Best is trial 122 with value: 0.030117766089027838.\n"
     ]
    },
    {
     "name": "stdout",
     "output_type": "stream",
     "text": [
      "Average Validation Loss: 0.0325\n"
     ]
    },
    {
     "name": "stderr",
     "output_type": "stream",
     "text": [
      "[I 2024-09-09 20:51:27,112] Trial 179 finished with value: 0.0334362666610451 and parameters: {'hidden1_size': 239, 'hidden2_size': 212, 'hidden3_size': 90, 'hidden4_size': 45, 'num_epochs': 16, 'learning_rate': 1.3127726891766655e-05}. Best is trial 122 with value: 0.030117766089027838.\n"
     ]
    },
    {
     "name": "stdout",
     "output_type": "stream",
     "text": [
      "Average Validation Loss: 0.0334\n"
     ]
    },
    {
     "name": "stderr",
     "output_type": "stream",
     "text": [
      "[I 2024-09-09 20:51:35,266] Trial 180 finished with value: 0.03518705607746683 and parameters: {'hidden1_size': 249, 'hidden2_size': 144, 'hidden3_size': 97, 'hidden4_size': 43, 'num_epochs': 21, 'learning_rate': 1.1621708395907212e-05}. Best is trial 122 with value: 0.030117766089027838.\n"
     ]
    },
    {
     "name": "stdout",
     "output_type": "stream",
     "text": [
      "Average Validation Loss: 0.0352\n"
     ]
    },
    {
     "name": "stderr",
     "output_type": "stream",
     "text": [
      "[I 2024-09-09 20:51:39,136] Trial 181 finished with value: 0.031211354669981768 and parameters: {'hidden1_size': 107, 'hidden2_size': 234, 'hidden3_size': 92, 'hidden4_size': 43, 'num_epochs': 10, 'learning_rate': 1.4386625160829878e-05}. Best is trial 122 with value: 0.030117766089027838.\n"
     ]
    },
    {
     "name": "stdout",
     "output_type": "stream",
     "text": [
      "Average Validation Loss: 0.0312\n"
     ]
    },
    {
     "name": "stderr",
     "output_type": "stream",
     "text": [
      "[I 2024-09-09 20:51:44,171] Trial 182 finished with value: 0.034682904569698234 and parameters: {'hidden1_size': 108, 'hidden2_size': 245, 'hidden3_size': 92, 'hidden4_size': 40, 'num_epochs': 13, 'learning_rate': 1.4514819656578664e-05}. Best is trial 122 with value: 0.030117766089027838.\n"
     ]
    },
    {
     "name": "stdout",
     "output_type": "stream",
     "text": [
      "Average Validation Loss: 0.0347\n"
     ]
    },
    {
     "name": "stderr",
     "output_type": "stream",
     "text": [
      "[I 2024-09-09 20:51:48,812] Trial 183 finished with value: 0.036247295748797204 and parameters: {'hidden1_size': 92, 'hidden2_size': 185, 'hidden3_size': 88, 'hidden4_size': 42, 'num_epochs': 12, 'learning_rate': 1.7694907517085155e-05}. Best is trial 122 with value: 0.030117766089027838.\n"
     ]
    },
    {
     "name": "stdout",
     "output_type": "stream",
     "text": [
      "Average Validation Loss: 0.0362\n"
     ]
    },
    {
     "name": "stderr",
     "output_type": "stream",
     "text": [
      "[I 2024-09-09 20:51:52,793] Trial 184 finished with value: 0.03182136950393518 and parameters: {'hidden1_size': 256, 'hidden2_size': 230, 'hidden3_size': 51, 'hidden4_size': 44, 'num_epochs': 10, 'learning_rate': 1.1313206427625968e-05}. Best is trial 122 with value: 0.030117766089027838.\n"
     ]
    },
    {
     "name": "stdout",
     "output_type": "stream",
     "text": [
      "Average Validation Loss: 0.0318\n"
     ]
    },
    {
     "name": "stderr",
     "output_type": "stream",
     "text": [
      "[I 2024-09-09 20:51:57,181] Trial 185 finished with value: 0.031771749269128555 and parameters: {'hidden1_size': 256, 'hidden2_size': 232, 'hidden3_size': 51, 'hidden4_size': 44, 'num_epochs': 11, 'learning_rate': 1.3575990429471294e-05}. Best is trial 122 with value: 0.030117766089027838.\n"
     ]
    },
    {
     "name": "stdout",
     "output_type": "stream",
     "text": [
      "Average Validation Loss: 0.0318\n"
     ]
    },
    {
     "name": "stderr",
     "output_type": "stream",
     "text": [
      "[I 2024-09-09 20:52:01,609] Trial 186 finished with value: 0.03246070284928594 and parameters: {'hidden1_size': 256, 'hidden2_size': 232, 'hidden3_size': 84, 'hidden4_size': 44, 'num_epochs': 11, 'learning_rate': 1.278888523715352e-05}. Best is trial 122 with value: 0.030117766089027838.\n"
     ]
    },
    {
     "name": "stdout",
     "output_type": "stream",
     "text": [
      "Average Validation Loss: 0.0325\n"
     ]
    },
    {
     "name": "stderr",
     "output_type": "stream",
     "text": [
      "[I 2024-09-09 20:52:05,558] Trial 187 finished with value: 0.03236398841476157 and parameters: {'hidden1_size': 252, 'hidden2_size': 227, 'hidden3_size': 92, 'hidden4_size': 43, 'num_epochs': 10, 'learning_rate': 1.15176804796172e-05}. Best is trial 122 with value: 0.030117766089027838.\n"
     ]
    },
    {
     "name": "stdout",
     "output_type": "stream",
     "text": [
      "Average Validation Loss: 0.0324\n"
     ]
    },
    {
     "name": "stderr",
     "output_type": "stream",
     "text": [
      "[I 2024-09-09 20:52:09,487] Trial 188 finished with value: 0.03230585326396283 and parameters: {'hidden1_size': 256, 'hidden2_size': 242, 'hidden3_size': 95, 'hidden4_size': 23, 'num_epochs': 10, 'learning_rate': 1.65065525442942e-05}. Best is trial 122 with value: 0.030117766089027838.\n"
     ]
    },
    {
     "name": "stdout",
     "output_type": "stream",
     "text": [
      "Average Validation Loss: 0.0323\n"
     ]
    },
    {
     "name": "stderr",
     "output_type": "stream",
     "text": [
      "[I 2024-09-09 20:52:14,696] Trial 189 finished with value: 0.030592935448068948 and parameters: {'hidden1_size': 252, 'hidden2_size': 238, 'hidden3_size': 51, 'hidden4_size': 42, 'num_epochs': 13, 'learning_rate': 1.1372402564569494e-05}. Best is trial 122 with value: 0.030117766089027838.\n"
     ]
    },
    {
     "name": "stdout",
     "output_type": "stream",
     "text": [
      "Average Validation Loss: 0.0306\n"
     ]
    },
    {
     "name": "stderr",
     "output_type": "stream",
     "text": [
      "[I 2024-09-09 20:52:46,517] Trial 190 finished with value: 0.07191200972649117 and parameters: {'hidden1_size': 253, 'hidden2_size': 238, 'hidden3_size': 53, 'hidden4_size': 36, 'num_epochs': 79, 'learning_rate': 1.930794626470166e-05}. Best is trial 122 with value: 0.030117766089027838.\n"
     ]
    },
    {
     "name": "stdout",
     "output_type": "stream",
     "text": [
      "Average Validation Loss: 0.0719\n"
     ]
    },
    {
     "name": "stderr",
     "output_type": "stream",
     "text": [
      "[I 2024-09-09 20:52:51,775] Trial 191 finished with value: 0.032025289721786976 and parameters: {'hidden1_size': 249, 'hidden2_size': 236, 'hidden3_size': 55, 'hidden4_size': 42, 'num_epochs': 13, 'learning_rate': 1.1473564845589914e-05}. Best is trial 122 with value: 0.030117766089027838.\n"
     ]
    },
    {
     "name": "stdout",
     "output_type": "stream",
     "text": [
      "Average Validation Loss: 0.0320\n"
     ]
    },
    {
     "name": "stderr",
     "output_type": "stream",
     "text": [
      "[I 2024-09-09 20:52:56,696] Trial 192 finished with value: 0.03056212322830799 and parameters: {'hidden1_size': 252, 'hidden2_size': 244, 'hidden3_size': 51, 'hidden4_size': 39, 'num_epochs': 12, 'learning_rate': 1.2389670527194122e-05}. Best is trial 122 with value: 0.030117766089027838.\n"
     ]
    },
    {
     "name": "stdout",
     "output_type": "stream",
     "text": [
      "Average Validation Loss: 0.0306\n"
     ]
    },
    {
     "name": "stderr",
     "output_type": "stream",
     "text": [
      "[I 2024-09-09 20:53:01,641] Trial 193 finished with value: 0.03404306971268462 and parameters: {'hidden1_size': 253, 'hidden2_size': 243, 'hidden3_size': 52, 'hidden4_size': 38, 'num_epochs': 12, 'learning_rate': 1.3088132799932162e-05}. Best is trial 122 with value: 0.030117766089027838.\n"
     ]
    },
    {
     "name": "stdout",
     "output_type": "stream",
     "text": [
      "Average Validation Loss: 0.0340\n"
     ]
    },
    {
     "name": "stderr",
     "output_type": "stream",
     "text": [
      "[I 2024-09-09 20:53:05,723] Trial 194 finished with value: 0.031626822449089514 and parameters: {'hidden1_size': 250, 'hidden2_size': 229, 'hidden3_size': 49, 'hidden4_size': 41, 'num_epochs': 10, 'learning_rate': 1.5356134433706243e-05}. Best is trial 122 with value: 0.030117766089027838.\n"
     ]
    },
    {
     "name": "stdout",
     "output_type": "stream",
     "text": [
      "Average Validation Loss: 0.0316\n"
     ]
    },
    {
     "name": "stderr",
     "output_type": "stream",
     "text": [
      "[I 2024-09-09 20:53:09,721] Trial 195 finished with value: 0.03419549817529818 and parameters: {'hidden1_size': 248, 'hidden2_size': 247, 'hidden3_size': 59, 'hidden4_size': 39, 'num_epochs': 10, 'learning_rate': 1.5474356153084697e-05}. Best is trial 122 with value: 0.030117766089027838.\n"
     ]
    },
    {
     "name": "stdout",
     "output_type": "stream",
     "text": [
      "Average Validation Loss: 0.0342\n"
     ]
    },
    {
     "name": "stderr",
     "output_type": "stream",
     "text": [
      "[I 2024-09-09 20:53:15,337] Trial 196 finished with value: 0.03364646000721093 and parameters: {'hidden1_size': 251, 'hidden2_size': 227, 'hidden3_size': 49, 'hidden4_size': 40, 'num_epochs': 14, 'learning_rate': 1.7251092062949696e-05}. Best is trial 122 with value: 0.030117766089027838.\n"
     ]
    },
    {
     "name": "stdout",
     "output_type": "stream",
     "text": [
      "Average Validation Loss: 0.0336\n"
     ]
    },
    {
     "name": "stderr",
     "output_type": "stream",
     "text": [
      "[I 2024-09-09 20:53:19,366] Trial 197 finished with value: 0.03373757841265095 and parameters: {'hidden1_size': 242, 'hidden2_size': 252, 'hidden3_size': 44, 'hidden4_size': 41, 'num_epochs': 10, 'learning_rate': 2.1944581715930358e-05}. Best is trial 122 with value: 0.030117766089027838.\n"
     ]
    },
    {
     "name": "stdout",
     "output_type": "stream",
     "text": [
      "Average Validation Loss: 0.0337\n"
     ]
    },
    {
     "name": "stderr",
     "output_type": "stream",
     "text": [
      "[I 2024-09-09 20:53:24,201] Trial 198 finished with value: 0.033556055244324465 and parameters: {'hidden1_size': 246, 'hidden2_size': 219, 'hidden3_size': 46, 'hidden4_size': 39, 'num_epochs': 12, 'learning_rate': 1.4285738234217998e-05}. Best is trial 122 with value: 0.030117766089027838.\n"
     ]
    },
    {
     "name": "stdout",
     "output_type": "stream",
     "text": [
      "Average Validation Loss: 0.0336\n"
     ]
    },
    {
     "name": "stderr",
     "output_type": "stream",
     "text": [
      "[I 2024-09-09 20:53:29,891] Trial 199 finished with value: 0.035358212888240814 and parameters: {'hidden1_size': 252, 'hidden2_size': 229, 'hidden3_size': 54, 'hidden4_size': 41, 'num_epochs': 14, 'learning_rate': 2.4782704311776887e-05}. Best is trial 122 with value: 0.030117766089027838.\n"
     ]
    },
    {
     "name": "stdout",
     "output_type": "stream",
     "text": [
      "Average Validation Loss: 0.0354\n"
     ]
    },
    {
     "name": "stderr",
     "output_type": "stream",
     "text": [
      "[I 2024-09-09 20:53:33,905] Trial 200 finished with value: 0.1022631675938707 and parameters: {'hidden1_size': 248, 'hidden2_size': 235, 'hidden3_size': 57, 'hidden4_size': 38, 'num_epochs': 10, 'learning_rate': 0.004188392387567552}. Best is trial 122 with value: 0.030117766089027838.\n"
     ]
    },
    {
     "name": "stdout",
     "output_type": "stream",
     "text": [
      "Average Validation Loss: 0.1023\n"
     ]
    },
    {
     "name": "stderr",
     "output_type": "stream",
     "text": [
      "[I 2024-09-09 20:53:38,771] Trial 201 finished with value: 0.032255638224471896 and parameters: {'hidden1_size': 256, 'hidden2_size': 240, 'hidden3_size': 51, 'hidden4_size': 43, 'num_epochs': 12, 'learning_rate': 1.2541509474295165e-05}. Best is trial 122 with value: 0.030117766089027838.\n"
     ]
    },
    {
     "name": "stdout",
     "output_type": "stream",
     "text": [
      "Average Validation Loss: 0.0323\n"
     ]
    },
    {
     "name": "stderr",
     "output_type": "stream",
     "text": [
      "[I 2024-09-09 20:53:43,587] Trial 202 finished with value: 0.03271422766902972 and parameters: {'hidden1_size': 253, 'hidden2_size': 228, 'hidden3_size': 51, 'hidden4_size': 42, 'num_epochs': 12, 'learning_rate': 1.208588389582628e-05}. Best is trial 122 with value: 0.030117766089027838.\n"
     ]
    },
    {
     "name": "stdout",
     "output_type": "stream",
     "text": [
      "Average Validation Loss: 0.0327\n"
     ]
    },
    {
     "name": "stderr",
     "output_type": "stream",
     "text": [
      "[I 2024-09-09 20:53:49,219] Trial 203 finished with value: 0.03184997629640358 and parameters: {'hidden1_size': 249, 'hidden2_size': 222, 'hidden3_size': 48, 'hidden4_size': 44, 'num_epochs': 14, 'learning_rate': 1.1341246060963799e-05}. Best is trial 122 with value: 0.030117766089027838.\n"
     ]
    },
    {
     "name": "stdout",
     "output_type": "stream",
     "text": [
      "Average Validation Loss: 0.0318\n"
     ]
    },
    {
     "name": "stderr",
     "output_type": "stream",
     "text": [
      "[I 2024-09-09 20:53:54,789] Trial 204 finished with value: 0.03161575289310089 and parameters: {'hidden1_size': 76, 'hidden2_size': 223, 'hidden3_size': 48, 'hidden4_size': 45, 'num_epochs': 14, 'learning_rate': 1.3514036430510318e-05}. Best is trial 122 with value: 0.030117766089027838.\n"
     ]
    },
    {
     "name": "stdout",
     "output_type": "stream",
     "text": [
      "Average Validation Loss: 0.0316\n"
     ]
    },
    {
     "name": "stderr",
     "output_type": "stream",
     "text": [
      "[I 2024-09-09 20:54:00,348] Trial 205 finished with value: 0.03247256572580054 and parameters: {'hidden1_size': 69, 'hidden2_size': 220, 'hidden3_size': 47, 'hidden4_size': 45, 'num_epochs': 14, 'learning_rate': 1.4874044223171473e-05}. Best is trial 122 with value: 0.030117766089027838.\n"
     ]
    },
    {
     "name": "stdout",
     "output_type": "stream",
     "text": [
      "Average Validation Loss: 0.0325\n"
     ]
    },
    {
     "name": "stderr",
     "output_type": "stream",
     "text": [
      "[I 2024-09-09 20:54:05,471] Trial 206 finished with value: 0.10084909502239454 and parameters: {'hidden1_size': 79, 'hidden2_size': 217, 'hidden3_size': 49, 'hidden4_size': 44, 'num_epochs': 13, 'learning_rate': 0.0007827943049922057}. Best is trial 122 with value: 0.030117766089027838.\n"
     ]
    },
    {
     "name": "stdout",
     "output_type": "stream",
     "text": [
      "Average Validation Loss: 0.1008\n"
     ]
    },
    {
     "name": "stderr",
     "output_type": "stream",
     "text": [
      "[I 2024-09-09 20:54:11,751] Trial 207 finished with value: 0.034573909427438466 and parameters: {'hidden1_size': 76, 'hidden2_size': 224, 'hidden3_size': 46, 'hidden4_size': 41, 'num_epochs': 16, 'learning_rate': 1.3754350000926754e-05}. Best is trial 122 with value: 0.030117766089027838.\n"
     ]
    },
    {
     "name": "stdout",
     "output_type": "stream",
     "text": [
      "Average Validation Loss: 0.0346\n"
     ]
    },
    {
     "name": "stderr",
     "output_type": "stream",
     "text": [
      "[I 2024-09-09 20:54:16,199] Trial 208 finished with value: 0.03302998673392549 and parameters: {'hidden1_size': 249, 'hidden2_size': 224, 'hidden3_size': 44, 'hidden4_size': 43, 'num_epochs': 11, 'learning_rate': 1.627268143043235e-05}. Best is trial 122 with value: 0.030117766089027838.\n"
     ]
    },
    {
     "name": "stdout",
     "output_type": "stream",
     "text": [
      "Average Validation Loss: 0.0330\n"
     ]
    },
    {
     "name": "stderr",
     "output_type": "stream",
     "text": [
      "[I 2024-09-09 20:54:21,865] Trial 209 finished with value: 0.03264644165479001 and parameters: {'hidden1_size': 245, 'hidden2_size': 229, 'hidden3_size': 40, 'hidden4_size': 42, 'num_epochs': 14, 'learning_rate': 1.1378488771173815e-05}. Best is trial 122 with value: 0.030117766089027838.\n"
     ]
    },
    {
     "name": "stdout",
     "output_type": "stream",
     "text": [
      "Average Validation Loss: 0.0326\n"
     ]
    },
    {
     "name": "stderr",
     "output_type": "stream",
     "text": [
      "[I 2024-09-09 20:54:25,913] Trial 210 finished with value: 0.03110592254614901 and parameters: {'hidden1_size': 85, 'hidden2_size': 232, 'hidden3_size': 48, 'hidden4_size': 46, 'num_epochs': 10, 'learning_rate': 1.9056705668770236e-05}. Best is trial 122 with value: 0.030117766089027838.\n"
     ]
    },
    {
     "name": "stdout",
     "output_type": "stream",
     "text": [
      "Average Validation Loss: 0.0311\n"
     ]
    },
    {
     "name": "stderr",
     "output_type": "stream",
     "text": [
      "[I 2024-09-09 20:54:29,939] Trial 211 finished with value: 0.03340187926022779 and parameters: {'hidden1_size': 72, 'hidden2_size': 233, 'hidden3_size': 48, 'hidden4_size': 46, 'num_epochs': 10, 'learning_rate': 1.925244978746545e-05}. Best is trial 122 with value: 0.030117766089027838.\n"
     ]
    },
    {
     "name": "stdout",
     "output_type": "stream",
     "text": [
      "Average Validation Loss: 0.0334\n"
     ]
    },
    {
     "name": "stderr",
     "output_type": "stream",
     "text": [
      "[I 2024-09-09 20:54:34,751] Trial 212 finished with value: 0.0313641297010084 and parameters: {'hidden1_size': 81, 'hidden2_size': 238, 'hidden3_size': 50, 'hidden4_size': 45, 'num_epochs': 12, 'learning_rate': 1.3201920387319831e-05}. Best is trial 122 with value: 0.030117766089027838.\n"
     ]
    },
    {
     "name": "stdout",
     "output_type": "stream",
     "text": [
      "Average Validation Loss: 0.0314\n"
     ]
    },
    {
     "name": "stderr",
     "output_type": "stream",
     "text": [
      "[I 2024-09-09 20:54:39,977] Trial 213 finished with value: 0.030821704771369696 and parameters: {'hidden1_size': 84, 'hidden2_size': 239, 'hidden3_size': 50, 'hidden4_size': 45, 'num_epochs': 13, 'learning_rate': 1.3119513629004226e-05}. Best is trial 122 with value: 0.030117766089027838.\n"
     ]
    },
    {
     "name": "stdout",
     "output_type": "stream",
     "text": [
      "Average Validation Loss: 0.0308\n"
     ]
    },
    {
     "name": "stderr",
     "output_type": "stream",
     "text": [
      "[I 2024-09-09 20:54:45,256] Trial 214 finished with value: 0.03101221944338509 and parameters: {'hidden1_size': 79, 'hidden2_size': 240, 'hidden3_size': 51, 'hidden4_size': 45, 'num_epochs': 13, 'learning_rate': 1.3375695228348608e-05}. Best is trial 122 with value: 0.030117766089027838.\n"
     ]
    },
    {
     "name": "stdout",
     "output_type": "stream",
     "text": [
      "Average Validation Loss: 0.0310\n"
     ]
    },
    {
     "name": "stderr",
     "output_type": "stream",
     "text": [
      "[I 2024-09-09 20:54:50,029] Trial 215 finished with value: 0.03223693622497931 and parameters: {'hidden1_size': 83, 'hidden2_size': 238, 'hidden3_size': 54, 'hidden4_size': 46, 'num_epochs': 12, 'learning_rate': 1.4363553087332489e-05}. Best is trial 122 with value: 0.030117766089027838.\n"
     ]
    },
    {
     "name": "stdout",
     "output_type": "stream",
     "text": [
      "Average Validation Loss: 0.0322\n"
     ]
    },
    {
     "name": "stderr",
     "output_type": "stream",
     "text": [
      "[I 2024-09-09 20:54:56,430] Trial 216 finished with value: 0.031549224513582885 and parameters: {'hidden1_size': 88, 'hidden2_size': 250, 'hidden3_size': 50, 'hidden4_size': 45, 'num_epochs': 16, 'learning_rate': 1.3199839522254352e-05}. Best is trial 122 with value: 0.030117766089027838.\n"
     ]
    },
    {
     "name": "stdout",
     "output_type": "stream",
     "text": [
      "Average Validation Loss: 0.0315\n"
     ]
    },
    {
     "name": "stderr",
     "output_type": "stream",
     "text": [
      "[I 2024-09-09 20:55:02,800] Trial 217 finished with value: 0.03467922848427579 and parameters: {'hidden1_size': 86, 'hidden2_size': 247, 'hidden3_size': 50, 'hidden4_size': 45, 'num_epochs': 16, 'learning_rate': 1.6576069711680854e-05}. Best is trial 122 with value: 0.030117766089027838.\n"
     ]
    },
    {
     "name": "stdout",
     "output_type": "stream",
     "text": [
      "Average Validation Loss: 0.0347\n"
     ]
    },
    {
     "name": "stderr",
     "output_type": "stream",
     "text": [
      "[I 2024-09-09 20:55:08,011] Trial 218 finished with value: 0.03195636958948204 and parameters: {'hidden1_size': 90, 'hidden2_size': 250, 'hidden3_size': 52, 'hidden4_size': 45, 'num_epochs': 13, 'learning_rate': 1.3245514741605381e-05}. Best is trial 122 with value: 0.030117766089027838.\n"
     ]
    },
    {
     "name": "stdout",
     "output_type": "stream",
     "text": [
      "Average Validation Loss: 0.0320\n"
     ]
    },
    {
     "name": "stderr",
     "output_type": "stream",
     "text": [
      "[I 2024-09-09 20:55:14,817] Trial 219 finished with value: 0.03332729800049925 and parameters: {'hidden1_size': 80, 'hidden2_size': 242, 'hidden3_size': 50, 'hidden4_size': 43, 'num_epochs': 17, 'learning_rate': 1.7579553774908768e-05}. Best is trial 122 with value: 0.030117766089027838.\n"
     ]
    },
    {
     "name": "stdout",
     "output_type": "stream",
     "text": [
      "Average Validation Loss: 0.0333\n"
     ]
    },
    {
     "name": "stderr",
     "output_type": "stream",
     "text": [
      "[I 2024-09-09 20:55:20,782] Trial 220 finished with value: 0.03500426698121287 and parameters: {'hidden1_size': 84, 'hidden2_size': 235, 'hidden3_size': 55, 'hidden4_size': 48, 'num_epochs': 15, 'learning_rate': 1.5233208586009426e-05}. Best is trial 122 with value: 0.030117766089027838.\n"
     ]
    },
    {
     "name": "stdout",
     "output_type": "stream",
     "text": [
      "Average Validation Loss: 0.0350\n"
     ]
    },
    {
     "name": "stderr",
     "output_type": "stream",
     "text": [
      "[I 2024-09-09 20:55:25,608] Trial 221 finished with value: 0.030580693079779547 and parameters: {'hidden1_size': 76, 'hidden2_size': 231, 'hidden3_size': 52, 'hidden4_size': 46, 'num_epochs': 12, 'learning_rate': 1.310505215081487e-05}. Best is trial 122 with value: 0.030117766089027838.\n"
     ]
    },
    {
     "name": "stdout",
     "output_type": "stream",
     "text": [
      "Average Validation Loss: 0.0306\n"
     ]
    },
    {
     "name": "stderr",
     "output_type": "stream",
     "text": [
      "[I 2024-09-09 20:55:30,371] Trial 222 finished with value: 0.03554344769301159 and parameters: {'hidden1_size': 71, 'hidden2_size': 231, 'hidden3_size': 52, 'hidden4_size': 44, 'num_epochs': 12, 'learning_rate': 1.3295656709902902e-05}. Best is trial 122 with value: 0.030117766089027838.\n"
     ]
    },
    {
     "name": "stdout",
     "output_type": "stream",
     "text": [
      "Average Validation Loss: 0.0355\n"
     ]
    },
    {
     "name": "stderr",
     "output_type": "stream",
     "text": [
      "[I 2024-09-09 20:55:35,556] Trial 223 finished with value: 0.03514280374206248 and parameters: {'hidden1_size': 76, 'hidden2_size': 240, 'hidden3_size': 50, 'hidden4_size': 47, 'num_epochs': 13, 'learning_rate': 1.2998564978718016e-05}. Best is trial 122 with value: 0.030117766089027838.\n"
     ]
    },
    {
     "name": "stdout",
     "output_type": "stream",
     "text": [
      "Average Validation Loss: 0.0351\n"
     ]
    },
    {
     "name": "stderr",
     "output_type": "stream",
     "text": [
      "[I 2024-09-09 20:55:41,198] Trial 224 finished with value: 0.033007415532622306 and parameters: {'hidden1_size': 78, 'hidden2_size': 235, 'hidden3_size': 53, 'hidden4_size': 45, 'num_epochs': 14, 'learning_rate': 1.4883939326974027e-05}. Best is trial 122 with value: 0.030117766089027838.\n"
     ]
    },
    {
     "name": "stdout",
     "output_type": "stream",
     "text": [
      "Average Validation Loss: 0.0330\n"
     ]
    },
    {
     "name": "stderr",
     "output_type": "stream",
     "text": [
      "[I 2024-09-09 20:55:45,573] Trial 225 finished with value: 0.036282858988713654 and parameters: {'hidden1_size': 85, 'hidden2_size': 246, 'hidden3_size': 48, 'hidden4_size': 47, 'num_epochs': 11, 'learning_rate': 1.1675751675452243e-05}. Best is trial 122 with value: 0.030117766089027838.\n"
     ]
    },
    {
     "name": "stdout",
     "output_type": "stream",
     "text": [
      "Average Validation Loss: 0.0363\n"
     ]
    },
    {
     "name": "stderr",
     "output_type": "stream",
     "text": [
      "[I 2024-09-09 20:55:51,936] Trial 226 finished with value: 0.03668115816322998 and parameters: {'hidden1_size': 82, 'hidden2_size': 239, 'hidden3_size': 50, 'hidden4_size': 44, 'num_epochs': 16, 'learning_rate': 1.8655128620704616e-05}. Best is trial 122 with value: 0.030117766089027838.\n"
     ]
    },
    {
     "name": "stdout",
     "output_type": "stream",
     "text": [
      "Average Validation Loss: 0.0367\n"
     ]
    },
    {
     "name": "stderr",
     "output_type": "stream",
     "text": [
      "[I 2024-09-09 20:55:56,719] Trial 227 finished with value: 0.030196123346242876 and parameters: {'hidden1_size': 77, 'hidden2_size': 243, 'hidden3_size': 47, 'hidden4_size': 46, 'num_epochs': 12, 'learning_rate': 1.5567801777492436e-05}. Best is trial 122 with value: 0.030117766089027838.\n"
     ]
    },
    {
     "name": "stdout",
     "output_type": "stream",
     "text": [
      "Average Validation Loss: 0.0302\n"
     ]
    },
    {
     "name": "stderr",
     "output_type": "stream",
     "text": [
      "[I 2024-09-09 20:56:02,703] Trial 228 finished with value: 0.03566224814303929 and parameters: {'hidden1_size': 75, 'hidden2_size': 243, 'hidden3_size': 45, 'hidden4_size': 46, 'num_epochs': 15, 'learning_rate': 1.5744726350575752e-05}. Best is trial 122 with value: 0.030117766089027838.\n"
     ]
    },
    {
     "name": "stdout",
     "output_type": "stream",
     "text": [
      "Average Validation Loss: 0.0357\n"
     ]
    },
    {
     "name": "stderr",
     "output_type": "stream",
     "text": [
      "[I 2024-09-09 20:56:09,890] Trial 229 finished with value: 0.034419929004451705 and parameters: {'hidden1_size': 88, 'hidden2_size': 250, 'hidden3_size': 47, 'hidden4_size': 47, 'num_epochs': 18, 'learning_rate': 1.9960802022240167e-05}. Best is trial 122 with value: 0.030117766089027838.\n"
     ]
    },
    {
     "name": "stdout",
     "output_type": "stream",
     "text": [
      "Average Validation Loss: 0.0344\n"
     ]
    },
    {
     "name": "stderr",
     "output_type": "stream",
     "text": [
      "[I 2024-09-09 20:56:15,095] Trial 230 finished with value: 0.03553257184103131 and parameters: {'hidden1_size': 68, 'hidden2_size': 256, 'hidden3_size': 46, 'hidden4_size': 45, 'num_epochs': 13, 'learning_rate': 1.3182442482498975e-05}. Best is trial 122 with value: 0.030117766089027838.\n"
     ]
    },
    {
     "name": "stdout",
     "output_type": "stream",
     "text": [
      "Average Validation Loss: 0.0355\n"
     ]
    },
    {
     "name": "stderr",
     "output_type": "stream",
     "text": [
      "[I 2024-09-09 20:56:19,095] Trial 231 finished with value: 0.04547456279397011 and parameters: {'hidden1_size': 78, 'hidden2_size': 235, 'hidden3_size': 52, 'hidden4_size': 43, 'num_epochs': 10, 'learning_rate': 1.1126341575661093e-05}. Best is trial 122 with value: 0.030117766089027838.\n"
     ]
    },
    {
     "name": "stdout",
     "output_type": "stream",
     "text": [
      "Average Validation Loss: 0.0455\n"
     ]
    },
    {
     "name": "stderr",
     "output_type": "stream",
     "text": [
      "[I 2024-09-09 20:56:23,878] Trial 232 finished with value: 0.031565078090698945 and parameters: {'hidden1_size': 74, 'hidden2_size': 231, 'hidden3_size': 50, 'hidden4_size': 45, 'num_epochs': 12, 'learning_rate': 1.284005763759905e-05}. Best is trial 122 with value: 0.030117766089027838.\n"
     ]
    },
    {
     "name": "stdout",
     "output_type": "stream",
     "text": [
      "Average Validation Loss: 0.0316\n"
     ]
    },
    {
     "name": "stderr",
     "output_type": "stream",
     "text": [
      "[I 2024-09-09 20:56:28,671] Trial 233 finished with value: 0.03325684806553736 and parameters: {'hidden1_size': 72, 'hidden2_size': 239, 'hidden3_size': 49, 'hidden4_size': 46, 'num_epochs': 12, 'learning_rate': 1.4811831300794118e-05}. Best is trial 122 with value: 0.030117766089027838.\n"
     ]
    },
    {
     "name": "stdout",
     "output_type": "stream",
     "text": [
      "Average Validation Loss: 0.0333\n"
     ]
    },
    {
     "name": "stderr",
     "output_type": "stream",
     "text": [
      "[I 2024-09-09 20:56:33,859] Trial 234 finished with value: 0.0318260410401438 and parameters: {'hidden1_size': 81, 'hidden2_size': 244, 'hidden3_size': 49, 'hidden4_size': 45, 'num_epochs': 13, 'learning_rate': 1.6996787289956885e-05}. Best is trial 122 with value: 0.030117766089027838.\n"
     ]
    },
    {
     "name": "stdout",
     "output_type": "stream",
     "text": [
      "Average Validation Loss: 0.0318\n"
     ]
    },
    {
     "name": "stderr",
     "output_type": "stream",
     "text": [
      "[I 2024-09-09 20:56:39,833] Trial 235 finished with value: 0.03475844863403056 and parameters: {'hidden1_size': 64, 'hidden2_size': 226, 'hidden3_size': 47, 'hidden4_size': 51, 'num_epochs': 15, 'learning_rate': 1.344856702009063e-05}. Best is trial 122 with value: 0.030117766089027838.\n"
     ]
    },
    {
     "name": "stdout",
     "output_type": "stream",
     "text": [
      "Average Validation Loss: 0.0348\n"
     ]
    },
    {
     "name": "stderr",
     "output_type": "stream",
     "text": [
      "[I 2024-09-09 20:56:44,645] Trial 236 finished with value: 0.0372204930920686 and parameters: {'hidden1_size': 73, 'hidden2_size': 235, 'hidden3_size': 52, 'hidden4_size': 49, 'num_epochs': 12, 'learning_rate': 1.0004282265087012e-05}. Best is trial 122 with value: 0.030117766089027838.\n"
     ]
    },
    {
     "name": "stdout",
     "output_type": "stream",
     "text": [
      "Average Validation Loss: 0.0372\n"
     ]
    },
    {
     "name": "stderr",
     "output_type": "stream",
     "text": [
      "[I 2024-09-09 20:56:50,255] Trial 237 finished with value: 0.03188956450183122 and parameters: {'hidden1_size': 96, 'hidden2_size': 230, 'hidden3_size': 54, 'hidden4_size': 46, 'num_epochs': 14, 'learning_rate': 1.2937354994701715e-05}. Best is trial 122 with value: 0.030117766089027838.\n"
     ]
    },
    {
     "name": "stdout",
     "output_type": "stream",
     "text": [
      "Average Validation Loss: 0.0319\n"
     ]
    },
    {
     "name": "stderr",
     "output_type": "stream",
     "text": [
      "[I 2024-09-09 20:56:56,595] Trial 238 finished with value: 0.09268720464822945 and parameters: {'hidden1_size': 77, 'hidden2_size': 240, 'hidden3_size': 45, 'hidden4_size': 48, 'num_epochs': 16, 'learning_rate': 0.000581037409893678}. Best is trial 122 with value: 0.030117766089027838.\n"
     ]
    },
    {
     "name": "stdout",
     "output_type": "stream",
     "text": [
      "Average Validation Loss: 0.0927\n"
     ]
    },
    {
     "name": "stderr",
     "output_type": "stream",
     "text": [
      "[I 2024-09-09 20:57:01,378] Trial 239 finished with value: 0.0316609197096633 and parameters: {'hidden1_size': 83, 'hidden2_size': 232, 'hidden3_size': 48, 'hidden4_size': 42, 'num_epochs': 12, 'learning_rate': 1.5575975151627286e-05}. Best is trial 122 with value: 0.030117766089027838.\n"
     ]
    },
    {
     "name": "stdout",
     "output_type": "stream",
     "text": [
      "Average Validation Loss: 0.0317\n"
     ]
    },
    {
     "name": "stderr",
     "output_type": "stream",
     "text": [
      "[I 2024-09-09 20:57:06,147] Trial 240 finished with value: 0.03226781320492072 and parameters: {'hidden1_size': 84, 'hidden2_size': 232, 'hidden3_size': 49, 'hidden4_size': 42, 'num_epochs': 12, 'learning_rate': 1.7901785559717296e-05}. Best is trial 122 with value: 0.030117766089027838.\n"
     ]
    },
    {
     "name": "stdout",
     "output_type": "stream",
     "text": [
      "Average Validation Loss: 0.0323\n"
     ]
    },
    {
     "name": "stderr",
     "output_type": "stream",
     "text": [
      "[I 2024-09-09 20:57:10,549] Trial 241 finished with value: 0.032545846831496986 and parameters: {'hidden1_size': 81, 'hidden2_size': 237, 'hidden3_size': 48, 'hidden4_size': 43, 'num_epochs': 11, 'learning_rate': 1.5546998068279617e-05}. Best is trial 122 with value: 0.030117766089027838.\n"
     ]
    },
    {
     "name": "stdout",
     "output_type": "stream",
     "text": [
      "Average Validation Loss: 0.0325\n"
     ]
    },
    {
     "name": "stderr",
     "output_type": "stream",
     "text": [
      "[I 2024-09-09 20:57:16,103] Trial 242 finished with value: 0.030776725705003456 and parameters: {'hidden1_size': 76, 'hidden2_size': 232, 'hidden3_size': 51, 'hidden4_size': 40, 'num_epochs': 14, 'learning_rate': 1.2535971082229e-05}. Best is trial 122 with value: 0.030117766089027838.\n"
     ]
    },
    {
     "name": "stdout",
     "output_type": "stream",
     "text": [
      "Average Validation Loss: 0.0308\n"
     ]
    },
    {
     "name": "stderr",
     "output_type": "stream",
     "text": [
      "[I 2024-09-09 20:57:21,633] Trial 243 finished with value: 0.032345898216590285 and parameters: {'hidden1_size': 91, 'hidden2_size': 226, 'hidden3_size': 51, 'hidden4_size': 41, 'num_epochs': 14, 'learning_rate': 1.467962418878313e-05}. Best is trial 122 with value: 0.030117766089027838.\n"
     ]
    },
    {
     "name": "stdout",
     "output_type": "stream",
     "text": [
      "Average Validation Loss: 0.0323\n"
     ]
    },
    {
     "name": "stderr",
     "output_type": "stream",
     "text": [
      "[I 2024-09-09 20:57:25,648] Trial 244 finished with value: 0.036396020579905736 and parameters: {'hidden1_size': 75, 'hidden2_size': 232, 'hidden3_size': 55, 'hidden4_size': 39, 'num_epochs': 10, 'learning_rate': 1.2918535948561632e-05}. Best is trial 122 with value: 0.030117766089027838.\n"
     ]
    },
    {
     "name": "stdout",
     "output_type": "stream",
     "text": [
      "Average Validation Loss: 0.0364\n"
     ]
    },
    {
     "name": "stderr",
     "output_type": "stream",
     "text": [
      "[I 2024-09-09 20:57:30,850] Trial 245 finished with value: 0.032491423921393495 and parameters: {'hidden1_size': 87, 'hidden2_size': 242, 'hidden3_size': 47, 'hidden4_size': 41, 'num_epochs': 13, 'learning_rate': 1.6474125034403853e-05}. Best is trial 122 with value: 0.030117766089027838.\n"
     ]
    },
    {
     "name": "stdout",
     "output_type": "stream",
     "text": [
      "Average Validation Loss: 0.0325\n"
     ]
    },
    {
     "name": "stderr",
     "output_type": "stream",
     "text": [
      "[I 2024-09-09 20:57:35,648] Trial 246 finished with value: 0.03462818908017306 and parameters: {'hidden1_size': 79, 'hidden2_size': 237, 'hidden3_size': 51, 'hidden4_size': 40, 'num_epochs': 12, 'learning_rate': 1.2165104772326472e-05}. Best is trial 122 with value: 0.030117766089027838.\n"
     ]
    },
    {
     "name": "stdout",
     "output_type": "stream",
     "text": [
      "Average Validation Loss: 0.0346\n"
     ]
    },
    {
     "name": "stderr",
     "output_type": "stream",
     "text": [
      "[I 2024-09-09 20:57:39,611] Trial 247 finished with value: 0.03703452212115129 and parameters: {'hidden1_size': 84, 'hidden2_size': 228, 'hidden3_size': 43, 'hidden4_size': 44, 'num_epochs': 10, 'learning_rate': 1.4285073485460551e-05}. Best is trial 122 with value: 0.030117766089027838.\n"
     ]
    },
    {
     "name": "stdout",
     "output_type": "stream",
     "text": [
      "Average Validation Loss: 0.0370\n"
     ]
    },
    {
     "name": "stderr",
     "output_type": "stream",
     "text": [
      "[I 2024-09-09 20:57:44,399] Trial 248 finished with value: 0.03409059213230475 and parameters: {'hidden1_size': 70, 'hidden2_size': 233, 'hidden3_size': 50, 'hidden4_size': 42, 'num_epochs': 12, 'learning_rate': 1.9509395442228725e-05}. Best is trial 122 with value: 0.030117766089027838.\n"
     ]
    },
    {
     "name": "stdout",
     "output_type": "stream",
     "text": [
      "Average Validation Loss: 0.0341\n"
     ]
    },
    {
     "name": "stderr",
     "output_type": "stream",
     "text": [
      "[I 2024-09-09 20:58:04,725] Trial 249 finished with value: 0.040545183838167714 and parameters: {'hidden1_size': 79, 'hidden2_size': 244, 'hidden3_size': 53, 'hidden4_size': 45, 'num_epochs': 51, 'learning_rate': 1.2718545667381637e-05}. Best is trial 122 with value: 0.030117766089027838.\n"
     ]
    },
    {
     "name": "stdout",
     "output_type": "stream",
     "text": [
      "Average Validation Loss: 0.0405\n"
     ]
    },
    {
     "name": "stderr",
     "output_type": "stream",
     "text": [
      "[I 2024-09-09 20:58:10,333] Trial 250 finished with value: 0.03226078174165672 and parameters: {'hidden1_size': 76, 'hidden2_size': 248, 'hidden3_size': 46, 'hidden4_size': 37, 'num_epochs': 14, 'learning_rate': 1.6417607730677372e-05}. Best is trial 122 with value: 0.030117766089027838.\n"
     ]
    },
    {
     "name": "stdout",
     "output_type": "stream",
     "text": [
      "Average Validation Loss: 0.0323\n"
     ]
    },
    {
     "name": "stderr",
     "output_type": "stream",
     "text": [
      "[I 2024-09-09 20:58:16,344] Trial 251 finished with value: 0.03642161065224735 and parameters: {'hidden1_size': 82, 'hidden2_size': 236, 'hidden3_size': 57, 'hidden4_size': 43, 'num_epochs': 15, 'learning_rate': 1.4169908508115283e-05}. Best is trial 122 with value: 0.030117766089027838.\n"
     ]
    },
    {
     "name": "stdout",
     "output_type": "stream",
     "text": [
      "Average Validation Loss: 0.0364\n"
     ]
    },
    {
     "name": "stderr",
     "output_type": "stream",
     "text": [
      "[I 2024-09-09 20:58:23,084] Trial 252 finished with value: 0.03466218130086504 and parameters: {'hidden1_size': 69, 'hidden2_size': 231, 'hidden3_size': 49, 'hidden4_size': 45, 'num_epochs': 17, 'learning_rate': 1.1476572031644827e-05}. Best is trial 122 with value: 0.030117766089027838.\n"
     ]
    },
    {
     "name": "stdout",
     "output_type": "stream",
     "text": [
      "Average Validation Loss: 0.0347\n"
     ]
    },
    {
     "name": "stderr",
     "output_type": "stream",
     "text": [
      "[I 2024-09-09 20:58:27,888] Trial 253 finished with value: 0.030402345715888908 and parameters: {'hidden1_size': 88, 'hidden2_size': 239, 'hidden3_size': 48, 'hidden4_size': 40, 'num_epochs': 12, 'learning_rate': 1.5689324664806305e-05}. Best is trial 122 with value: 0.030117766089027838.\n"
     ]
    },
    {
     "name": "stdout",
     "output_type": "stream",
     "text": [
      "Average Validation Loss: 0.0304\n"
     ]
    },
    {
     "name": "stderr",
     "output_type": "stream",
     "text": [
      "[I 2024-09-09 20:58:33,425] Trial 254 finished with value: 0.03339533561042377 and parameters: {'hidden1_size': 89, 'hidden2_size': 242, 'hidden3_size': 45, 'hidden4_size': 40, 'num_epochs': 14, 'learning_rate': 2.0300973133068697e-05}. Best is trial 122 with value: 0.030117766089027838.\n"
     ]
    },
    {
     "name": "stdout",
     "output_type": "stream",
     "text": [
      "Average Validation Loss: 0.0334\n"
     ]
    },
    {
     "name": "stderr",
     "output_type": "stream",
     "text": [
      "[I 2024-09-09 20:58:38,211] Trial 255 finished with value: 0.03166048466006205 and parameters: {'hidden1_size': 86, 'hidden2_size': 237, 'hidden3_size': 43, 'hidden4_size': 40, 'num_epochs': 12, 'learning_rate': 1.7914211819382646e-05}. Best is trial 122 with value: 0.030117766089027838.\n"
     ]
    },
    {
     "name": "stdout",
     "output_type": "stream",
     "text": [
      "Average Validation Loss: 0.0317\n"
     ]
    },
    {
     "name": "stderr",
     "output_type": "stream",
     "text": [
      "[I 2024-09-09 20:58:43,413] Trial 256 finished with value: 0.03233301131764338 and parameters: {'hidden1_size': 86, 'hidden2_size': 239, 'hidden3_size': 42, 'hidden4_size': 39, 'num_epochs': 13, 'learning_rate': 2.4300831279451132e-05}. Best is trial 122 with value: 0.030117766089027838.\n"
     ]
    },
    {
     "name": "stdout",
     "output_type": "stream",
     "text": [
      "Average Validation Loss: 0.0323\n"
     ]
    },
    {
     "name": "stderr",
     "output_type": "stream",
     "text": [
      "[I 2024-09-09 20:58:47,463] Trial 257 finished with value: 0.03409408789039368 and parameters: {'hidden1_size': 92, 'hidden2_size': 236, 'hidden3_size': 36, 'hidden4_size': 39, 'num_epochs': 10, 'learning_rate': 2.19665946535523e-05}. Best is trial 122 with value: 0.030117766089027838.\n"
     ]
    },
    {
     "name": "stdout",
     "output_type": "stream",
     "text": [
      "Average Validation Loss: 0.0341\n"
     ]
    },
    {
     "name": "stderr",
     "output_type": "stream",
     "text": [
      "[I 2024-09-09 20:58:53,862] Trial 258 finished with value: 0.0329066339237172 and parameters: {'hidden1_size': 84, 'hidden2_size': 245, 'hidden3_size': 49, 'hidden4_size': 38, 'num_epochs': 16, 'learning_rate': 1.7886955594867695e-05}. Best is trial 122 with value: 0.030117766089027838.\n"
     ]
    },
    {
     "name": "stdout",
     "output_type": "stream",
     "text": [
      "Average Validation Loss: 0.0329\n"
     ]
    },
    {
     "name": "stderr",
     "output_type": "stream",
     "text": [
      "[I 2024-09-09 20:58:58,618] Trial 259 finished with value: 0.032088236073918995 and parameters: {'hidden1_size': 114, 'hidden2_size': 254, 'hidden3_size': 53, 'hidden4_size': 41, 'num_epochs': 12, 'learning_rate': 1.6770747592781338e-05}. Best is trial 122 with value: 0.030117766089027838.\n"
     ]
    },
    {
     "name": "stdout",
     "output_type": "stream",
     "text": [
      "Average Validation Loss: 0.0321\n"
     ]
    },
    {
     "name": "stderr",
     "output_type": "stream",
     "text": [
      "[I 2024-09-09 20:59:05,726] Trial 260 finished with value: 0.05537537505907018 and parameters: {'hidden1_size': 80, 'hidden2_size': 250, 'hidden3_size': 44, 'hidden4_size': 40, 'num_epochs': 18, 'learning_rate': 0.00010376411054496683}. Best is trial 122 with value: 0.030117766089027838.\n"
     ]
    },
    {
     "name": "stdout",
     "output_type": "stream",
     "text": [
      "Average Validation Loss: 0.0554\n"
     ]
    },
    {
     "name": "stderr",
     "output_type": "stream",
     "text": [
      "[I 2024-09-09 20:59:41,568] Trial 261 finished with value: 0.054787515884354 and parameters: {'hidden1_size': 89, 'hidden2_size': 125, 'hidden3_size': 49, 'hidden4_size': 42, 'num_epochs': 91, 'learning_rate': 1.5732744807184692e-05}. Best is trial 122 with value: 0.030117766089027838.\n"
     ]
    },
    {
     "name": "stdout",
     "output_type": "stream",
     "text": [
      "Average Validation Loss: 0.0548\n"
     ]
    },
    {
     "name": "stderr",
     "output_type": "stream",
     "text": [
      "[I 2024-09-09 20:59:47,138] Trial 262 finished with value: 0.034105988296990596 and parameters: {'hidden1_size': 73, 'hidden2_size': 227, 'hidden3_size': 47, 'hidden4_size': 40, 'num_epochs': 14, 'learning_rate': 1.8207714662843946e-05}. Best is trial 122 with value: 0.030117766089027838.\n"
     ]
    },
    {
     "name": "stdout",
     "output_type": "stream",
     "text": [
      "Average Validation Loss: 0.0341\n"
     ]
    },
    {
     "name": "stderr",
     "output_type": "stream",
     "text": [
      "[I 2024-09-09 20:59:51,169] Trial 263 finished with value: 0.029955775831781682 and parameters: {'hidden1_size': 77, 'hidden2_size': 234, 'hidden3_size': 52, 'hidden4_size': 41, 'num_epochs': 10, 'learning_rate': 2.123323169882384e-05}. Best is trial 263 with value: 0.029955775831781682.\n"
     ]
    },
    {
     "name": "stdout",
     "output_type": "stream",
     "text": [
      "Average Validation Loss: 0.0300\n"
     ]
    },
    {
     "name": "stderr",
     "output_type": "stream",
     "text": [
      "[I 2024-09-09 20:59:55,222] Trial 264 finished with value: 0.04502664886448266 and parameters: {'hidden1_size': 75, 'hidden2_size': 240, 'hidden3_size': 54, 'hidden4_size': 40, 'num_epochs': 10, 'learning_rate': 0.0001811450691244824}. Best is trial 263 with value: 0.029955775831781682.\n"
     ]
    },
    {
     "name": "stdout",
     "output_type": "stream",
     "text": [
      "Average Validation Loss: 0.0450\n"
     ]
    },
    {
     "name": "stderr",
     "output_type": "stream",
     "text": [
      "[I 2024-09-09 21:00:01,249] Trial 265 finished with value: 0.03384538821410388 and parameters: {'hidden1_size': 77, 'hidden2_size': 236, 'hidden3_size': 52, 'hidden4_size': 41, 'num_epochs': 15, 'learning_rate': 2.0419604500034487e-05}. Best is trial 263 with value: 0.029955775831781682.\n"
     ]
    },
    {
     "name": "stdout",
     "output_type": "stream",
     "text": [
      "Average Validation Loss: 0.0338\n"
     ]
    },
    {
     "name": "stderr",
     "output_type": "stream",
     "text": [
      "[I 2024-09-09 21:00:05,244] Trial 266 finished with value: 0.035416016288633854 and parameters: {'hidden1_size': 81, 'hidden2_size': 224, 'hidden3_size': 34, 'hidden4_size': 47, 'num_epochs': 10, 'learning_rate': 2.1798412998046776e-05}. Best is trial 263 with value: 0.029955775831781682.\n"
     ]
    },
    {
     "name": "stdout",
     "output_type": "stream",
     "text": [
      "Average Validation Loss: 0.0354\n"
     ]
    },
    {
     "name": "stderr",
     "output_type": "stream",
     "text": [
      "[I 2024-09-09 21:00:10,068] Trial 267 finished with value: 0.03352954677705254 and parameters: {'hidden1_size': 74, 'hidden2_size': 246, 'hidden3_size': 51, 'hidden4_size': 37, 'num_epochs': 12, 'learning_rate': 1.2497869177374935e-05}. Best is trial 263 with value: 0.029955775831781682.\n"
     ]
    },
    {
     "name": "stdout",
     "output_type": "stream",
     "text": [
      "Average Validation Loss: 0.0335\n"
     ]
    },
    {
     "name": "stderr",
     "output_type": "stream",
     "text": [
      "[I 2024-09-09 21:00:15,725] Trial 268 finished with value: 0.034998308445903514 and parameters: {'hidden1_size': 97, 'hidden2_size': 241, 'hidden3_size': 55, 'hidden4_size': 39, 'num_epochs': 14, 'learning_rate': 1.4380219696136247e-05}. Best is trial 263 with value: 0.029955775831781682.\n"
     ]
    },
    {
     "name": "stdout",
     "output_type": "stream",
     "text": [
      "Average Validation Loss: 0.0350\n"
     ]
    },
    {
     "name": "stderr",
     "output_type": "stream",
     "text": [
      "[I 2024-09-09 21:00:22,130] Trial 269 finished with value: 0.033823172168229665 and parameters: {'hidden1_size': 87, 'hidden2_size': 229, 'hidden3_size': 40, 'hidden4_size': 46, 'num_epochs': 16, 'learning_rate': 1.824928389330127e-05}. Best is trial 263 with value: 0.029955775831781682.\n"
     ]
    },
    {
     "name": "stdout",
     "output_type": "stream",
     "text": [
      "Average Validation Loss: 0.0338\n"
     ]
    },
    {
     "name": "stderr",
     "output_type": "stream",
     "text": [
      "[I 2024-09-09 21:00:26,948] Trial 270 finished with value: 0.03244023835508242 and parameters: {'hidden1_size': 70, 'hidden2_size': 236, 'hidden3_size': 50, 'hidden4_size': 41, 'num_epochs': 12, 'learning_rate': 2.652763965567062e-05}. Best is trial 263 with value: 0.029955775831781682.\n"
     ]
    },
    {
     "name": "stdout",
     "output_type": "stream",
     "text": [
      "Average Validation Loss: 0.0324\n"
     ]
    },
    {
     "name": "stderr",
     "output_type": "stream",
     "text": [
      "[I 2024-09-09 21:00:30,973] Trial 271 finished with value: 0.03391218114466894 and parameters: {'hidden1_size': 94, 'hidden2_size': 239, 'hidden3_size': 87, 'hidden4_size': 44, 'num_epochs': 10, 'learning_rate': 1.16657574390745e-05}. Best is trial 263 with value: 0.029955775831781682.\n"
     ]
    },
    {
     "name": "stdout",
     "output_type": "stream",
     "text": [
      "Average Validation Loss: 0.0339\n"
     ]
    },
    {
     "name": "stderr",
     "output_type": "stream",
     "text": [
      "[I 2024-09-09 21:00:38,132] Trial 272 finished with value: 0.03319822582194493 and parameters: {'hidden1_size': 78, 'hidden2_size': 244, 'hidden3_size': 46, 'hidden4_size': 43, 'num_epochs': 18, 'learning_rate': 1.4586967669522003e-05}. Best is trial 263 with value: 0.029955775831781682.\n"
     ]
    },
    {
     "name": "stdout",
     "output_type": "stream",
     "text": [
      "Average Validation Loss: 0.0332\n"
     ]
    },
    {
     "name": "stderr",
     "output_type": "stream",
     "text": [
      "[I 2024-09-09 21:00:43,325] Trial 273 finished with value: 0.11717075025219292 and parameters: {'hidden1_size': 64, 'hidden2_size': 235, 'hidden3_size': 43, 'hidden4_size': 42, 'num_epochs': 13, 'learning_rate': 0.009679577688276413}. Best is trial 263 with value: 0.029955775831781682.\n"
     ]
    },
    {
     "name": "stdout",
     "output_type": "stream",
     "text": [
      "Average Validation Loss: 0.1172\n"
     ]
    },
    {
     "name": "stderr",
     "output_type": "stream",
     "text": [
      "[I 2024-09-09 21:00:49,276] Trial 274 finished with value: 0.036258787055322456 and parameters: {'hidden1_size': 89, 'hidden2_size': 231, 'hidden3_size': 84, 'hidden4_size': 46, 'num_epochs': 15, 'learning_rate': 1.6679533462989787e-05}. Best is trial 263 with value: 0.029955775831781682.\n"
     ]
    },
    {
     "name": "stdout",
     "output_type": "stream",
     "text": [
      "Average Validation Loss: 0.0363\n"
     ]
    },
    {
     "name": "stderr",
     "output_type": "stream",
     "text": [
      "[I 2024-09-09 21:00:53,660] Trial 275 finished with value: 0.03171808323601172 and parameters: {'hidden1_size': 84, 'hidden2_size': 248, 'hidden3_size': 53, 'hidden4_size': 48, 'num_epochs': 11, 'learning_rate': 1.2742313462071711e-05}. Best is trial 263 with value: 0.029955775831781682.\n"
     ]
    },
    {
     "name": "stdout",
     "output_type": "stream",
     "text": [
      "Average Validation Loss: 0.0317\n"
     ]
    },
    {
     "name": "stderr",
     "output_type": "stream",
     "text": [
      "[I 2024-09-09 21:00:58,862] Trial 276 finished with value: 0.09601143637396652 and parameters: {'hidden1_size': 73, 'hidden2_size': 225, 'hidden3_size': 90, 'hidden4_size': 47, 'num_epochs': 13, 'learning_rate': 0.001070609721677375}. Best is trial 263 with value: 0.029955775831781682.\n"
     ]
    },
    {
     "name": "stdout",
     "output_type": "stream",
     "text": [
      "Average Validation Loss: 0.0960\n"
     ]
    },
    {
     "name": "stderr",
     "output_type": "stream",
     "text": [
      "[I 2024-09-09 21:01:05,566] Trial 277 finished with value: 0.03142359976967176 and parameters: {'hidden1_size': 79, 'hidden2_size': 217, 'hidden3_size': 56, 'hidden4_size': 38, 'num_epochs': 17, 'learning_rate': 1.1266147967363809e-05}. Best is trial 263 with value: 0.029955775831781682.\n"
     ]
    },
    {
     "name": "stdout",
     "output_type": "stream",
     "text": [
      "Average Validation Loss: 0.0314\n"
     ]
    },
    {
     "name": "stderr",
     "output_type": "stream",
     "text": [
      "[I 2024-09-09 21:01:13,132] Trial 278 finished with value: 0.03303470654368755 and parameters: {'hidden1_size': 78, 'hidden2_size': 217, 'hidden3_size': 57, 'hidden4_size': 30, 'num_epochs': 19, 'learning_rate': 1.1166873723088372e-05}. Best is trial 263 with value: 0.029955775831781682.\n"
     ]
    },
    {
     "name": "stdout",
     "output_type": "stream",
     "text": [
      "Average Validation Loss: 0.0330\n"
     ]
    },
    {
     "name": "stderr",
     "output_type": "stream",
     "text": [
      "[I 2024-09-09 21:01:39,821] Trial 279 finished with value: 0.03968161496699655 and parameters: {'hidden1_size': 67, 'hidden2_size': 220, 'hidden3_size': 51, 'hidden4_size': 38, 'num_epochs': 68, 'learning_rate': 1.1203710324431908e-05}. Best is trial 263 with value: 0.029955775831781682.\n"
     ]
    },
    {
     "name": "stdout",
     "output_type": "stream",
     "text": [
      "Average Validation Loss: 0.0397\n"
     ]
    },
    {
     "name": "stderr",
     "output_type": "stream",
     "text": [
      "[I 2024-09-09 21:01:46,600] Trial 280 finished with value: 0.035372369068985186 and parameters: {'hidden1_size': 129, 'hidden2_size': 215, 'hidden3_size': 53, 'hidden4_size': 36, 'num_epochs': 17, 'learning_rate': 1.3090491057834833e-05}. Best is trial 263 with value: 0.029955775831781682.\n"
     ]
    },
    {
     "name": "stdout",
     "output_type": "stream",
     "text": [
      "Average Validation Loss: 0.0354\n"
     ]
    },
    {
     "name": "stderr",
     "output_type": "stream",
     "text": [
      "[I 2024-09-09 21:01:53,003] Trial 281 finished with value: 0.03226205409460124 and parameters: {'hidden1_size': 80, 'hidden2_size': 223, 'hidden3_size': 56, 'hidden4_size': 46, 'num_epochs': 16, 'learning_rate': 1.4143397942782796e-05}. Best is trial 263 with value: 0.029955775831781682.\n"
     ]
    },
    {
     "name": "stdout",
     "output_type": "stream",
     "text": [
      "Average Validation Loss: 0.0323\n"
     ]
    },
    {
     "name": "stderr",
     "output_type": "stream",
     "text": [
      "[I 2024-09-09 21:01:58,555] Trial 282 finished with value: 0.03482516584474416 and parameters: {'hidden1_size': 74, 'hidden2_size': 117, 'hidden3_size': 48, 'hidden4_size': 44, 'num_epochs': 14, 'learning_rate': 1.1684928171849238e-05}. Best is trial 263 with value: 0.029955775831781682.\n"
     ]
    },
    {
     "name": "stdout",
     "output_type": "stream",
     "text": [
      "Average Validation Loss: 0.0348\n"
     ]
    },
    {
     "name": "stderr",
     "output_type": "stream",
     "text": [
      "[I 2024-09-09 21:02:04,570] Trial 283 finished with value: 0.03004959806622494 and parameters: {'hidden1_size': 76, 'hidden2_size': 227, 'hidden3_size': 50, 'hidden4_size': 45, 'num_epochs': 15, 'learning_rate': 1.0070068753997943e-05}. Best is trial 263 with value: 0.029955775831781682.\n"
     ]
    },
    {
     "name": "stdout",
     "output_type": "stream",
     "text": [
      "Average Validation Loss: 0.0300\n"
     ]
    },
    {
     "name": "stderr",
     "output_type": "stream",
     "text": [
      "[I 2024-09-09 21:02:11,326] Trial 284 finished with value: 0.033065172244927714 and parameters: {'hidden1_size': 71, 'hidden2_size': 228, 'hidden3_size': 62, 'hidden4_size': 45, 'num_epochs': 17, 'learning_rate': 1.0613421324460273e-05}. Best is trial 263 with value: 0.029955775831781682.\n"
     ]
    },
    {
     "name": "stdout",
     "output_type": "stream",
     "text": [
      "Average Validation Loss: 0.0331\n"
     ]
    },
    {
     "name": "stderr",
     "output_type": "stream",
     "text": [
      "[I 2024-09-09 21:02:19,227] Trial 285 finished with value: 0.03155702970079368 and parameters: {'hidden1_size': 77, 'hidden2_size': 221, 'hidden3_size': 51, 'hidden4_size': 46, 'num_epochs': 20, 'learning_rate': 1.032071422560293e-05}. Best is trial 263 with value: 0.029955775831781682.\n"
     ]
    },
    {
     "name": "stdout",
     "output_type": "stream",
     "text": [
      "Average Validation Loss: 0.0316\n"
     ]
    },
    {
     "name": "stderr",
     "output_type": "stream",
     "text": [
      "[I 2024-09-09 21:02:26,811] Trial 286 finished with value: 0.030433743016883022 and parameters: {'hidden1_size': 79, 'hidden2_size': 232, 'hidden3_size': 54, 'hidden4_size': 47, 'num_epochs': 19, 'learning_rate': 1.0317111444541598e-05}. Best is trial 263 with value: 0.029955775831781682.\n"
     ]
    },
    {
     "name": "stdout",
     "output_type": "stream",
     "text": [
      "Average Validation Loss: 0.0304\n"
     ]
    },
    {
     "name": "stderr",
     "output_type": "stream",
     "text": [
      "[I 2024-09-09 21:02:35,081] Trial 287 finished with value: 0.03345415782227758 and parameters: {'hidden1_size': 81, 'hidden2_size': 219, 'hidden3_size': 55, 'hidden4_size': 48, 'num_epochs': 21, 'learning_rate': 1.003519423279273e-05}. Best is trial 263 with value: 0.029955775831781682.\n"
     ]
    },
    {
     "name": "stdout",
     "output_type": "stream",
     "text": [
      "Average Validation Loss: 0.0335\n"
     ]
    },
    {
     "name": "stderr",
     "output_type": "stream",
     "text": [
      "[I 2024-09-09 21:02:43,053] Trial 288 finished with value: 0.0328261178607742 and parameters: {'hidden1_size': 84, 'hidden2_size': 241, 'hidden3_size': 54, 'hidden4_size': 47, 'num_epochs': 20, 'learning_rate': 1.0050479949085155e-05}. Best is trial 263 with value: 0.029955775831781682.\n"
     ]
    },
    {
     "name": "stdout",
     "output_type": "stream",
     "text": [
      "Average Validation Loss: 0.0328\n"
     ]
    },
    {
     "name": "stderr",
     "output_type": "stream",
     "text": [
      "[I 2024-09-09 21:02:50,160] Trial 289 finished with value: 0.03488299595968177 and parameters: {'hidden1_size': 78, 'hidden2_size': 234, 'hidden3_size': 52, 'hidden4_size': 46, 'num_epochs': 18, 'learning_rate': 1.1298615397111738e-05}. Best is trial 263 with value: 0.029955775831781682.\n"
     ]
    },
    {
     "name": "stdout",
     "output_type": "stream",
     "text": [
      "Average Validation Loss: 0.0349\n"
     ]
    },
    {
     "name": "stderr",
     "output_type": "stream",
     "text": [
      "[I 2024-09-09 21:02:57,382] Trial 290 finished with value: 0.04761294712495458 and parameters: {'hidden1_size': 81, 'hidden2_size': 212, 'hidden3_size': 57, 'hidden4_size': 49, 'num_epochs': 18, 'learning_rate': 8.085536050689617e-05}. Best is trial 263 with value: 0.029955775831781682.\n"
     ]
    },
    {
     "name": "stdout",
     "output_type": "stream",
     "text": [
      "Average Validation Loss: 0.0476\n"
     ]
    },
    {
     "name": "stderr",
     "output_type": "stream",
     "text": [
      "[I 2024-09-09 21:03:05,311] Trial 291 finished with value: 0.10552504318847934 and parameters: {'hidden1_size': 91, 'hidden2_size': 252, 'hidden3_size': 86, 'hidden4_size': 47, 'num_epochs': 20, 'learning_rate': 0.00029488566945782614}. Best is trial 263 with value: 0.029955775831781682.\n"
     ]
    },
    {
     "name": "stdout",
     "output_type": "stream",
     "text": [
      "Average Validation Loss: 0.1055\n"
     ]
    },
    {
     "name": "stderr",
     "output_type": "stream",
     "text": [
      "[I 2024-09-09 21:03:12,090] Trial 292 finished with value: 0.03384798778487103 and parameters: {'hidden1_size': 78, 'hidden2_size': 243, 'hidden3_size': 53, 'hidden4_size': 46, 'num_epochs': 17, 'learning_rate': 1.1565812649452573e-05}. Best is trial 263 with value: 0.029955775831781682.\n"
     ]
    },
    {
     "name": "stdout",
     "output_type": "stream",
     "text": [
      "Average Validation Loss: 0.0338\n"
     ]
    },
    {
     "name": "stderr",
     "output_type": "stream",
     "text": [
      "[I 2024-09-09 21:03:18,452] Trial 293 finished with value: 0.031721850857138634 and parameters: {'hidden1_size': 83, 'hidden2_size': 233, 'hidden3_size': 51, 'hidden4_size': 43, 'num_epochs': 16, 'learning_rate': 1.0016691822764097e-05}. Best is trial 263 with value: 0.029955775831781682.\n"
     ]
    },
    {
     "name": "stdout",
     "output_type": "stream",
     "text": [
      "Average Validation Loss: 0.0317\n"
     ]
    },
    {
     "name": "stderr",
     "output_type": "stream",
     "text": [
      "[I 2024-09-09 21:03:26,013] Trial 294 finished with value: 0.03244496349777494 and parameters: {'hidden1_size': 88, 'hidden2_size': 226, 'hidden3_size': 76, 'hidden4_size': 50, 'num_epochs': 19, 'learning_rate': 1.2059714264981727e-05}. Best is trial 263 with value: 0.029955775831781682.\n"
     ]
    },
    {
     "name": "stdout",
     "output_type": "stream",
     "text": [
      "Average Validation Loss: 0.0324\n"
     ]
    },
    {
     "name": "stderr",
     "output_type": "stream",
     "text": [
      "[I 2024-09-09 21:03:31,977] Trial 295 finished with value: 0.032278191863692234 and parameters: {'hidden1_size': 136, 'hidden2_size': 152, 'hidden3_size': 89, 'hidden4_size': 37, 'num_epochs': 15, 'learning_rate': 1.1517358076980276e-05}. Best is trial 263 with value: 0.029955775831781682.\n"
     ]
    },
    {
     "name": "stdout",
     "output_type": "stream",
     "text": [
      "Average Validation Loss: 0.0323\n"
     ]
    },
    {
     "name": "stderr",
     "output_type": "stream",
     "text": [
      "[I 2024-09-09 21:03:40,698] Trial 296 finished with value: 0.06550157596742186 and parameters: {'hidden1_size': 76, 'hidden2_size': 239, 'hidden3_size': 58, 'hidden4_size': 48, 'num_epochs': 22, 'learning_rate': 0.00012163780446863202}. Best is trial 263 with value: 0.029955775831781682.\n"
     ]
    },
    {
     "name": "stdout",
     "output_type": "stream",
     "text": [
      "Average Validation Loss: 0.0655\n"
     ]
    },
    {
     "name": "stderr",
     "output_type": "stream",
     "text": [
      "[I 2024-09-09 21:03:46,643] Trial 297 finished with value: 0.032787415598120005 and parameters: {'hidden1_size': 69, 'hidden2_size': 245, 'hidden3_size': 55, 'hidden4_size': 44, 'num_epochs': 15, 'learning_rate': 1.0097196894393906e-05}. Best is trial 263 with value: 0.029955775831781682.\n"
     ]
    },
    {
     "name": "stdout",
     "output_type": "stream",
     "text": [
      "Average Validation Loss: 0.0328\n"
     ]
    },
    {
     "name": "stderr",
     "output_type": "stream",
     "text": [
      "[I 2024-09-09 21:03:53,382] Trial 298 finished with value: 0.030646987985597833 and parameters: {'hidden1_size': 100, 'hidden2_size': 221, 'hidden3_size': 52, 'hidden4_size': 47, 'num_epochs': 17, 'learning_rate': 1.2976312131607056e-05}. Best is trial 263 with value: 0.029955775831781682.\n"
     ]
    },
    {
     "name": "stdout",
     "output_type": "stream",
     "text": [
      "Average Validation Loss: 0.0306\n"
     ]
    },
    {
     "name": "stderr",
     "output_type": "stream",
     "text": [
      "[I 2024-09-09 21:03:59,819] Trial 299 finished with value: 0.032372448804034365 and parameters: {'hidden1_size': 105, 'hidden2_size': 229, 'hidden3_size': 53, 'hidden4_size': 47, 'num_epochs': 16, 'learning_rate': 1.3523135204585538e-05}. Best is trial 263 with value: 0.029955775831781682.\n"
     ]
    },
    {
     "name": "stdout",
     "output_type": "stream",
     "text": [
      "Average Validation Loss: 0.0324\n"
     ]
    },
    {
     "name": "stderr",
     "output_type": "stream",
     "text": [
      "[I 2024-09-09 21:04:29,143] Trial 300 finished with value: 0.04562745213427531 and parameters: {'hidden1_size': 100, 'hidden2_size': 249, 'hidden3_size': 50, 'hidden4_size': 49, 'num_epochs': 74, 'learning_rate': 1.5426515050420347e-05}. Best is trial 263 with value: 0.029955775831781682.\n"
     ]
    },
    {
     "name": "stdout",
     "output_type": "stream",
     "text": [
      "Average Validation Loss: 0.0456\n"
     ]
    },
    {
     "name": "stderr",
     "output_type": "stream",
     "text": [
      "[I 2024-09-09 21:04:34,317] Trial 301 finished with value: 0.03194730777648233 and parameters: {'hidden1_size': 93, 'hidden2_size': 234, 'hidden3_size': 81, 'hidden4_size': 39, 'num_epochs': 13, 'learning_rate': 1.253271003369857e-05}. Best is trial 263 with value: 0.029955775831781682.\n"
     ]
    },
    {
     "name": "stdout",
     "output_type": "stream",
     "text": [
      "Average Validation Loss: 0.0319\n"
     ]
    },
    {
     "name": "stderr",
     "output_type": "stream",
     "text": [
      "[I 2024-09-09 21:04:39,880] Trial 302 finished with value: 0.09048630536200111 and parameters: {'hidden1_size': 95, 'hidden2_size': 241, 'hidden3_size': 60, 'hidden4_size': 48, 'num_epochs': 14, 'learning_rate': 0.0004275520211175539}. Best is trial 263 with value: 0.029955775831781682.\n"
     ]
    },
    {
     "name": "stdout",
     "output_type": "stream",
     "text": [
      "Average Validation Loss: 0.0905\n"
     ]
    },
    {
     "name": "stderr",
     "output_type": "stream",
     "text": [
      "[I 2024-09-09 21:04:47,049] Trial 303 finished with value: 0.03364899032194877 and parameters: {'hidden1_size': 86, 'hidden2_size': 236, 'hidden3_size': 52, 'hidden4_size': 43, 'num_epochs': 18, 'learning_rate': 1.4125561417861918e-05}. Best is trial 263 with value: 0.029955775831781682.\n"
     ]
    },
    {
     "name": "stdout",
     "output_type": "stream",
     "text": [
      "Average Validation Loss: 0.0336\n"
     ]
    },
    {
     "name": "stderr",
     "output_type": "stream",
     "text": [
      "[I 2024-09-09 21:04:53,400] Trial 304 finished with value: 0.03252790445861008 and parameters: {'hidden1_size': 90, 'hidden2_size': 239, 'hidden3_size': 47, 'hidden4_size': 45, 'num_epochs': 16, 'learning_rate': 1.2523923250502266e-05}. Best is trial 263 with value: 0.029955775831781682.\n"
     ]
    },
    {
     "name": "stdout",
     "output_type": "stream",
     "text": [
      "Average Validation Loss: 0.0325\n"
     ]
    },
    {
     "name": "stderr",
     "output_type": "stream",
     "text": [
      "[I 2024-09-09 21:04:58,945] Trial 305 finished with value: 0.03358297268416555 and parameters: {'hidden1_size': 83, 'hidden2_size': 144, 'hidden3_size': 55, 'hidden4_size': 44, 'num_epochs': 14, 'learning_rate': 1.5358949267408217e-05}. Best is trial 263 with value: 0.029955775831781682.\n"
     ]
    },
    {
     "name": "stdout",
     "output_type": "stream",
     "text": [
      "Average Validation Loss: 0.0336\n"
     ]
    },
    {
     "name": "stderr",
     "output_type": "stream",
     "text": [
      "[I 2024-09-09 21:05:03,359] Trial 306 finished with value: 0.03372564055912551 and parameters: {'hidden1_size': 96, 'hidden2_size': 216, 'hidden3_size': 32, 'hidden4_size': 38, 'num_epochs': 11, 'learning_rate': 1.2387407595075147e-05}. Best is trial 263 with value: 0.029955775831781682.\n"
     ]
    },
    {
     "name": "stdout",
     "output_type": "stream",
     "text": [
      "Average Validation Loss: 0.0337\n"
     ]
    },
    {
     "name": "stderr",
     "output_type": "stream",
     "text": [
      "[I 2024-09-09 21:05:08,543] Trial 307 finished with value: 0.03235287080696296 and parameters: {'hidden1_size': 81, 'hidden2_size': 230, 'hidden3_size': 51, 'hidden4_size': 46, 'num_epochs': 13, 'learning_rate': 1.6589529555385748e-05}. Best is trial 263 with value: 0.029955775831781682.\n"
     ]
    },
    {
     "name": "stdout",
     "output_type": "stream",
     "text": [
      "Average Validation Loss: 0.0324\n"
     ]
    },
    {
     "name": "stderr",
     "output_type": "stream",
     "text": [
      "[I 2024-09-09 21:05:23,051] Trial 308 finished with value: 0.03609317341276134 and parameters: {'hidden1_size': 114, 'hidden2_size': 246, 'hidden3_size': 49, 'hidden4_size': 42, 'num_epochs': 37, 'learning_rate': 1.378139832373641e-05}. Best is trial 263 with value: 0.029955775831781682.\n"
     ]
    },
    {
     "name": "stdout",
     "output_type": "stream",
     "text": [
      "Average Validation Loss: 0.0361\n"
     ]
    },
    {
     "name": "stderr",
     "output_type": "stream",
     "text": [
      "[I 2024-09-09 21:05:29,825] Trial 309 finished with value: 0.1632066915432612 and parameters: {'hidden1_size': 251, 'hidden2_size': 232, 'hidden3_size': 83, 'hidden4_size': 47, 'num_epochs': 17, 'learning_rate': 0.0023318838274243117}. Best is trial 263 with value: 0.029955775831781682.\n"
     ]
    },
    {
     "name": "stdout",
     "output_type": "stream",
     "text": [
      "Average Validation Loss: 0.1632\n"
     ]
    },
    {
     "name": "stderr",
     "output_type": "stream",
     "text": [
      "[I 2024-09-09 21:05:33,837] Trial 310 finished with value: 0.03244969367404424 and parameters: {'hidden1_size': 85, 'hidden2_size': 223, 'hidden3_size': 53, 'hidden4_size': 44, 'num_epochs': 10, 'learning_rate': 1.9545252034560716e-05}. Best is trial 263 with value: 0.029955775831781682.\n"
     ]
    },
    {
     "name": "stdout",
     "output_type": "stream",
     "text": [
      "Average Validation Loss: 0.0324\n"
     ]
    },
    {
     "name": "stderr",
     "output_type": "stream",
     "text": [
      "[I 2024-09-09 21:05:39,840] Trial 311 finished with value: 0.03103108433563085 and parameters: {'hidden1_size': 99, 'hidden2_size': 226, 'hidden3_size': 46, 'hidden4_size': 41, 'num_epochs': 15, 'learning_rate': 1.134569168780648e-05}. Best is trial 263 with value: 0.029955775831781682.\n"
     ]
    },
    {
     "name": "stdout",
     "output_type": "stream",
     "text": [
      "Average Validation Loss: 0.0310\n"
     ]
    },
    {
     "name": "stderr",
     "output_type": "stream",
     "text": [
      "[I 2024-09-09 21:05:57,281] Trial 312 finished with value: 0.03530648122874221 and parameters: {'hidden1_size': 104, 'hidden2_size': 226, 'hidden3_size': 46, 'hidden4_size': 40, 'num_epochs': 44, 'learning_rate': 1.1469611823766193e-05}. Best is trial 263 with value: 0.029955775831781682.\n"
     ]
    },
    {
     "name": "stdout",
     "output_type": "stream",
     "text": [
      "Average Validation Loss: 0.0353\n"
     ]
    },
    {
     "name": "stderr",
     "output_type": "stream",
     "text": [
      "[I 2024-09-09 21:06:02,130] Trial 313 finished with value: 0.04251357646925109 and parameters: {'hidden1_size': 104, 'hidden2_size': 208, 'hidden3_size': 45, 'hidden4_size': 41, 'num_epochs': 12, 'learning_rate': 1.0027213501143205e-05}. Best is trial 263 with value: 0.029955775831781682.\n"
     ]
    },
    {
     "name": "stdout",
     "output_type": "stream",
     "text": [
      "Average Validation Loss: 0.0425\n"
     ]
    },
    {
     "name": "stderr",
     "output_type": "stream",
     "text": [
      "[I 2024-09-09 21:06:07,754] Trial 314 finished with value: 0.03143173418495627 and parameters: {'hidden1_size': 101, 'hidden2_size': 227, 'hidden3_size': 48, 'hidden4_size': 39, 'num_epochs': 14, 'learning_rate': 1.1778050392151308e-05}. Best is trial 263 with value: 0.029955775831781682.\n"
     ]
    },
    {
     "name": "stdout",
     "output_type": "stream",
     "text": [
      "Average Validation Loss: 0.0314\n"
     ]
    },
    {
     "name": "stderr",
     "output_type": "stream",
     "text": [
      "[I 2024-09-09 21:06:13,348] Trial 315 finished with value: 0.03145554129566465 and parameters: {'hidden1_size': 108, 'hidden2_size': 227, 'hidden3_size': 48, 'hidden4_size': 38, 'num_epochs': 14, 'learning_rate': 1.1245136871475859e-05}. Best is trial 263 with value: 0.029955775831781682.\n"
     ]
    },
    {
     "name": "stdout",
     "output_type": "stream",
     "text": [
      "Average Validation Loss: 0.0315\n"
     ]
    },
    {
     "name": "stderr",
     "output_type": "stream",
     "text": [
      "[I 2024-09-09 21:06:18,181] Trial 316 finished with value: 0.030970739145275383 and parameters: {'hidden1_size': 100, 'hidden2_size': 221, 'hidden3_size': 70, 'hidden4_size': 40, 'num_epochs': 12, 'learning_rate': 1.4633331384434986e-05}. Best is trial 263 with value: 0.029955775831781682.\n"
     ]
    },
    {
     "name": "stdout",
     "output_type": "stream",
     "text": [
      "Average Validation Loss: 0.0310\n"
     ]
    },
    {
     "name": "stderr",
     "output_type": "stream",
     "text": [
      "[I 2024-09-09 21:06:22,177] Trial 317 finished with value: 0.03360759354906068 and parameters: {'hidden1_size': 108, 'hidden2_size': 220, 'hidden3_size': 73, 'hidden4_size': 42, 'num_epochs': 10, 'learning_rate': 2.308643607982148e-05}. Best is trial 263 with value: 0.029955775831781682.\n"
     ]
    },
    {
     "name": "stdout",
     "output_type": "stream",
     "text": [
      "Average Validation Loss: 0.0336\n"
     ]
    },
    {
     "name": "stderr",
     "output_type": "stream",
     "text": [
      "[I 2024-09-09 21:06:26,969] Trial 318 finished with value: 0.03562759497158584 and parameters: {'hidden1_size': 99, 'hidden2_size': 213, 'hidden3_size': 92, 'hidden4_size': 40, 'num_epochs': 12, 'learning_rate': 1.5207550746487422e-05}. Best is trial 263 with value: 0.029955775831781682.\n"
     ]
    },
    {
     "name": "stdout",
     "output_type": "stream",
     "text": [
      "Average Validation Loss: 0.0356\n"
     ]
    },
    {
     "name": "stderr",
     "output_type": "stream",
     "text": [
      "[I 2024-09-09 21:06:31,807] Trial 319 finished with value: 0.03310346025751815 and parameters: {'hidden1_size': 100, 'hidden2_size': 165, 'hidden3_size': 86, 'hidden4_size': 41, 'num_epochs': 12, 'learning_rate': 1.7872461825957113e-05}. Best is trial 263 with value: 0.029955775831781682.\n"
     ]
    },
    {
     "name": "stdout",
     "output_type": "stream",
     "text": [
      "Average Validation Loss: 0.0331\n"
     ]
    },
    {
     "name": "stderr",
     "output_type": "stream",
     "text": [
      "[I 2024-09-09 21:06:35,797] Trial 320 finished with value: 0.03212852243866239 and parameters: {'hidden1_size': 96, 'hidden2_size': 222, 'hidden3_size': 58, 'hidden4_size': 36, 'num_epochs': 10, 'learning_rate': 1.4413013221457817e-05}. Best is trial 263 with value: 0.029955775831781682.\n"
     ]
    },
    {
     "name": "stdout",
     "output_type": "stream",
     "text": [
      "Average Validation Loss: 0.0321\n"
     ]
    },
    {
     "name": "stderr",
     "output_type": "stream",
     "text": [
      "[I 2024-09-09 21:06:40,571] Trial 321 finished with value: 0.032110910918120114 and parameters: {'hidden1_size': 73, 'hidden2_size': 218, 'hidden3_size': 78, 'hidden4_size': 39, 'num_epochs': 12, 'learning_rate': 1.6414355215682893e-05}. Best is trial 263 with value: 0.029955775831781682.\n"
     ]
    },
    {
     "name": "stdout",
     "output_type": "stream",
     "text": [
      "Average Validation Loss: 0.0321\n"
     ]
    },
    {
     "name": "stderr",
     "output_type": "stream",
     "text": [
      "[I 2024-09-09 21:06:46,581] Trial 322 finished with value: 0.03370414250752046 and parameters: {'hidden1_size': 98, 'hidden2_size': 234, 'hidden3_size': 64, 'hidden4_size': 43, 'num_epochs': 15, 'learning_rate': 1.3280170888807753e-05}. Best is trial 263 with value: 0.029955775831781682.\n"
     ]
    },
    {
     "name": "stdout",
     "output_type": "stream",
     "text": [
      "Average Validation Loss: 0.0337\n"
     ]
    },
    {
     "name": "stderr",
     "output_type": "stream",
     "text": [
      "[I 2024-09-09 21:06:51,762] Trial 323 finished with value: 0.03418411774605158 and parameters: {'hidden1_size': 94, 'hidden2_size': 224, 'hidden3_size': 56, 'hidden4_size': 46, 'num_epochs': 13, 'learning_rate': 1.8306787289229073e-05}. Best is trial 263 with value: 0.029955775831781682.\n"
     ]
    },
    {
     "name": "stdout",
     "output_type": "stream",
     "text": [
      "Average Validation Loss: 0.0342\n"
     ]
    },
    {
     "name": "stderr",
     "output_type": "stream",
     "text": [
      "[I 2024-09-09 21:06:55,761] Trial 324 finished with value: 0.03414538506019328 and parameters: {'hidden1_size': 79, 'hidden2_size': 237, 'hidden3_size': 54, 'hidden4_size': 48, 'num_epochs': 10, 'learning_rate': 2.0442161652027066e-05}. Best is trial 263 with value: 0.029955775831781682.\n"
     ]
    },
    {
     "name": "stdout",
     "output_type": "stream",
     "text": [
      "Average Validation Loss: 0.0341\n"
     ]
    },
    {
     "name": "stderr",
     "output_type": "stream",
     "text": [
      "[I 2024-09-09 21:07:01,334] Trial 325 finished with value: 0.03571214929356107 and parameters: {'hidden1_size': 71, 'hidden2_size': 230, 'hidden3_size': 69, 'hidden4_size': 42, 'num_epochs': 14, 'learning_rate': 1.4453833921902007e-05}. Best is trial 263 with value: 0.029955775831781682.\n"
     ]
    },
    {
     "name": "stdout",
     "output_type": "stream",
     "text": [
      "Average Validation Loss: 0.0357\n"
     ]
    },
    {
     "name": "stderr",
     "output_type": "stream",
     "text": [
      "[I 2024-09-09 21:07:06,156] Trial 326 finished with value: 0.03348599838846851 and parameters: {'hidden1_size': 146, 'hidden2_size': 216, 'hidden3_size': 90, 'hidden4_size': 50, 'num_epochs': 12, 'learning_rate': 1.1197564701554004e-05}. Best is trial 263 with value: 0.029955775831781682.\n"
     ]
    },
    {
     "name": "stdout",
     "output_type": "stream",
     "text": [
      "Average Validation Loss: 0.0335\n"
     ]
    },
    {
     "name": "stderr",
     "output_type": "stream",
     "text": [
      "[I 2024-09-09 21:07:28,275] Trial 327 finished with value: 0.036221372574800625 and parameters: {'hidden1_size': 91, 'hidden2_size': 203, 'hidden3_size': 67, 'hidden4_size': 47, 'num_epochs': 56, 'learning_rate': 1.2680784553296899e-05}. Best is trial 263 with value: 0.029955775831781682.\n"
     ]
    },
    {
     "name": "stdout",
     "output_type": "stream",
     "text": [
      "Average Validation Loss: 0.0362\n"
     ]
    },
    {
     "name": "stderr",
     "output_type": "stream",
     "text": [
      "[I 2024-09-09 21:07:34,320] Trial 328 finished with value: 0.03460072596291346 and parameters: {'hidden1_size': 75, 'hidden2_size': 139, 'hidden3_size': 71, 'hidden4_size': 43, 'num_epochs': 15, 'learning_rate': 1.5634455009382758e-05}. Best is trial 263 with value: 0.029955775831781682.\n"
     ]
    },
    {
     "name": "stdout",
     "output_type": "stream",
     "text": [
      "Average Validation Loss: 0.0346\n"
     ]
    },
    {
     "name": "stderr",
     "output_type": "stream",
     "text": [
      "[I 2024-09-09 21:07:38,755] Trial 329 finished with value: 0.03219612712217938 and parameters: {'hidden1_size': 153, 'hidden2_size': 232, 'hidden3_size': 51, 'hidden4_size': 45, 'num_epochs': 11, 'learning_rate': 1.137264346642688e-05}. Best is trial 263 with value: 0.029955775831781682.\n"
     ]
    },
    {
     "name": "stdout",
     "output_type": "stream",
     "text": [
      "Average Validation Loss: 0.0322\n"
     ]
    },
    {
     "name": "stderr",
     "output_type": "stream",
     "text": [
      "[I 2024-09-09 21:07:50,192] Trial 330 finished with value: 0.03391729104000011 and parameters: {'hidden1_size': 81, 'hidden2_size': 238, 'hidden3_size': 53, 'hidden4_size': 40, 'num_epochs': 29, 'learning_rate': 1.0046005282435119e-05}. Best is trial 263 with value: 0.029955775831781682.\n"
     ]
    },
    {
     "name": "stdout",
     "output_type": "stream",
     "text": [
      "Average Validation Loss: 0.0339\n"
     ]
    },
    {
     "name": "stderr",
     "output_type": "stream",
     "text": [
      "[I 2024-09-09 21:07:56,956] Trial 331 finished with value: 0.034170993736812046 and parameters: {'hidden1_size': 86, 'hidden2_size': 242, 'hidden3_size': 88, 'hidden4_size': 37, 'num_epochs': 17, 'learning_rate': 1.3663958602396188e-05}. Best is trial 263 with value: 0.029955775831781682.\n"
     ]
    },
    {
     "name": "stdout",
     "output_type": "stream",
     "text": [
      "Average Validation Loss: 0.0342\n"
     ]
    },
    {
     "name": "stderr",
     "output_type": "stream",
     "text": [
      "[I 2024-09-09 21:08:02,593] Trial 332 finished with value: 0.033867558591910416 and parameters: {'hidden1_size': 121, 'hidden2_size': 225, 'hidden3_size': 50, 'hidden4_size': 47, 'num_epochs': 14, 'learning_rate': 1.704741531611334e-05}. Best is trial 263 with value: 0.029955775831781682.\n"
     ]
    },
    {
     "name": "stdout",
     "output_type": "stream",
     "text": [
      "Average Validation Loss: 0.0339\n"
     ]
    },
    {
     "name": "stderr",
     "output_type": "stream",
     "text": [
      "[I 2024-09-09 21:08:07,402] Trial 333 finished with value: 0.03717986204927521 and parameters: {'hidden1_size': 111, 'hidden2_size': 228, 'hidden3_size': 52, 'hidden4_size': 41, 'num_epochs': 12, 'learning_rate': 2.885456362632799e-05}. Best is trial 263 with value: 0.029955775831781682.\n"
     ]
    },
    {
     "name": "stdout",
     "output_type": "stream",
     "text": [
      "Average Validation Loss: 0.0372\n"
     ]
    },
    {
     "name": "stderr",
     "output_type": "stream",
     "text": [
      "[I 2024-09-09 21:08:11,400] Trial 334 finished with value: 0.035254633896762415 and parameters: {'hidden1_size': 68, 'hidden2_size': 234, 'hidden3_size': 60, 'hidden4_size': 44, 'num_epochs': 10, 'learning_rate': 1.2639957694022364e-05}. Best is trial 263 with value: 0.029955775831781682.\n"
     ]
    },
    {
     "name": "stdout",
     "output_type": "stream",
     "text": [
      "Average Validation Loss: 0.0353\n"
     ]
    },
    {
     "name": "stderr",
     "output_type": "stream",
     "text": [
      "[I 2024-09-09 21:08:17,416] Trial 335 finished with value: 0.03489767686863031 and parameters: {'hidden1_size': 76, 'hidden2_size': 238, 'hidden3_size': 49, 'hidden4_size': 45, 'num_epochs': 15, 'learning_rate': 2.0904389471219247e-05}. Best is trial 263 with value: 0.029955775831781682.\n"
     ]
    },
    {
     "name": "stdout",
     "output_type": "stream",
     "text": [
      "Average Validation Loss: 0.0349\n"
     ]
    },
    {
     "name": "stderr",
     "output_type": "stream",
     "text": [
      "[I 2024-09-09 21:08:25,026] Trial 336 finished with value: 0.03660310700070113 and parameters: {'hidden1_size': 80, 'hidden2_size': 230, 'hidden3_size': 55, 'hidden4_size': 39, 'num_epochs': 19, 'learning_rate': 1.4895380666101619e-05}. Best is trial 263 with value: 0.029955775831781682.\n"
     ]
    },
    {
     "name": "stdout",
     "output_type": "stream",
     "text": [
      "Average Validation Loss: 0.0366\n"
     ]
    },
    {
     "name": "stderr",
     "output_type": "stream",
     "text": [
      "[I 2024-09-09 21:08:30,280] Trial 337 finished with value: 0.03187059201965375 and parameters: {'hidden1_size': 245, 'hidden2_size': 221, 'hidden3_size': 46, 'hidden4_size': 43, 'num_epochs': 13, 'learning_rate': 1.1548333551430124e-05}. Best is trial 263 with value: 0.029955775831781682.\n"
     ]
    },
    {
     "name": "stdout",
     "output_type": "stream",
     "text": [
      "Average Validation Loss: 0.0319\n"
     ]
    },
    {
     "name": "stderr",
     "output_type": "stream",
     "text": [
      "[I 2024-09-09 21:08:36,673] Trial 338 finished with value: 0.03302415286279505 and parameters: {'hidden1_size': 91, 'hidden2_size': 235, 'hidden3_size': 50, 'hidden4_size': 46, 'num_epochs': 16, 'learning_rate': 1.3512945406427925e-05}. Best is trial 263 with value: 0.029955775831781682.\n"
     ]
    },
    {
     "name": "stdout",
     "output_type": "stream",
     "text": [
      "Average Validation Loss: 0.0330\n"
     ]
    },
    {
     "name": "stderr",
     "output_type": "stream",
     "text": [
      "[I 2024-09-09 21:08:41,863] Trial 339 finished with value: 0.032467597629874945 and parameters: {'hidden1_size': 102, 'hidden2_size': 242, 'hidden3_size': 53, 'hidden4_size': 38, 'num_epochs': 13, 'learning_rate': 1.6592352055725812e-05}. Best is trial 263 with value: 0.029955775831781682.\n"
     ]
    },
    {
     "name": "stdout",
     "output_type": "stream",
     "text": [
      "Average Validation Loss: 0.0325\n"
     ]
    },
    {
     "name": "stderr",
     "output_type": "stream",
     "text": [
      "[I 2024-09-09 21:08:45,894] Trial 340 finished with value: 0.035740558723253865 and parameters: {'hidden1_size': 83, 'hidden2_size': 210, 'hidden3_size': 85, 'hidden4_size': 48, 'num_epochs': 10, 'learning_rate': 1.1003982644497294e-05}. Best is trial 263 with value: 0.029955775831781682.\n"
     ]
    },
    {
     "name": "stdout",
     "output_type": "stream",
     "text": [
      "Average Validation Loss: 0.0357\n"
     ]
    },
    {
     "name": "stderr",
     "output_type": "stream",
     "text": [
      "[I 2024-09-09 21:08:50,724] Trial 341 finished with value: 0.03742032509208435 and parameters: {'hidden1_size': 77, 'hidden2_size': 232, 'hidden3_size': 47, 'hidden4_size': 42, 'num_epochs': 12, 'learning_rate': 5.396730035463676e-05}. Best is trial 263 with value: 0.029955775831781682.\n"
     ]
    },
    {
     "name": "stdout",
     "output_type": "stream",
     "text": [
      "Average Validation Loss: 0.0374\n"
     ]
    },
    {
     "name": "stderr",
     "output_type": "stream",
     "text": [
      "[I 2024-09-09 21:08:57,886] Trial 342 finished with value: 0.032222121865266844 and parameters: {'hidden1_size': 71, 'hidden2_size': 223, 'hidden3_size': 74, 'hidden4_size': 49, 'num_epochs': 18, 'learning_rate': 1.0070052495511774e-05}. Best is trial 263 with value: 0.029955775831781682.\n"
     ]
    },
    {
     "name": "stdout",
     "output_type": "stream",
     "text": [
      "Average Validation Loss: 0.0322\n"
     ]
    },
    {
     "name": "stderr",
     "output_type": "stream",
     "text": [
      "[I 2024-09-09 21:09:03,988] Trial 343 finished with value: 0.03344622625237597 and parameters: {'hidden1_size': 252, 'hidden2_size': 218, 'hidden3_size': 56, 'hidden4_size': 44, 'num_epochs': 15, 'learning_rate': 1.2756966517577702e-05}. Best is trial 263 with value: 0.029955775831781682.\n"
     ]
    },
    {
     "name": "stdout",
     "output_type": "stream",
     "text": [
      "Average Validation Loss: 0.0334\n"
     ]
    },
    {
     "name": "stderr",
     "output_type": "stream",
     "text": [
      "[I 2024-09-09 21:09:08,436] Trial 344 finished with value: 0.035157066725549246 and parameters: {'hidden1_size': 86, 'hidden2_size': 239, 'hidden3_size': 91, 'hidden4_size': 22, 'num_epochs': 11, 'learning_rate': 2.3745892424173382e-05}. Best is trial 263 with value: 0.029955775831781682.\n"
     ]
    },
    {
     "name": "stdout",
     "output_type": "stream",
     "text": [
      "Average Validation Loss: 0.0352\n"
     ]
    },
    {
     "name": "stderr",
     "output_type": "stream",
     "text": [
      "[I 2024-09-09 21:09:14,052] Trial 345 finished with value: 0.03891861879466368 and parameters: {'hidden1_size': 80, 'hidden2_size': 227, 'hidden3_size': 48, 'hidden4_size': 40, 'num_epochs': 14, 'learning_rate': 6.469621708330057e-05}. Best is trial 263 with value: 0.029955775831781682.\n"
     ]
    },
    {
     "name": "stdout",
     "output_type": "stream",
     "text": [
      "Average Validation Loss: 0.0389\n"
     ]
    },
    {
     "name": "stderr",
     "output_type": "stream",
     "text": [
      "[I 2024-09-09 21:09:20,898] Trial 346 finished with value: 0.034222659815679346 and parameters: {'hidden1_size': 248, 'hidden2_size': 233, 'hidden3_size': 38, 'hidden4_size': 46, 'num_epochs': 17, 'learning_rate': 1.880948873188485e-05}. Best is trial 263 with value: 0.029955775831781682.\n"
     ]
    },
    {
     "name": "stdout",
     "output_type": "stream",
     "text": [
      "Average Validation Loss: 0.0342\n"
     ]
    },
    {
     "name": "stderr",
     "output_type": "stream",
     "text": [
      "[I 2024-09-09 21:09:26,060] Trial 347 finished with value: 0.03313693368718738 and parameters: {'hidden1_size': 141, 'hidden2_size': 245, 'hidden3_size': 52, 'hidden4_size': 17, 'num_epochs': 13, 'learning_rate': 1.4952805496602578e-05}. Best is trial 263 with value: 0.029955775831781682.\n"
     ]
    },
    {
     "name": "stdout",
     "output_type": "stream",
     "text": [
      "Average Validation Loss: 0.0331\n"
     ]
    },
    {
     "name": "stderr",
     "output_type": "stream",
     "text": [
      "[I 2024-09-09 21:09:30,075] Trial 348 finished with value: 0.03719907298329331 and parameters: {'hidden1_size': 73, 'hidden2_size': 235, 'hidden3_size': 50, 'hidden4_size': 45, 'num_epochs': 10, 'learning_rate': 1.2249663375263257e-05}. Best is trial 263 with value: 0.029955775831781682.\n"
     ]
    },
    {
     "name": "stdout",
     "output_type": "stream",
     "text": [
      "Average Validation Loss: 0.0372\n"
     ]
    },
    {
     "name": "stderr",
     "output_type": "stream",
     "text": [
      "[I 2024-09-09 21:09:36,499] Trial 349 finished with value: 0.035659722612416817 and parameters: {'hidden1_size': 241, 'hidden2_size': 214, 'hidden3_size': 45, 'hidden4_size': 47, 'num_epochs': 16, 'learning_rate': 1.4194946243224614e-05}. Best is trial 263 with value: 0.029955775831781682.\n"
     ]
    },
    {
     "name": "stdout",
     "output_type": "stream",
     "text": [
      "Average Validation Loss: 0.0357\n"
     ]
    },
    {
     "name": "stderr",
     "output_type": "stream",
     "text": [
      "[I 2024-09-09 21:09:41,305] Trial 350 finished with value: 0.03444068120526416 and parameters: {'hidden1_size': 98, 'hidden2_size': 241, 'hidden3_size': 88, 'hidden4_size': 41, 'num_epochs': 12, 'learning_rate': 1.6571430941732448e-05}. Best is trial 263 with value: 0.029955775831781682.\n"
     ]
    },
    {
     "name": "stdout",
     "output_type": "stream",
     "text": [
      "Average Validation Loss: 0.0344\n"
     ]
    },
    {
     "name": "stderr",
     "output_type": "stream",
     "text": [
      "[I 2024-09-09 21:09:46,970] Trial 351 finished with value: 0.03203839172298709 and parameters: {'hidden1_size': 89, 'hidden2_size': 230, 'hidden3_size': 54, 'hidden4_size': 43, 'num_epochs': 14, 'learning_rate': 1.1297195323050316e-05}. Best is trial 263 with value: 0.029955775831781682.\n"
     ]
    },
    {
     "name": "stdout",
     "output_type": "stream",
     "text": [
      "Average Validation Loss: 0.0320\n"
     ]
    },
    {
     "name": "stderr",
     "output_type": "stream",
     "text": [
      "[I 2024-09-09 21:10:19,564] Trial 352 finished with value: 0.042854639540781225 and parameters: {'hidden1_size': 126, 'hidden2_size': 238, 'hidden3_size': 83, 'hidden4_size': 52, 'num_epochs': 83, 'learning_rate': 1.0032480305897205e-05}. Best is trial 263 with value: 0.029955775831781682.\n"
     ]
    },
    {
     "name": "stdout",
     "output_type": "stream",
     "text": [
      "Average Validation Loss: 0.0429\n"
     ]
    },
    {
     "name": "stderr",
     "output_type": "stream",
     "text": [
      "[I 2024-09-09 21:10:24,011] Trial 353 finished with value: 0.03433884207957557 and parameters: {'hidden1_size': 84, 'hidden2_size': 221, 'hidden3_size': 51, 'hidden4_size': 42, 'num_epochs': 11, 'learning_rate': 1.3312152134912697e-05}. Best is trial 263 with value: 0.029955775831781682.\n"
     ]
    },
    {
     "name": "stdout",
     "output_type": "stream",
     "text": [
      "Average Validation Loss: 0.0343\n"
     ]
    },
    {
     "name": "stderr",
     "output_type": "stream",
     "text": [
      "[I 2024-09-09 21:10:43,668] Trial 354 finished with value: 0.03838091274623626 and parameters: {'hidden1_size': 106, 'hidden2_size': 172, 'hidden3_size': 95, 'hidden4_size': 44, 'num_epochs': 50, 'learning_rate': 1.5537253341987404e-05}. Best is trial 263 with value: 0.029955775831781682.\n"
     ]
    },
    {
     "name": "stdout",
     "output_type": "stream",
     "text": [
      "Average Validation Loss: 0.0384\n"
     ]
    },
    {
     "name": "stderr",
     "output_type": "stream",
     "text": [
      "[I 2024-09-09 21:11:21,413] Trial 355 finished with value: 0.07597773234572341 and parameters: {'hidden1_size': 77, 'hidden2_size': 227, 'hidden3_size': 48, 'hidden4_size': 46, 'num_epochs': 96, 'learning_rate': 1.880711274240276e-05}. Best is trial 263 with value: 0.029955775831781682.\n"
     ]
    },
    {
     "name": "stdout",
     "output_type": "stream",
     "text": [
      "Average Validation Loss: 0.0760\n"
     ]
    },
    {
     "name": "stderr",
     "output_type": "stream",
     "text": [
      "[I 2024-09-09 21:11:27,427] Trial 356 finished with value: 0.03625608510559514 and parameters: {'hidden1_size': 67, 'hidden2_size': 243, 'hidden3_size': 65, 'hidden4_size': 45, 'num_epochs': 15, 'learning_rate': 1.2258128236071796e-05}. Best is trial 263 with value: 0.029955775831781682.\n"
     ]
    },
    {
     "name": "stdout",
     "output_type": "stream",
     "text": [
      "Average Validation Loss: 0.0363\n"
     ]
    },
    {
     "name": "stderr",
     "output_type": "stream",
     "text": [
      "[I 2024-09-09 21:11:34,623] Trial 357 finished with value: 0.0352284143168834 and parameters: {'hidden1_size': 253, 'hidden2_size': 236, 'hidden3_size': 58, 'hidden4_size': 39, 'num_epochs': 18, 'learning_rate': 2.1303854448526147e-05}. Best is trial 263 with value: 0.029955775831781682.\n"
     ]
    },
    {
     "name": "stdout",
     "output_type": "stream",
     "text": [
      "Average Validation Loss: 0.0352\n"
     ]
    },
    {
     "name": "stderr",
     "output_type": "stream",
     "text": [
      "[I 2024-09-09 21:11:39,852] Trial 358 finished with value: 0.030774872439603012 and parameters: {'hidden1_size': 73, 'hidden2_size': 230, 'hidden3_size': 54, 'hidden4_size': 41, 'num_epochs': 13, 'learning_rate': 1.1681166451638489e-05}. Best is trial 263 with value: 0.029955775831781682.\n"
     ]
    },
    {
     "name": "stdout",
     "output_type": "stream",
     "text": [
      "Average Validation Loss: 0.0308\n"
     ]
    },
    {
     "name": "stderr",
     "output_type": "stream",
     "text": [
      "[I 2024-09-09 21:11:44,652] Trial 359 finished with value: 0.03188738690334417 and parameters: {'hidden1_size': 74, 'hidden2_size': 231, 'hidden3_size': 52, 'hidden4_size': 41, 'num_epochs': 12, 'learning_rate': 1.4274388100996889e-05}. Best is trial 263 with value: 0.029955775831781682.\n"
     ]
    },
    {
     "name": "stdout",
     "output_type": "stream",
     "text": [
      "Average Validation Loss: 0.0319\n"
     ]
    },
    {
     "name": "stderr",
     "output_type": "stream",
     "text": [
      "[I 2024-09-09 21:11:48,638] Trial 360 finished with value: 0.03369049679133154 and parameters: {'hidden1_size': 69, 'hidden2_size': 234, 'hidden3_size': 49, 'hidden4_size': 42, 'num_epochs': 10, 'learning_rate': 1.7395191716530152e-05}. Best is trial 263 with value: 0.029955775831781682.\n"
     ]
    },
    {
     "name": "stdout",
     "output_type": "stream",
     "text": [
      "Average Validation Loss: 0.0337\n"
     ]
    },
    {
     "name": "stderr",
     "output_type": "stream",
     "text": [
      "[I 2024-09-09 21:11:53,842] Trial 361 finished with value: 0.03311958002103936 and parameters: {'hidden1_size': 64, 'hidden2_size': 239, 'hidden3_size': 45, 'hidden4_size': 40, 'num_epochs': 13, 'learning_rate': 1.267097355604799e-05}. Best is trial 263 with value: 0.029955775831781682.\n"
     ]
    },
    {
     "name": "stdout",
     "output_type": "stream",
     "text": [
      "Average Validation Loss: 0.0331\n"
     ]
    },
    {
     "name": "stderr",
     "output_type": "stream",
     "text": [
      "[I 2024-09-09 21:11:58,659] Trial 362 finished with value: 0.035564669141811986 and parameters: {'hidden1_size': 93, 'hidden2_size': 109, 'hidden3_size': 54, 'hidden4_size': 43, 'num_epochs': 12, 'learning_rate': 1.1239096658693533e-05}. Best is trial 263 with value: 0.029955775831781682.\n"
     ]
    },
    {
     "name": "stdout",
     "output_type": "stream",
     "text": [
      "Average Validation Loss: 0.0356\n"
     ]
    },
    {
     "name": "stderr",
     "output_type": "stream",
     "text": [
      "[I 2024-09-09 21:12:04,306] Trial 363 finished with value: 0.03195259839828525 and parameters: {'hidden1_size': 248, 'hidden2_size': 230, 'hidden3_size': 41, 'hidden4_size': 41, 'num_epochs': 14, 'learning_rate': 1.5485715255226478e-05}. Best is trial 263 with value: 0.029955775831781682.\n"
     ]
    },
    {
     "name": "stdout",
     "output_type": "stream",
     "text": [
      "Average Validation Loss: 0.0320\n"
     ]
    },
    {
     "name": "stderr",
     "output_type": "stream",
     "text": [
      "[I 2024-09-09 21:12:28,303] Trial 364 finished with value: 0.041046346787230244 and parameters: {'hidden1_size': 72, 'hidden2_size': 226, 'hidden3_size': 47, 'hidden4_size': 48, 'num_epochs': 61, 'learning_rate': 1.3753364325214244e-05}. Best is trial 263 with value: 0.029955775831781682.\n"
     ]
    },
    {
     "name": "stdout",
     "output_type": "stream",
     "text": [
      "Average Validation Loss: 0.0410\n"
     ]
    },
    {
     "name": "stderr",
     "output_type": "stream",
     "text": [
      "[I 2024-09-09 21:12:32,397] Trial 365 finished with value: 0.05503040966682636 and parameters: {'hidden1_size': 244, 'hidden2_size': 244, 'hidden3_size': 51, 'hidden4_size': 45, 'num_epochs': 10, 'learning_rate': 0.00021935458600217552}. Best is trial 263 with value: 0.029955775831781682.\n"
     ]
    },
    {
     "name": "stdout",
     "output_type": "stream",
     "text": [
      "Average Validation Loss: 0.0550\n"
     ]
    },
    {
     "name": "stderr",
     "output_type": "stream",
     "text": [
      "[I 2024-09-09 21:12:38,381] Trial 366 finished with value: 0.0299316175570268 and parameters: {'hidden1_size': 76, 'hidden2_size': 128, 'hidden3_size': 93, 'hidden4_size': 47, 'num_epochs': 15, 'learning_rate': 1.1398647529848385e-05}. Best is trial 366 with value: 0.0299316175570268.\n"
     ]
    },
    {
     "name": "stdout",
     "output_type": "stream",
     "text": [
      "Average Validation Loss: 0.0299\n"
     ]
    },
    {
     "name": "stderr",
     "output_type": "stream",
     "text": [
      "[I 2024-09-09 21:12:44,381] Trial 367 finished with value: 0.034451593966445045 and parameters: {'hidden1_size': 75, 'hidden2_size': 154, 'hidden3_size': 93, 'hidden4_size': 47, 'num_epochs': 15, 'learning_rate': 1.1233451552888645e-05}. Best is trial 366 with value: 0.0299316175570268.\n"
     ]
    },
    {
     "name": "stdout",
     "output_type": "stream",
     "text": [
      "Average Validation Loss: 0.0345\n"
     ]
    },
    {
     "name": "stderr",
     "output_type": "stream",
     "text": [
      "[I 2024-09-09 21:12:49,156] Trial 368 finished with value: 0.032552395814231465 and parameters: {'hidden1_size': 83, 'hidden2_size': 192, 'hidden3_size': 96, 'hidden4_size': 49, 'num_epochs': 12, 'learning_rate': 1.0052096985024288e-05}. Best is trial 366 with value: 0.0299316175570268.\n"
     ]
    },
    {
     "name": "stdout",
     "output_type": "stream",
     "text": [
      "Average Validation Loss: 0.0326\n"
     ]
    },
    {
     "name": "stderr",
     "output_type": "stream",
     "text": [
      "[I 2024-09-09 21:12:54,342] Trial 369 finished with value: 0.03266958309160102 and parameters: {'hidden1_size': 79, 'hidden2_size': 125, 'hidden3_size': 92, 'hidden4_size': 48, 'num_epochs': 13, 'learning_rate': 1.2255709121366131e-05}. Best is trial 366 with value: 0.0299316175570268.\n"
     ]
    },
    {
     "name": "stdout",
     "output_type": "stream",
     "text": [
      "Average Validation Loss: 0.0327\n"
     ]
    },
    {
     "name": "stderr",
     "output_type": "stream",
     "text": [
      "[I 2024-09-09 21:13:00,734] Trial 370 finished with value: 0.03548302841816275 and parameters: {'hidden1_size': 73, 'hidden2_size': 181, 'hidden3_size': 94, 'hidden4_size': 47, 'num_epochs': 16, 'learning_rate': 1.2779029096070311e-05}. Best is trial 366 with value: 0.0299316175570268.\n"
     ]
    },
    {
     "name": "stdout",
     "output_type": "stream",
     "text": [
      "Average Validation Loss: 0.0355\n"
     ]
    },
    {
     "name": "stderr",
     "output_type": "stream",
     "text": [
      "[I 2024-09-09 21:13:04,723] Trial 371 finished with value: 0.05694947515924772 and parameters: {'hidden1_size': 69, 'hidden2_size': 104, 'hidden3_size': 90, 'hidden4_size': 48, 'num_epochs': 10, 'learning_rate': 1.1190765413057374e-05}. Best is trial 366 with value: 0.0299316175570268.\n"
     ]
    },
    {
     "name": "stdout",
     "output_type": "stream",
     "text": [
      "Average Validation Loss: 0.0569\n"
     ]
    },
    {
     "name": "stderr",
     "output_type": "stream",
     "text": [
      "[I 2024-09-09 21:13:09,946] Trial 372 finished with value: 0.06727921007647335 and parameters: {'hidden1_size': 87, 'hidden2_size': 236, 'hidden3_size': 90, 'hidden4_size': 46, 'num_epochs': 13, 'learning_rate': 0.005614582723356494}. Best is trial 366 with value: 0.0299316175570268.\n"
     ]
    },
    {
     "name": "stdout",
     "output_type": "stream",
     "text": [
      "Average Validation Loss: 0.0673\n"
     ]
    },
    {
     "name": "stderr",
     "output_type": "stream",
     "text": [
      "[I 2024-09-09 21:13:14,380] Trial 373 finished with value: 0.03261548750812099 and parameters: {'hidden1_size': 76, 'hidden2_size': 129, 'hidden3_size': 86, 'hidden4_size': 49, 'num_epochs': 11, 'learning_rate': 1.4065851184152963e-05}. Best is trial 366 with value: 0.0299316175570268.\n"
     ]
    },
    {
     "name": "stdout",
     "output_type": "stream",
     "text": [
      "Average Validation Loss: 0.0326\n"
     ]
    },
    {
     "name": "stderr",
     "output_type": "stream",
     "text": [
      "[I 2024-09-09 21:13:20,321] Trial 374 finished with value: 0.03511816955038479 and parameters: {'hidden1_size': 82, 'hidden2_size': 233, 'hidden3_size': 50, 'hidden4_size': 44, 'num_epochs': 15, 'learning_rate': 1.010570681324042e-05}. Best is trial 366 with value: 0.0299316175570268.\n"
     ]
    },
    {
     "name": "stdout",
     "output_type": "stream",
     "text": [
      "Average Validation Loss: 0.0351\n"
     ]
    },
    {
     "name": "stderr",
     "output_type": "stream",
     "text": [
      "[I 2024-09-09 21:13:25,895] Trial 375 finished with value: 0.03320387438205736 and parameters: {'hidden1_size': 79, 'hidden2_size': 187, 'hidden3_size': 47, 'hidden4_size': 47, 'num_epochs': 14, 'learning_rate': 1.2871745825258988e-05}. Best is trial 366 with value: 0.0299316175570268.\n"
     ]
    },
    {
     "name": "stdout",
     "output_type": "stream",
     "text": [
      "Average Validation Loss: 0.0332\n"
     ]
    },
    {
     "name": "stderr",
     "output_type": "stream",
     "text": [
      "[I 2024-09-09 21:13:30,664] Trial 376 finished with value: 0.033371875572594856 and parameters: {'hidden1_size': 99, 'hidden2_size': 240, 'hidden3_size': 88, 'hidden4_size': 46, 'num_epochs': 12, 'learning_rate': 1.0021745646844663e-05}. Best is trial 366 with value: 0.0299316175570268.\n"
     ]
    },
    {
     "name": "stdout",
     "output_type": "stream",
     "text": [
      "Average Validation Loss: 0.0334\n"
     ]
    },
    {
     "name": "stderr",
     "output_type": "stream",
     "text": [
      "[I 2024-09-09 21:13:38,276] Trial 377 finished with value: 0.03433779431950478 and parameters: {'hidden1_size': 92, 'hidden2_size': 230, 'hidden3_size': 44, 'hidden4_size': 43, 'num_epochs': 19, 'learning_rate': 1.5630552252458645e-05}. Best is trial 366 with value: 0.0299316175570268.\n"
     ]
    },
    {
     "name": "stdout",
     "output_type": "stream",
     "text": [
      "Average Validation Loss: 0.0343\n"
     ]
    },
    {
     "name": "stderr",
     "output_type": "stream",
     "text": [
      "[I 2024-09-09 21:13:44,643] Trial 378 finished with value: 0.03090391611857783 and parameters: {'hidden1_size': 71, 'hidden2_size': 158, 'hidden3_size': 80, 'hidden4_size': 45, 'num_epochs': 16, 'learning_rate': 1.1837272976009837e-05}. Best is trial 366 with value: 0.0299316175570268.\n"
     ]
    },
    {
     "name": "stdout",
     "output_type": "stream",
     "text": [
      "Average Validation Loss: 0.0309\n"
     ]
    },
    {
     "name": "stderr",
     "output_type": "stream",
     "text": [
      "[I 2024-09-09 21:13:48,646] Trial 379 finished with value: 0.03871857778479656 and parameters: {'hidden1_size': 70, 'hidden2_size': 158, 'hidden3_size': 76, 'hidden4_size': 45, 'num_epochs': 10, 'learning_rate': 1.1522826146521157e-05}. Best is trial 366 with value: 0.0299316175570268.\n"
     ]
    },
    {
     "name": "stdout",
     "output_type": "stream",
     "text": [
      "Average Validation Loss: 0.0387\n"
     ]
    },
    {
     "name": "stderr",
     "output_type": "stream",
     "text": [
      "[I 2024-09-09 21:13:55,002] Trial 380 finished with value: 0.035795241416919796 and parameters: {'hidden1_size': 72, 'hidden2_size': 161, 'hidden3_size': 94, 'hidden4_size': 44, 'num_epochs': 16, 'learning_rate': 1.2078934813677769e-05}. Best is trial 366 with value: 0.0299316175570268.\n"
     ]
    },
    {
     "name": "stdout",
     "output_type": "stream",
     "text": [
      "Average Validation Loss: 0.0358\n"
     ]
    },
    {
     "name": "stderr",
     "output_type": "stream",
     "text": [
      "[I 2024-09-09 21:13:59,833] Trial 381 finished with value: 0.03201296708236138 and parameters: {'hidden1_size': 65, 'hidden2_size': 247, 'hidden3_size': 79, 'hidden4_size': 45, 'num_epochs': 12, 'learning_rate': 1.3553626578050047e-05}. Best is trial 366 with value: 0.0299316175570268.\n"
     ]
    },
    {
     "name": "stdout",
     "output_type": "stream",
     "text": [
      "Average Validation Loss: 0.0320\n"
     ]
    },
    {
     "name": "stderr",
     "output_type": "stream",
     "text": [
      "[I 2024-09-09 21:14:05,396] Trial 382 finished with value: 0.03614712307517905 and parameters: {'hidden1_size': 111, 'hidden2_size': 148, 'hidden3_size': 49, 'hidden4_size': 42, 'num_epochs': 14, 'learning_rate': 3.4122636383056376e-05}. Best is trial 366 with value: 0.0299316175570268.\n"
     ]
    },
    {
     "name": "stdout",
     "output_type": "stream",
     "text": [
      "Average Validation Loss: 0.0361\n"
     ]
    },
    {
     "name": "stderr",
     "output_type": "stream",
     "text": [
      "[I 2024-09-09 21:14:12,159] Trial 383 finished with value: 0.03338858082757464 and parameters: {'hidden1_size': 67, 'hidden2_size': 133, 'hidden3_size': 52, 'hidden4_size': 46, 'num_epochs': 17, 'learning_rate': 1.2237871911302886e-05}. Best is trial 366 with value: 0.0299316175570268.\n"
     ]
    },
    {
     "name": "stdout",
     "output_type": "stream",
     "text": [
      "Average Validation Loss: 0.0334\n"
     ]
    },
    {
     "name": "stderr",
     "output_type": "stream",
     "text": [
      "[I 2024-09-09 21:14:16,195] Trial 384 finished with value: 0.04601390101015568 and parameters: {'hidden1_size': 76, 'hidden2_size': 178, 'hidden3_size': 47, 'hidden4_size': 42, 'num_epochs': 10, 'learning_rate': 1.1164752732658851e-05}. Best is trial 366 with value: 0.0299316175570268.\n"
     ]
    },
    {
     "name": "stdout",
     "output_type": "stream",
     "text": [
      "Average Validation Loss: 0.0460\n"
     ]
    },
    {
     "name": "stderr",
     "output_type": "stream",
     "text": [
      "[I 2024-09-09 21:14:21,378] Trial 385 finished with value: 0.03356709642823608 and parameters: {'hidden1_size': 73, 'hidden2_size': 224, 'hidden3_size': 49, 'hidden4_size': 40, 'num_epochs': 13, 'learning_rate': 1.4599617881810954e-05}. Best is trial 366 with value: 0.0299316175570268.\n"
     ]
    },
    {
     "name": "stdout",
     "output_type": "stream",
     "text": [
      "Average Validation Loss: 0.0336\n"
     ]
    },
    {
     "name": "stderr",
     "output_type": "stream",
     "text": [
      "[I 2024-09-09 21:14:27,390] Trial 386 finished with value: 0.033909899226966356 and parameters: {'hidden1_size': 82, 'hidden2_size': 236, 'hidden3_size': 54, 'hidden4_size': 43, 'num_epochs': 15, 'learning_rate': 1.0057581301156594e-05}. Best is trial 366 with value: 0.0299316175570268.\n"
     ]
    },
    {
     "name": "stdout",
     "output_type": "stream",
     "text": [
      "Average Validation Loss: 0.0339\n"
     ]
    },
    {
     "name": "stderr",
     "output_type": "stream",
     "text": [
      "[I 2024-09-09 21:14:32,200] Trial 387 finished with value: 0.034395580734348015 and parameters: {'hidden1_size': 87, 'hidden2_size': 229, 'hidden3_size': 92, 'hidden4_size': 44, 'num_epochs': 12, 'learning_rate': 1.2732082895569133e-05}. Best is trial 366 with value: 0.0299316175570268.\n"
     ]
    },
    {
     "name": "stdout",
     "output_type": "stream",
     "text": [
      "Average Validation Loss: 0.0344\n"
     ]
    },
    {
     "name": "stderr",
     "output_type": "stream",
     "text": [
      "[I 2024-09-09 21:14:37,826] Trial 388 finished with value: 0.033361844452364106 and parameters: {'hidden1_size': 78, 'hidden2_size': 198, 'hidden3_size': 45, 'hidden4_size': 41, 'num_epochs': 14, 'learning_rate': 1.621997382242298e-05}. Best is trial 366 with value: 0.0299316175570268.\n"
     ]
    },
    {
     "name": "stdout",
     "output_type": "stream",
     "text": [
      "Average Validation Loss: 0.0334\n"
     ]
    },
    {
     "name": "stderr",
     "output_type": "stream",
     "text": [
      "[I 2024-09-09 21:14:44,575] Trial 389 finished with value: 0.03134185563595522 and parameters: {'hidden1_size': 95, 'hidden2_size': 241, 'hidden3_size': 52, 'hidden4_size': 46, 'num_epochs': 17, 'learning_rate': 1.1335531477420481e-05}. Best is trial 366 with value: 0.0299316175570268.\n"
     ]
    },
    {
     "name": "stdout",
     "output_type": "stream",
     "text": [
      "Average Validation Loss: 0.0313\n"
     ]
    },
    {
     "name": "stderr",
     "output_type": "stream",
     "text": [
      "[I 2024-09-09 21:14:52,531] Trial 390 finished with value: 0.03360056835004971 and parameters: {'hidden1_size': 95, 'hidden2_size': 169, 'hidden3_size': 56, 'hidden4_size': 45, 'num_epochs': 20, 'learning_rate': 1.4061507306793965e-05}. Best is trial 366 with value: 0.0299316175570268.\n"
     ]
    },
    {
     "name": "stdout",
     "output_type": "stream",
     "text": [
      "Average Validation Loss: 0.0336\n"
     ]
    },
    {
     "name": "stderr",
     "output_type": "stream",
     "text": [
      "[I 2024-09-09 21:15:00,079] Trial 391 finished with value: 0.0346730085743946 and parameters: {'hidden1_size': 101, 'hidden2_size': 243, 'hidden3_size': 52, 'hidden4_size': 46, 'num_epochs': 19, 'learning_rate': 1.861760567119454e-05}. Best is trial 366 with value: 0.0299316175570268.\n"
     ]
    },
    {
     "name": "stdout",
     "output_type": "stream",
     "text": [
      "Average Validation Loss: 0.0347\n"
     ]
    },
    {
     "name": "stderr",
     "output_type": "stream",
     "text": [
      "[I 2024-09-09 21:15:07,292] Trial 392 finished with value: 0.031405621729347674 and parameters: {'hidden1_size': 96, 'hidden2_size': 238, 'hidden3_size': 53, 'hidden4_size': 44, 'num_epochs': 18, 'learning_rate': 1.1370948119631094e-05}. Best is trial 366 with value: 0.0299316175570268.\n"
     ]
    },
    {
     "name": "stdout",
     "output_type": "stream",
     "text": [
      "Average Validation Loss: 0.0314\n"
     ]
    },
    {
     "name": "stderr",
     "output_type": "stream",
     "text": [
      "[I 2024-09-09 21:15:14,116] Trial 393 finished with value: 0.03170033412364622 and parameters: {'hidden1_size': 91, 'hidden2_size': 247, 'hidden3_size': 51, 'hidden4_size': 45, 'num_epochs': 17, 'learning_rate': 1.295563082798584e-05}. Best is trial 366 with value: 0.0299316175570268.\n"
     ]
    },
    {
     "name": "stdout",
     "output_type": "stream",
     "text": [
      "Average Validation Loss: 0.0317\n"
     ]
    },
    {
     "name": "stderr",
     "output_type": "stream",
     "text": [
      "[I 2024-09-09 21:15:20,586] Trial 394 finished with value: 0.03415756126577478 and parameters: {'hidden1_size': 102, 'hidden2_size': 242, 'hidden3_size': 98, 'hidden4_size': 47, 'num_epochs': 16, 'learning_rate': 1.5787600451354714e-05}. Best is trial 366 with value: 0.0299316175570268.\n"
     ]
    },
    {
     "name": "stdout",
     "output_type": "stream",
     "text": [
      "Average Validation Loss: 0.0342\n"
     ]
    },
    {
     "name": "stderr",
     "output_type": "stream",
     "text": [
      "[I 2024-09-09 21:15:26,582] Trial 395 finished with value: 0.03282404992552031 and parameters: {'hidden1_size': 87, 'hidden2_size': 234, 'hidden3_size': 122, 'hidden4_size': 43, 'num_epochs': 15, 'learning_rate': 1.1204799489760046e-05}. Best is trial 366 with value: 0.0299316175570268.\n"
     ]
    },
    {
     "name": "stdout",
     "output_type": "stream",
     "text": [
      "Average Validation Loss: 0.0328\n"
     ]
    },
    {
     "name": "stderr",
     "output_type": "stream",
     "text": [
      "[I 2024-09-09 21:15:35,311] Trial 396 finished with value: 0.03545009748389324 and parameters: {'hidden1_size': 96, 'hidden2_size': 141, 'hidden3_size': 54, 'hidden4_size': 46, 'num_epochs': 22, 'learning_rate': 1.4114880627186193e-05}. Best is trial 366 with value: 0.0299316175570268.\n"
     ]
    },
    {
     "name": "stdout",
     "output_type": "stream",
     "text": [
      "Average Validation Loss: 0.0355\n"
     ]
    },
    {
     "name": "stderr",
     "output_type": "stream",
     "text": [
      "[I 2024-09-09 21:15:42,072] Trial 397 finished with value: 0.03321785100048319 and parameters: {'hidden1_size': 90, 'hidden2_size': 113, 'hidden3_size': 50, 'hidden4_size': 42, 'num_epochs': 17, 'learning_rate': 1.8286325544283964e-05}. Best is trial 366 with value: 0.0299316175570268.\n"
     ]
    },
    {
     "name": "stdout",
     "output_type": "stream",
     "text": [
      "Average Validation Loss: 0.0332\n"
     ]
    },
    {
     "name": "stderr",
     "output_type": "stream",
     "text": [
      "[I 2024-09-09 21:15:46,543] Trial 398 finished with value: 0.038257541888881294 and parameters: {'hidden1_size': 84, 'hidden2_size': 119, 'hidden3_size': 62, 'hidden4_size': 41, 'num_epochs': 11, 'learning_rate': 1.2300484732168108e-05}. Best is trial 366 with value: 0.0299316175570268.\n"
     ]
    },
    {
     "name": "stdout",
     "output_type": "stream",
     "text": [
      "Average Validation Loss: 0.0383\n"
     ]
    },
    {
     "name": "stderr",
     "output_type": "stream",
     "text": [
      "[I 2024-09-09 21:16:02,721] Trial 399 finished with value: 0.03775354123873902 and parameters: {'hidden1_size': 75, 'hidden2_size': 238, 'hidden3_size': 55, 'hidden4_size': 40, 'num_epochs': 41, 'learning_rate': 1.1242012768963277e-05}. Best is trial 366 with value: 0.0299316175570268.\n"
     ]
    },
    {
     "name": "stdout",
     "output_type": "stream",
     "text": [
      "Average Validation Loss: 0.0378\n"
     ]
    },
    {
     "name": "stderr",
     "output_type": "stream",
     "text": [
      "[I 2024-09-09 21:16:08,286] Trial 400 finished with value: 0.03432717153225981 and parameters: {'hidden1_size': 80, 'hidden2_size': 251, 'hidden3_size': 81, 'hidden4_size': 44, 'num_epochs': 14, 'learning_rate': 1.586269783724901e-05}. Best is trial 366 with value: 0.0299316175570268.\n"
     ]
    },
    {
     "name": "stdout",
     "output_type": "stream",
     "text": [
      "Average Validation Loss: 0.0343\n"
     ]
    },
    {
     "name": "stderr",
     "output_type": "stream",
     "text": [
      "[I 2024-09-09 21:16:13,457] Trial 401 finished with value: 0.032269067086634184 and parameters: {'hidden1_size': 71, 'hidden2_size': 232, 'hidden3_size': 52, 'hidden4_size': 46, 'num_epochs': 13, 'learning_rate': 1.0154602399915466e-05}. Best is trial 366 with value: 0.0299316175570268.\n"
     ]
    },
    {
     "name": "stdout",
     "output_type": "stream",
     "text": [
      "Average Validation Loss: 0.0323\n"
     ]
    },
    {
     "name": "stderr",
     "output_type": "stream",
     "text": [
      "[I 2024-09-09 21:16:21,465] Trial 402 finished with value: 0.03564851534818964 and parameters: {'hidden1_size': 104, 'hidden2_size': 240, 'hidden3_size': 58, 'hidden4_size': 45, 'num_epochs': 20, 'learning_rate': 1.348711197282178e-05}. Best is trial 366 with value: 0.0299316175570268.\n"
     ]
    },
    {
     "name": "stdout",
     "output_type": "stream",
     "text": [
      "Average Validation Loss: 0.0356\n"
     ]
    },
    {
     "name": "stderr",
     "output_type": "stream",
     "text": [
      "[I 2024-09-09 21:16:25,490] Trial 403 finished with value: 0.033624338041547505 and parameters: {'hidden1_size': 68, 'hidden2_size': 246, 'hidden3_size': 49, 'hidden4_size': 44, 'num_epochs': 10, 'learning_rate': 2.6321262418813466e-05}. Best is trial 366 with value: 0.0299316175570268.\n"
     ]
    },
    {
     "name": "stdout",
     "output_type": "stream",
     "text": [
      "Average Validation Loss: 0.0336\n"
     ]
    },
    {
     "name": "stderr",
     "output_type": "stream",
     "text": [
      "[I 2024-09-09 21:16:31,985] Trial 404 finished with value: 0.0351908910531728 and parameters: {'hidden1_size': 77, 'hidden2_size': 224, 'hidden3_size': 51, 'hidden4_size': 39, 'num_epochs': 16, 'learning_rate': 2.0793170082773863e-05}. Best is trial 366 with value: 0.0299316175570268.\n"
     ]
    },
    {
     "name": "stdout",
     "output_type": "stream",
     "text": [
      "Average Validation Loss: 0.0352\n"
     ]
    },
    {
     "name": "stderr",
     "output_type": "stream",
     "text": [
      "[I 2024-09-09 21:16:36,789] Trial 405 finished with value: 0.03265022919956772 and parameters: {'hidden1_size': 93, 'hidden2_size': 228, 'hidden3_size': 74, 'hidden4_size': 47, 'num_epochs': 12, 'learning_rate': 1.4595123775680538e-05}. Best is trial 366 with value: 0.0299316175570268.\n"
     ]
    },
    {
     "name": "stdout",
     "output_type": "stream",
     "text": [
      "Average Validation Loss: 0.0327\n"
     ]
    },
    {
     "name": "stderr",
     "output_type": "stream",
     "text": [
      "[I 2024-09-09 21:16:43,930] Trial 406 finished with value: 0.033646786729583426 and parameters: {'hidden1_size': 82, 'hidden2_size': 234, 'hidden3_size': 91, 'hidden4_size': 42, 'num_epochs': 18, 'learning_rate': 1.007309531632352e-05}. Best is trial 366 with value: 0.0299316175570268.\n"
     ]
    },
    {
     "name": "stdout",
     "output_type": "stream",
     "text": [
      "Average Validation Loss: 0.0336\n"
     ]
    },
    {
     "name": "stderr",
     "output_type": "stream",
     "text": [
      "[I 2024-09-09 21:16:49,546] Trial 407 finished with value: 0.033413846200952925 and parameters: {'hidden1_size': 86, 'hidden2_size': 242, 'hidden3_size': 96, 'hidden4_size': 43, 'num_epochs': 14, 'learning_rate': 1.246121939590086e-05}. Best is trial 366 with value: 0.0299316175570268.\n"
     ]
    },
    {
     "name": "stdout",
     "output_type": "stream",
     "text": [
      "Average Validation Loss: 0.0334\n"
     ]
    },
    {
     "name": "stderr",
     "output_type": "stream",
     "text": [
      "[I 2024-09-09 21:16:53,608] Trial 408 finished with value: 0.09315042614115213 and parameters: {'hidden1_size': 74, 'hidden2_size': 237, 'hidden3_size': 54, 'hidden4_size': 45, 'num_epochs': 10, 'learning_rate': 0.0006697211125659282}. Best is trial 366 with value: 0.0299316175570268.\n"
     ]
    },
    {
     "name": "stdout",
     "output_type": "stream",
     "text": [
      "Average Validation Loss: 0.0932\n"
     ]
    },
    {
     "name": "stderr",
     "output_type": "stream",
     "text": [
      "[I 2024-09-09 21:16:59,622] Trial 409 finished with value: 0.032486353535205126 and parameters: {'hidden1_size': 97, 'hidden2_size': 229, 'hidden3_size': 48, 'hidden4_size': 40, 'num_epochs': 15, 'learning_rate': 1.6612205330996254e-05}. Best is trial 366 with value: 0.0299316175570268.\n"
     ]
    },
    {
     "name": "stdout",
     "output_type": "stream",
     "text": [
      "Average Validation Loss: 0.0325\n"
     ]
    },
    {
     "name": "stderr",
     "output_type": "stream",
     "text": [
      "[I 2024-09-09 21:17:04,479] Trial 410 finished with value: 0.03093989583707991 and parameters: {'hidden1_size': 89, 'hidden2_size': 233, 'hidden3_size': 52, 'hidden4_size': 46, 'num_epochs': 12, 'learning_rate': 1.1751422013559131e-05}. Best is trial 366 with value: 0.0299316175570268.\n"
     ]
    },
    {
     "name": "stdout",
     "output_type": "stream",
     "text": [
      "Average Validation Loss: 0.0309\n"
     ]
    },
    {
     "name": "stderr",
     "output_type": "stream",
     "text": [
      "[I 2024-09-09 21:17:09,706] Trial 411 finished with value: 0.03376325286392655 and parameters: {'hidden1_size': 90, 'hidden2_size': 225, 'hidden3_size': 57, 'hidden4_size': 26, 'num_epochs': 13, 'learning_rate': 1.0014874067187878e-05}. Best is trial 366 with value: 0.0299316175570268.\n"
     ]
    },
    {
     "name": "stdout",
     "output_type": "stream",
     "text": [
      "Average Validation Loss: 0.0338\n"
     ]
    },
    {
     "name": "stderr",
     "output_type": "stream",
     "text": [
      "[I 2024-09-09 21:17:16,083] Trial 412 finished with value: 0.03315688608702095 and parameters: {'hidden1_size': 99, 'hidden2_size': 230, 'hidden3_size': 52, 'hidden4_size': 47, 'num_epochs': 16, 'learning_rate': 1.1541240362585718e-05}. Best is trial 366 with value: 0.0299316175570268.\n"
     ]
    },
    {
     "name": "stdout",
     "output_type": "stream",
     "text": [
      "Average Validation Loss: 0.0332\n"
     ]
    },
    {
     "name": "stderr",
     "output_type": "stream",
     "text": [
      "[I 2024-09-09 21:17:20,921] Trial 413 finished with value: 0.0333296963168929 and parameters: {'hidden1_size': 90, 'hidden2_size': 233, 'hidden3_size': 55, 'hidden4_size': 46, 'num_epochs': 12, 'learning_rate': 1.1796742882118402e-05}. Best is trial 366 with value: 0.0299316175570268.\n"
     ]
    },
    {
     "name": "stdout",
     "output_type": "stream",
     "text": [
      "Average Validation Loss: 0.0333\n"
     ]
    },
    {
     "name": "stderr",
     "output_type": "stream",
     "text": [
      "[I 2024-09-09 21:17:24,985] Trial 414 finished with value: 0.03572684433311224 and parameters: {'hidden1_size': 85, 'hidden2_size': 165, 'hidden3_size': 53, 'hidden4_size': 41, 'num_epochs': 10, 'learning_rate': 1.4155758779171033e-05}. Best is trial 366 with value: 0.0299316175570268.\n"
     ]
    },
    {
     "name": "stdout",
     "output_type": "stream",
     "text": [
      "Average Validation Loss: 0.0357\n"
     ]
    },
    {
     "name": "stderr",
     "output_type": "stream",
     "text": [
      "[I 2024-09-09 21:17:32,159] Trial 415 finished with value: 0.030887402871268847 and parameters: {'hidden1_size': 94, 'hidden2_size': 137, 'hidden3_size': 50, 'hidden4_size': 39, 'num_epochs': 18, 'learning_rate': 1.2702087666369052e-05}. Best is trial 366 with value: 0.0299316175570268.\n"
     ]
    },
    {
     "name": "stdout",
     "output_type": "stream",
     "text": [
      "Average Validation Loss: 0.0309\n"
     ]
    },
    {
     "name": "stderr",
     "output_type": "stream",
     "text": [
      "[I 2024-09-09 21:17:40,496] Trial 416 finished with value: 0.03539438449799837 and parameters: {'hidden1_size': 93, 'hidden2_size': 135, 'hidden3_size': 46, 'hidden4_size': 39, 'num_epochs': 21, 'learning_rate': 1.6545274605595074e-05}. Best is trial 366 with value: 0.0299316175570268.\n"
     ]
    },
    {
     "name": "stdout",
     "output_type": "stream",
     "text": [
      "Average Validation Loss: 0.0354\n"
     ]
    },
    {
     "name": "stderr",
     "output_type": "stream",
     "text": [
      "[I 2024-09-09 21:17:46,101] Trial 417 finished with value: 0.032387654624125434 and parameters: {'hidden1_size': 70, 'hidden2_size': 149, 'hidden3_size': 93, 'hidden4_size': 40, 'num_epochs': 14, 'learning_rate': 1.9548459462390318e-05}. Best is trial 366 with value: 0.0299316175570268.\n"
     ]
    },
    {
     "name": "stdout",
     "output_type": "stream",
     "text": [
      "Average Validation Loss: 0.0324\n"
     ]
    },
    {
     "name": "stderr",
     "output_type": "stream",
     "text": [
      "[I 2024-09-09 21:17:53,714] Trial 418 finished with value: 0.03205648779736033 and parameters: {'hidden1_size': 88, 'hidden2_size': 145, 'hidden3_size': 50, 'hidden4_size': 37, 'num_epochs': 19, 'learning_rate': 1.3774381499705992e-05}. Best is trial 366 with value: 0.0299316175570268.\n"
     ]
    },
    {
     "name": "stdout",
     "output_type": "stream",
     "text": [
      "Average Validation Loss: 0.0321\n"
     ]
    },
    {
     "name": "stderr",
     "output_type": "stream",
     "text": [
      "[I 2024-09-09 21:17:58,458] Trial 419 finished with value: 0.03064507707243874 and parameters: {'hidden1_size': 108, 'hidden2_size': 140, 'hidden3_size': 48, 'hidden4_size': 39, 'num_epochs': 12, 'learning_rate': 1.5309108252670708e-05}. Best is trial 366 with value: 0.0299316175570268.\n"
     ]
    },
    {
     "name": "stdout",
     "output_type": "stream",
     "text": [
      "Average Validation Loss: 0.0306\n"
     ]
    },
    {
     "name": "stderr",
     "output_type": "stream",
     "text": [
      "[I 2024-09-09 21:18:04,460] Trial 420 finished with value: 0.03305008351093247 and parameters: {'hidden1_size': 107, 'hidden2_size': 135, 'hidden3_size': 47, 'hidden4_size': 38, 'num_epochs': 15, 'learning_rate': 1.797094227609203e-05}. Best is trial 366 with value: 0.0299316175570268.\n"
     ]
    },
    {
     "name": "stdout",
     "output_type": "stream",
     "text": [
      "Average Validation Loss: 0.0331\n"
     ]
    },
    {
     "name": "stderr",
     "output_type": "stream",
     "text": [
      "[I 2024-09-09 21:18:09,644] Trial 421 finished with value: 0.03377474732475266 and parameters: {'hidden1_size': 112, 'hidden2_size': 141, 'hidden3_size': 48, 'hidden4_size': 38, 'num_epochs': 13, 'learning_rate': 2.2199166357556025e-05}. Best is trial 366 with value: 0.0299316175570268.\n"
     ]
    },
    {
     "name": "stdout",
     "output_type": "stream",
     "text": [
      "Average Validation Loss: 0.0338\n"
     ]
    },
    {
     "name": "stderr",
     "output_type": "stream",
     "text": [
      "[I 2024-09-09 21:18:22,398] Trial 422 finished with value: 0.035014618235263265 and parameters: {'hidden1_size': 118, 'hidden2_size': 128, 'hidden3_size': 46, 'hidden4_size': 39, 'num_epochs': 32, 'learning_rate': 1.5950415313580847e-05}. Best is trial 366 with value: 0.0299316175570268.\n"
     ]
    },
    {
     "name": "stdout",
     "output_type": "stream",
     "text": [
      "Average Validation Loss: 0.0350\n"
     ]
    },
    {
     "name": "stderr",
     "output_type": "stream",
     "text": [
      "[I 2024-09-09 21:18:29,593] Trial 423 finished with value: 0.03455180521788342 and parameters: {'hidden1_size': 110, 'hidden2_size': 130, 'hidden3_size': 43, 'hidden4_size': 40, 'num_epochs': 18, 'learning_rate': 1.518544759521563e-05}. Best is trial 366 with value: 0.0299316175570268.\n"
     ]
    },
    {
     "name": "stdout",
     "output_type": "stream",
     "text": [
      "Average Validation Loss: 0.0346\n"
     ]
    },
    {
     "name": "stderr",
     "output_type": "stream",
     "text": [
      "[I 2024-09-09 21:18:45,072] Trial 424 finished with value: 0.035721420065133964 and parameters: {'hidden1_size': 103, 'hidden2_size': 154, 'hidden3_size': 89, 'hidden4_size': 39, 'num_epochs': 39, 'learning_rate': 1.776712126275698e-05}. Best is trial 366 with value: 0.0299316175570268.\n"
     ]
    },
    {
     "name": "stdout",
     "output_type": "stream",
     "text": [
      "Average Validation Loss: 0.0357\n"
     ]
    },
    {
     "name": "stderr",
     "output_type": "stream",
     "text": [
      "[I 2024-09-09 21:18:49,913] Trial 425 finished with value: 0.03234587181803016 and parameters: {'hidden1_size': 105, 'hidden2_size': 122, 'hidden3_size': 49, 'hidden4_size': 34, 'num_epochs': 12, 'learning_rate': 1.3318421049245733e-05}. Best is trial 366 with value: 0.0299316175570268.\n"
     ]
    },
    {
     "name": "stdout",
     "output_type": "stream",
     "text": [
      "Average Validation Loss: 0.0323\n"
     ]
    },
    {
     "name": "stderr",
     "output_type": "stream",
     "text": [
      "[I 2024-09-09 21:18:56,282] Trial 426 finished with value: 0.035269300309231595 and parameters: {'hidden1_size': 101, 'hidden2_size': 142, 'hidden3_size': 44, 'hidden4_size': 40, 'num_epochs': 16, 'learning_rate': 1.5339093668746774e-05}. Best is trial 366 with value: 0.0299316175570268.\n"
     ]
    },
    {
     "name": "stdout",
     "output_type": "stream",
     "text": [
      "Average Validation Loss: 0.0353\n"
     ]
    },
    {
     "name": "stderr",
     "output_type": "stream",
     "text": [
      "[I 2024-09-09 21:19:01,914] Trial 427 finished with value: 0.032409968558654544 and parameters: {'hidden1_size': 216, 'hidden2_size': 139, 'hidden3_size': 49, 'hidden4_size': 37, 'num_epochs': 14, 'learning_rate': 2.060017791329742e-05}. Best is trial 366 with value: 0.0299316175570268.\n"
     ]
    },
    {
     "name": "stdout",
     "output_type": "stream",
     "text": [
      "Average Validation Loss: 0.0324\n"
     ]
    },
    {
     "name": "stderr",
     "output_type": "stream",
     "text": [
      "[I 2024-09-09 21:19:06,378] Trial 428 finished with value: 0.10892522822421298 and parameters: {'hidden1_size': 98, 'hidden2_size': 151, 'hidden3_size': 95, 'hidden4_size': 41, 'num_epochs': 11, 'learning_rate': 0.0005025477655382787}. Best is trial 366 with value: 0.0299316175570268.\n"
     ]
    },
    {
     "name": "stdout",
     "output_type": "stream",
     "text": [
      "Average Validation Loss: 0.1089\n"
     ]
    },
    {
     "name": "stderr",
     "output_type": "stream",
     "text": [
      "[I 2024-09-09 21:19:11,589] Trial 429 finished with value: 0.14799400853614011 and parameters: {'hidden1_size': 78, 'hidden2_size': 138, 'hidden3_size': 69, 'hidden4_size': 38, 'num_epochs': 13, 'learning_rate': 0.001034253297239536}. Best is trial 366 with value: 0.0299316175570268.\n"
     ]
    },
    {
     "name": "stdout",
     "output_type": "stream",
     "text": [
      "Average Validation Loss: 0.1480\n"
     ]
    },
    {
     "name": "stderr",
     "output_type": "stream",
     "text": [
      "[I 2024-09-09 21:19:15,636] Trial 430 finished with value: 0.03245270116964266 and parameters: {'hidden1_size': 81, 'hidden2_size': 100, 'hidden3_size': 50, 'hidden4_size': 39, 'num_epochs': 10, 'learning_rate': 2.4038479263200726e-05}. Best is trial 366 with value: 0.0299316175570268.\n"
     ]
    },
    {
     "name": "stdout",
     "output_type": "stream",
     "text": [
      "Average Validation Loss: 0.0325\n"
     ]
    },
    {
     "name": "stderr",
     "output_type": "stream",
     "text": [
      "[I 2024-09-09 21:19:21,972] Trial 431 finished with value: 0.03372281247616878 and parameters: {'hidden1_size': 116, 'hidden2_size': 146, 'hidden3_size': 91, 'hidden4_size': 40, 'num_epochs': 16, 'learning_rate': 1.2764734991417746e-05}. Best is trial 366 with value: 0.0299316175570268.\n"
     ]
    },
    {
     "name": "stdout",
     "output_type": "stream",
     "text": [
      "Average Validation Loss: 0.0337\n"
     ]
    },
    {
     "name": "stderr",
     "output_type": "stream",
     "text": [
      "[I 2024-09-09 21:19:26,836] Trial 432 finished with value: 0.03293465842892017 and parameters: {'hidden1_size': 74, 'hidden2_size': 226, 'hidden3_size': 46, 'hidden4_size': 41, 'num_epochs': 12, 'learning_rate': 1.4192459105989337e-05}. Best is trial 366 with value: 0.0299316175570268.\n"
     ]
    },
    {
     "name": "stdout",
     "output_type": "stream",
     "text": [
      "Average Validation Loss: 0.0329\n"
     ]
    },
    {
     "name": "stderr",
     "output_type": "stream",
     "text": [
      "[I 2024-09-09 21:19:32,420] Trial 433 finished with value: 0.030972346208900922 and parameters: {'hidden1_size': 85, 'hidden2_size': 233, 'hidden3_size': 51, 'hidden4_size': 42, 'num_epochs': 14, 'learning_rate': 1.7029033491495946e-05}. Best is trial 366 with value: 0.0299316175570268.\n"
     ]
    },
    {
     "name": "stdout",
     "output_type": "stream",
     "text": [
      "Average Validation Loss: 0.0310\n"
     ]
    },
    {
     "name": "stderr",
     "output_type": "stream",
     "text": [
      "[I 2024-09-09 21:19:41,643] Trial 434 finished with value: 0.035904168439585535 and parameters: {'hidden1_size': 86, 'hidden2_size': 255, 'hidden3_size': 77, 'hidden4_size': 39, 'num_epochs': 23, 'learning_rate': 1.8109799004077902e-05}. Best is trial 366 with value: 0.0299316175570268.\n"
     ]
    },
    {
     "name": "stdout",
     "output_type": "stream",
     "text": [
      "Average Validation Loss: 0.0359\n"
     ]
    },
    {
     "name": "stderr",
     "output_type": "stream",
     "text": [
      "[I 2024-09-09 21:19:49,282] Trial 435 finished with value: 0.034837720463872845 and parameters: {'hidden1_size': 90, 'hidden2_size': 232, 'hidden3_size': 80, 'hidden4_size': 41, 'num_epochs': 19, 'learning_rate': 1.6887176924602907e-05}. Best is trial 366 with value: 0.0299316175570268.\n"
     ]
    },
    {
     "name": "stdout",
     "output_type": "stream",
     "text": [
      "Average Validation Loss: 0.0348\n"
     ]
    },
    {
     "name": "stderr",
     "output_type": "stream",
     "text": [
      "[I 2024-09-09 21:19:55,280] Trial 436 finished with value: 0.031375198519699984 and parameters: {'hidden1_size': 83, 'hidden2_size': 159, 'hidden3_size': 54, 'hidden4_size': 42, 'num_epochs': 15, 'learning_rate': 1.8695780825826566e-05}. Best is trial 366 with value: 0.0299316175570268.\n"
     ]
    },
    {
     "name": "stdout",
     "output_type": "stream",
     "text": [
      "Average Validation Loss: 0.0314\n"
     ]
    },
    {
     "name": "stderr",
     "output_type": "stream",
     "text": [
      "[I 2024-09-09 21:20:02,072] Trial 437 finished with value: 0.05367169301388501 and parameters: {'hidden1_size': 78, 'hidden2_size': 173, 'hidden3_size': 51, 'hidden4_size': 40, 'num_epochs': 17, 'learning_rate': 0.0001462793137181368}. Best is trial 366 with value: 0.0299316175570268.\n"
     ]
    },
    {
     "name": "stdout",
     "output_type": "stream",
     "text": [
      "Average Validation Loss: 0.0537\n"
     ]
    },
    {
     "name": "stderr",
     "output_type": "stream",
     "text": [
      "[I 2024-09-09 21:20:08,026] Trial 438 finished with value: 0.030790433420666626 and parameters: {'hidden1_size': 87, 'hidden2_size': 222, 'hidden3_size': 48, 'hidden4_size': 38, 'num_epochs': 15, 'learning_rate': 1.2561033304096081e-05}. Best is trial 366 with value: 0.0299316175570268.\n"
     ]
    },
    {
     "name": "stdout",
     "output_type": "stream",
     "text": [
      "Average Validation Loss: 0.0308\n"
     ]
    },
    {
     "name": "stderr",
     "output_type": "stream",
     "text": [
      "[I 2024-09-09 21:20:15,213] Trial 439 finished with value: 0.0348574124786648 and parameters: {'hidden1_size': 88, 'hidden2_size': 221, 'hidden3_size': 48, 'hidden4_size': 38, 'num_epochs': 18, 'learning_rate': 1.2379758105418803e-05}. Best is trial 366 with value: 0.0299316175570268.\n"
     ]
    },
    {
     "name": "stdout",
     "output_type": "stream",
     "text": [
      "Average Validation Loss: 0.0349\n"
     ]
    },
    {
     "name": "stderr",
     "output_type": "stream",
     "text": [
      "[I 2024-09-09 21:20:20,845] Trial 440 finished with value: 0.03319420082317222 and parameters: {'hidden1_size': 93, 'hidden2_size': 223, 'hidden3_size': 45, 'hidden4_size': 38, 'num_epochs': 14, 'learning_rate': 1.207295617541506e-05}. Best is trial 366 with value: 0.0299316175570268.\n"
     ]
    },
    {
     "name": "stdout",
     "output_type": "stream",
     "text": [
      "Average Validation Loss: 0.0332\n"
     ]
    },
    {
     "name": "stderr",
     "output_type": "stream",
     "text": [
      "[I 2024-09-09 21:20:26,878] Trial 441 finished with value: 0.031329491907464604 and parameters: {'hidden1_size': 85, 'hidden2_size': 227, 'hidden3_size': 48, 'hidden4_size': 37, 'num_epochs': 15, 'learning_rate': 1.3853184490960196e-05}. Best is trial 366 with value: 0.0299316175570268.\n"
     ]
    },
    {
     "name": "stdout",
     "output_type": "stream",
     "text": [
      "Average Validation Loss: 0.0313\n"
     ]
    },
    {
     "name": "stderr",
     "output_type": "stream",
     "text": [
      "[I 2024-09-09 21:20:32,107] Trial 442 finished with value: 0.03307524596207908 and parameters: {'hidden1_size': 91, 'hidden2_size': 220, 'hidden3_size': 50, 'hidden4_size': 36, 'num_epochs': 13, 'learning_rate': 1.1313956081467607e-05}. Best is trial 366 with value: 0.0299316175570268.\n"
     ]
    },
    {
     "name": "stdout",
     "output_type": "stream",
     "text": [
      "Average Validation Loss: 0.0331\n"
     ]
    },
    {
     "name": "stderr",
     "output_type": "stream",
     "text": [
      "[I 2024-09-09 21:20:40,449] Trial 443 finished with value: 0.033325732624646096 and parameters: {'hidden1_size': 94, 'hidden2_size': 230, 'hidden3_size': 53, 'hidden4_size': 40, 'num_epochs': 21, 'learning_rate': 1.5096593089902698e-05}. Best is trial 366 with value: 0.0299316175570268.\n"
     ]
    },
    {
     "name": "stdout",
     "output_type": "stream",
     "text": [
      "Average Validation Loss: 0.0333\n"
     ]
    },
    {
     "name": "stderr",
     "output_type": "stream",
     "text": [
      "[I 2024-09-09 21:20:47,261] Trial 444 finished with value: 0.032590997050560656 and parameters: {'hidden1_size': 162, 'hidden2_size': 225, 'hidden3_size': 47, 'hidden4_size': 36, 'num_epochs': 17, 'learning_rate': 1.2409036169920963e-05}. Best is trial 366 with value: 0.0299316175570268.\n"
     ]
    },
    {
     "name": "stdout",
     "output_type": "stream",
     "text": [
      "Average Validation Loss: 0.0326\n"
     ]
    },
    {
     "name": "stderr",
     "output_type": "stream",
     "text": [
      "[I 2024-09-09 21:20:52,965] Trial 445 finished with value: 0.033712438706840785 and parameters: {'hidden1_size': 88, 'hidden2_size': 235, 'hidden3_size': 51, 'hidden4_size': 39, 'num_epochs': 14, 'learning_rate': 1.0003246509240155e-05}. Best is trial 366 with value: 0.0299316175570268.\n"
     ]
    },
    {
     "name": "stdout",
     "output_type": "stream",
     "text": [
      "Average Validation Loss: 0.0337\n"
     ]
    },
    {
     "name": "stderr",
     "output_type": "stream",
     "text": [
      "[I 2024-09-09 21:20:59,421] Trial 446 finished with value: 0.03236941824711505 and parameters: {'hidden1_size': 83, 'hidden2_size': 231, 'hidden3_size': 49, 'hidden4_size': 41, 'num_epochs': 16, 'learning_rate': 1.2895871530818203e-05}. Best is trial 366 with value: 0.0299316175570268.\n"
     ]
    },
    {
     "name": "stdout",
     "output_type": "stream",
     "text": [
      "Average Validation Loss: 0.0324\n"
     ]
    },
    {
     "name": "stderr",
     "output_type": "stream",
     "text": [
      "[I 2024-09-09 21:21:04,242] Trial 447 finished with value: 0.03390523307912406 and parameters: {'hidden1_size': 81, 'hidden2_size': 236, 'hidden3_size': 52, 'hidden4_size': 38, 'num_epochs': 12, 'learning_rate': 1.1333956751215164e-05}. Best is trial 366 with value: 0.0299316175570268.\n"
     ]
    },
    {
     "name": "stdout",
     "output_type": "stream",
     "text": [
      "Average Validation Loss: 0.0339\n"
     ]
    },
    {
     "name": "stderr",
     "output_type": "stream",
     "text": [
      "[I 2024-09-09 21:21:11,796] Trial 448 finished with value: 0.033034882569197746 and parameters: {'hidden1_size': 67, 'hidden2_size': 132, 'hidden3_size': 56, 'hidden4_size': 39, 'num_epochs': 19, 'learning_rate': 1.496447712822338e-05}. Best is trial 366 with value: 0.0299316175570268.\n"
     ]
    },
    {
     "name": "stdout",
     "output_type": "stream",
     "text": [
      "Average Validation Loss: 0.0330\n"
     ]
    },
    {
     "name": "stderr",
     "output_type": "stream",
     "text": [
      "[I 2024-09-09 21:21:17,428] Trial 449 finished with value: 0.030890260146753418 and parameters: {'hidden1_size': 88, 'hidden2_size': 227, 'hidden3_size': 43, 'hidden4_size': 42, 'num_epochs': 14, 'learning_rate': 1.2947709888915483e-05}. Best is trial 366 with value: 0.0299316175570268.\n"
     ]
    },
    {
     "name": "stdout",
     "output_type": "stream",
     "text": [
      "Average Validation Loss: 0.0309\n"
     ]
    },
    {
     "name": "stderr",
     "output_type": "stream",
     "text": [
      "[I 2024-09-09 21:21:23,815] Trial 450 finished with value: 0.03429600146288673 and parameters: {'hidden1_size': 97, 'hidden2_size': 221, 'hidden3_size': 42, 'hidden4_size': 42, 'num_epochs': 16, 'learning_rate': 1.132400667702171e-05}. Best is trial 366 with value: 0.0299316175570268.\n"
     ]
    },
    {
     "name": "stdout",
     "output_type": "stream",
     "text": [
      "Average Validation Loss: 0.0343\n"
     ]
    },
    {
     "name": "stderr",
     "output_type": "stream",
     "text": [
      "[I 2024-09-09 21:21:29,843] Trial 451 finished with value: 0.033032740388686456 and parameters: {'hidden1_size': 92, 'hidden2_size': 226, 'hidden3_size': 44, 'hidden4_size': 41, 'num_epochs': 15, 'learning_rate': 1.306544037100504e-05}. Best is trial 366 with value: 0.0299316175570268.\n"
     ]
    },
    {
     "name": "stdout",
     "output_type": "stream",
     "text": [
      "Average Validation Loss: 0.0330\n"
     ]
    },
    {
     "name": "stderr",
     "output_type": "stream",
     "text": [
      "[I 2024-09-09 21:21:37,029] Trial 452 finished with value: 0.032067787345676196 and parameters: {'hidden1_size': 87, 'hidden2_size': 227, 'hidden3_size': 53, 'hidden4_size': 42, 'num_epochs': 18, 'learning_rate': 1.3356766372529885e-05}. Best is trial 366 with value: 0.0299316175570268.\n"
     ]
    },
    {
     "name": "stdout",
     "output_type": "stream",
     "text": [
      "Average Validation Loss: 0.0321\n"
     ]
    },
    {
     "name": "stderr",
     "output_type": "stream",
     "text": [
      "[I 2024-09-09 21:21:42,575] Trial 453 finished with value: 0.03720112583999123 and parameters: {'hidden1_size': 73, 'hidden2_size': 125, 'hidden3_size': 41, 'hidden4_size': 40, 'num_epochs': 14, 'learning_rate': 1.1050294852782038e-05}. Best is trial 366 with value: 0.0299316175570268.\n"
     ]
    },
    {
     "name": "stdout",
     "output_type": "stream",
     "text": [
      "Average Validation Loss: 0.0372\n"
     ]
    },
    {
     "name": "stderr",
     "output_type": "stream",
     "text": [
      "[I 2024-09-09 21:21:48,900] Trial 454 finished with value: 0.03459687085844399 and parameters: {'hidden1_size': 157, 'hidden2_size': 136, 'hidden3_size': 59, 'hidden4_size': 42, 'num_epochs': 16, 'learning_rate': 1.5228285419887539e-05}. Best is trial 366 with value: 0.0299316175570268.\n"
     ]
    },
    {
     "name": "stdout",
     "output_type": "stream",
     "text": [
      "Average Validation Loss: 0.0346\n"
     ]
    },
    {
     "name": "stderr",
     "output_type": "stream",
     "text": [
      "[I 2024-09-09 21:22:19,943] Trial 455 finished with value: 0.038606511639608515 and parameters: {'hidden1_size': 94, 'hidden2_size': 223, 'hidden3_size': 45, 'hidden4_size': 41, 'num_epochs': 78, 'learning_rate': 1.003415818371692e-05}. Best is trial 366 with value: 0.0299316175570268.\n"
     ]
    },
    {
     "name": "stdout",
     "output_type": "stream",
     "text": [
      "Average Validation Loss: 0.0386\n"
     ]
    },
    {
     "name": "stderr",
     "output_type": "stream",
     "text": [
      "[I 2024-09-09 21:22:25,187] Trial 456 finished with value: 0.03300441506629189 and parameters: {'hidden1_size': 89, 'hidden2_size': 218, 'hidden3_size': 55, 'hidden4_size': 37, 'num_epochs': 13, 'learning_rate': 1.2522167246944768e-05}. Best is trial 366 with value: 0.0299316175570268.\n"
     ]
    },
    {
     "name": "stdout",
     "output_type": "stream",
     "text": [
      "Average Validation Loss: 0.0330\n"
     ]
    },
    {
     "name": "stderr",
     "output_type": "stream",
     "text": [
      "[I 2024-09-09 21:22:33,257] Trial 457 finished with value: 0.17033223736853825 and parameters: {'hidden1_size': 80, 'hidden2_size': 229, 'hidden3_size': 43, 'hidden4_size': 43, 'num_epochs': 20, 'learning_rate': 0.002895148127161181}. Best is trial 366 with value: 0.0299316175570268.\n"
     ]
    },
    {
     "name": "stdout",
     "output_type": "stream",
     "text": [
      "Average Validation Loss: 0.1703\n"
     ]
    },
    {
     "name": "stderr",
     "output_type": "stream",
     "text": [
      "[I 2024-09-09 21:22:40,060] Trial 458 finished with value: 0.034574514254927635 and parameters: {'hidden1_size': 84, 'hidden2_size': 249, 'hidden3_size': 39, 'hidden4_size': 40, 'num_epochs': 17, 'learning_rate': 1.4484048188363063e-05}. Best is trial 366 with value: 0.0299316175570268.\n"
     ]
    },
    {
     "name": "stdout",
     "output_type": "stream",
     "text": [
      "Average Validation Loss: 0.0346\n"
     ]
    },
    {
     "name": "stderr",
     "output_type": "stream",
     "text": [
      "[I 2024-09-09 21:22:45,690] Trial 459 finished with value: 0.03681622753806767 and parameters: {'hidden1_size': 64, 'hidden2_size': 239, 'hidden3_size': 50, 'hidden4_size': 39, 'num_epochs': 14, 'learning_rate': 1.1538603586739592e-05}. Best is trial 366 with value: 0.0299316175570268.\n"
     ]
    },
    {
     "name": "stdout",
     "output_type": "stream",
     "text": [
      "Average Validation Loss: 0.0368\n"
     ]
    },
    {
     "name": "stderr",
     "output_type": "stream",
     "text": [
      "[I 2024-09-09 21:22:50,537] Trial 460 finished with value: 0.03496648845750661 and parameters: {'hidden1_size': 76, 'hidden2_size': 107, 'hidden3_size': 46, 'hidden4_size': 42, 'num_epochs': 12, 'learning_rate': 1.3114056358147932e-05}. Best is trial 366 with value: 0.0299316175570268.\n"
     ]
    },
    {
     "name": "stdout",
     "output_type": "stream",
     "text": [
      "Average Validation Loss: 0.0350\n"
     ]
    },
    {
     "name": "stderr",
     "output_type": "stream",
     "text": [
      "[I 2024-09-09 21:22:56,564] Trial 461 finished with value: 0.03358007137042781 and parameters: {'hidden1_size': 99, 'hidden2_size': 234, 'hidden3_size': 51, 'hidden4_size': 41, 'num_epochs': 15, 'learning_rate': 1.6438678254572712e-05}. Best is trial 366 with value: 0.0299316175570268.\n"
     ]
    },
    {
     "name": "stdout",
     "output_type": "stream",
     "text": [
      "Average Validation Loss: 0.0336\n"
     ]
    },
    {
     "name": "stderr",
     "output_type": "stream",
     "text": [
      "[I 2024-09-09 21:23:06,998] Trial 462 finished with value: 0.034492311866155694 and parameters: {'hidden1_size': 85, 'hidden2_size': 243, 'hidden3_size': 53, 'hidden4_size': 43, 'num_epochs': 26, 'learning_rate': 1.1340042447784643e-05}. Best is trial 366 with value: 0.0299316175570268.\n"
     ]
    },
    {
     "name": "stdout",
     "output_type": "stream",
     "text": [
      "Average Validation Loss: 0.0345\n"
     ]
    },
    {
     "name": "stderr",
     "output_type": "stream",
     "text": [
      "[I 2024-09-09 21:23:12,218] Trial 463 finished with value: 0.03613251208194664 and parameters: {'hidden1_size': 72, 'hidden2_size': 229, 'hidden3_size': 48, 'hidden4_size': 39, 'num_epochs': 13, 'learning_rate': 1.0035451056945112e-05}. Best is trial 366 with value: 0.0299316175570268.\n"
     ]
    },
    {
     "name": "stdout",
     "output_type": "stream",
     "text": [
      "Average Validation Loss: 0.0361\n"
     ]
    },
    {
     "name": "stderr",
     "output_type": "stream",
     "text": [
      "[I 2024-09-09 21:23:19,004] Trial 464 finished with value: 0.03339055662841669 and parameters: {'hidden1_size': 79, 'hidden2_size': 237, 'hidden3_size': 56, 'hidden4_size': 41, 'num_epochs': 17, 'learning_rate': 1.4611806970094816e-05}. Best is trial 366 with value: 0.0299316175570268.\n"
     ]
    },
    {
     "name": "stdout",
     "output_type": "stream",
     "text": [
      "Average Validation Loss: 0.0334\n"
     ]
    },
    {
     "name": "stderr",
     "output_type": "stream",
     "text": [
      "[I 2024-09-09 21:23:25,015] Trial 465 finished with value: 0.034105691027694514 and parameters: {'hidden1_size': 96, 'hidden2_size': 223, 'hidden3_size': 47, 'hidden4_size': 40, 'num_epochs': 15, 'learning_rate': 1.2649092132362375e-05}. Best is trial 366 with value: 0.0299316175570268.\n"
     ]
    },
    {
     "name": "stdout",
     "output_type": "stream",
     "text": [
      "Average Validation Loss: 0.0341\n"
     ]
    },
    {
     "name": "stderr",
     "output_type": "stream",
     "text": [
      "[I 2024-09-09 21:23:29,854] Trial 466 finished with value: 0.031531680574906726 and parameters: {'hidden1_size': 90, 'hidden2_size': 233, 'hidden3_size': 50, 'hidden4_size': 43, 'num_epochs': 12, 'learning_rate': 1.3768987699461914e-05}. Best is trial 366 with value: 0.0299316175570268.\n"
     ]
    },
    {
     "name": "stdout",
     "output_type": "stream",
     "text": [
      "Average Validation Loss: 0.0315\n"
     ]
    },
    {
     "name": "stderr",
     "output_type": "stream",
     "text": [
      "[I 2024-09-09 21:23:37,104] Trial 467 finished with value: 0.03276198983768977 and parameters: {'hidden1_size': 82, 'hidden2_size': 247, 'hidden3_size': 67, 'hidden4_size': 38, 'num_epochs': 18, 'learning_rate': 1.591652665773995e-05}. Best is trial 366 with value: 0.0299316175570268.\n"
     ]
    },
    {
     "name": "stdout",
     "output_type": "stream",
     "text": [
      "Average Validation Loss: 0.0328\n"
     ]
    },
    {
     "name": "stderr",
     "output_type": "stream",
     "text": [
      "[I 2024-09-09 21:23:41,961] Trial 468 finished with value: 0.031446612817013546 and parameters: {'hidden1_size': 76, 'hidden2_size': 226, 'hidden3_size': 52, 'hidden4_size': 39, 'num_epochs': 12, 'learning_rate': 1.1497578487582146e-05}. Best is trial 366 with value: 0.0299316175570268.\n"
     ]
    },
    {
     "name": "stdout",
     "output_type": "stream",
     "text": [
      "Average Validation Loss: 0.0314\n"
     ]
    },
    {
     "name": "stderr",
     "output_type": "stream",
     "text": [
      "[I 2024-09-09 21:24:07,642] Trial 469 finished with value: 0.0830954476107958 and parameters: {'hidden1_size': 69, 'hidden2_size': 217, 'hidden3_size': 42, 'hidden4_size': 42, 'num_epochs': 65, 'learning_rate': 4.075547002681768e-05}. Best is trial 366 with value: 0.0299316175570268.\n"
     ]
    },
    {
     "name": "stdout",
     "output_type": "stream",
     "text": [
      "Average Validation Loss: 0.0831\n"
     ]
    },
    {
     "name": "stderr",
     "output_type": "stream",
     "text": [
      "[I 2024-09-09 21:24:13,249] Trial 470 finished with value: 0.0315653837418982 and parameters: {'hidden1_size': 86, 'hidden2_size': 121, 'hidden3_size': 49, 'hidden4_size': 44, 'num_epochs': 14, 'learning_rate': 1.1302931047344166e-05}. Best is trial 366 with value: 0.0299316175570268.\n"
     ]
    },
    {
     "name": "stdout",
     "output_type": "stream",
     "text": [
      "Average Validation Loss: 0.0316\n"
     ]
    },
    {
     "name": "stderr",
     "output_type": "stream",
     "text": [
      "[I 2024-09-09 21:24:17,711] Trial 471 finished with value: 0.0332270820536429 and parameters: {'hidden1_size': 93, 'hidden2_size': 239, 'hidden3_size': 72, 'hidden4_size': 35, 'num_epochs': 11, 'learning_rate': 1.3166888966286555e-05}. Best is trial 366 with value: 0.0299316175570268.\n"
     ]
    },
    {
     "name": "stdout",
     "output_type": "stream",
     "text": [
      "Average Validation Loss: 0.0332\n"
     ]
    },
    {
     "name": "stderr",
     "output_type": "stream",
     "text": [
      "[I 2024-09-09 21:24:24,101] Trial 472 finished with value: 0.03286744422456693 and parameters: {'hidden1_size': 79, 'hidden2_size': 231, 'hidden3_size': 54, 'hidden4_size': 40, 'num_epochs': 16, 'learning_rate': 1.652846881556068e-05}. Best is trial 366 with value: 0.0299316175570268.\n"
     ]
    },
    {
     "name": "stdout",
     "output_type": "stream",
     "text": [
      "Average Validation Loss: 0.0329\n"
     ]
    },
    {
     "name": "stderr",
     "output_type": "stream",
     "text": [
      "[I 2024-09-09 21:24:29,737] Trial 473 finished with value: 0.032629685520771 and parameters: {'hidden1_size': 72, 'hidden2_size': 236, 'hidden3_size': 45, 'hidden4_size': 41, 'num_epochs': 14, 'learning_rate': 1.4496934308223895e-05}. Best is trial 366 with value: 0.0299316175570268.\n"
     ]
    },
    {
     "name": "stdout",
     "output_type": "stream",
     "text": [
      "Average Validation Loss: 0.0326\n"
     ]
    },
    {
     "name": "stderr",
     "output_type": "stream",
     "text": [
      "[I 2024-09-09 21:24:37,364] Trial 474 finished with value: 0.0343871828767338 and parameters: {'hidden1_size': 88, 'hidden2_size': 245, 'hidden3_size': 51, 'hidden4_size': 44, 'num_epochs': 19, 'learning_rate': 1.2302749219644314e-05}. Best is trial 366 with value: 0.0299316175570268.\n"
     ]
    },
    {
     "name": "stdout",
     "output_type": "stream",
     "text": [
      "Average Validation Loss: 0.0344\n"
     ]
    },
    {
     "name": "stderr",
     "output_type": "stream",
     "text": [
      "[I 2024-09-09 21:24:41,792] Trial 475 finished with value: 0.05059482449931758 and parameters: {'hidden1_size': 83, 'hidden2_size': 113, 'hidden3_size': 47, 'hidden4_size': 43, 'num_epochs': 11, 'learning_rate': 1.0084756992879463e-05}. Best is trial 366 with value: 0.0299316175570268.\n"
     ]
    },
    {
     "name": "stdout",
     "output_type": "stream",
     "text": [
      "Average Validation Loss: 0.0506\n"
     ]
    },
    {
     "name": "stderr",
     "output_type": "stream",
     "text": [
      "[I 2024-09-09 21:24:47,033] Trial 476 finished with value: 0.03602792204002894 and parameters: {'hidden1_size': 75, 'hidden2_size': 229, 'hidden3_size': 53, 'hidden4_size': 37, 'num_epochs': 13, 'learning_rate': 1.6359019890827328e-05}. Best is trial 366 with value: 0.0299316175570268.\n"
     ]
    },
    {
     "name": "stdout",
     "output_type": "stream",
     "text": [
      "Average Validation Loss: 0.0360\n"
     ]
    },
    {
     "name": "stderr",
     "output_type": "stream",
     "text": [
      "[I 2024-09-09 21:24:53,852] Trial 477 finished with value: 0.04652786226887699 and parameters: {'hidden1_size': 102, 'hidden2_size': 240, 'hidden3_size': 57, 'hidden4_size': 42, 'num_epochs': 17, 'learning_rate': 9.076195946191761e-05}. Best is trial 366 with value: 0.0299316175570268.\n"
     ]
    },
    {
     "name": "stdout",
     "output_type": "stream",
     "text": [
      "Average Validation Loss: 0.0465\n"
     ]
    },
    {
     "name": "stderr",
     "output_type": "stream",
     "text": [
      "[I 2024-09-09 21:25:02,320] Trial 478 finished with value: 0.035493603852089675 and parameters: {'hidden1_size': 205, 'hidden2_size': 222, 'hidden3_size': 49, 'hidden4_size': 48, 'num_epochs': 21, 'learning_rate': 1.2355795374195398e-05}. Best is trial 366 with value: 0.0299316175570268.\n"
     ]
    },
    {
     "name": "stdout",
     "output_type": "stream",
     "text": [
      "Average Validation Loss: 0.0355\n"
     ]
    },
    {
     "name": "stderr",
     "output_type": "stream",
     "text": [
      "[I 2024-09-09 21:25:08,324] Trial 479 finished with value: 0.0780843807417027 and parameters: {'hidden1_size': 91, 'hidden2_size': 156, 'hidden3_size': 51, 'hidden4_size': 40, 'num_epochs': 15, 'learning_rate': 0.0003432423350631413}. Best is trial 366 with value: 0.0299316175570268.\n"
     ]
    },
    {
     "name": "stdout",
     "output_type": "stream",
     "text": [
      "Average Validation Loss: 0.0781\n"
     ]
    },
    {
     "name": "stderr",
     "output_type": "stream",
     "text": [
      "[I 2024-09-09 21:25:13,514] Trial 480 finished with value: 0.03214167399952809 and parameters: {'hidden1_size': 79, 'hidden2_size': 233, 'hidden3_size': 44, 'hidden4_size': 38, 'num_epochs': 13, 'learning_rate': 1.45145980439924e-05}. Best is trial 366 with value: 0.0299316175570268.\n"
     ]
    },
    {
     "name": "stdout",
     "output_type": "stream",
     "text": [
      "Average Validation Loss: 0.0321\n"
     ]
    },
    {
     "name": "stderr",
     "output_type": "stream",
     "text": [
      "[I 2024-09-09 21:25:17,601] Trial 481 finished with value: 0.09534122898969329 and parameters: {'hidden1_size': 99, 'hidden2_size': 228, 'hidden3_size': 55, 'hidden4_size': 47, 'num_epochs': 10, 'learning_rate': 0.0014526449301945628}. Best is trial 366 with value: 0.0299316175570268.\n"
     ]
    },
    {
     "name": "stdout",
     "output_type": "stream",
     "text": [
      "Average Validation Loss: 0.0953\n"
     ]
    },
    {
     "name": "stderr",
     "output_type": "stream",
     "text": [
      "[I 2024-09-09 21:25:31,152] Trial 482 finished with value: 0.03525620289257772 and parameters: {'hidden1_size': 150, 'hidden2_size': 163, 'hidden3_size': 47, 'hidden4_size': 41, 'num_epochs': 34, 'learning_rate': 1.1373318489979548e-05}. Best is trial 366 with value: 0.0299316175570268.\n"
     ]
    },
    {
     "name": "stdout",
     "output_type": "stream",
     "text": [
      "Average Validation Loss: 0.0353\n"
     ]
    },
    {
     "name": "stderr",
     "output_type": "stream",
     "text": [
      "[I 2024-09-09 21:25:37,588] Trial 483 finished with value: 0.03194823072824095 and parameters: {'hidden1_size': 68, 'hidden2_size': 236, 'hidden3_size': 52, 'hidden4_size': 45, 'num_epochs': 16, 'learning_rate': 1.3160493111312509e-05}. Best is trial 366 with value: 0.0299316175570268.\n"
     ]
    },
    {
     "name": "stdout",
     "output_type": "stream",
     "text": [
      "Average Validation Loss: 0.0319\n"
     ]
    },
    {
     "name": "stderr",
     "output_type": "stream",
     "text": [
      "[I 2024-09-09 21:25:42,425] Trial 484 finished with value: 0.03540050531072276 and parameters: {'hidden1_size': 83, 'hidden2_size': 244, 'hidden3_size': 49, 'hidden4_size': 39, 'num_epochs': 12, 'learning_rate': 1.0031391783117751e-05}. Best is trial 366 with value: 0.0299316175570268.\n"
     ]
    },
    {
     "name": "stdout",
     "output_type": "stream",
     "text": [
      "Average Validation Loss: 0.0354\n"
     ]
    },
    {
     "name": "stderr",
     "output_type": "stream",
     "text": [
      "[I 2024-09-09 21:26:03,973] Trial 485 finished with value: 0.11001621532186233 and parameters: {'hidden1_size': 95, 'hidden2_size': 225, 'hidden3_size': 119, 'hidden4_size': 43, 'num_epochs': 54, 'learning_rate': 0.00017519925645936336}. Best is trial 366 with value: 0.0299316175570268.\n"
     ]
    },
    {
     "name": "stdout",
     "output_type": "stream",
     "text": [
      "Average Validation Loss: 0.1100\n"
     ]
    },
    {
     "name": "stderr",
     "output_type": "stream",
     "text": [
      "[I 2024-09-09 21:26:22,986] Trial 486 finished with value: 0.0421874890092849 and parameters: {'hidden1_size': 77, 'hidden2_size': 233, 'hidden3_size': 54, 'hidden4_size': 42, 'num_epochs': 48, 'learning_rate': 1.711508215476681e-05}. Best is trial 366 with value: 0.0299316175570268.\n"
     ]
    },
    {
     "name": "stdout",
     "output_type": "stream",
     "text": [
      "Average Validation Loss: 0.0422\n"
     ]
    },
    {
     "name": "stderr",
     "output_type": "stream",
     "text": [
      "[I 2024-09-09 21:26:58,882] Trial 487 finished with value: 0.05277443436300798 and parameters: {'hidden1_size': 166, 'hidden2_size': 220, 'hidden3_size': 46, 'hidden4_size': 45, 'num_epochs': 90, 'learning_rate': 1.3563396555747075e-05}. Best is trial 366 with value: 0.0299316175570268.\n"
     ]
    },
    {
     "name": "stdout",
     "output_type": "stream",
     "text": [
      "Average Validation Loss: 0.0528\n"
     ]
    },
    {
     "name": "stderr",
     "output_type": "stream",
     "text": [
      "[I 2024-09-09 21:27:04,543] Trial 488 finished with value: 0.030471142414691194 and parameters: {'hidden1_size': 89, 'hidden2_size': 240, 'hidden3_size': 50, 'hidden4_size': 41, 'num_epochs': 14, 'learning_rate': 1.1374792169261054e-05}. Best is trial 366 with value: 0.0299316175570268.\n"
     ]
    },
    {
     "name": "stdout",
     "output_type": "stream",
     "text": [
      "Average Validation Loss: 0.0305\n"
     ]
    },
    {
     "name": "stderr",
     "output_type": "stream",
     "text": [
      "[I 2024-09-09 21:27:09,029] Trial 489 finished with value: 0.03216217316332318 and parameters: {'hidden1_size': 89, 'hidden2_size': 251, 'hidden3_size': 51, 'hidden4_size': 47, 'num_epochs': 11, 'learning_rate': 1.4907826742256345e-05}. Best is trial 366 with value: 0.0299316175570268.\n"
     ]
    },
    {
     "name": "stdout",
     "output_type": "stream",
     "text": [
      "Average Validation Loss: 0.0322\n"
     ]
    },
    {
     "name": "stderr",
     "output_type": "stream",
     "text": [
      "[I 2024-09-09 21:27:14,651] Trial 490 finished with value: 0.03240033793484881 and parameters: {'hidden1_size': 85, 'hidden2_size': 242, 'hidden3_size': 53, 'hidden4_size': 44, 'num_epochs': 14, 'learning_rate': 1.1432192886595148e-05}. Best is trial 366 with value: 0.0299316175570268.\n"
     ]
    },
    {
     "name": "stdout",
     "output_type": "stream",
     "text": [
      "Average Validation Loss: 0.0324\n"
     ]
    },
    {
     "name": "stderr",
     "output_type": "stream",
     "text": [
      "[I 2024-09-09 21:27:19,536] Trial 491 finished with value: 0.030372323956163155 and parameters: {'hidden1_size': 136, 'hidden2_size': 240, 'hidden3_size': 50, 'hidden4_size': 39, 'num_epochs': 12, 'learning_rate': 1.272365768844352e-05}. Best is trial 366 with value: 0.0299316175570268.\n"
     ]
    },
    {
     "name": "stdout",
     "output_type": "stream",
     "text": [
      "Average Validation Loss: 0.0304\n"
     ]
    },
    {
     "name": "stderr",
     "output_type": "stream",
     "text": [
      "[I 2024-09-09 21:27:23,599] Trial 492 finished with value: 0.032639541618880774 and parameters: {'hidden1_size': 122, 'hidden2_size': 247, 'hidden3_size': 49, 'hidden4_size': 38, 'num_epochs': 10, 'learning_rate': 1.2396072073644292e-05}. Best is trial 366 with value: 0.0299316175570268.\n"
     ]
    },
    {
     "name": "stdout",
     "output_type": "stream",
     "text": [
      "Average Validation Loss: 0.0326\n"
     ]
    },
    {
     "name": "stderr",
     "output_type": "stream",
     "text": [
      "[I 2024-09-09 21:27:28,423] Trial 493 finished with value: 0.03596231208315918 and parameters: {'hidden1_size': 92, 'hidden2_size': 149, 'hidden3_size': 50, 'hidden4_size': 37, 'num_epochs': 12, 'learning_rate': 1.1218011672728414e-05}. Best is trial 366 with value: 0.0299316175570268.\n"
     ]
    },
    {
     "name": "stdout",
     "output_type": "stream",
     "text": [
      "Average Validation Loss: 0.0360\n"
     ]
    },
    {
     "name": "stderr",
     "output_type": "stream",
     "text": [
      "[I 2024-09-09 21:27:34,013] Trial 494 finished with value: 0.03241339146292636 and parameters: {'hidden1_size': 142, 'hidden2_size': 240, 'hidden3_size': 52, 'hidden4_size': 39, 'num_epochs': 14, 'learning_rate': 1.7378155205133273e-05}. Best is trial 366 with value: 0.0299316175570268.\n"
     ]
    },
    {
     "name": "stdout",
     "output_type": "stream",
     "text": [
      "Average Validation Loss: 0.0324\n"
     ]
    },
    {
     "name": "stderr",
     "output_type": "stream",
     "text": [
      "[I 2024-09-09 21:27:38,832] Trial 495 finished with value: 0.03426504854689397 and parameters: {'hidden1_size': 132, 'hidden2_size': 238, 'hidden3_size': 54, 'hidden4_size': 40, 'num_epochs': 12, 'learning_rate': 1.4314713082725674e-05}. Best is trial 366 with value: 0.0299316175570268.\n"
     ]
    },
    {
     "name": "stdout",
     "output_type": "stream",
     "text": [
      "Average Validation Loss: 0.0343\n"
     ]
    },
    {
     "name": "stderr",
     "output_type": "stream",
     "text": [
      "[I 2024-09-09 21:27:45,718] Trial 496 finished with value: 0.032746708974064814 and parameters: {'hidden1_size': 87, 'hidden2_size': 243, 'hidden3_size': 56, 'hidden4_size': 35, 'num_epochs': 17, 'learning_rate': 1.2409566219238753e-05}. Best is trial 366 with value: 0.0299316175570268.\n"
     ]
    },
    {
     "name": "stdout",
     "output_type": "stream",
     "text": [
      "Average Validation Loss: 0.0327\n"
     ]
    },
    {
     "name": "stderr",
     "output_type": "stream",
     "text": [
      "[I 2024-09-09 21:27:49,766] Trial 497 finished with value: 0.033869172169250394 and parameters: {'hidden1_size': 89, 'hidden2_size': 236, 'hidden3_size': 48, 'hidden4_size': 39, 'num_epochs': 10, 'learning_rate': 1.566867096941108e-05}. Best is trial 366 with value: 0.0299316175570268.\n"
     ]
    },
    {
     "name": "stdout",
     "output_type": "stream",
     "text": [
      "Average Validation Loss: 0.0339\n"
     ]
    },
    {
     "name": "stderr",
     "output_type": "stream",
     "text": [
      "[I 2024-09-09 21:28:17,200] Trial 498 finished with value: 0.043283808911274674 and parameters: {'hidden1_size': 138, 'hidden2_size': 233, 'hidden3_size': 51, 'hidden4_size': 38, 'num_epochs': 69, 'learning_rate': 1.1371077163204806e-05}. Best is trial 366 with value: 0.0299316175570268.\n"
     ]
    },
    {
     "name": "stdout",
     "output_type": "stream",
     "text": [
      "Average Validation Loss: 0.0433\n"
     ]
    },
    {
     "name": "stderr",
     "output_type": "stream",
     "text": [
      "[I 2024-09-09 21:28:22,819] Trial 499 finished with value: 0.031151409715502745 and parameters: {'hidden1_size': 82, 'hidden2_size': 144, 'hidden3_size': 59, 'hidden4_size': 40, 'num_epochs': 14, 'learning_rate': 1.3497083740571285e-05}. Best is trial 366 with value: 0.0299316175570268.\n"
     ]
    },
    {
     "name": "stdout",
     "output_type": "stream",
     "text": [
      "Average Validation Loss: 0.0312\n",
      "Best parameters:  {'hidden1_size': 76, 'hidden2_size': 128, 'hidden3_size': 93, 'hidden4_size': 47, 'num_epochs': 15, 'learning_rate': 1.1398647529848385e-05}\n"
     ]
    }
   ],
   "source": [
    "import torch\n",
    "import torch.nn as nn\n",
    "from torch.utils.data import DataLoader\n",
    "import optuna\n",
    "\n",
    "def objective(trial):\n",
    "    # Suggest values for the hyperparameters\n",
    "    hidden1_size  = trial.suggest_int('hidden1_size', 64, 256)  # Hidden layer 1 size\n",
    "    hidden2_size  = trial.suggest_int('hidden2_size', 64, 256)  # Hidden layer 2 size\n",
    "    hidden3_size   = trial.suggest_int('hidden3_size', 32, 128)   # Hidden layer 3 size\n",
    "    hidden4_size   = trial.suggest_int('hidden4_size', 16, 64)    # Hidden layer 4 size\n",
    "    num_epochs    = trial.suggest_int('num_epochs', 10, 100)    # Number of epochs\n",
    "    learning_rate = trial.suggest_float('learning_rate', 1e-5, 1e-2, log=True)  # Learning rate\n",
    "    \n",
    "    device = torch.device(\"cuda\" if torch.cuda.is_available() else \"cpu\")\n",
    "    # Create training and validation datasets and dataloaders\n",
    "    train_loader, val_loader, _ = create_dataloaders(X_train_tensor, y_train_tensor, X_val_tensor, y_val_tensor, X_test_tensor, y_test_tensor, batch_size=64)\n",
    "\n",
    "    # Initialize the model with suggested hyperparameters\n",
    "    model = EarthquakeClassifier(input_size=29*6, hidden1_size=hidden1_size, hidden2_size=hidden2_size, hidden3_size=hidden3_size, hidden4_size=hidden4_size, output_size=1).to(device)\n",
    "    \n",
    "    # Define loss function and optimizer\n",
    "    criterion = nn.BCEWithLogitsLoss()  # Using BCEWithLogitsLoss for binary classification\n",
    "    optimizer = torch.optim.Adam(model.parameters(), lr=learning_rate)\n",
    "\n",
    "    # Train the model\n",
    "    for epoch in range(num_epochs):\n",
    "        model.train()\n",
    "        for inputs, targets in train_loader:\n",
    "            inputs, targets = inputs.to(device), targets.to(device)\n",
    "            \n",
    "            # Forward pass\n",
    "            outputs = model(inputs).squeeze(-1)  # No sigmoid since using BCEWithLogitsLoss\n",
    "            loss = criterion(outputs, targets)\n",
    "            \n",
    "            # Backward pass and optimization\n",
    "            optimizer.zero_grad()\n",
    "            loss.backward()\n",
    "            optimizer.step()\n",
    "    \n",
    "    # Evaluate the model for validation loss\n",
    "    model.eval()\n",
    "    val_loss = 0.0\n",
    "    with torch.no_grad():\n",
    "        for inputs, targets in val_loader:\n",
    "            inputs, targets = inputs.to(device), targets.to(device)\n",
    "            \n",
    "            # Forward pass\n",
    "            outputs = model(inputs).squeeze(-1)\n",
    "            loss = criterion(outputs, targets)\n",
    "            val_loss += loss.item()\n",
    "    \n",
    "    # Return the average validation loss of the trained model\n",
    "    val_loss /= len(val_loader)\n",
    "    print(f\"Average Validation Loss: {val_loss:.4f}\")\n",
    "\n",
    "    return val_loss\n",
    "\n",
    "\n",
    "study = optuna.create_study(direction='minimize')\n",
    "study.optimize(objective, n_trials=500)\n",
    "\n",
    "# Print the best parameters\n",
    "print('Best parameters: ', study.best_params)"
   ],
   "metadata": {
    "collapsed": false,
    "ExecuteTime": {
     "end_time": "2024-09-09T18:28:22.824686Z",
     "start_time": "2024-09-09T17:24:19.586540500Z"
    }
   },
   "id": "50a6940968915044"
  },
  {
   "cell_type": "code",
   "execution_count": 19,
   "outputs": [
    {
     "data": {
      "text/plain": "torch.Size([3247])"
     },
     "execution_count": 19,
     "metadata": {},
     "output_type": "execute_result"
    }
   ],
   "source": [
    "y_test_tensor.size()"
   ],
   "metadata": {
    "collapsed": false,
    "ExecuteTime": {
     "end_time": "2024-09-09T18:28:22.830213200Z",
     "start_time": "2024-09-09T18:28:22.824686Z"
    }
   },
   "id": "a111de437a713b68"
  },
  {
   "cell_type": "code",
   "execution_count": 20,
   "outputs": [
    {
     "data": {
      "text/plain": "<Figure size 1400x700 with 1 Axes>",
      "image/png": "[encoded data removed]"
     },
     "metadata": {},
     "output_type": "display_data"
    }
   ],
   "source": [
    "from matplotlib import pyplot as plt\n",
    "fig = plt.figure(figsize=(14, 7))\n",
    "plt.plot(study.trials_dataframe().number, study.trials_dataframe().value)\n",
    "plt.xlabel('Trial')\n",
    "plt.ylabel('Validation Loss')\n",
    "plt.title('Optimization History')\n",
    "plt.show()"
   ],
   "metadata": {
    "collapsed": false,
    "ExecuteTime": {
     "end_time": "2024-09-09T18:28:23.837733500Z",
     "start_time": "2024-09-09T18:28:22.829211700Z"
    }
   },
   "id": "4aca9231ab23e965"
  },
  {
   "cell_type": "code",
   "execution_count": 22,
   "outputs": [
    {
     "name": "stdout",
     "output_type": "stream",
     "text": [
      "{'hidden1_size': 76, 'hidden2_size': 128, 'hidden3_size': 93, 'hidden4_size': 47, 'num_epochs': 15, 'learning_rate': 1.1398647529848385e-05}\n"
     ]
    }
   ],
   "source": [
    "best_params =   study.best_params\n",
    "hidden1_size =  best_params['hidden1_size']\n",
    "hidden2_size =  best_params['hidden2_size']\n",
    "hidden3_size =   best_params['hidden3_size']\n",
    "hidden4_size =   best_params['hidden4_size']\n",
    "num_epochs =    best_params['num_epochs']\n",
    "learning_rate = best_params['learning_rate']\n",
    "\n",
    "print(best_params)"
   ],
   "metadata": {
    "collapsed": false,
    "ExecuteTime": {
     "end_time": "2024-09-09T18:42:15.987038700Z",
     "start_time": "2024-09-09T18:42:15.955715Z"
    }
   },
   "id": "d5563a140ddc92e2"
  },
  {
   "cell_type": "code",
   "execution_count": 34,
   "outputs": [
    {
     "name": "stdout",
     "output_type": "stream",
     "text": [
      "Epoch [1/15], Train Loss: 0.63983388, Val Loss: 0.62884898, ROC-AUC: 0.2421\n",
      "Epoch [2/15], Train Loss: 0.61039473, Val Loss: 0.58831972, ROC-AUC: 0.3243\n",
      "Epoch [3/15], Train Loss: 0.55063792, Val Loss: 0.50404205, ROC-AUC: 0.3578\n",
      "Epoch [4/15], Train Loss: 0.42942585, Val Loss: 0.35244230, ROC-AUC: 0.3369\n",
      "Epoch [5/15], Train Loss: 0.26971940, Val Loss: 0.20414021, ROC-AUC: 0.3349\n",
      "Epoch [6/15], Train Loss: 0.14506396, Val Loss: 0.11312243, ROC-AUC: 0.3366\n",
      "Epoch [7/15], Train Loss: 0.07728585, Val Loss: 0.06990699, ROC-AUC: 0.3372\n",
      "Epoch [8/15], Train Loss: 0.04509873, Val Loss: 0.05021146, ROC-AUC: 0.3429\n",
      "Epoch [9/15], Train Loss: 0.02879114, Val Loss: 0.04043846, ROC-AUC: 0.3489\n",
      "Epoch [10/15], Train Loss: 0.02053644, Val Loss: 0.03625274, ROC-AUC: 0.3536\n",
      "Epoch [11/15], Train Loss: 0.01621927, Val Loss: 0.03434664, ROC-AUC: 0.3594\n",
      "Epoch [12/15], Train Loss: 0.01371408, Val Loss: 0.03353718, ROC-AUC: 0.3644\n",
      "Epoch [13/15], Train Loss: 0.01216689, Val Loss: 0.03327311, ROC-AUC: 0.3692\n",
      "Epoch [14/15], Train Loss: 0.01114221, Val Loss: 0.03330721, ROC-AUC: 0.3741\n",
      "Epoch [15/15], Train Loss: 0.01043793, Val Loss: 0.03348349, ROC-AUC: 0.3808\n"
     ]
    },
    {
     "data": {
      "text/plain": "<Figure size 1000x600 with 1 Axes>",
      "image/png": "[encoded data removed]"
     },
     "metadata": {},
     "output_type": "display_data"
    },
    {
     "name": "stdout",
     "output_type": "stream",
     "text": [
      "Test ROC-AUC: 0.6839\n",
      "Number of incorrect predictions: 8\n",
      "Sample 1: True Label = 1.0, Predicted = 0.0, Input Data = [[-1.69466996e+00 -1.01708555e+00 -4.06440705e-01 -3.17016616e-02\n",
      "   4.34458852e-01  1.20239116e-01]\n",
      " [-1.27097034e+00  2.56051034e-01  5.67356706e-01 -1.25997353e+00\n",
      "   6.51209176e-01  2.48569727e+00]\n",
      " [ 6.35678172e-01 -8.89771938e-01 -9.94823277e-01  2.14760256e+00\n",
      "  -1.08410275e+00  1.53212833e+00]\n",
      " [ 2.11978540e-01  7.65305698e-01  1.92516565e+00 -1.30774093e+00\n",
      "  -6.50601923e-01  1.36073303e+00]\n",
      " [-8.47270668e-01 -8.89771938e-01 -1.79285169e+00  1.39528537e+00\n",
      "   4.34633255e-01  5.27880669e-01]\n",
      " [ 4.23828363e-01  1.01993299e+00 -5.34692466e-01 -3.49193722e-01\n",
      "   8.68395925e-01  9.59453106e-01]\n",
      " [-6.35420859e-01  4.47021514e-01  1.41795444e+00  5.84639132e-01\n",
      "  -1.97456634e+00  4.31282949e+00]\n",
      " [ 2.11978540e-01 -1.24625015e+00 -9.69364703e-01 -2.20248237e-01\n",
      "   1.17718279e+00  1.56319335e-01]\n",
      " [ 4.23712540e+00  2.56051034e-01  1.22957826e+00 -1.40004992e+00\n",
      "   1.30726948e-01  2.72951579e+00]\n",
      " [-3.81316805e+00  3.83364677e-01 -1.82551116e-01 -3.74719173e-01\n",
      "   5.42930722e-01 -3.48878264e-01]\n",
      " [-2.11721137e-01  2.05125555e-01  1.04189686e-01  6.90515161e-01\n",
      "  -7.69753218e-01 -3.48822117e-01]\n",
      " [-4.23570961e-01  1.41468719e-01 -1.74054787e-01  2.50613272e-01\n",
      "  -6.89294860e-02 -3.43496084e-01]\n",
      " [ 2.75417662e+00 -7.49645010e-02  1.68848395e-01  7.68549979e-01\n",
      "  -9.11301553e-01 -3.44512343e-01]\n",
      " [-2.11836958e+00 -2.40472272e-01  5.21883190e-01 -1.83425653e+00\n",
      "   1.25306165e+00 -3.45150054e-01]\n",
      " [-6.35420859e-01  1.55465043e+00 -1.85191607e+00  5.88919759e-01\n",
      "   1.27160800e+00 -2.87153453e-01]\n",
      " [ 2.11978540e-01 -1.48814607e+00  5.63723803e-01  4.89768386e-01\n",
      "  -1.03188848e+00  8.22616071e-02]\n",
      " [ 4.23828363e-01 -5.58756411e-01  2.95114309e-01  1.33196747e+00\n",
      "  -1.58190453e+00  7.72903673e-03]\n",
      " [ 4.23828363e-01  1.42369478e-03  3.82108986e-01 -2.88557100e+00\n",
      "   2.40719414e+00 -3.40244621e-01]\n",
      " [ 1.28697764e-04  1.42369478e-03  7.73243487e-01  2.32020450e+00\n",
      "  -3.01000667e+00 -3.45712394e-01]\n",
      " [ 2.11978540e-01  1.42369478e-03 -1.48099422e+00  4.05216902e-01\n",
      "   1.08209002e+00 -3.48883808e-01]\n",
      " [-1.27097034e+00 -1.13158599e-01 -3.12950760e-01 -1.15352523e+00\n",
      "   1.42630780e+00  1.89995572e-01]\n",
      " [ 1.28697764e-04  6.76186144e-01  1.62964904e+00  1.14446628e+00\n",
      "  -2.72844720e+00  1.19953179e+00]\n",
      " [ 1.05937779e+00 -4.95017730e-02  4.09307361e-01 -5.49317777e-01\n",
      "   1.24369048e-01  1.45688588e-02]\n",
      " [-6.35420859e-01 -1.51352718e-01 -1.82579613e+00 -2.29315404e-02\n",
      "   1.83973789e+00  1.83301032e-01]\n",
      " [-4.23570961e-01 -4.95017730e-02  1.27056003e+00 -2.34100930e-02\n",
      "  -1.24131799e+00 -1.89903483e-01]\n",
      " [ 1.28697764e-04  1.42369478e-03  5.13811111e-01 -2.06294513e+00\n",
      "   1.48106778e+00  1.13444519e-03]\n",
      " [ 1.28697764e-04 -6.09681904e-01 -7.51931787e-01  9.78321210e-02\n",
      "   6.53529227e-01 -9.67540070e-02]\n",
      " [ 8.47528040e-01  8.28962564e-01 -5.81292152e-01  1.21721828e+00\n",
      "  -5.96069396e-01  1.10705318e+01]\n",
      " [ 4.23828363e-01 -6.22331388e-02  2.75039583e-01  2.21966922e-01\n",
      "  -4.87761825e-01 -3.48249763e-01]]\n",
      "Sample 2: True Label = 1.0, Predicted = 0.0, Input Data = [[ 2.54232693e+00  1.79662824e-01 -8.95668387e-01  3.94227058e-01\n",
      "   6.58448517e-01 -3.48840684e-01]\n",
      " [-2.11836958e+00 -1.64084062e-01  3.09580833e-01  6.76500499e-01\n",
      "  -8.06009173e-01 -3.48806888e-01]\n",
      " [ 1.28697764e-04  1.42369478e-03 -2.05184951e-01 -3.48485857e-01\n",
      "   4.63269025e-01 -3.48828226e-01]\n",
      " [-6.35420859e-01  1.41550610e-02 -1.91618115e-01  3.11019719e-01\n",
      "  -2.07020547e-02 -3.48596066e-01]\n",
      " [ 6.35678172e-01 -2.40390375e-02  6.34835184e-01 -4.22445983e-01\n",
      "  -3.64574850e-01 -3.45456511e-01]\n",
      " [-6.35420859e-01  1.42369478e-03 -8.28642696e-02 -4.00707603e-01\n",
      "   3.71985555e-01 -2.51341641e-01]\n",
      " [ 2.11978540e-01  1.42369478e-03 -7.74416745e-01  3.88008237e-01\n",
      "   5.35267532e-01 -1.55672356e-01]\n",
      " [-2.11721137e-01  3.96177955e-02  1.77195227e+00 -8.37139785e-01\n",
      "  -1.26237977e+00 -3.08846891e-01]\n",
      " [ 2.11978540e-01 -1.13076717e-02 -2.36940116e-01 -3.32143833e-03\n",
      "   2.51064301e-01 -2.57745057e-01]\n",
      " [-2.11721137e-01 -2.40390375e-02 -1.39110005e+00  1.44625914e+00\n",
      "   4.29319322e-01 -2.33948424e-01]\n",
      " [ 2.11978540e-01  1.42369478e-03 -1.04874039e+00 -8.05098116e-01\n",
      "   1.66996133e+00 -3.43039274e-01]\n",
      " [-2.11721137e-01  2.68864278e-02  1.43742323e+00 -1.10624325e+00\n",
      "  -7.18359828e-01 -2.21188769e-01]\n",
      " [ 1.48307753e+00 -3.42323214e-01 -6.53506741e-02  8.51688147e-01\n",
      "  -5.36214530e-01  1.93175599e-02]\n",
      " [-1.48282015e+00  3.70633334e-01  8.11667204e-01 -4.15490806e-01\n",
      "  -5.55511177e-01 -3.48856807e-01]\n",
      " [ 1.28697764e-04  1.42369478e-03 -5.21487296e-01  9.96331125e-02\n",
      "   4.75921512e-01 -1.92151353e-01]\n",
      " [ 1.28697764e-04  1.42369478e-03  2.12931409e-01 -1.53588608e-01\n",
      "  -1.14069715e-01 -1.32557482e-01]\n",
      " [ 4.23828363e-01  1.42369478e-03 -5.55691004e-01  1.08989215e+00\n",
      "  -1.92605972e-01 -2.69815356e-01]\n",
      " [-4.23570961e-01  1.42369478e-03  3.33358228e-01 -7.39486158e-01\n",
      "   1.76672220e-01 -3.32929760e-01]\n",
      " [ 1.28697764e-04 -4.95017730e-02  5.62333822e-01 -1.10009789e+00\n",
      "   1.91504821e-01 -1.05628565e-01]\n",
      " [ 1.28697764e-04  1.42369478e-03 -1.02046001e+00  1.34096658e+00\n",
      "   1.17221616e-01 -2.72205830e-01]\n",
      " [ 6.35678172e-01 -3.67704071e-02  5.40580750e-01  1.42755255e-01\n",
      "  -6.67973578e-01 -2.36251488e-01]\n",
      " [-6.35420859e-01  3.96177955e-02 -6.46538706e-03  1.66869968e-01\n",
      "  -1.11984618e-01 -3.48415464e-01]\n",
      " [ 6.35678172e-01 -6.22331388e-02 -7.34825075e-01 -2.49001235e-01\n",
      "   9.47009444e-01 -2.50725955e-01]\n",
      " [ 1.05937779e+00  2.62408519e+00 -5.87380938e-02 -1.59001738e-01\n",
      "   1.74474433e-01 -3.11539829e-01]\n",
      " [-1.27097034e+00 -2.55758095e+00 -2.39277363e-01 -6.14195014e-04\n",
      "   2.50808328e-01 -3.33963871e-01]\n",
      " [ 6.35678172e-01 -1.00427233e-01  5.01054525e-01  2.49302194e-01\n",
      "  -7.01659620e-01 -3.31355423e-01]\n",
      " [ 1.28697764e-04  1.03274629e-01 -2.21722588e-01  4.35983479e-01\n",
      "  -7.79903382e-02 -3.40012699e-01]\n",
      " [-1.05912054e+00  1.42369478e-03  5.07178128e-01 -7.63812661e-02\n",
      "  -4.77005392e-01 -3.32354486e-01]\n",
      " [ 1.05937779e+00  7.78118968e-02 -5.01350239e-02 -8.87737513e-01\n",
      "   6.83869123e-01 -1.65417776e-01]]\n",
      "Sample 3: True Label = 1.0, Predicted = 0.0, Input Data = [[-2.11721137e-01  1.79662824e-01  4.30012912e-01  2.18090892e-01\n",
      "  -6.66541576e-01 -3.48883867e-01]\n",
      " [-1.48282015e+00 -8.38846445e-01 -4.19501573e-01 -2.81512588e-01\n",
      "   7.00601220e-01 -3.46511811e-01]\n",
      " [ 1.28697764e-04  7.14380205e-01 -9.08250883e-02  7.64469266e-01\n",
      "  -4.55157816e-01 -3.47559363e-01]\n",
      " [ 4.23828363e-01 -3.04129124e-01  4.86356586e-01 -8.51438046e-01\n",
      "   5.33603877e-02 -3.45636100e-01]\n",
      " [ 1.48307753e+00 -1.64084062e-01  1.34410739e-01 -1.05394065e-01\n",
      "  -8.09384882e-02 -3.48758817e-01]\n",
      " [-6.35420859e-01  3.57901931e-01 -1.48603618e-02 -4.35888410e-01\n",
      "   3.37345749e-01 -3.41843963e-01]\n",
      " [-2.11721137e-01  2.68864278e-02 -2.68452257e-01  1.53846800e-01\n",
      "   2.03024492e-01 -3.47783804e-01]\n",
      " [ 4.23828363e-01  4.72484261e-01 -9.70609337e-02  6.49450064e-01\n",
      "  -3.62679571e-01 -3.39063555e-01]\n",
      " [ 4.23828363e-01 -8.51577818e-01 -9.73108411e-02 -1.50564969e-01\n",
      "   2.25055307e-01 -3.48880500e-01]\n",
      " [-8.47270668e-01 -4.44174141e-01  2.42002219e-01  3.57470900e-01\n",
      "  -5.47656178e-01 -3.48653227e-01]\n",
      " [ 1.69492733e+00  1.08358991e+00 -2.11027730e-02 -9.08167720e-01\n",
      "   6.91769421e-01 -3.48278165e-01]\n",
      " [-1.90651977e+00 -5.58756411e-01  3.89550716e-01  1.29220247e+00\n",
      "  -1.40868616e+00 -3.48328531e-01]\n",
      " [ 1.28697764e-04 -7.49645010e-02 -1.89865634e-01  2.70071805e-01\n",
      "   2.47523095e-02 -3.48667771e-01]\n",
      " [-4.23570961e-01 -2.40390375e-02 -3.34039599e-01 -1.28925407e+00\n",
      "   1.34147906e+00 -3.40652257e-01]\n",
      " [ 6.35678172e-01  6.63454771e-01  8.05244446e-01 -3.41818184e-01\n",
      "  -6.97349489e-01 -3.41279715e-01]\n",
      " [-8.47270668e-01 -1.13076717e-02 -4.38134223e-01  1.60862410e+00\n",
      "  -6.66794837e-01 -3.44264567e-01]\n",
      " [ 2.11978540e-01 -1.02981699e+00 -2.63968438e-01 -4.84735757e-01\n",
      "   6.67838275e-01 -3.45195621e-01]\n",
      " [-4.23570961e-01  6.37992024e-01  1.88052848e-01 -7.87417650e-01\n",
      "   3.57198149e-01 -2.71586716e-01]\n",
      " [ 6.35678172e-01  6.50805309e-02 -5.27423739e-01  5.35605252e-01\n",
      "   2.27258816e-01 -2.22916827e-01]\n",
      " [ 1.28697764e-04 -2.91397721e-01  1.19874990e+00  3.99265856e-01\n",
      "  -1.70624709e+00 -3.36807579e-01]\n",
      " [ 2.11862707e+00  4.97947007e-01 -9.32744294e-02 -1.25898468e+00\n",
      "   1.03579760e+00 -3.46032649e-01]\n",
      " [-2.11836958e+00 -1.13076717e-02 -2.73780018e-01  5.67337096e-01\n",
      "  -9.41689759e-02 -3.48822892e-01]\n",
      " [ 2.11978540e-01 -2.40390375e-02  5.87141275e-01  3.06664944e-01\n",
      "  -9.18029666e-01 -3.46082032e-01]\n",
      " [-2.11721137e-01 -3.93248647e-01 -9.76600707e-01 -5.23119450e-01\n",
      "   1.53556991e+00 -3.45575005e-01]\n",
      " [-6.35420859e-01  2.05125555e-01  4.34551746e-01  1.11746334e-01\n",
      "  -5.93953431e-01 -3.48876625e-01]\n",
      " [ 6.35678172e-01 -3.67785960e-01 -3.24797243e-01  3.60991836e-01\n",
      "   1.17231332e-01 -3.25681031e-01]\n",
      " [ 1.05937779e+00  4.97947007e-01  9.59443673e-02 -7.78135359e-01\n",
      "   4.58474904e-01 -3.05970401e-01]\n",
      " [ 4.23828363e-01 -2.65935004e-01 -1.32743105e-01  4.84956443e-01\n",
      "  -1.99817657e-01 -3.46187681e-01]\n",
      " [-1.27097034e+00 -1.64084062e-01 -1.40482197e-02 -1.82133570e-01\n",
      "   1.50228128e-01 -3.48876119e-01]]\n",
      "Sample 4: True Label = 1.0, Predicted = 0.0, Input Data = [[ 1.2869776e-04 -7.4964501e-02  1.7752393e-01  2.7577361e-01\n",
      "  -3.9468026e-01  1.6484037e-03]\n",
      " [ 1.2712277e+00  5.2349161e-02  8.8145691e-01 -6.8843645e-01\n",
      "  -3.3136073e-01 -3.3693290e-01]\n",
      " [-1.0591205e+00  3.9617795e-02 -3.3098203e-01 -1.5096231e-01\n",
      "   4.4865113e-01 -3.1688467e-01]\n",
      " [-1.0591205e+00  2.8151375e-01 -7.7698046e-01  1.0949599e+00\n",
      "  -9.4588660e-02 -3.3293027e-01]\n",
      " [ 2.1197854e-01  2.3058829e-01 -6.6112113e-01 -5.5945343e-01\n",
      "   1.0992010e+00 -3.4163591e-01]\n",
      " [ 6.3567817e-01 -5.4602504e-01  7.9135889e-01  2.4816194e-01\n",
      "  -9.8191220e-01 -9.4070338e-02]\n",
      " [ 1.0593778e+00  1.4236948e-03  2.3701224e-01 -8.2704931e-01\n",
      "   4.1892865e-01 -3.3938727e-01]\n",
      " [-1.4828202e+00  6.1252934e-01 -6.8108785e-01  5.2867025e-01\n",
      "   2.5826883e-01 -3.4883356e-01]\n",
      " [ 4.2382836e-01 -6.0968190e-01  7.4981779e-01  3.2120919e-01\n",
      "  -9.9902803e-01 -3.4510654e-01]\n",
      " [-8.4727067e-01  5.8706659e-01 -4.9085441e-01 -1.8806946e-01\n",
      "   6.3667732e-01 -1.8921186e-01]\n",
      " [ 2.1197854e-01  9.9447030e-01 -1.0908802e-01  3.7473358e-02\n",
      "   7.8701325e-02 -3.1298205e-01]\n",
      " [ 4.2382836e-01 -1.5772656e+00  1.1340919e+00 -4.0457872e-01\n",
      "  -8.0682927e-01 -3.0561823e-01]\n",
      " [-6.3542086e-01  7.7811897e-02 -1.0711449e+00  2.1222788e-01\n",
      "   8.9661211e-01 -2.2915491e-01]\n",
      " [ 6.3567817e-01 -7.4964501e-02  8.7015472e-02  1.6789411e-01\n",
      "  -2.1922356e-01 -3.4803835e-01]\n",
      " [ 1.0593778e+00  3.9617795e-02  4.4171533e-01 -2.9342639e-01\n",
      "  -2.0657596e-01 -1.4843225e-01]\n",
      " [-1.6946700e+00  1.6819640e+00  1.7674747e-01  6.5296119e-01\n",
      "  -6.9283336e-01 -3.0174887e-01]\n",
      " [ 8.4752804e-01 -1.7173108e+00 -7.4943326e-02 -3.4946901e-01\n",
      "   3.5146785e-01 -3.4166458e-01]\n",
      " [-2.1172114e-01  3.9609605e-01  1.5539354e-01  1.0055223e-01\n",
      "  -2.3413777e-01  5.8612391e-02]\n",
      " [-6.3542086e-01  1.9239418e-01  2.7850321e-02 -3.5591602e-01\n",
      "   2.5420609e-01 -2.1098310e-01]\n",
      " [ 2.1197854e-01  9.4354486e-01 -1.9431838e-01 -7.1658753e-02\n",
      "   2.4993546e-01 -2.1341224e-01]\n",
      " [ 4.2382836e-01 -1.5008775e+00 -7.2829133e-01  5.3966922e-01\n",
      "   2.9638159e-01 -1.9909289e-01]\n",
      " [-6.3542086e-01  1.0326644e+00  6.8830293e-01 -2.3511648e-02\n",
      "  -6.6524637e-01 -2.1119158e-01]\n",
      " [ 4.2382836e-01 -1.0552797e+00  1.3186316e-01  3.0872226e-01\n",
      "  -3.7582302e-01  2.6313406e-01]\n",
      " [ 4.2382836e-01 -3.6770407e-02  1.5998520e-01 -6.6300684e-01\n",
      "   3.6629638e-01  4.6339285e-01]\n",
      " [ 1.2869776e-04  2.6886428e-02  2.5769156e-01 -3.6449283e-01\n",
      "   3.2232039e-02 -3.0546373e-01]\n",
      " [ 8.4752804e-01  1.4155061e-02 -2.6143685e-01 -1.3892810e+00\n",
      "   1.3570828e+00 -3.4888560e-01]\n",
      " [-8.4727067e-01  1.4236948e-03  7.4972045e-01  1.5407102e+00\n",
      "  -1.9628812e+00 -3.4883660e-01]\n",
      " [-8.4727067e-01  1.4236948e-03 -3.9750099e-01 -2.8611773e-01\n",
      "   6.2216145e-01 -3.4875420e-01]\n",
      " [ 8.4752804e-01  1.4236948e-03 -1.9136164e-01  1.2509939e-01\n",
      "   9.1419891e-02 -3.4877720e-01]]\n",
      "Sample 5: True Label = 1.0, Predicted = 0.0, Input Data = [[ 6.35678172e-01  5.99797904e-01  2.95135945e-01 -2.30116010e+00\n",
      "   1.19388640e+00  9.43334281e-01]\n",
      " [ 1.28697764e-04 -1.13166785e+00 -1.58762932e+00  1.67405069e+00\n",
      "   6.20274246e-01  1.32189035e-01]\n",
      " [-4.23570961e-01  4.97947007e-01  2.13790560e+00 -1.53373265e+00\n",
      "  -1.30956292e+00  1.32289171e+00]\n",
      " [ 4.02527571e+00  1.92394182e-01 -2.24566102e-01 -4.70485181e-01\n",
      "   5.52386582e-01 -3.43553543e-01]\n",
      " [-1.90651977e+00 -2.27740899e-01 -3.29116583e-01  4.65484411e-02\n",
      "   3.26432467e-01 -3.48839730e-01]\n",
      " [-2.11836958e+00 -2.65935004e-01  1.92325890e-01  1.68348208e-01\n",
      "  -3.18997860e-01 -3.46371680e-01]\n",
      " [ 6.35678172e-01  9.30813491e-01  1.39215246e-01 -3.28697234e-01\n",
      "   6.44310713e-02 -3.27666610e-01]\n",
      " [ 1.05937779e+00  1.16005994e-01 -1.05874467e+00  2.52414393e+00\n",
      "  -5.10828257e-01  6.14699841e-01]\n",
      " [-1.90651977e+00 -3.67704071e-02  5.09143481e-03  3.52630734e-01\n",
      "  -2.38167271e-01 -3.48770410e-01]\n",
      " [ 1.28697764e-04 -8.89771938e-01  2.09753707e-01 -5.20292222e-01\n",
      "   1.15608647e-01 -3.48298281e-01]\n",
      " [ 2.11978540e-01  9.43544865e-01  7.67336845e-01 -1.66482031e+00\n",
      "   2.62631536e-01 -2.70526797e-01]\n",
      " [ 2.11978540e-01 -1.04254830e+00 -4.70861226e-01  3.06575358e-01\n",
      "   3.09454769e-01  1.98322564e-01]\n",
      " [ 1.28697764e-04  1.04539573e+00 -2.62522668e-01  7.95105338e-01\n",
      "  -2.38096848e-01  3.63856339e+00]\n",
      " [-2.11721137e-01 -7.49726892e-01 -1.90418303e-01 -1.27230132e+00\n",
      "   1.04207158e+00 -8.95523187e-03]\n",
      " [-2.11721137e-01 -8.76958668e-02  8.83232504e-02  9.85481977e-01\n",
      "  -7.42760599e-01  2.17308497e+00]\n",
      " [ 6.35678172e-01  3.45170587e-01  9.89033341e-01  3.53277415e-01\n",
      "  -1.30589724e+00  2.65200794e-01]\n",
      " [-6.35420859e-01 -1.10620511e+00 -2.14841038e-01  9.73575890e-01\n",
      "  -4.08897817e-01 -5.96539453e-02]\n",
      " [ 1.28697764e-04  3.70633334e-01 -2.12582183e+00  1.92069829e-01\n",
      "   2.17855883e+00  9.78826225e-01]\n",
      " [ 2.11978540e-01  8.41693878e-01  1.81550729e+00 -1.23449051e+00\n",
      "  -1.15417302e+00 -3.48854601e-01]\n",
      " [ 8.47528040e-01  5.10678351e-01 -1.79916179e+00 -5.96980929e-01\n",
      "   2.34095073e+00 -3.46740663e-01]\n",
      " [ 4.23828363e-01 -8.00652385e-01  2.01687121e+00  1.25871646e+00\n",
      "  -3.01352978e+00 -3.47409338e-01]\n",
      " [-1.05912054e+00  6.50805309e-02 -1.42353582e+00 -7.82325745e-01\n",
      "   2.05882096e+00 -3.48838001e-01]\n",
      " [ 1.28697764e-04 -1.25889972e-01  4.71096098e-01  6.85214102e-02\n",
      "  -5.55327117e-01 -3.47636729e-01]\n",
      " [ 1.28697764e-04 -9.66160119e-01 -9.63538885e-02  1.70562315e+00\n",
      "  -1.02013004e+00 -3.48880351e-01]\n",
      " [ 1.48307753e+00  1.07085848e+00  1.28243014e-01 -1.24196088e+00\n",
      "   6.80322409e-01 -3.35223049e-01]\n",
      " [-8.47270668e-01 -9.66160119e-01 -6.02617502e-01 -2.09591165e-01\n",
      "   7.90753007e-01 -3.48087192e-01]\n",
      " [-4.23570961e-01  8.67156684e-01  9.24279809e-01 -9.84825864e-02\n",
      "  -9.36725259e-01 -3.44868034e-01]\n",
      " [ 4.23828363e-01  3.06976497e-01  1.06670752e-01 -1.02147609e-01\n",
      "  -4.84866537e-02 -3.48547995e-01]\n",
      " [ 1.90677714e+00  3.57901931e-01 -2.04082265e-01  3.19150329e-01\n",
      "   1.11758867e-02 -3.44645083e-01]]\n",
      "Sample 6: True Label = 1.0, Predicted = 0.0, Input Data = [[-1.05912054e+00  1.92394182e-01  7.87087977e-01 -7.73593038e-02\n",
      "  -7.07657874e-01 -3.48506540e-01]\n",
      " [ 6.35678172e-01 -1.64084062e-01 -6.84516072e-01  8.91584530e-03\n",
      "   6.56946123e-01 -2.75801241e-01]\n",
      " [-4.23570961e-01  3.32439214e-01  1.75471157e-01  4.66202617e-01\n",
      "  -5.00568926e-01 -3.25821191e-01]\n",
      " [-4.23570961e-01 -3.67704071e-02 -8.69358420e-01  1.46075523e+00\n",
      "  -1.96237341e-01 -3.38561118e-01]\n",
      " [ 2.11978540e-01 -3.04129124e-01  7.06987679e-01 -1.97609317e+00\n",
      "   7.19073713e-01  6.11886442e-01]\n",
      " [ 6.35678172e-01  2.05125555e-01 -1.61716199e+00  1.22698045e+00\n",
      "   6.93868160e-01  1.35214663e+00]\n",
      " [-6.35420859e-01  4.47021514e-01  2.14277291e+00 -2.37739372e+00\n",
      "  -3.88536990e-01  6.92043483e-01]\n",
      " [ 1.27122772e+00 -6.98801458e-01 -1.02203703e+00  2.18184614e+00\n",
      "  -5.56355238e-01  8.30824852e-01]\n",
      " [-1.05912054e+00  1.42369478e-03  1.37129962e-01 -8.41319680e-01\n",
      "   4.64256614e-01 -3.48754704e-01]\n",
      " [-4.23570961e-01  7.78118968e-02  3.23904872e-01  3.89106125e-01\n",
      "  -5.89525223e-01  2.06380799e-01]\n",
      " [ 1.28697764e-04 -2.02278182e-01 -4.68481988e-01 -1.19547164e+00\n",
      "   1.30035913e+00 -2.53413469e-01]\n",
      " [ 1.05937779e+00  3.70633334e-01 -5.41148245e-01  1.46825659e+00\n",
      "  -5.16781986e-01 -1.50026619e-01]\n",
      " [-6.35420859e-01 -4.69636858e-01 -2.25863278e-01 -1.96082965e-02\n",
      "   2.32297927e-01  1.12446356e+00]\n",
      " [ 1.69492733e+00  7.27111578e-01 -1.20887853e-01  5.05050540e-01\n",
      "  -2.41602495e-01 -1.35180548e-01]\n",
      " [-1.69466996e+00 -6.35144591e-01 -9.12964582e-01 -7.89016932e-02\n",
      "   9.37739432e-01 -1.51842728e-01]\n",
      " [ 1.28697764e-04 -1.00427233e-01  2.84360313e+00 -2.22243285e+00\n",
      "  -1.17472291e+00  4.42199200e-01]\n",
      " [-4.23570961e-01  1.03274629e-01 -4.88362499e-02  1.75177550e+00\n",
      "  -1.19437587e+00  1.37651277e+00]\n",
      " [ 6.35678172e-01  1.66931450e-01 -8.53864849e-01  3.94223332e-01\n",
      "   5.47362924e-01  1.73401797e+00]\n",
      " [ 1.28697764e-04  1.16005994e-01  8.98783002e-03 -8.09191227e-01\n",
      "   5.65776587e-01  2.04279852e+00]\n",
      " [ 4.23828363e-01 -4.56905484e-01  5.69511890e-01  4.32964206e-01\n",
      "  -8.58840346e-01  5.44183159e+00]\n",
      " [-2.11721137e-01  4.72484261e-01 -1.70426756e-01 -7.10630596e-01\n",
      "   6.69420958e-01  1.86440837e+00]\n",
      " [-6.35420859e-01 -1.00427233e-01 -3.80752087e-01  9.07019138e-01\n",
      "  -2.74867922e-01  1.86949754e+00]\n",
      " [ 8.47528040e-01  5.87066591e-01  2.49192402e-01 -1.50950015e-01\n",
      "  -1.34087265e-01 -3.48757893e-01]\n",
      " [-8.47270668e-01 -3.16860467e-01 -2.28620946e-01  3.75135720e-01\n",
      "  -4.50412109e-02  9.68535170e-02]\n",
      " [ 1.48307753e+00  2.30588287e-01  2.48226263e-02 -3.60990912e-01\n",
      "   2.32462913e-01  3.70898306e-01]\n",
      " [-8.47270668e-01 -4.31442767e-01  1.47990525e-01 -1.50027320e-01\n",
      "  -3.67518701e-02 -2.80736208e-01]\n",
      " [ 3.81342578e+00  1.92394182e-01 -1.02904069e+00  2.18047351e-01\n",
      "   8.41003120e-01  5.47337437e+00]\n",
      " [-1.90651977e+00 -1.76815435e-01  5.44527948e-01  1.61271274e-01\n",
      "  -6.41178727e-01 -3.48824680e-01]\n",
      " [-1.05912054e+00 -4.31442767e-01 -3.97186577e-01 -1.44638628e-01\n",
      "   4.86999631e-01 -3.47641021e-01]]\n",
      "Sample 7: True Label = 1.0, Predicted = 0.0, Input Data = [[-8.4727067e-01 -6.2233139e-02  8.8551179e-02 -9.1592920e-01\n",
      "   5.3812224e-01 -3.4089690e-01]\n",
      " [ 1.2869776e-04  3.9609605e-01 -3.7416452e-01  1.4267373e-01\n",
      "   3.0337176e-01 -3.4244928e-01]\n",
      " [ 2.1197854e-01  2.6878238e-01  7.2432137e-01 -4.6689668e-01\n",
      "  -4.5590901e-01 -3.3752844e-01]\n",
      " [-2.1172114e-01 -3.5505456e-01 -6.9175684e-01  1.0288222e+00\n",
      "   3.2519024e-02 -3.1840175e-01]\n",
      " [ 6.3567817e-01  5.2340972e-01  7.4201185e-01 -6.7615366e-01\n",
      "  -3.3014914e-01 -3.4290969e-01]\n",
      " [-6.3542086e-01 -3.6778596e-01  7.4529517e-01 -6.9543183e-01\n",
      "  -3.2168475e-01 -3.4885967e-01]\n",
      " [ 2.1197854e-01  4.3429017e-01 -1.3521950e+00  9.0625143e-01\n",
      "   8.2830572e-01 -3.4620512e-01]\n",
      " [ 6.3567817e-01 -3.5505456e-01 -2.1711035e-01 -5.1873344e-01\n",
      "   5.9121585e-01 -2.3048609e-01]\n",
      " [-2.1172114e-01  9.0543263e-02 -5.7576090e-01  6.1641502e-01\n",
      "   1.9239464e-01 -2.8302291e-01]\n",
      " [ 1.6949273e+00  2.6878238e-01  2.1931525e-01 -7.2932228e-02\n",
      "  -1.8495499e-01 -3.4886950e-01]\n",
      " [-1.9065198e+00  9.0543263e-02 -3.9221057e-01  2.3184404e-01\n",
      "   2.6060918e-01 -3.4852383e-01]\n",
      " [ 2.1197854e-01 -1.3099071e+00  2.3564710e-01 -5.9239346e-01\n",
      "   1.5612653e-01 -3.4772378e-01]\n",
      " [-4.2357096e-01  5.9979790e-01 -2.6577583e-01 -3.0469564e-01\n",
      "   4.9494067e-01 -3.4808192e-01]\n",
      " [ 1.2869776e-04  2.3058829e-01  3.5853952e-01  6.0068536e-01\n",
      "  -7.9872698e-01 -3.3168212e-01]\n",
      " [ 1.2869776e-04  2.8151375e-01 -6.8614103e-02  2.7252600e-01\n",
      "  -1.1460473e-01 -3.4883916e-01]\n",
      " [-2.1172114e-01 -9.5342875e-01  2.2967193e-01 -4.4724834e-01\n",
      "   6.2350024e-02 -3.3009514e-01]\n",
      " [ 6.3567817e-01  1.1981721e+00  7.5545812e-01  3.4919672e-02\n",
      "  -8.3543867e-01 -2.9268709e-01]\n",
      " [ 1.6949273e+00 -4.0598005e-01 -8.8775820e-01  1.5373123e-01\n",
      "   8.4714192e-01 -3.0994743e-01]\n",
      " [-2.1183696e+00  2.4331965e-01  1.5702663e-01  1.2478509e+00\n",
      "  -1.0316927e+00 -3.4775209e-01]\n",
      " [ 1.6949273e+00 -6.2233139e-02  5.4300547e-01 -8.1888545e-01\n",
      "  -1.6545530e-02 -2.7542421e-01]\n",
      " [-2.1172114e-01 -4.8236823e-01  6.7229629e-02  9.1765982e-01\n",
      "  -7.0793903e-01 -2.9143620e-01]\n",
      " [-1.4828202e+00  1.4236948e-03 -3.3296344e-01 -2.0810034e+00\n",
      "   1.7966391e+00  6.9596195e-01]\n",
      " [ 1.6949273e+00  3.3243921e-01 -3.5568479e-01  1.9106144e-01\n",
      "   2.4993323e-01 -2.9209718e-01]\n",
      " [ 1.2869776e-04 -3.0412912e-01  1.1842778e+00  7.0643509e-03\n",
      "  -1.2768115e+00 -1.9724034e-01]\n",
      " [-1.0591205e+00  1.4155061e-02 -1.4066102e-01 -2.5847096e-02\n",
      "   1.6904615e-01 -3.4457693e-01]\n",
      " [ 1.0593778e+00  4.0882742e-01 -2.2781028e-01  1.6543347e-01\n",
      "   1.3063541e-01 -3.3619669e-01]\n",
      " [-1.6946700e+00 -1.3862135e-01 -1.0224290e+00 -7.0991999e-01\n",
      "   1.5865864e+00  7.6116443e-01]\n",
      " [-2.1172114e-01 -5.3329366e-01 -4.0038460e-01  3.2537109e-01\n",
      "   2.0505457e-01 -1.2271101e-01]\n",
      " [ 1.6949273e+00 -6.2233139e-02  1.7503401e+00 -5.7675552e-01\n",
      "  -1.4808336e+00  2.0194664e+00]]\n",
      "Sample 8: True Label = 1.0, Predicted = 0.0, Input Data = [[ 1.69492733e+00  9.05432627e-02 -5.70636749e-01 -1.06447846e-01\n",
      "   6.61804378e-01 -3.48485649e-01]\n",
      " [-2.11836958e+00 -1.13158599e-01  6.83919013e-01  8.03455532e-01\n",
      "  -1.42147088e+00 -3.48801911e-01]\n",
      " [ 1.28697764e-04  1.66931450e-01  9.02342856e-01 -7.78885186e-01\n",
      "  -1.67616591e-01 -3.48730564e-01]\n",
      " [ 4.23828363e-01  1.37641132e+00  9.07439962e-02 -1.39310765e+00\n",
      "   1.20296371e+00 -3.48848671e-01]\n",
      " [-4.23570961e-01 -1.58999705e+00 -8.63922536e-01  6.36486232e-01\n",
      "   2.63299227e-01 -3.48631620e-01]\n",
      " [-2.11721137e-01  9.05350745e-01  1.59406289e-02  2.96114087e-01\n",
      "  -2.90259153e-01 -3.48765314e-01]\n",
      " [ 1.90677714e+00 -3.29591811e-01 -4.06122906e-03 -2.16825947e-01\n",
      "   2.05150947e-01 -3.48360151e-01]\n",
      " [-1.90651977e+00  1.42369478e-03  6.42163098e-01 -3.89380008e-01\n",
      "  -2.73041159e-01 -3.48670423e-01]\n",
      " [ 4.02527571e+00 -3.67704071e-02  7.20615447e-01  1.52940130e+00\n",
      "  -2.13360238e+00 -3.48754704e-01]\n",
      " [-1.90651977e+00 -5.58756411e-01  2.46610656e-01 -1.33021212e+00\n",
      "   9.92493451e-01 -3.48638117e-01]\n",
      " [-2.54206920e+00  1.07085848e+00 -8.33758056e-01 -2.22403612e-02\n",
      "   8.45363259e-01 -3.48576546e-01]\n",
      " [ 8.47528040e-01 -7.75189638e-01  6.93607867e-01 -5.26377916e-01\n",
      "  -1.97716802e-01 -3.48882318e-01]\n",
      " [ 1.48307753e+00  2.68864278e-02  1.28591031e-01  5.19962072e-01\n",
      "  -6.09433293e-01 -3.48771632e-01]\n",
      " [-2.11836958e+00  2.68864278e-02 -1.35455441e+00 -2.20353127e-01\n",
      "   1.54327369e+00 -3.48831117e-01]\n",
      " [ 1.48307753e+00  1.54200092e-01  3.88563842e-01  1.12073517e+00\n",
      "  -1.42366922e+00 -3.48434865e-01]\n",
      " [-1.27097034e+00 -2.53203630e-01  1.05589592e+00  2.59733379e-01\n",
      "  -1.28687871e+00 -3.48105580e-01]\n",
      " [ 8.47528040e-01  5.23491614e-02 -1.03634834e+00 -2.23545015e-01\n",
      "   1.23403203e+00 -3.47991616e-01]\n",
      " [ 8.47528040e-01 -4.95017730e-02 -1.04584813e+00  5.01428008e-01\n",
      "   5.67354977e-01 -3.48554611e-01]\n",
      " [-6.35420859e-01  1.42369478e-03  1.48977959e+00  2.42043108e-01\n",
      "  -1.69843054e+00 -3.48052889e-01]\n",
      " [-2.11721137e-01  1.13451529e+00 -1.44626510e+00  8.84626582e-02\n",
      "   1.34819090e+00 -3.48823994e-01]\n",
      " [-2.11721137e-01 -1.13166785e+00  7.92346358e-01 -1.51789165e+00\n",
      "   6.27604663e-01 -3.48452061e-01]\n",
      " [-8.47270668e-01 -3.67704071e-02 -1.07024059e-01  5.61433256e-01\n",
      "  -4.15350795e-01 -3.48800361e-01]\n",
      " [ 6.35678172e-01 -3.67704071e-02 -1.26194501e+00  5.47326028e-01\n",
      "   7.37381577e-01 -3.48769188e-01]\n",
      " [-2.11721137e-01 -4.18711394e-01  1.37948298e+00 -1.24447942e-02\n",
      "  -1.35065067e+00 -3.48872870e-01]\n",
      " [ 1.27122772e+00  4.97947007e-01  3.40581685e-01 -7.06039369e-01\n",
      "   3.19563031e-01 -3.48481894e-01]\n",
      " [ 4.23828363e-01 -1.64084062e-01 -4.00874406e-01  9.89235044e-01\n",
      "  -5.23343444e-01 -3.48617852e-01]\n",
      " [-2.11836958e+00 -1.89546809e-01  2.44439214e-01 -1.71068251e+00\n",
      "   1.34756064e+00 -3.48661512e-01]\n",
      " [-2.11721137e-01  4.97947007e-01  1.61379248e-01  2.62090254e+00\n",
      "  -2.59759593e+00 -3.48342329e-01]\n",
      " [ 1.48307753e+00 -7.49645010e-02  9.03645337e-01 -2.71192265e+00\n",
      "   1.62888741e+00 -3.48877460e-01]]\n"
     ]
    }
   ],
   "source": [
    "import torch\n",
    "import torch.nn as nn\n",
    "import matplotlib.pyplot as plt\n",
    "from sklearn.metrics import roc_auc_score\n",
    "import numpy as np\n",
    "\n",
    "device = torch.device(\"cuda\" if torch.cuda.is_available() else \"cpu\")\n",
    "model = EarthquakeClassifier(29 * 6, hidden1_size, hidden2_size, hidden3_size, hidden4_size, output_size=1).to(device)\n",
    "criterion = nn.BCEWithLogitsLoss()\n",
    "optimizer = torch.optim.Adam(model.parameters(), lr=learning_rate)\n",
    "\n",
    "train_loader, val_loader, test_loader = create_dataloaders(X_train_tensor, y_train_tensor, X_val_tensor, y_val_tensor, X_test_tensor, y_test_tensor, batch_size=64)\n",
    "\n",
    "train_losses = []\n",
    "val_losses = []\n",
    "\n",
    "for epoch in range(num_epochs):\n",
    "    model.train()\n",
    "    train_loss = 0.0\n",
    "    \n",
    "    # Training loop\n",
    "    for inputs, targets in train_loader:\n",
    "        inputs, targets = inputs.to(device), targets.to(device)    \n",
    "        \n",
    "        # Forward pass\n",
    "        outputs = model(inputs).squeeze(-1)  # No sigmoid since using BCEWithLogitsLoss\n",
    "        loss = criterion(outputs, targets)\n",
    "        train_loss += loss.item()\n",
    "        \n",
    "        # Backward pass and optimization\n",
    "        optimizer.zero_grad()\n",
    "        loss.backward()\n",
    "        optimizer.step()\n",
    "    \n",
    "    # Average train loss for the epoch\n",
    "    train_loss /= len(train_loader)\n",
    "    train_losses.append(train_loss)\n",
    "    \n",
    "    # Validation loop\n",
    "    model.eval()\n",
    "    val_loss = 0.0\n",
    "    y_true = []\n",
    "    y_pred = []\n",
    "    \n",
    "    with torch.no_grad():\n",
    "        for inputs, targets in val_loader:\n",
    "            inputs, targets = inputs.to(device), targets.to(device)\n",
    "            \n",
    "            # Forward pass\n",
    "            outputs = model(inputs).squeeze(-1)\n",
    "            loss = criterion(outputs, targets)\n",
    "            val_loss += loss.item()\n",
    "            \n",
    "            # Save true labels and predictions for ROC-AUC calculation\n",
    "            y_true.append(targets.cpu().numpy())\n",
    "            y_pred.append(torch.sigmoid(outputs).cpu().numpy())  # Apply sigmoid to convert logits to probabilities\n",
    "    \n",
    "    # Concatenate results to flatten them\n",
    "    y_true = np.concatenate(y_true)\n",
    "    y_pred = np.concatenate(y_pred)\n",
    "    \n",
    "    # Calculate ROC-AUC\n",
    "    roc_auc = roc_auc_score(y_true, y_pred)\n",
    "    print(f'Epoch [{epoch+1}/{num_epochs}], Train Loss: {train_loss:.8f}, Val Loss: {val_loss / len(val_loader):.8f}, ROC-AUC: {roc_auc:.4f}')\n",
    "    \n",
    "    val_loss /= len(val_loader)\n",
    "    val_losses.append(val_loss)\n",
    "\n",
    "# Plotting training and validation losses\n",
    "plt.figure(figsize=(10, 6))\n",
    "plt.plot(train_losses, label='Training Loss')\n",
    "plt.plot(val_losses, label='Validation Loss')\n",
    "plt.xlabel('Epoch')\n",
    "plt.ylabel('Loss')\n",
    "plt.title('Training and Validation Loss Over Epochs')\n",
    "plt.legend()\n",
    "plt.grid(True)\n",
    "plt.show()\n",
    "\n",
    "# Final Test Evaluation\n",
    "model.eval()\n",
    "y_true_test = []\n",
    "y_pred_test = []\n",
    "incorrect_samples = []\n",
    "\n",
    "with torch.no_grad():\n",
    "    for inputs, targets in test_loader:\n",
    "        inputs, targets = inputs.to(device), targets.to(device)\n",
    "        \n",
    "        # Forward pass\n",
    "        outputs = model(inputs).squeeze(-1)\n",
    "        preds = torch.sigmoid(outputs)  # Convert logits to probabilities\n",
    "        \n",
    "        # Store true labels and predictions for final evaluation\n",
    "        y_true_test.append(targets.cpu().numpy())\n",
    "        y_pred_test.append(preds.cpu().numpy())\n",
    "        \n",
    "        # Collect incorrect predictions\n",
    "        pred_labels = (preds > 0.5).float()  # Threshold the probabilities at 0.5\n",
    "        incorrect_mask = (pred_labels != targets).cpu().numpy()  # Check where predictions are incorrect\n",
    "        incorrect_samples.extend(list(zip(inputs.cpu().numpy()[incorrect_mask], targets.cpu().numpy()[incorrect_mask], pred_labels.cpu().numpy()[incorrect_mask])))\n",
    "\n",
    "# Flatten y_true_test and y_pred_test\n",
    "y_true_test = np.concatenate(y_true_test)\n",
    "y_pred_test = np.concatenate(y_pred_test)\n",
    "\n",
    "# Calculate ROC-AUC for the test set\n",
    "roc_auc_test = roc_auc_score(y_true_test, y_pred_test)\n",
    "print(f'Test ROC-AUC: {roc_auc_test:.4f}')\n",
    "\n",
    "# Show incorrect predictions\n",
    "print(f\"Number of incorrect predictions: {len(incorrect_samples)}\")\n",
    "for i, (input_data, true_label, pred_label) in enumerate(incorrect_samples[:10], 1):  # Show first 10 incorrect predictions\n",
    "    print(f\"Sample {i}: True Label = {true_label}, Predicted = {pred_label}, Input Data = {input_data}\")\n"
   ],
   "metadata": {
    "collapsed": false,
    "ExecuteTime": {
     "end_time": "2024-09-09T19:37:53.949763Z",
     "start_time": "2024-09-09T19:37:47.147497500Z"
    }
   },
   "id": "647799f6922db599"
  },
  {
   "cell_type": "code",
   "execution_count": null,
   "outputs": [],
   "source": [],
   "metadata": {
    "collapsed": false
   },
   "id": "c34f99e7bbffaa41"
  }
 ],
 "metadata": {
  "kernelspec": {
   "display_name": "Python 3",
   "language": "python",
   "name": "python3"
  },
  "language_info": {
   "codemirror_mode": {
    "name": "ipython",
    "version": 2
   },
   "file_extension": ".py",
   "mimetype": "text/x-python",
   "name": "python",
   "nbconvert_exporter": "python",
   "pygments_lexer": "ipython2",
   "version": "2.7.6"
  }
 },
 "nbformat": 4,
 "nbformat_minor": 5
}
