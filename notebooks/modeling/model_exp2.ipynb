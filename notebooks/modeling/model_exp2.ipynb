{
 "cells": [
  {
   "cell_type": "code",
   "execution_count": 1,
   "outputs": [
    {
     "data": {
      "text/plain": "             Event ID            Datetime  Latitude  Longitude  Depth(km)  \\\n0      19000920000001 1900-09-20 00:00:01   37.8000    29.1000        5.0   \n1      19010223000000 1901-02-23 00:00:00   37.9000    27.9000       15.0   \n2      19010301000001 1901-03-01 00:00:01   38.2000    27.7000        5.0   \n3      19010401000001 1901-04-01 00:00:01   38.4000    31.4000        5.0   \n4      19010501000001 1901-05-01 00:00:01   37.8000    27.8000       15.0   \n...               ...                 ...       ...        ...        ...   \n64134  20240428211453 2024-04-28 21:14:53   38.5330    38.0423        5.4   \n64135  20240428213328 2024-04-28 21:33:28   37.0177    29.7712        6.2   \n64136  20240429220835 2024-04-29 22:08:35   38.3103    38.2865        5.0   \n64137  20240430080325 2024-04-30 08:03:25   38.2458    31.5638        5.0   \n64138  20240430232712 2024-04-30 23:27:12   35.3570    32.5048       47.2   \n\n        xM   MD   ML   Mw   Ms   Mb Type  \\\n0      5.0  5.0    -  NaN    -    -   Ke   \n1      4.8  4.7  4.6  4.8  4.6  4.7   Ke   \n2      5.0  5.0    -  NaN    -    -   Ke   \n3      5.0  5.0    -  NaN    -    -   Ke   \n4      5.0  5.0    -  NaN    -    -   Ke   \n...    ...  ...  ...  ...  ...  ...  ...   \n64134  3.9    -  3.8  3.9    -    -   Ke   \n64135  4.0    -  4.0  3.9    -    -   Ke   \n64136  3.2    -  3.2  3.0    -    -   Ke   \n64137  3.6    -  3.5  3.6    -    -   Ke   \n64138  3.6    -  3.6  3.4    -    -   Ke   \n\n                                              Location  \n0               DENIZLI (DENIZLI) [North East  2.3 km]  \n1                 KENGER- (AYDIN) [North East  1.1 km]  \n2        YAKACIK-BAYINDIR (IZMIR) [South West  0.8 km]  \n3         ATAKENT-AKSEHIR (KONYA) [North East  2.4 km]  \n4                KADIKOY- (AYDIN) [South West  2.6 km]  \n...                                                ...  \n64134          CIVRIL-YAZIHAN (MALATYA) [South 3.0 km]  \n64135       YAZIR-CAVDIR (BURDUR) [South East  2.5 km]  \n64136     BOSTANBASI-YESILYURT (MALATYA) [East 3.1 km]  \n64137  YAYLABELEN-AKSEHIR (KONYA) [North East  2.6 km]  \n64138                                          AKDENIZ  \n\n[64139 rows x 13 columns]",
      "text/html": "<div>\n<style scoped>\n    .dataframe tbody tr th:only-of-type {\n        vertical-align: middle;\n    }\n\n    .dataframe tbody tr th {\n        vertical-align: top;\n    }\n\n    .dataframe thead th {\n        text-align: right;\n    }\n</style>\n<table border=\"1\" class=\"dataframe\">\n  <thead>\n    <tr style=\"text-align: right;\">\n      <th></th>\n      <th>Event ID</th>\n      <th>Datetime</th>\n      <th>Latitude</th>\n      <th>Longitude</th>\n      <th>Depth(km)</th>\n      <th>xM</th>\n      <th>MD</th>\n      <th>ML</th>\n      <th>Mw</th>\n      <th>Ms</th>\n      <th>Mb</th>\n      <th>Type</th>\n      <th>Location</th>\n    </tr>\n  </thead>\n  <tbody>\n    <tr>\n      <th>0</th>\n      <td>19000920000001</td>\n      <td>1900-09-20 00:00:01</td>\n      <td>37.8000</td>\n      <td>29.1000</td>\n      <td>5.0</td>\n      <td>5.0</td>\n      <td>5.0</td>\n      <td>-</td>\n      <td>NaN</td>\n      <td>-</td>\n      <td>-</td>\n      <td>Ke</td>\n      <td>DENIZLI (DENIZLI) [North East  2.3 km]</td>\n    </tr>\n    <tr>\n      <th>1</th>\n      <td>19010223000000</td>\n      <td>1901-02-23 00:00:00</td>\n      <td>37.9000</td>\n      <td>27.9000</td>\n      <td>15.0</td>\n      <td>4.8</td>\n      <td>4.7</td>\n      <td>4.6</td>\n      <td>4.8</td>\n      <td>4.6</td>\n      <td>4.7</td>\n      <td>Ke</td>\n      <td>KENGER- (AYDIN) [North East  1.1 km]</td>\n    </tr>\n    <tr>\n      <th>2</th>\n      <td>19010301000001</td>\n      <td>1901-03-01 00:00:01</td>\n      <td>38.2000</td>\n      <td>27.7000</td>\n      <td>5.0</td>\n      <td>5.0</td>\n      <td>5.0</td>\n      <td>-</td>\n      <td>NaN</td>\n      <td>-</td>\n      <td>-</td>\n      <td>Ke</td>\n      <td>YAKACIK-BAYINDIR (IZMIR) [South West  0.8 km]</td>\n    </tr>\n    <tr>\n      <th>3</th>\n      <td>19010401000001</td>\n      <td>1901-04-01 00:00:01</td>\n      <td>38.4000</td>\n      <td>31.4000</td>\n      <td>5.0</td>\n      <td>5.0</td>\n      <td>5.0</td>\n      <td>-</td>\n      <td>NaN</td>\n      <td>-</td>\n      <td>-</td>\n      <td>Ke</td>\n      <td>ATAKENT-AKSEHIR (KONYA) [North East  2.4 km]</td>\n    </tr>\n    <tr>\n      <th>4</th>\n      <td>19010501000001</td>\n      <td>1901-05-01 00:00:01</td>\n      <td>37.8000</td>\n      <td>27.8000</td>\n      <td>15.0</td>\n      <td>5.0</td>\n      <td>5.0</td>\n      <td>-</td>\n      <td>NaN</td>\n      <td>-</td>\n      <td>-</td>\n      <td>Ke</td>\n      <td>KADIKOY- (AYDIN) [South West  2.6 km]</td>\n    </tr>\n    <tr>\n      <th>...</th>\n      <td>...</td>\n      <td>...</td>\n      <td>...</td>\n      <td>...</td>\n      <td>...</td>\n      <td>...</td>\n      <td>...</td>\n      <td>...</td>\n      <td>...</td>\n      <td>...</td>\n      <td>...</td>\n      <td>...</td>\n      <td>...</td>\n    </tr>\n    <tr>\n      <th>64134</th>\n      <td>20240428211453</td>\n      <td>2024-04-28 21:14:53</td>\n      <td>38.5330</td>\n      <td>38.0423</td>\n      <td>5.4</td>\n      <td>3.9</td>\n      <td>-</td>\n      <td>3.8</td>\n      <td>3.9</td>\n      <td>-</td>\n      <td>-</td>\n      <td>Ke</td>\n      <td>CIVRIL-YAZIHAN (MALATYA) [South 3.0 km]</td>\n    </tr>\n    <tr>\n      <th>64135</th>\n      <td>20240428213328</td>\n      <td>2024-04-28 21:33:28</td>\n      <td>37.0177</td>\n      <td>29.7712</td>\n      <td>6.2</td>\n      <td>4.0</td>\n      <td>-</td>\n      <td>4.0</td>\n      <td>3.9</td>\n      <td>-</td>\n      <td>-</td>\n      <td>Ke</td>\n      <td>YAZIR-CAVDIR (BURDUR) [South East  2.5 km]</td>\n    </tr>\n    <tr>\n      <th>64136</th>\n      <td>20240429220835</td>\n      <td>2024-04-29 22:08:35</td>\n      <td>38.3103</td>\n      <td>38.2865</td>\n      <td>5.0</td>\n      <td>3.2</td>\n      <td>-</td>\n      <td>3.2</td>\n      <td>3.0</td>\n      <td>-</td>\n      <td>-</td>\n      <td>Ke</td>\n      <td>BOSTANBASI-YESILYURT (MALATYA) [East 3.1 km]</td>\n    </tr>\n    <tr>\n      <th>64137</th>\n      <td>20240430080325</td>\n      <td>2024-04-30 08:03:25</td>\n      <td>38.2458</td>\n      <td>31.5638</td>\n      <td>5.0</td>\n      <td>3.6</td>\n      <td>-</td>\n      <td>3.5</td>\n      <td>3.6</td>\n      <td>-</td>\n      <td>-</td>\n      <td>Ke</td>\n      <td>YAYLABELEN-AKSEHIR (KONYA) [North East  2.6 km]</td>\n    </tr>\n    <tr>\n      <th>64138</th>\n      <td>20240430232712</td>\n      <td>2024-04-30 23:27:12</td>\n      <td>35.3570</td>\n      <td>32.5048</td>\n      <td>47.2</td>\n      <td>3.6</td>\n      <td>-</td>\n      <td>3.6</td>\n      <td>3.4</td>\n      <td>-</td>\n      <td>-</td>\n      <td>Ke</td>\n      <td>AKDENIZ</td>\n    </tr>\n  </tbody>\n</table>\n<p>64139 rows × 13 columns</p>\n</div>"
     },
     "execution_count": 1,
     "metadata": {},
     "output_type": "execute_result"
    }
   ],
   "source": [
    "import pandas as pd\n",
    "df = pd.read_csv(\"../../data/processed/processed_data_turkey_1900_2024_datetime.csv\")\n",
    "df['Datetime'] = pd.to_datetime(df['Datetime'], format=\"%d/%m/%Y %H:%M:%S\")\n",
    "df"
   ],
   "metadata": {
    "collapsed": false,
    "ExecuteTime": {
     "end_time": "2024-09-03T23:50:17.875692100Z",
     "start_time": "2024-09-03T23:50:17.245440500Z"
    }
   },
   "id": "43b879febe717d34"
  },
  {
   "cell_type": "code",
   "execution_count": 2,
   "outputs": [
    {
     "data": {
      "text/plain": "             Event ID            Datetime  Latitude  Longitude  Depth(km)  \\\n7      19030428234600 1903-04-28 23:46:00   39.1000    42.5000       30.0   \n17     19040811060800 1904-08-11 06:08:00   37.7000    26.9000        6.0   \n19     19040818200700 1904-08-18 20:07:00   38.0000    27.0000       30.0   \n27     19051204070400 1905-12-04 07:04:00   39.0000    39.0000       30.0   \n30     19060928055000 1906-09-28 05:50:00   40.5000    42.7000       30.0   \n...               ...                 ...       ...        ...        ...   \n59547  20230206120212 2023-02-06 12:02:12   38.0243    36.5085        5.0   \n59837  20230206011732 2023-02-06 01:17:32   37.1757    37.0850        5.5   \n59840  20230206012817 2023-02-06 01:28:17   37.2127    36.7770        5.0   \n59954  20230206102447 2023-02-06 10:24:47   38.0818    37.1773        5.0   \n61599  20230220170428 2023-02-20 17:04:28   36.0487    36.1132       20.2   \n\n        xM   MD   ML   Mw   Ms   Mb Type  \\\n7      6.3  6.0  6.0  6.2  6.3  5.9   Ke   \n17     6.2  5.9  5.9  6.1  6.2  5.9   Ke   \n19     6.0  5.8  5.7  6.0  6.0  5.7   Ke   \n27     6.8  6.4  6.3  6.5  6.8  6.3   Ke   \n30     6.2  5.9  5.9  6.1  6.2  5.9   Ke   \n...    ...  ...  ...  ...  ...  ...  ...   \n59547  6.0    -  6.0  6.0    -    -   Ke   \n59837  7.7    -  7.5  7.7    -    -   Ke   \n59840  6.6    -  6.6    -    -    -   Ke   \n59954  7.6    -  7.4  7.6    -    -   Ke   \n61599  6.4    -  6.4  6.4    -    -   Ke   \n\n                                                Location  \n7              HASRETPINAR-MALAZGIRT (MUS) [East 4.3 km]  \n17                              SISAM ADASI (EGE DENIZI)  \n19                         KUSADASI KÖRFEZI (EGE DENIZI)  \n27     PAYAMDUZU-CEMISGEZEK (TUNCELI) [North East  2....  \n30             KAMISLI-SELIM (KARS) [South East  1.3 km]  \n...                                                  ...  \n59547        GOKSUN (KAHRAMANMARAS) [North East  1.3 km]  \n59837  YAMACOBA-SEHITKAMIL (GAZIANTEP) [North West  0...  \n59840  BELPINAR-NURDAGI (GAZIANTEP) [South East  1.3 km]  \n59954       EKINOZU (KAHRAMANMARAS) [North West  2.7 km]  \n61599              DAGDUZU- (HATAY) [South East  2.5 km]  \n\n[121 rows x 13 columns]",
      "text/html": "<div>\n<style scoped>\n    .dataframe tbody tr th:only-of-type {\n        vertical-align: middle;\n    }\n\n    .dataframe tbody tr th {\n        vertical-align: top;\n    }\n\n    .dataframe thead th {\n        text-align: right;\n    }\n</style>\n<table border=\"1\" class=\"dataframe\">\n  <thead>\n    <tr style=\"text-align: right;\">\n      <th></th>\n      <th>Event ID</th>\n      <th>Datetime</th>\n      <th>Latitude</th>\n      <th>Longitude</th>\n      <th>Depth(km)</th>\n      <th>xM</th>\n      <th>MD</th>\n      <th>ML</th>\n      <th>Mw</th>\n      <th>Ms</th>\n      <th>Mb</th>\n      <th>Type</th>\n      <th>Location</th>\n    </tr>\n  </thead>\n  <tbody>\n    <tr>\n      <th>7</th>\n      <td>19030428234600</td>\n      <td>1903-04-28 23:46:00</td>\n      <td>39.1000</td>\n      <td>42.5000</td>\n      <td>30.0</td>\n      <td>6.3</td>\n      <td>6.0</td>\n      <td>6.0</td>\n      <td>6.2</td>\n      <td>6.3</td>\n      <td>5.9</td>\n      <td>Ke</td>\n      <td>HASRETPINAR-MALAZGIRT (MUS) [East 4.3 km]</td>\n    </tr>\n    <tr>\n      <th>17</th>\n      <td>19040811060800</td>\n      <td>1904-08-11 06:08:00</td>\n      <td>37.7000</td>\n      <td>26.9000</td>\n      <td>6.0</td>\n      <td>6.2</td>\n      <td>5.9</td>\n      <td>5.9</td>\n      <td>6.1</td>\n      <td>6.2</td>\n      <td>5.9</td>\n      <td>Ke</td>\n      <td>SISAM ADASI (EGE DENIZI)</td>\n    </tr>\n    <tr>\n      <th>19</th>\n      <td>19040818200700</td>\n      <td>1904-08-18 20:07:00</td>\n      <td>38.0000</td>\n      <td>27.0000</td>\n      <td>30.0</td>\n      <td>6.0</td>\n      <td>5.8</td>\n      <td>5.7</td>\n      <td>6.0</td>\n      <td>6.0</td>\n      <td>5.7</td>\n      <td>Ke</td>\n      <td>KUSADASI KÖRFEZI (EGE DENIZI)</td>\n    </tr>\n    <tr>\n      <th>27</th>\n      <td>19051204070400</td>\n      <td>1905-12-04 07:04:00</td>\n      <td>39.0000</td>\n      <td>39.0000</td>\n      <td>30.0</td>\n      <td>6.8</td>\n      <td>6.4</td>\n      <td>6.3</td>\n      <td>6.5</td>\n      <td>6.8</td>\n      <td>6.3</td>\n      <td>Ke</td>\n      <td>PAYAMDUZU-CEMISGEZEK (TUNCELI) [North East  2....</td>\n    </tr>\n    <tr>\n      <th>30</th>\n      <td>19060928055000</td>\n      <td>1906-09-28 05:50:00</td>\n      <td>40.5000</td>\n      <td>42.7000</td>\n      <td>30.0</td>\n      <td>6.2</td>\n      <td>5.9</td>\n      <td>5.9</td>\n      <td>6.1</td>\n      <td>6.2</td>\n      <td>5.9</td>\n      <td>Ke</td>\n      <td>KAMISLI-SELIM (KARS) [South East  1.3 km]</td>\n    </tr>\n    <tr>\n      <th>...</th>\n      <td>...</td>\n      <td>...</td>\n      <td>...</td>\n      <td>...</td>\n      <td>...</td>\n      <td>...</td>\n      <td>...</td>\n      <td>...</td>\n      <td>...</td>\n      <td>...</td>\n      <td>...</td>\n      <td>...</td>\n      <td>...</td>\n    </tr>\n    <tr>\n      <th>59547</th>\n      <td>20230206120212</td>\n      <td>2023-02-06 12:02:12</td>\n      <td>38.0243</td>\n      <td>36.5085</td>\n      <td>5.0</td>\n      <td>6.0</td>\n      <td>-</td>\n      <td>6.0</td>\n      <td>6.0</td>\n      <td>-</td>\n      <td>-</td>\n      <td>Ke</td>\n      <td>GOKSUN (KAHRAMANMARAS) [North East  1.3 km]</td>\n    </tr>\n    <tr>\n      <th>59837</th>\n      <td>20230206011732</td>\n      <td>2023-02-06 01:17:32</td>\n      <td>37.1757</td>\n      <td>37.0850</td>\n      <td>5.5</td>\n      <td>7.7</td>\n      <td>-</td>\n      <td>7.5</td>\n      <td>7.7</td>\n      <td>-</td>\n      <td>-</td>\n      <td>Ke</td>\n      <td>YAMACOBA-SEHITKAMIL (GAZIANTEP) [North West  0...</td>\n    </tr>\n    <tr>\n      <th>59840</th>\n      <td>20230206012817</td>\n      <td>2023-02-06 01:28:17</td>\n      <td>37.2127</td>\n      <td>36.7770</td>\n      <td>5.0</td>\n      <td>6.6</td>\n      <td>-</td>\n      <td>6.6</td>\n      <td>-</td>\n      <td>-</td>\n      <td>-</td>\n      <td>Ke</td>\n      <td>BELPINAR-NURDAGI (GAZIANTEP) [South East  1.3 km]</td>\n    </tr>\n    <tr>\n      <th>59954</th>\n      <td>20230206102447</td>\n      <td>2023-02-06 10:24:47</td>\n      <td>38.0818</td>\n      <td>37.1773</td>\n      <td>5.0</td>\n      <td>7.6</td>\n      <td>-</td>\n      <td>7.4</td>\n      <td>7.6</td>\n      <td>-</td>\n      <td>-</td>\n      <td>Ke</td>\n      <td>EKINOZU (KAHRAMANMARAS) [North West  2.7 km]</td>\n    </tr>\n    <tr>\n      <th>61599</th>\n      <td>20230220170428</td>\n      <td>2023-02-20 17:04:28</td>\n      <td>36.0487</td>\n      <td>36.1132</td>\n      <td>20.2</td>\n      <td>6.4</td>\n      <td>-</td>\n      <td>6.4</td>\n      <td>6.4</td>\n      <td>-</td>\n      <td>-</td>\n      <td>Ke</td>\n      <td>DAGDUZU- (HATAY) [South East  2.5 km]</td>\n    </tr>\n  </tbody>\n</table>\n<p>121 rows × 13 columns</p>\n</div>"
     },
     "execution_count": 2,
     "metadata": {},
     "output_type": "execute_result"
    }
   ],
   "source": [
    "from src.util import earthquake_filter_utils\n",
    "\n",
    "df_mag_6 = earthquake_filter_utils.magnitude_filter(df, 6)\n",
    "df_mag_6"
   ],
   "metadata": {
    "collapsed": false,
    "ExecuteTime": {
     "end_time": "2024-09-03T23:50:17.897669100Z",
     "start_time": "2024-09-03T23:50:17.877194900Z"
    }
   },
   "id": "ab1109e99941040e"
  },
  {
   "cell_type": "code",
   "execution_count": 3,
   "outputs": [
    {
     "data": {
      "text/plain": "          Event ID            Datetime  Latitude  Longitude  Depth(km)   xM  \\\n0   20111205084255 2011-12-05 08:42:55   38.8428    26.3172       10.6  3.7   \n1   20111205195326 2011-12-05 19:53:26   38.8525    26.3575        6.4  3.1   \n2   20111206140834 2011-12-06 14:08:34   38.8542    26.2388        6.5  3.1   \n3   20111209195439 2011-12-09 19:54:39   38.8555    26.3382       13.7  3.4   \n4   20111221115110 2011-12-21 11:51:10   38.8582    26.3242       15.1  3.0   \n5   20120623094301 2012-06-23 09:43:01   38.8380    26.3743       14.7  3.1   \n6   20120801090755 2012-08-01 09:07:55   38.8838    26.2305       13.4  3.0   \n7   20121004134406 2012-10-04 13:44:06   38.8525    26.3992        6.5  3.2   \n8   20141206014506 2014-12-06 01:45:06   38.8917    26.2603       13.7  5.2   \n9   20141206014853 2014-12-06 01:48:53   38.9037    26.2583       12.3  3.4   \n10  20141206015347 2014-12-06 01:53:47   38.9090    26.2815        7.5  3.0   \n11  20141206024334 2014-12-06 02:43:34   38.8947    26.2800       12.7  3.7   \n12  20141206062053 2014-12-06 06:20:53   38.8912    26.2602       15.2  5.0   \n13  20141206070123 2014-12-06 07:01:23   38.8805    26.2887        9.5  3.2   \n14  20141206083646 2014-12-06 08:36:46   38.8937    26.2372       13.5  4.0   \n15  20141206113833 2014-12-06 11:38:33   38.8997    26.2812        7.3  3.0   \n16  20141206130810 2014-12-06 13:08:10   38.8852    26.2658       14.2  3.6   \n17  20141206221908 2014-12-06 22:19:08   38.9180    26.2635        9.8  3.4   \n18  20141207033640 2014-12-07 03:36:40   38.9210    26.2887        6.3  3.4   \n19  20141208223547 2014-12-08 22:35:47   38.8993    26.2952        7.3  3.3   \n20  20141209001845 2014-12-09 00:18:45   38.9012    26.2965        7.8  3.6   \n21  20141212155903 2014-12-12 15:59:03   38.9037    26.2675       10.0  3.1   \n22  20141212193202 2014-12-12 19:32:02   38.9040    26.2752       12.6  3.1   \n23  20141222010725 2014-12-22 01:07:25   38.9062    26.2942        5.4  3.5   \n24  20141229080622 2014-12-29 08:06:22   38.8912    26.2825       11.6  4.6   \n25  20141229090436 2014-12-29 09:04:36   38.8760    26.3197       10.0  3.1   \n26  20141229101738 2014-12-29 10:17:38   38.8902    26.3845        8.8  3.1   \n27  20150107025940 2015-01-07 02:59:40   38.9043    26.2513        9.2  3.3   \n28  20150910081245 2015-09-10 08:12:45   38.8395    26.2778       15.4  4.9   \n29  20160417214330 2016-04-17 21:43:30   38.8553    26.4320        8.1  3.0   \n30  20170612122837 2017-06-12 12:28:37   38.8468    26.3252       14.4  6.3   \n\n   MD   ML   Mw Ms Mb Type    Location  \n0   -  3.7  NaN  -  -   Ke  EGE DENIZI  \n1   -  3.1  NaN  -  -   Ke  EGE DENIZI  \n2   -  3.1  NaN  -  -   Ke  EGE DENIZI  \n3   -  3.4  NaN  -  -   Ke  EGE DENIZI  \n4   -  3.0  NaN  -  -   Ke  EGE DENIZI  \n5   -  3.1  NaN  -  -   Ke  EGE DENiZi  \n6   -  3.0  NaN  -  -   Ke  EGE DENIZI  \n7   -  3.2  NaN  -  -   Ke  EGE DENiZi  \n8   -  5.2  5.1  -  -   Ke  EGE DENIZI  \n9   -  3.4  NaN  -  -   Ke  EGE DENIZI  \n10  -  3.0  NaN  -  -   Ke  EGE DENIZI  \n11  -  3.7  NaN  -  -   Ke  EGE DENIZI  \n12  -  5.0  4.9  -  -   Ke  EGE DENIZI  \n13  -  3.2  NaN  -  -   Ke  EGE DENIZI  \n14  -  4.0  4.0  -  -   Ke  EGE DENIZI  \n15  -  3.0  NaN  -  -   Ke  EGE DENIZI  \n16  -  3.6  NaN  -  -   Ke  EGE DENIZI  \n17  -  3.4  NaN  -  -   Ke  EGE DENIZI  \n18  -  3.4  NaN  -  -   Ke  EGE DENIZI  \n19  -  3.3  NaN  -  -   Ke  EGE DENIZI  \n20  -  3.6  NaN  -  -   Ke  EGE DENIZI  \n21  -  3.1  NaN  -  -   Ke  EGE DENIZI  \n22  -  3.1  NaN  -  -   Ke  EGE DENIZI  \n23  -  3.5  NaN  -  -   Ke  EGE DENIZI  \n24  -  4.5  4.6  -  -   Ke  EGE DENIZI  \n25  -  3.1  NaN  -  -   Ke  EGE DENIZI  \n26  -  3.1  NaN  -  -   Ke  EGE DENIZI  \n27  -  3.3  NaN  -  -   Ke  EGE DENIZI  \n28  -  4.9  4.7  -  -   Ke  EGE DENIZI  \n29  -  3.0    -  -  -   Ke  EGE DENIZI  \n30  -  6.3  6.1  -  -   Ke  EGE DENIZI  ",
      "text/html": "<div>\n<style scoped>\n    .dataframe tbody tr th:only-of-type {\n        vertical-align: middle;\n    }\n\n    .dataframe tbody tr th {\n        vertical-align: top;\n    }\n\n    .dataframe thead th {\n        text-align: right;\n    }\n</style>\n<table border=\"1\" class=\"dataframe\">\n  <thead>\n    <tr style=\"text-align: right;\">\n      <th></th>\n      <th>Event ID</th>\n      <th>Datetime</th>\n      <th>Latitude</th>\n      <th>Longitude</th>\n      <th>Depth(km)</th>\n      <th>xM</th>\n      <th>MD</th>\n      <th>ML</th>\n      <th>Mw</th>\n      <th>Ms</th>\n      <th>Mb</th>\n      <th>Type</th>\n      <th>Location</th>\n    </tr>\n  </thead>\n  <tbody>\n    <tr>\n      <th>0</th>\n      <td>20111205084255</td>\n      <td>2011-12-05 08:42:55</td>\n      <td>38.8428</td>\n      <td>26.3172</td>\n      <td>10.6</td>\n      <td>3.7</td>\n      <td>-</td>\n      <td>3.7</td>\n      <td>NaN</td>\n      <td>-</td>\n      <td>-</td>\n      <td>Ke</td>\n      <td>EGE DENIZI</td>\n    </tr>\n    <tr>\n      <th>1</th>\n      <td>20111205195326</td>\n      <td>2011-12-05 19:53:26</td>\n      <td>38.8525</td>\n      <td>26.3575</td>\n      <td>6.4</td>\n      <td>3.1</td>\n      <td>-</td>\n      <td>3.1</td>\n      <td>NaN</td>\n      <td>-</td>\n      <td>-</td>\n      <td>Ke</td>\n      <td>EGE DENIZI</td>\n    </tr>\n    <tr>\n      <th>2</th>\n      <td>20111206140834</td>\n      <td>2011-12-06 14:08:34</td>\n      <td>38.8542</td>\n      <td>26.2388</td>\n      <td>6.5</td>\n      <td>3.1</td>\n      <td>-</td>\n      <td>3.1</td>\n      <td>NaN</td>\n      <td>-</td>\n      <td>-</td>\n      <td>Ke</td>\n      <td>EGE DENIZI</td>\n    </tr>\n    <tr>\n      <th>3</th>\n      <td>20111209195439</td>\n      <td>2011-12-09 19:54:39</td>\n      <td>38.8555</td>\n      <td>26.3382</td>\n      <td>13.7</td>\n      <td>3.4</td>\n      <td>-</td>\n      <td>3.4</td>\n      <td>NaN</td>\n      <td>-</td>\n      <td>-</td>\n      <td>Ke</td>\n      <td>EGE DENIZI</td>\n    </tr>\n    <tr>\n      <th>4</th>\n      <td>20111221115110</td>\n      <td>2011-12-21 11:51:10</td>\n      <td>38.8582</td>\n      <td>26.3242</td>\n      <td>15.1</td>\n      <td>3.0</td>\n      <td>-</td>\n      <td>3.0</td>\n      <td>NaN</td>\n      <td>-</td>\n      <td>-</td>\n      <td>Ke</td>\n      <td>EGE DENIZI</td>\n    </tr>\n    <tr>\n      <th>5</th>\n      <td>20120623094301</td>\n      <td>2012-06-23 09:43:01</td>\n      <td>38.8380</td>\n      <td>26.3743</td>\n      <td>14.7</td>\n      <td>3.1</td>\n      <td>-</td>\n      <td>3.1</td>\n      <td>NaN</td>\n      <td>-</td>\n      <td>-</td>\n      <td>Ke</td>\n      <td>EGE DENiZi</td>\n    </tr>\n    <tr>\n      <th>6</th>\n      <td>20120801090755</td>\n      <td>2012-08-01 09:07:55</td>\n      <td>38.8838</td>\n      <td>26.2305</td>\n      <td>13.4</td>\n      <td>3.0</td>\n      <td>-</td>\n      <td>3.0</td>\n      <td>NaN</td>\n      <td>-</td>\n      <td>-</td>\n      <td>Ke</td>\n      <td>EGE DENIZI</td>\n    </tr>\n    <tr>\n      <th>7</th>\n      <td>20121004134406</td>\n      <td>2012-10-04 13:44:06</td>\n      <td>38.8525</td>\n      <td>26.3992</td>\n      <td>6.5</td>\n      <td>3.2</td>\n      <td>-</td>\n      <td>3.2</td>\n      <td>NaN</td>\n      <td>-</td>\n      <td>-</td>\n      <td>Ke</td>\n      <td>EGE DENiZi</td>\n    </tr>\n    <tr>\n      <th>8</th>\n      <td>20141206014506</td>\n      <td>2014-12-06 01:45:06</td>\n      <td>38.8917</td>\n      <td>26.2603</td>\n      <td>13.7</td>\n      <td>5.2</td>\n      <td>-</td>\n      <td>5.2</td>\n      <td>5.1</td>\n      <td>-</td>\n      <td>-</td>\n      <td>Ke</td>\n      <td>EGE DENIZI</td>\n    </tr>\n    <tr>\n      <th>9</th>\n      <td>20141206014853</td>\n      <td>2014-12-06 01:48:53</td>\n      <td>38.9037</td>\n      <td>26.2583</td>\n      <td>12.3</td>\n      <td>3.4</td>\n      <td>-</td>\n      <td>3.4</td>\n      <td>NaN</td>\n      <td>-</td>\n      <td>-</td>\n      <td>Ke</td>\n      <td>EGE DENIZI</td>\n    </tr>\n    <tr>\n      <th>10</th>\n      <td>20141206015347</td>\n      <td>2014-12-06 01:53:47</td>\n      <td>38.9090</td>\n      <td>26.2815</td>\n      <td>7.5</td>\n      <td>3.0</td>\n      <td>-</td>\n      <td>3.0</td>\n      <td>NaN</td>\n      <td>-</td>\n      <td>-</td>\n      <td>Ke</td>\n      <td>EGE DENIZI</td>\n    </tr>\n    <tr>\n      <th>11</th>\n      <td>20141206024334</td>\n      <td>2014-12-06 02:43:34</td>\n      <td>38.8947</td>\n      <td>26.2800</td>\n      <td>12.7</td>\n      <td>3.7</td>\n      <td>-</td>\n      <td>3.7</td>\n      <td>NaN</td>\n      <td>-</td>\n      <td>-</td>\n      <td>Ke</td>\n      <td>EGE DENIZI</td>\n    </tr>\n    <tr>\n      <th>12</th>\n      <td>20141206062053</td>\n      <td>2014-12-06 06:20:53</td>\n      <td>38.8912</td>\n      <td>26.2602</td>\n      <td>15.2</td>\n      <td>5.0</td>\n      <td>-</td>\n      <td>5.0</td>\n      <td>4.9</td>\n      <td>-</td>\n      <td>-</td>\n      <td>Ke</td>\n      <td>EGE DENIZI</td>\n    </tr>\n    <tr>\n      <th>13</th>\n      <td>20141206070123</td>\n      <td>2014-12-06 07:01:23</td>\n      <td>38.8805</td>\n      <td>26.2887</td>\n      <td>9.5</td>\n      <td>3.2</td>\n      <td>-</td>\n      <td>3.2</td>\n      <td>NaN</td>\n      <td>-</td>\n      <td>-</td>\n      <td>Ke</td>\n      <td>EGE DENIZI</td>\n    </tr>\n    <tr>\n      <th>14</th>\n      <td>20141206083646</td>\n      <td>2014-12-06 08:36:46</td>\n      <td>38.8937</td>\n      <td>26.2372</td>\n      <td>13.5</td>\n      <td>4.0</td>\n      <td>-</td>\n      <td>4.0</td>\n      <td>4.0</td>\n      <td>-</td>\n      <td>-</td>\n      <td>Ke</td>\n      <td>EGE DENIZI</td>\n    </tr>\n    <tr>\n      <th>15</th>\n      <td>20141206113833</td>\n      <td>2014-12-06 11:38:33</td>\n      <td>38.8997</td>\n      <td>26.2812</td>\n      <td>7.3</td>\n      <td>3.0</td>\n      <td>-</td>\n      <td>3.0</td>\n      <td>NaN</td>\n      <td>-</td>\n      <td>-</td>\n      <td>Ke</td>\n      <td>EGE DENIZI</td>\n    </tr>\n    <tr>\n      <th>16</th>\n      <td>20141206130810</td>\n      <td>2014-12-06 13:08:10</td>\n      <td>38.8852</td>\n      <td>26.2658</td>\n      <td>14.2</td>\n      <td>3.6</td>\n      <td>-</td>\n      <td>3.6</td>\n      <td>NaN</td>\n      <td>-</td>\n      <td>-</td>\n      <td>Ke</td>\n      <td>EGE DENIZI</td>\n    </tr>\n    <tr>\n      <th>17</th>\n      <td>20141206221908</td>\n      <td>2014-12-06 22:19:08</td>\n      <td>38.9180</td>\n      <td>26.2635</td>\n      <td>9.8</td>\n      <td>3.4</td>\n      <td>-</td>\n      <td>3.4</td>\n      <td>NaN</td>\n      <td>-</td>\n      <td>-</td>\n      <td>Ke</td>\n      <td>EGE DENIZI</td>\n    </tr>\n    <tr>\n      <th>18</th>\n      <td>20141207033640</td>\n      <td>2014-12-07 03:36:40</td>\n      <td>38.9210</td>\n      <td>26.2887</td>\n      <td>6.3</td>\n      <td>3.4</td>\n      <td>-</td>\n      <td>3.4</td>\n      <td>NaN</td>\n      <td>-</td>\n      <td>-</td>\n      <td>Ke</td>\n      <td>EGE DENIZI</td>\n    </tr>\n    <tr>\n      <th>19</th>\n      <td>20141208223547</td>\n      <td>2014-12-08 22:35:47</td>\n      <td>38.8993</td>\n      <td>26.2952</td>\n      <td>7.3</td>\n      <td>3.3</td>\n      <td>-</td>\n      <td>3.3</td>\n      <td>NaN</td>\n      <td>-</td>\n      <td>-</td>\n      <td>Ke</td>\n      <td>EGE DENIZI</td>\n    </tr>\n    <tr>\n      <th>20</th>\n      <td>20141209001845</td>\n      <td>2014-12-09 00:18:45</td>\n      <td>38.9012</td>\n      <td>26.2965</td>\n      <td>7.8</td>\n      <td>3.6</td>\n      <td>-</td>\n      <td>3.6</td>\n      <td>NaN</td>\n      <td>-</td>\n      <td>-</td>\n      <td>Ke</td>\n      <td>EGE DENIZI</td>\n    </tr>\n    <tr>\n      <th>21</th>\n      <td>20141212155903</td>\n      <td>2014-12-12 15:59:03</td>\n      <td>38.9037</td>\n      <td>26.2675</td>\n      <td>10.0</td>\n      <td>3.1</td>\n      <td>-</td>\n      <td>3.1</td>\n      <td>NaN</td>\n      <td>-</td>\n      <td>-</td>\n      <td>Ke</td>\n      <td>EGE DENIZI</td>\n    </tr>\n    <tr>\n      <th>22</th>\n      <td>20141212193202</td>\n      <td>2014-12-12 19:32:02</td>\n      <td>38.9040</td>\n      <td>26.2752</td>\n      <td>12.6</td>\n      <td>3.1</td>\n      <td>-</td>\n      <td>3.1</td>\n      <td>NaN</td>\n      <td>-</td>\n      <td>-</td>\n      <td>Ke</td>\n      <td>EGE DENIZI</td>\n    </tr>\n    <tr>\n      <th>23</th>\n      <td>20141222010725</td>\n      <td>2014-12-22 01:07:25</td>\n      <td>38.9062</td>\n      <td>26.2942</td>\n      <td>5.4</td>\n      <td>3.5</td>\n      <td>-</td>\n      <td>3.5</td>\n      <td>NaN</td>\n      <td>-</td>\n      <td>-</td>\n      <td>Ke</td>\n      <td>EGE DENIZI</td>\n    </tr>\n    <tr>\n      <th>24</th>\n      <td>20141229080622</td>\n      <td>2014-12-29 08:06:22</td>\n      <td>38.8912</td>\n      <td>26.2825</td>\n      <td>11.6</td>\n      <td>4.6</td>\n      <td>-</td>\n      <td>4.5</td>\n      <td>4.6</td>\n      <td>-</td>\n      <td>-</td>\n      <td>Ke</td>\n      <td>EGE DENIZI</td>\n    </tr>\n    <tr>\n      <th>25</th>\n      <td>20141229090436</td>\n      <td>2014-12-29 09:04:36</td>\n      <td>38.8760</td>\n      <td>26.3197</td>\n      <td>10.0</td>\n      <td>3.1</td>\n      <td>-</td>\n      <td>3.1</td>\n      <td>NaN</td>\n      <td>-</td>\n      <td>-</td>\n      <td>Ke</td>\n      <td>EGE DENIZI</td>\n    </tr>\n    <tr>\n      <th>26</th>\n      <td>20141229101738</td>\n      <td>2014-12-29 10:17:38</td>\n      <td>38.8902</td>\n      <td>26.3845</td>\n      <td>8.8</td>\n      <td>3.1</td>\n      <td>-</td>\n      <td>3.1</td>\n      <td>NaN</td>\n      <td>-</td>\n      <td>-</td>\n      <td>Ke</td>\n      <td>EGE DENIZI</td>\n    </tr>\n    <tr>\n      <th>27</th>\n      <td>20150107025940</td>\n      <td>2015-01-07 02:59:40</td>\n      <td>38.9043</td>\n      <td>26.2513</td>\n      <td>9.2</td>\n      <td>3.3</td>\n      <td>-</td>\n      <td>3.3</td>\n      <td>NaN</td>\n      <td>-</td>\n      <td>-</td>\n      <td>Ke</td>\n      <td>EGE DENIZI</td>\n    </tr>\n    <tr>\n      <th>28</th>\n      <td>20150910081245</td>\n      <td>2015-09-10 08:12:45</td>\n      <td>38.8395</td>\n      <td>26.2778</td>\n      <td>15.4</td>\n      <td>4.9</td>\n      <td>-</td>\n      <td>4.9</td>\n      <td>4.7</td>\n      <td>-</td>\n      <td>-</td>\n      <td>Ke</td>\n      <td>EGE DENIZI</td>\n    </tr>\n    <tr>\n      <th>29</th>\n      <td>20160417214330</td>\n      <td>2016-04-17 21:43:30</td>\n      <td>38.8553</td>\n      <td>26.4320</td>\n      <td>8.1</td>\n      <td>3.0</td>\n      <td>-</td>\n      <td>3.0</td>\n      <td>-</td>\n      <td>-</td>\n      <td>-</td>\n      <td>Ke</td>\n      <td>EGE DENIZI</td>\n    </tr>\n    <tr>\n      <th>30</th>\n      <td>20170612122837</td>\n      <td>2017-06-12 12:28:37</td>\n      <td>38.8468</td>\n      <td>26.3252</td>\n      <td>14.4</td>\n      <td>6.3</td>\n      <td>-</td>\n      <td>6.3</td>\n      <td>6.1</td>\n      <td>-</td>\n      <td>-</td>\n      <td>Ke</td>\n      <td>EGE DENIZI</td>\n    </tr>\n  </tbody>\n</table>\n</div>"
     },
     "execution_count": 3,
     "metadata": {},
     "output_type": "execute_result"
    }
   ],
   "source": [
    "filtered_df = earthquake_filter_utils.distance_filter(df, 20170612122837)\n",
    "filtered_df = earthquake_filter_utils.time_filter(filtered_df, 20170612122837, 30)\n",
    "filtered_df = earthquake_filter_utils.past_earthquakes_filter(filtered_df, 20170612122837, 30)\n",
    "filtered_df"
   ],
   "metadata": {
    "collapsed": false,
    "ExecuteTime": {
     "end_time": "2024-09-03T23:50:18.966652900Z",
     "start_time": "2024-09-03T23:50:17.897669100Z"
    }
   },
   "id": "bff5331009556b16"
  },
  {
   "cell_type": "code",
   "execution_count": 4,
   "outputs": [],
   "source": [
    "def filter_earthquakes(df, event_id, radius=10, past_years=30, num_earthquakes=30):\n",
    "    filtered_df = earthquake_filter_utils.distance_filter(df, event_id, radius)\n",
    "    filtered_df = earthquake_filter_utils.time_filter(filtered_df, event_id, past_years)\n",
    "    filtered_df = earthquake_filter_utils.past_earthquakes_filter(filtered_df, event_id, num_earthquakes)\n",
    "    return filtered_df.iloc[:-1], filtered_df.iloc[-1]"
   ],
   "metadata": {
    "collapsed": false,
    "ExecuteTime": {
     "end_time": "2024-09-03T23:50:18.968161300Z",
     "start_time": "2024-09-03T23:50:18.964918Z"
    }
   },
   "id": "fea81dde725abcdc"
  },
  {
   "cell_type": "code",
   "execution_count": 5,
   "outputs": [
    {
     "data": {
      "text/plain": "          Event ID            Datetime  Latitude  Longitude  Depth(km)   xM  \\\n0   20111205084255 2011-12-05 08:42:55   38.8428    26.3172       10.6  3.7   \n1   20111205195326 2011-12-05 19:53:26   38.8525    26.3575        6.4  3.1   \n2   20111206140834 2011-12-06 14:08:34   38.8542    26.2388        6.5  3.1   \n3   20111209195439 2011-12-09 19:54:39   38.8555    26.3382       13.7  3.4   \n4   20111221115110 2011-12-21 11:51:10   38.8582    26.3242       15.1  3.0   \n5   20120623094301 2012-06-23 09:43:01   38.8380    26.3743       14.7  3.1   \n6   20120801090755 2012-08-01 09:07:55   38.8838    26.2305       13.4  3.0   \n7   20121004134406 2012-10-04 13:44:06   38.8525    26.3992        6.5  3.2   \n8   20141206014506 2014-12-06 01:45:06   38.8917    26.2603       13.7  5.2   \n9   20141206014853 2014-12-06 01:48:53   38.9037    26.2583       12.3  3.4   \n10  20141206015347 2014-12-06 01:53:47   38.9090    26.2815        7.5  3.0   \n11  20141206024334 2014-12-06 02:43:34   38.8947    26.2800       12.7  3.7   \n12  20141206062053 2014-12-06 06:20:53   38.8912    26.2602       15.2  5.0   \n13  20141206070123 2014-12-06 07:01:23   38.8805    26.2887        9.5  3.2   \n14  20141206083646 2014-12-06 08:36:46   38.8937    26.2372       13.5  4.0   \n15  20141206113833 2014-12-06 11:38:33   38.8997    26.2812        7.3  3.0   \n16  20141206130810 2014-12-06 13:08:10   38.8852    26.2658       14.2  3.6   \n17  20141206221908 2014-12-06 22:19:08   38.9180    26.2635        9.8  3.4   \n18  20141207033640 2014-12-07 03:36:40   38.9210    26.2887        6.3  3.4   \n19  20141208223547 2014-12-08 22:35:47   38.8993    26.2952        7.3  3.3   \n20  20141209001845 2014-12-09 00:18:45   38.9012    26.2965        7.8  3.6   \n21  20141212155903 2014-12-12 15:59:03   38.9037    26.2675       10.0  3.1   \n22  20141212193202 2014-12-12 19:32:02   38.9040    26.2752       12.6  3.1   \n23  20141222010725 2014-12-22 01:07:25   38.9062    26.2942        5.4  3.5   \n24  20141229080622 2014-12-29 08:06:22   38.8912    26.2825       11.6  4.6   \n25  20141229090436 2014-12-29 09:04:36   38.8760    26.3197       10.0  3.1   \n26  20141229101738 2014-12-29 10:17:38   38.8902    26.3845        8.8  3.1   \n27  20150107025940 2015-01-07 02:59:40   38.9043    26.2513        9.2  3.3   \n28  20150910081245 2015-09-10 08:12:45   38.8395    26.2778       15.4  4.9   \n29  20160417214330 2016-04-17 21:43:30   38.8553    26.4320        8.1  3.0   \n\n   MD   ML   Mw Ms Mb Type    Location  \n0   -  3.7  NaN  -  -   Ke  EGE DENIZI  \n1   -  3.1  NaN  -  -   Ke  EGE DENIZI  \n2   -  3.1  NaN  -  -   Ke  EGE DENIZI  \n3   -  3.4  NaN  -  -   Ke  EGE DENIZI  \n4   -  3.0  NaN  -  -   Ke  EGE DENIZI  \n5   -  3.1  NaN  -  -   Ke  EGE DENiZi  \n6   -  3.0  NaN  -  -   Ke  EGE DENIZI  \n7   -  3.2  NaN  -  -   Ke  EGE DENiZi  \n8   -  5.2  5.1  -  -   Ke  EGE DENIZI  \n9   -  3.4  NaN  -  -   Ke  EGE DENIZI  \n10  -  3.0  NaN  -  -   Ke  EGE DENIZI  \n11  -  3.7  NaN  -  -   Ke  EGE DENIZI  \n12  -  5.0  4.9  -  -   Ke  EGE DENIZI  \n13  -  3.2  NaN  -  -   Ke  EGE DENIZI  \n14  -  4.0  4.0  -  -   Ke  EGE DENIZI  \n15  -  3.0  NaN  -  -   Ke  EGE DENIZI  \n16  -  3.6  NaN  -  -   Ke  EGE DENIZI  \n17  -  3.4  NaN  -  -   Ke  EGE DENIZI  \n18  -  3.4  NaN  -  -   Ke  EGE DENIZI  \n19  -  3.3  NaN  -  -   Ke  EGE DENIZI  \n20  -  3.6  NaN  -  -   Ke  EGE DENIZI  \n21  -  3.1  NaN  -  -   Ke  EGE DENIZI  \n22  -  3.1  NaN  -  -   Ke  EGE DENIZI  \n23  -  3.5  NaN  -  -   Ke  EGE DENIZI  \n24  -  4.5  4.6  -  -   Ke  EGE DENIZI  \n25  -  3.1  NaN  -  -   Ke  EGE DENIZI  \n26  -  3.1  NaN  -  -   Ke  EGE DENIZI  \n27  -  3.3  NaN  -  -   Ke  EGE DENIZI  \n28  -  4.9  4.7  -  -   Ke  EGE DENIZI  \n29  -  3.0    -  -  -   Ke  EGE DENIZI  ",
      "text/html": "<div>\n<style scoped>\n    .dataframe tbody tr th:only-of-type {\n        vertical-align: middle;\n    }\n\n    .dataframe tbody tr th {\n        vertical-align: top;\n    }\n\n    .dataframe thead th {\n        text-align: right;\n    }\n</style>\n<table border=\"1\" class=\"dataframe\">\n  <thead>\n    <tr style=\"text-align: right;\">\n      <th></th>\n      <th>Event ID</th>\n      <th>Datetime</th>\n      <th>Latitude</th>\n      <th>Longitude</th>\n      <th>Depth(km)</th>\n      <th>xM</th>\n      <th>MD</th>\n      <th>ML</th>\n      <th>Mw</th>\n      <th>Ms</th>\n      <th>Mb</th>\n      <th>Type</th>\n      <th>Location</th>\n    </tr>\n  </thead>\n  <tbody>\n    <tr>\n      <th>0</th>\n      <td>20111205084255</td>\n      <td>2011-12-05 08:42:55</td>\n      <td>38.8428</td>\n      <td>26.3172</td>\n      <td>10.6</td>\n      <td>3.7</td>\n      <td>-</td>\n      <td>3.7</td>\n      <td>NaN</td>\n      <td>-</td>\n      <td>-</td>\n      <td>Ke</td>\n      <td>EGE DENIZI</td>\n    </tr>\n    <tr>\n      <th>1</th>\n      <td>20111205195326</td>\n      <td>2011-12-05 19:53:26</td>\n      <td>38.8525</td>\n      <td>26.3575</td>\n      <td>6.4</td>\n      <td>3.1</td>\n      <td>-</td>\n      <td>3.1</td>\n      <td>NaN</td>\n      <td>-</td>\n      <td>-</td>\n      <td>Ke</td>\n      <td>EGE DENIZI</td>\n    </tr>\n    <tr>\n      <th>2</th>\n      <td>20111206140834</td>\n      <td>2011-12-06 14:08:34</td>\n      <td>38.8542</td>\n      <td>26.2388</td>\n      <td>6.5</td>\n      <td>3.1</td>\n      <td>-</td>\n      <td>3.1</td>\n      <td>NaN</td>\n      <td>-</td>\n      <td>-</td>\n      <td>Ke</td>\n      <td>EGE DENIZI</td>\n    </tr>\n    <tr>\n      <th>3</th>\n      <td>20111209195439</td>\n      <td>2011-12-09 19:54:39</td>\n      <td>38.8555</td>\n      <td>26.3382</td>\n      <td>13.7</td>\n      <td>3.4</td>\n      <td>-</td>\n      <td>3.4</td>\n      <td>NaN</td>\n      <td>-</td>\n      <td>-</td>\n      <td>Ke</td>\n      <td>EGE DENIZI</td>\n    </tr>\n    <tr>\n      <th>4</th>\n      <td>20111221115110</td>\n      <td>2011-12-21 11:51:10</td>\n      <td>38.8582</td>\n      <td>26.3242</td>\n      <td>15.1</td>\n      <td>3.0</td>\n      <td>-</td>\n      <td>3.0</td>\n      <td>NaN</td>\n      <td>-</td>\n      <td>-</td>\n      <td>Ke</td>\n      <td>EGE DENIZI</td>\n    </tr>\n    <tr>\n      <th>5</th>\n      <td>20120623094301</td>\n      <td>2012-06-23 09:43:01</td>\n      <td>38.8380</td>\n      <td>26.3743</td>\n      <td>14.7</td>\n      <td>3.1</td>\n      <td>-</td>\n      <td>3.1</td>\n      <td>NaN</td>\n      <td>-</td>\n      <td>-</td>\n      <td>Ke</td>\n      <td>EGE DENiZi</td>\n    </tr>\n    <tr>\n      <th>6</th>\n      <td>20120801090755</td>\n      <td>2012-08-01 09:07:55</td>\n      <td>38.8838</td>\n      <td>26.2305</td>\n      <td>13.4</td>\n      <td>3.0</td>\n      <td>-</td>\n      <td>3.0</td>\n      <td>NaN</td>\n      <td>-</td>\n      <td>-</td>\n      <td>Ke</td>\n      <td>EGE DENIZI</td>\n    </tr>\n    <tr>\n      <th>7</th>\n      <td>20121004134406</td>\n      <td>2012-10-04 13:44:06</td>\n      <td>38.8525</td>\n      <td>26.3992</td>\n      <td>6.5</td>\n      <td>3.2</td>\n      <td>-</td>\n      <td>3.2</td>\n      <td>NaN</td>\n      <td>-</td>\n      <td>-</td>\n      <td>Ke</td>\n      <td>EGE DENiZi</td>\n    </tr>\n    <tr>\n      <th>8</th>\n      <td>20141206014506</td>\n      <td>2014-12-06 01:45:06</td>\n      <td>38.8917</td>\n      <td>26.2603</td>\n      <td>13.7</td>\n      <td>5.2</td>\n      <td>-</td>\n      <td>5.2</td>\n      <td>5.1</td>\n      <td>-</td>\n      <td>-</td>\n      <td>Ke</td>\n      <td>EGE DENIZI</td>\n    </tr>\n    <tr>\n      <th>9</th>\n      <td>20141206014853</td>\n      <td>2014-12-06 01:48:53</td>\n      <td>38.9037</td>\n      <td>26.2583</td>\n      <td>12.3</td>\n      <td>3.4</td>\n      <td>-</td>\n      <td>3.4</td>\n      <td>NaN</td>\n      <td>-</td>\n      <td>-</td>\n      <td>Ke</td>\n      <td>EGE DENIZI</td>\n    </tr>\n    <tr>\n      <th>10</th>\n      <td>20141206015347</td>\n      <td>2014-12-06 01:53:47</td>\n      <td>38.9090</td>\n      <td>26.2815</td>\n      <td>7.5</td>\n      <td>3.0</td>\n      <td>-</td>\n      <td>3.0</td>\n      <td>NaN</td>\n      <td>-</td>\n      <td>-</td>\n      <td>Ke</td>\n      <td>EGE DENIZI</td>\n    </tr>\n    <tr>\n      <th>11</th>\n      <td>20141206024334</td>\n      <td>2014-12-06 02:43:34</td>\n      <td>38.8947</td>\n      <td>26.2800</td>\n      <td>12.7</td>\n      <td>3.7</td>\n      <td>-</td>\n      <td>3.7</td>\n      <td>NaN</td>\n      <td>-</td>\n      <td>-</td>\n      <td>Ke</td>\n      <td>EGE DENIZI</td>\n    </tr>\n    <tr>\n      <th>12</th>\n      <td>20141206062053</td>\n      <td>2014-12-06 06:20:53</td>\n      <td>38.8912</td>\n      <td>26.2602</td>\n      <td>15.2</td>\n      <td>5.0</td>\n      <td>-</td>\n      <td>5.0</td>\n      <td>4.9</td>\n      <td>-</td>\n      <td>-</td>\n      <td>Ke</td>\n      <td>EGE DENIZI</td>\n    </tr>\n    <tr>\n      <th>13</th>\n      <td>20141206070123</td>\n      <td>2014-12-06 07:01:23</td>\n      <td>38.8805</td>\n      <td>26.2887</td>\n      <td>9.5</td>\n      <td>3.2</td>\n      <td>-</td>\n      <td>3.2</td>\n      <td>NaN</td>\n      <td>-</td>\n      <td>-</td>\n      <td>Ke</td>\n      <td>EGE DENIZI</td>\n    </tr>\n    <tr>\n      <th>14</th>\n      <td>20141206083646</td>\n      <td>2014-12-06 08:36:46</td>\n      <td>38.8937</td>\n      <td>26.2372</td>\n      <td>13.5</td>\n      <td>4.0</td>\n      <td>-</td>\n      <td>4.0</td>\n      <td>4.0</td>\n      <td>-</td>\n      <td>-</td>\n      <td>Ke</td>\n      <td>EGE DENIZI</td>\n    </tr>\n    <tr>\n      <th>15</th>\n      <td>20141206113833</td>\n      <td>2014-12-06 11:38:33</td>\n      <td>38.8997</td>\n      <td>26.2812</td>\n      <td>7.3</td>\n      <td>3.0</td>\n      <td>-</td>\n      <td>3.0</td>\n      <td>NaN</td>\n      <td>-</td>\n      <td>-</td>\n      <td>Ke</td>\n      <td>EGE DENIZI</td>\n    </tr>\n    <tr>\n      <th>16</th>\n      <td>20141206130810</td>\n      <td>2014-12-06 13:08:10</td>\n      <td>38.8852</td>\n      <td>26.2658</td>\n      <td>14.2</td>\n      <td>3.6</td>\n      <td>-</td>\n      <td>3.6</td>\n      <td>NaN</td>\n      <td>-</td>\n      <td>-</td>\n      <td>Ke</td>\n      <td>EGE DENIZI</td>\n    </tr>\n    <tr>\n      <th>17</th>\n      <td>20141206221908</td>\n      <td>2014-12-06 22:19:08</td>\n      <td>38.9180</td>\n      <td>26.2635</td>\n      <td>9.8</td>\n      <td>3.4</td>\n      <td>-</td>\n      <td>3.4</td>\n      <td>NaN</td>\n      <td>-</td>\n      <td>-</td>\n      <td>Ke</td>\n      <td>EGE DENIZI</td>\n    </tr>\n    <tr>\n      <th>18</th>\n      <td>20141207033640</td>\n      <td>2014-12-07 03:36:40</td>\n      <td>38.9210</td>\n      <td>26.2887</td>\n      <td>6.3</td>\n      <td>3.4</td>\n      <td>-</td>\n      <td>3.4</td>\n      <td>NaN</td>\n      <td>-</td>\n      <td>-</td>\n      <td>Ke</td>\n      <td>EGE DENIZI</td>\n    </tr>\n    <tr>\n      <th>19</th>\n      <td>20141208223547</td>\n      <td>2014-12-08 22:35:47</td>\n      <td>38.8993</td>\n      <td>26.2952</td>\n      <td>7.3</td>\n      <td>3.3</td>\n      <td>-</td>\n      <td>3.3</td>\n      <td>NaN</td>\n      <td>-</td>\n      <td>-</td>\n      <td>Ke</td>\n      <td>EGE DENIZI</td>\n    </tr>\n    <tr>\n      <th>20</th>\n      <td>20141209001845</td>\n      <td>2014-12-09 00:18:45</td>\n      <td>38.9012</td>\n      <td>26.2965</td>\n      <td>7.8</td>\n      <td>3.6</td>\n      <td>-</td>\n      <td>3.6</td>\n      <td>NaN</td>\n      <td>-</td>\n      <td>-</td>\n      <td>Ke</td>\n      <td>EGE DENIZI</td>\n    </tr>\n    <tr>\n      <th>21</th>\n      <td>20141212155903</td>\n      <td>2014-12-12 15:59:03</td>\n      <td>38.9037</td>\n      <td>26.2675</td>\n      <td>10.0</td>\n      <td>3.1</td>\n      <td>-</td>\n      <td>3.1</td>\n      <td>NaN</td>\n      <td>-</td>\n      <td>-</td>\n      <td>Ke</td>\n      <td>EGE DENIZI</td>\n    </tr>\n    <tr>\n      <th>22</th>\n      <td>20141212193202</td>\n      <td>2014-12-12 19:32:02</td>\n      <td>38.9040</td>\n      <td>26.2752</td>\n      <td>12.6</td>\n      <td>3.1</td>\n      <td>-</td>\n      <td>3.1</td>\n      <td>NaN</td>\n      <td>-</td>\n      <td>-</td>\n      <td>Ke</td>\n      <td>EGE DENIZI</td>\n    </tr>\n    <tr>\n      <th>23</th>\n      <td>20141222010725</td>\n      <td>2014-12-22 01:07:25</td>\n      <td>38.9062</td>\n      <td>26.2942</td>\n      <td>5.4</td>\n      <td>3.5</td>\n      <td>-</td>\n      <td>3.5</td>\n      <td>NaN</td>\n      <td>-</td>\n      <td>-</td>\n      <td>Ke</td>\n      <td>EGE DENIZI</td>\n    </tr>\n    <tr>\n      <th>24</th>\n      <td>20141229080622</td>\n      <td>2014-12-29 08:06:22</td>\n      <td>38.8912</td>\n      <td>26.2825</td>\n      <td>11.6</td>\n      <td>4.6</td>\n      <td>-</td>\n      <td>4.5</td>\n      <td>4.6</td>\n      <td>-</td>\n      <td>-</td>\n      <td>Ke</td>\n      <td>EGE DENIZI</td>\n    </tr>\n    <tr>\n      <th>25</th>\n      <td>20141229090436</td>\n      <td>2014-12-29 09:04:36</td>\n      <td>38.8760</td>\n      <td>26.3197</td>\n      <td>10.0</td>\n      <td>3.1</td>\n      <td>-</td>\n      <td>3.1</td>\n      <td>NaN</td>\n      <td>-</td>\n      <td>-</td>\n      <td>Ke</td>\n      <td>EGE DENIZI</td>\n    </tr>\n    <tr>\n      <th>26</th>\n      <td>20141229101738</td>\n      <td>2014-12-29 10:17:38</td>\n      <td>38.8902</td>\n      <td>26.3845</td>\n      <td>8.8</td>\n      <td>3.1</td>\n      <td>-</td>\n      <td>3.1</td>\n      <td>NaN</td>\n      <td>-</td>\n      <td>-</td>\n      <td>Ke</td>\n      <td>EGE DENIZI</td>\n    </tr>\n    <tr>\n      <th>27</th>\n      <td>20150107025940</td>\n      <td>2015-01-07 02:59:40</td>\n      <td>38.9043</td>\n      <td>26.2513</td>\n      <td>9.2</td>\n      <td>3.3</td>\n      <td>-</td>\n      <td>3.3</td>\n      <td>NaN</td>\n      <td>-</td>\n      <td>-</td>\n      <td>Ke</td>\n      <td>EGE DENIZI</td>\n    </tr>\n    <tr>\n      <th>28</th>\n      <td>20150910081245</td>\n      <td>2015-09-10 08:12:45</td>\n      <td>38.8395</td>\n      <td>26.2778</td>\n      <td>15.4</td>\n      <td>4.9</td>\n      <td>-</td>\n      <td>4.9</td>\n      <td>4.7</td>\n      <td>-</td>\n      <td>-</td>\n      <td>Ke</td>\n      <td>EGE DENIZI</td>\n    </tr>\n    <tr>\n      <th>29</th>\n      <td>20160417214330</td>\n      <td>2016-04-17 21:43:30</td>\n      <td>38.8553</td>\n      <td>26.4320</td>\n      <td>8.1</td>\n      <td>3.0</td>\n      <td>-</td>\n      <td>3.0</td>\n      <td>-</td>\n      <td>-</td>\n      <td>-</td>\n      <td>Ke</td>\n      <td>EGE DENIZI</td>\n    </tr>\n  </tbody>\n</table>\n</div>"
     },
     "execution_count": 5,
     "metadata": {},
     "output_type": "execute_result"
    }
   ],
   "source": [
    "filtered_df, target_df = filter_earthquakes(df, 20170612122837)\n",
    "filtered_df"
   ],
   "metadata": {
    "collapsed": false,
    "ExecuteTime": {
     "end_time": "2024-09-03T23:50:19.961075100Z",
     "start_time": "2024-09-03T23:50:18.969161500Z"
    }
   },
   "id": "32fd743f969d0b6"
  },
  {
   "cell_type": "code",
   "execution_count": 6,
   "id": "initial_id",
   "metadata": {
    "collapsed": true,
    "ExecuteTime": {
     "end_time": "2024-09-03T23:50:19.979909700Z",
     "start_time": "2024-09-03T23:50:19.965075800Z"
    }
   },
   "outputs": [],
   "source": [
    "import numpy as np\n",
    "from src.util.math_utils import haversine\n",
    "from src.util.math_utils import date_time_diff_in_hours\n",
    "\n",
    "def get_properties_vectorized(df, idx_array):\n",
    "    # Get the properties for multiple indices at once\n",
    "    magnitudes = df.iloc[idx_array][\"xM\"].values\n",
    "    depths = df.iloc[idx_array][\"Depth(km)\"].values\n",
    "    lats = df.iloc[idx_array][\"Latitude\"].values\n",
    "    lons = df.iloc[idx_array][\"Longitude\"].values\n",
    "    dates = df.iloc[idx_array][\"Datetime\"].values\n",
    "    return magnitudes, depths, lats, lons, dates\n",
    "\n",
    "def get_row_vectorized(df, idx):\n",
    "    num_events = len(df)\n",
    "    \n",
    "    # Prepare indices arrays\n",
    "    idx_array = np.arange(num_events)\n",
    "    idx_array = np.delete(idx_array, idx)  # Exclude current index\n",
    "\n",
    "    # Get properties for the target event (idx) and all other events\n",
    "    mag_target, depth_target, lat_target, lon_target, date_target = get_properties_vectorized(df, [idx])\n",
    "    mag_others, depth_others, lat_others, lon_others, date_others = get_properties_vectorized(df, idx_array)\n",
    "\n",
    "    # Calculate differences using vectorized operations\n",
    "    mag_diff = 10 ** np.abs(mag_target - mag_others)\n",
    "    depth_diff = np.abs(depth_target - depth_others)\n",
    "    distance = haversine(lat_target, lon_target, lat_others, lon_others)\n",
    "    \n",
    "    # Calculate time differences in a separate step for clarity\n",
    "    time_diff_list = []\n",
    "    for d in date_others:\n",
    "        time_diff = date_time_diff_in_hours(date_target[0], d)\n",
    "        time_diff_list.append(time_diff)\n",
    "    time_diff = np.array(time_diff_list)\n",
    "    \n",
    "    # Combine the results into a single array\n",
    "    row = np.column_stack((mag_diff, depth_diff, distance, time_diff))\n",
    "    \n",
    "    # Sum up the values across each column\n",
    "    column_sums = np.sum(row, axis=0)\n",
    "    \n",
    "    # Calculate the average for each column\n",
    "    column_avg = column_sums / len(idx_array)\n",
    "    \n",
    "    return column_avg  # Return the averaged values (can also return column_sums if needed)"
   ]
  },
  {
   "cell_type": "code",
   "execution_count": 11,
   "outputs": [
    {
     "data": {
      "text/plain": "array([5.33523660e+00, 2.87931034e+00, 6.74953452e+00, 2.13624303e+04])"
     },
     "execution_count": 11,
     "metadata": {},
     "output_type": "execute_result"
    }
   ],
   "source": [
    "get_row_vectorized(filtered_df, 0)"
   ],
   "metadata": {
    "collapsed": false,
    "ExecuteTime": {
     "end_time": "2024-09-03T23:52:54.304324400Z",
     "start_time": "2024-09-03T23:52:54.291250800Z"
    }
   },
   "id": "2cf6dd1a716444ca"
  },
  {
   "cell_type": "code",
   "execution_count": 7,
   "outputs": [],
   "source": [
    "def get_all_properties(df):\n",
    "    tensor = []\n",
    "    for i in range(len(df)):\n",
    "        tensor.append(get_row_vectorized(df, i))\n",
    "    return np.array(tensor)"
   ],
   "metadata": {
    "collapsed": false,
    "ExecuteTime": {
     "end_time": "2024-09-03T23:50:19.979909700Z",
     "start_time": "2024-09-03T23:50:19.969101500Z"
    }
   },
   "id": "4d3513b54e7b8c"
  },
  {
   "cell_type": "code",
   "execution_count": 12,
   "outputs": [
    {
     "data": {
      "text/plain": "tensor([[5.3352e+00, 2.8793e+00, 6.7495e+00, 2.1362e+04],\n        [1.2095e+01, 4.3207e+00, 7.6335e+00, 2.1352e+04],\n        [1.2095e+01, 4.2379e+00, 7.3315e+00, 2.1335e+04],\n        [6.8273e+00, 3.7276e+00, 6.5793e+00, 2.1271e+04],\n        [1.5135e+01, 4.7828e+00, 5.9557e+00, 2.1059e+04],\n        [1.2095e+01, 4.4517e+00, 9.3362e+00, 1.7998e+04],\n        [1.5135e+01, 3.5690e+00, 6.6675e+00, 1.7417e+04],\n        [9.8131e+00, 4.2379e+00, 1.0270e+01, 1.6567e+04],\n        [8.6253e+01, 3.7276e+00, 4.7472e+00, 7.3853e+03],\n        [6.8273e+00, 3.1621e+00, 5.0850e+00, 7.3853e+03],\n        [1.5135e+01, 3.5759e+00, 4.7646e+00, 7.3852e+03],\n        [5.3352e+00, 3.2793e+00, 4.2526e+00, 7.3850e+03],\n        [5.4442e+01, 4.8724e+00, 4.7531e+00, 7.3843e+03],\n        [9.8131e+00, 2.8931e+00, 4.4670e+00, 7.3842e+03],\n        [6.6938e+00, 3.6172e+00, 6.1514e+00, 7.3840e+03],\n        [1.5135e+01, 3.6862e+00, 4.3335e+00, 7.3840e+03],\n        [5.5023e+00, 4.0724e+00, 4.6402e+00, 7.3842e+03],\n        [6.8273e+00, 2.8517e+00, 5.7847e+00, 7.3854e+03],\n        [6.8273e+00, 4.4103e+00, 5.7082e+00, 7.3865e+03],\n        [8.0879e+00, 3.6862e+00, 4.4657e+00, 7.3984e+03],\n        [5.5023e+00, 3.4310e+00, 4.5532e+00, 7.3990e+03],\n        [1.2095e+01, 2.8379e+00, 4.7224e+00, 7.4352e+03],\n        [1.2095e+01, 3.2448e+00, 4.5498e+00, 7.4370e+03],\n        [5.9962e+00, 5.2793e+00, 4.7199e+00, 7.5592e+03],\n        [2.1893e+01, 3.0172e+00, 4.2430e+00, 7.6678e+03],\n        [1.2095e+01, 2.8379e+00, 5.2393e+00, 7.6685e+03],\n        [1.2095e+01, 3.0655e+00, 8.9143e+00, 7.6694e+03],\n        [8.0879e+00, 2.9552e+00, 5.4831e+00, 7.8421e+03],\n        [4.3279e+01, 5.0655e+00, 7.0040e+00, 1.3140e+04],\n        [1.5135e+01, 3.3069e+00, 1.2720e+01, 1.8251e+04]], dtype=torch.float64)"
     },
     "execution_count": 12,
     "metadata": {},
     "output_type": "execute_result"
    }
   ],
   "source": [
    "import torch\n",
    "array = get_all_properties(filtered_df)\n",
    "array = np.array(array)\n",
    "one_sample_tensor = torch.from_numpy(array)\n",
    "one_sample_tensor"
   ],
   "metadata": {
    "collapsed": false,
    "ExecuteTime": {
     "end_time": "2024-09-03T23:55:14.763322Z",
     "start_time": "2024-09-03T23:55:14.705337800Z"
    }
   },
   "id": "71c85dee5db3d2a2"
  },
  {
   "cell_type": "code",
   "execution_count": 9,
   "outputs": [
    {
     "data": {
      "text/plain": "torch.Size([30, 4])"
     },
     "execution_count": 9,
     "metadata": {},
     "output_type": "execute_result"
    }
   ],
   "source": [
    "one_sample_tensor.size()"
   ],
   "metadata": {
    "collapsed": false,
    "ExecuteTime": {
     "end_time": "2024-09-03T23:50:21.589145500Z",
     "start_time": "2024-09-03T23:50:21.584540900Z"
    }
   },
   "id": "bb137cc36a44ad38"
  }
 ],
 "metadata": {
  "kernelspec": {
   "display_name": "Python 3",
   "language": "python",
   "name": "python3"
  },
  "language_info": {
   "codemirror_mode": {
    "name": "ipython",
    "version": 2
   },
   "file_extension": ".py",
   "mimetype": "text/x-python",
   "name": "python",
   "nbconvert_exporter": "python",
   "pygments_lexer": "ipython2",
   "version": "2.7.6"
  }
 },
 "nbformat": 4,
 "nbformat_minor": 5
}
