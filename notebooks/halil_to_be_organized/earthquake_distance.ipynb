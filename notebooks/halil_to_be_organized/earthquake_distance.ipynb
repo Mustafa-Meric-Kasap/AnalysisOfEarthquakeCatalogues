{
 "cells": [
  {
   "cell_type": "code",
   "execution_count": 22,
   "id": "bd124953-a27f-4144-8213-7a048eb00733",
   "metadata": {},
   "outputs": [],
   "source": [
    "import numpy as np\n",
    "import pandas as pd\n",
    "import os\n",
    "from sklearn.preprocessing import StandardScaler"
   ]
  },
  {
   "cell_type": "code",
   "execution_count": 73,
   "id": "f7663884-1e14-40b2-b95f-29975aba57c8",
   "metadata": {},
   "outputs": [
    {
     "name": "stdout",
     "output_type": "stream",
     "text": [
      "File exists. Proceeding to load the data.\n"
     ]
    },
    {
     "data": {
      "text/html": [
       "<div>\n",
       "<style scoped>\n",
       "    .dataframe tbody tr th:only-of-type {\n",
       "        vertical-align: middle;\n",
       "    }\n",
       "\n",
       "    .dataframe tbody tr th {\n",
       "        vertical-align: top;\n",
       "    }\n",
       "\n",
       "    .dataframe thead th {\n",
       "        text-align: right;\n",
       "    }\n",
       "</style>\n",
       "<table border=\"1\" class=\"dataframe\">\n",
       "  <thead>\n",
       "    <tr style=\"text-align: right;\">\n",
       "      <th></th>\n",
       "      <th>Enlem</th>\n",
       "      <th>Boylam</th>\n",
       "      <th>Der(km)</th>\n",
       "      <th>Unix Timestamp</th>\n",
       "    </tr>\n",
       "  </thead>\n",
       "  <tbody>\n",
       "    <tr>\n",
       "      <th>0</th>\n",
       "      <td>1.414971</td>\n",
       "      <td>-0.943040</td>\n",
       "      <td>-0.397189</td>\n",
       "      <td>1.164397</td>\n",
       "    </tr>\n",
       "    <tr>\n",
       "      <th>1</th>\n",
       "      <td>-1.495612</td>\n",
       "      <td>0.465453</td>\n",
       "      <td>-0.455676</td>\n",
       "      <td>1.164245</td>\n",
       "    </tr>\n",
       "    <tr>\n",
       "      <th>2</th>\n",
       "      <td>0.272376</td>\n",
       "      <td>1.169502</td>\n",
       "      <td>-0.470298</td>\n",
       "      <td>1.164220</td>\n",
       "    </tr>\n",
       "    <tr>\n",
       "      <th>3</th>\n",
       "      <td>0.006911</td>\n",
       "      <td>0.750620</td>\n",
       "      <td>-0.455676</td>\n",
       "      <td>1.164197</td>\n",
       "    </tr>\n",
       "    <tr>\n",
       "      <th>4</th>\n",
       "      <td>-1.698518</td>\n",
       "      <td>-0.828840</td>\n",
       "      <td>0.090203</td>\n",
       "      <td>1.163653</td>\n",
       "    </tr>\n",
       "  </tbody>\n",
       "</table>\n",
       "</div>"
      ],
      "text/plain": [
       "      Enlem    Boylam   Der(km)  Unix Timestamp\n",
       "0  1.414971 -0.943040 -0.397189        1.164397\n",
       "1 -1.495612  0.465453 -0.455676        1.164245\n",
       "2  0.272376  1.169502 -0.470298        1.164220\n",
       "3  0.006911  0.750620 -0.455676        1.164197\n",
       "4 -1.698518 -0.828840  0.090203        1.163653"
      ]
     },
     "execution_count": 73,
     "metadata": {},
     "output_type": "execute_result"
    }
   ],
   "source": [
    "# Define the path to your file\n",
    "file_path = '/Users/halilibrahimkanpak/Documents/Coding/MATAM/matam_data/boun_data.txt'\n",
    "\n",
    "if os.path.exists(file_path):\n",
    "    print(\"File exists. Proceeding to load the data.\")\n",
    "    \n",
    "    # Define the column names (adjust according to your file structure)\n",
    "    column_names = [\n",
    "        \"No\", \"Deprem Kodu\", \"Olus tarihi\", \"Olus zamani\", \"Enlem\", \"Boylam\", \"Der(km)\", \n",
    "        \"xM\", \"MD\", \"ML\", \"Mw\", \"Ms\", \"Mb\", \"Tip\", \"Yer\"\n",
    "    ]\n",
    "\n",
    "    # Load the data into a DataFrame with the specified encoding\n",
    "    df = pd.read_csv(file_path, delimiter=\"\\t\", names=column_names, skiprows=1, encoding='latin1')\n",
    "\n",
    "    # Combine 'Olus tarihi' and 'Olus zamani' into a single datetime column\n",
    "    df['Datetime'] = pd.to_datetime(df['Olus tarihi'] + ' ' + df['Olus zamani'], format='%Y.%m.%d %H:%M:%S.%f')\n",
    "\n",
    "    # Convert the datetime column to a Unix timestamp\n",
    "    df['Unix Timestamp'] = df['Datetime'].astype('int64') // 10**9\n",
    "\n",
    "    numerical_cols = df.select_dtypes(include=['number']).columns\n",
    "    \n",
    "    # Create a StandardScaler object\n",
    "    scaler = StandardScaler()\n",
    "\n",
    "    standardized_df = standardize_numerical_data(df)\n",
    "\n",
    "    standardized_df = standardized_df[['Enlem', 'Boylam', 'Der(km)','Unix Timestamp']]#[['Enlem', 'Boylam', 'Der(km)', 'xM', 'MD', 'ML', 'Mw', 'Ms', 'Mb','Unix Timestamp']]\n",
    "\n",
    "standardized_df.head()"
   ]
  },
  {
   "cell_type": "code",
   "execution_count": 63,
   "id": "9c5986d3-e6af-4238-83b7-69453b784c17",
   "metadata": {},
   "outputs": [],
   "source": [
    "def standardize_numerical_data(df):\n",
    "    # Identifying numerical columns\n",
    "    numerical_cols = df.select_dtypes(include=['number']).columns\n",
    "    \n",
    "    # Creating a scaler object\n",
    "    scaler = StandardScaler()\n",
    "    \n",
    "    # Standardizing the numerical columns\n",
    "    df[numerical_cols] = scaler.fit_transform(df[numerical_cols])\n",
    "    \n",
    "    return df"
   ]
  },
  {
   "cell_type": "code",
   "execution_count": 76,
   "id": "4bac205d-2a50-424a-b2b9-f523a4ac3b01",
   "metadata": {},
   "outputs": [],
   "source": [
    "def calculate_distance(row1, row2):\n",
    "    \"\"\"\n",
    "    Calculate the Euclidean distance between two rows.\n",
    "\n",
    "    Parameters:\n",
    "    row1 (pd.Series): The first row of features.\n",
    "    row2 (pd.Series): The second row of features.\n",
    "\n",
    "    Returns:\n",
    "    float: Euclidean distance between the two rows.\n",
    "    \"\"\"\n",
    "    distance = np.sqrt(np.sum((row1 - row2) ** 2))\n",
    "    return distance"
   ]
  },
  {
   "cell_type": "code",
   "execution_count": 83,
   "id": "8898660b-9d53-43c1-9e81-39e82bf71532",
   "metadata": {},
   "outputs": [],
   "source": [
    "def find_close_earthquakes(df, index, threshold):\n",
    "    \"\"\"\n",
    "    Find earthquakes with distances less than the threshold from a given earthquake.\n",
    "\n",
    "    Parameters:\n",
    "    df (pd.DataFrame): DataFrame containing earthquake data.\n",
    "    index (int): Index of the earthquake to compare against.\n",
    "    threshold (float): Distance threshold.\n",
    "\n",
    "    Returns:\n",
    "    pd.DataFrame: DataFrame containing earthquakes within the specified distance.\n",
    "    \"\"\"\n",
    "    target_earthquake = df.loc[index]\n",
    "    close_earthquakes = []\n",
    "\n",
    "    for idx, row in df.iterrows():\n",
    "        if idx != index:  # Skip the target earthquake itself\n",
    "            distance = calculate_distance(target_earthquake, row)\n",
    "            if distance < threshold:\n",
    "                close_earthquakes.append(row)\n",
    "\n",
    "    return pd.DataFrame(close_earthquakes)"
   ]
  },
  {
   "cell_type": "code",
   "execution_count": 86,
   "id": "6d427757-3e08-4a7a-ba36-5a7635621d71",
   "metadata": {},
   "outputs": [
    {
     "name": "stdout",
     "output_type": "stream",
     "text": [
      "The generalized distance between the two earthquakes is 3.234001538528517\n"
     ]
    }
   ],
   "source": [
    "eq1 = standardized_df.loc[0]\n",
    "eq2 = standardized_df.loc[1]\n",
    "\n",
    "distance = calculate_distance(eq1, eq2)\n",
    "print(f\"The generalized distance between the two earthquakes is {distance}\")"
   ]
  },
  {
   "cell_type": "code",
   "execution_count": 90,
   "id": "4fe4a408-213b-479d-b1c3-3b522a0e6172",
   "metadata": {},
   "outputs": [
    {
     "data": {
      "text/html": [
       "<div>\n",
       "<style scoped>\n",
       "    .dataframe tbody tr th:only-of-type {\n",
       "        vertical-align: middle;\n",
       "    }\n",
       "\n",
       "    .dataframe tbody tr th {\n",
       "        vertical-align: top;\n",
       "    }\n",
       "\n",
       "    .dataframe thead th {\n",
       "        text-align: right;\n",
       "    }\n",
       "</style>\n",
       "<table border=\"1\" class=\"dataframe\">\n",
       "  <thead>\n",
       "    <tr style=\"text-align: right;\">\n",
       "      <th></th>\n",
       "      <th>Enlem</th>\n",
       "      <th>Boylam</th>\n",
       "      <th>Der(km)</th>\n",
       "      <th>Unix Timestamp</th>\n",
       "    </tr>\n",
       "  </thead>\n",
       "  <tbody>\n",
       "    <tr>\n",
       "      <th>8</th>\n",
       "      <td>0.997812</td>\n",
       "      <td>-0.643395</td>\n",
       "      <td>-0.504415</td>\n",
       "      <td>1.163166</td>\n",
       "    </tr>\n",
       "    <tr>\n",
       "      <th>9</th>\n",
       "      <td>1.833822</td>\n",
       "      <td>0.122304</td>\n",
       "      <td>-0.289962</td>\n",
       "      <td>1.163110</td>\n",
       "    </tr>\n",
       "    <tr>\n",
       "      <th>10</th>\n",
       "      <td>1.003140</td>\n",
       "      <td>-0.642658</td>\n",
       "      <td>-0.406937</td>\n",
       "      <td>1.163054</td>\n",
       "    </tr>\n",
       "    <tr>\n",
       "      <th>11</th>\n",
       "      <td>1.645521</td>\n",
       "      <td>-0.564697</td>\n",
       "      <td>-0.343576</td>\n",
       "      <td>1.162968</td>\n",
       "    </tr>\n",
       "    <tr>\n",
       "      <th>13</th>\n",
       "      <td>1.003454</td>\n",
       "      <td>-0.644903</td>\n",
       "      <td>-0.455676</td>\n",
       "      <td>1.162831</td>\n",
       "    </tr>\n",
       "  </tbody>\n",
       "</table>\n",
       "</div>"
      ],
      "text/plain": [
       "       Enlem    Boylam   Der(km)  Unix Timestamp\n",
       "8   0.997812 -0.643395 -0.504415        1.163166\n",
       "9   1.833822  0.122304 -0.289962        1.163110\n",
       "10  1.003140 -0.642658 -0.406937        1.163054\n",
       "11  1.645521 -0.564697 -0.343576        1.162968\n",
       "13  1.003454 -0.644903 -0.455676        1.162831"
      ]
     },
     "execution_count": 90,
     "metadata": {},
     "output_type": "execute_result"
    }
   ],
   "source": [
    "index = 0\n",
    "threshold = 1.164\n",
    "\n",
    "close_earthquakes = find_close_earthquakes(standardized_df, index, threshold)\n",
    "close_earthquakes.head()"
   ]
  }
 ],
 "metadata": {
  "kernelspec": {
   "display_name": "Python 3 (ipykernel)",
   "language": "python",
   "name": "python3"
  },
  "language_info": {
   "codemirror_mode": {
    "name": "ipython",
    "version": 3
   },
   "file_extension": ".py",
   "mimetype": "text/x-python",
   "name": "python",
   "nbconvert_exporter": "python",
   "pygments_lexer": "ipython3",
   "version": "3.9.15"
  }
 },
 "nbformat": 4,
 "nbformat_minor": 5
}
